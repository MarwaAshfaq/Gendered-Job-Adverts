{
 "cells": [
  {
   "cell_type": "code",
   "execution_count": null,
   "id": "51d37d91-c8cf-4bc2-b416-0213ce745ba1",
   "metadata": {},
   "outputs": [
    {
     "name": "stdout",
     "output_type": "stream",
     "text": [
      "======================================================================\n",
      "LINKEDIN JOB DATA PROCESSOR - MANUAL ENTRY\n",
      "======================================================================\n",
      "This tool helps you manually enter job data from LinkedIn and performs analysis.\n",
      "You can process multiple jobs - the data will be appended to the Excel file.\n",
      "======================================================================\n",
      "\n",
      "========================================\n",
      "NEW JOB ENTRY\n",
      "========================================\n"
     ]
    },
    {
     "name": "stdin",
     "output_type": "stream",
     "text": [
      "Enter LinkedIn job URL:  https://www.linkedin.com/jobs/search-results/?currentJobId=4262223897&eBP=NON_CHARGEABLE_CHANNEL&geoId=101165590&keywords=operational%20research&origin=JOBS_HOME_SEARCH_BUTTON&refId=0bW7n%2Fc0HG5xoT8YXWFjJw%3D%3D&trackingId=98rKMGkSSU0LYDYhX2Yhlg%3D%3D\n"
     ]
    },
    {
     "name": "stdout",
     "output_type": "stream",
     "text": [
      "\n",
      "============================================================\n",
      "JOB DATA ENTRY - LINKEDIN\n",
      "============================================================\n",
      "URL: https://www.linkedin.com/jobs/search-results/?currentJobId=4262223897&eBP=NON_CHARGEABLE_CHANNEL&geoId=101165590&keywords=operational%20research&origin=JOBS_HOME_SEARCH_BUTTON&refId=0bW7n%2Fc0HG5xoT8YXWFjJw%3D%3D&trackingId=98rKMGkSSU0LYDYhX2Yhlg%3D%3D\n",
      "------------------------------------------------------------\n"
     ]
    },
    {
     "name": "stdin",
     "output_type": "stream",
     "text": [
      "Job Title:  Data Science Manager - Operational Research\n",
      "Company Name:   KDR Talent Solutions\n",
      "Location:  London\n",
      "Posting Date (optional):  \n",
      "Employment Type (e.g., Full-time, Part-time, Contract) (optional):  \n",
      "Experience Level (e.g., Entry level, Mid-senior) (optional):  \n",
      "Workplace Type (e.g., On-site, Remote, Hybrid) (optional):  \n",
      "Salary Info (optional):  \n"
     ]
    },
    {
     "name": "stdout",
     "output_type": "stream",
     "text": [
      "\n",
      "Job Description:\n",
      "(Paste the job description below. Press Enter twice when finished)\n",
      "----------------------------------------\n"
     ]
    },
    {
     "name": "stdin",
     "output_type": "stream",
     "text": [
      " Location: Hybrid (1 day a week London) Salary: £80,000-£110,000+ £6K Car Allowance + 10% Bonus + Excellent Benefits   We’re recruiting on behalf of one of the UK’s largest and most influential automotive groups for a Data Science Manager - Operational Research & Optimisation. This is an outstanding opportunity for an experienced data scientist and people leader to shape operational strategy using cutting-edge optimisation techniques across a high-impact, data-rich organisation.   With a remit covering everything from vehicle logistics to refurbishment optimisation, this role is perfect for someone who’s passionate about delivering measurable business value through advanced modelling and hands-on leadership.   The Role  As the Data Science Manager for the Operations team, you will lead a growing group of data scientists focused on solving real-world operational challenges. Your team will design and deploy advanced models, applying advanced mathematical optimisation techniques (e.g., Linear Programming, Scheduling, Graph Theory) to complex business problems, with the goal of improving supply chain efficiency, optimise vehicle movement, and enhance operational workflows across the organisation.   You’ll be supported by a modern MLOps and Data Engineering function, giving you the time and tools to focus on innovation, model development, and strategic delivery.   Key Responsibilities  Lead and mentor a data science team focused on operational optimisation, logistics, and refurbishment strategy. Define and deliver a product roadmap that solves key operational pain points through data science and algorithmic innovation. Apply advanced mathematical optimisation techniques (e.g., Linear Programming, Scheduling, Graph Theory) to complex business problems. Work cross-functionally with senior stakeholders to translate business requirements into scalable technical solutions. Collaborate with MLOps and Engineering teams to productionise models using robust and scalable pipelines. Champion the integration of model outputs into wider data and reporting platforms. Clearly communicate technical insights and model outcomes to non-technical stakeholders across all levels.   Your Background & Skills  Required:  Proven experience building optimisation models using Python libraries such as PuLP, ortools, or SciPy.optimize. Hands-on expertise in combinatorial optimisation, scheduling algorithms, network optimisation, and/or simulation methods (e.g., Monte Carlo, Markov chains). Strong track record of managing and growing high-performing data science teams. Excellent stakeholder management and communication skills – able to explain complex concepts in accessible language. Proficiency in tools such as Azure ML Studio, Databricks, AWS/SageMaker, Snowflake, and cloud-native platforms. Familiarity with CI/CD tools like Azure DevOps Pipelines or GitHub Actions. Comfortable working in Agile environments and contributing to iterative product development.   Bonus if you have:  Experience integrating models into operational decision-making processes or logistics platforms. Exposure to Agile delivery methodologies or working in cross-functional squads.   What You’ll Get in Return  A leadership role where your work has direct and measurable impact on operational efficiency and bottom-line performance. Dedicated support from MLOps and Engineering teams to accelerate delivery. Access to career development support including coaching, mentoring, and leadership training. A competitive salary package including car allowance, bonus, and comprehensive benefits such as enhanced parental leave, pension scheme, and mental health support. The chance to join a forward-thinking group of businesses that are reshaping the automotive industry with technology and data at the core.   Ready to lead a high-performing team where operational data science meets real-world impact?   Apply today or reach out for a confidential discussion.\n",
      " \n",
      " \n"
     ]
    },
    {
     "name": "stdout",
     "output_type": "stream",
     "text": [
      "\n",
      "============================================================\n",
      "PROCESSING RESULTS\n",
      "============================================================\n",
      "Job Title: Data Science Manager - Operational Research\n",
      "Company: KDR Talent Solutions\n",
      "Location: London\n",
      "Remote Option: Hybrid\n",
      "Employment Type: Not specified\n",
      "Experience Level: Not specified\n",
      "Job Level: Senior\n",
      "Industry: Technology\n",
      "Company Size: Not specified\n",
      "Salary Info: Not specified\n",
      "Posting Date: Not specified\n",
      "Word Count: 529\n",
      "Masculine Score: 1.47%\n",
      "Feminine Score: 1.84%\n",
      "Neutral Score: 96.69%\n",
      "Gendered Words: M:leader; F:team; M:lead; F:team; M:lead; F:team; F:collaborate; F:communicate; M:strong; M:decision; M:direct; F:dedicated; F:support; F:support; M:competitive; F:support; M:lead; F:team\n",
      "Manual Review Flag: False\n",
      "\n",
      "Data saved to: C:\\Users\\HP\\OneDrive - University of Southampton\\Documents\\Dissertation Project - Marwa Ashfaq\\Codes\\linkedin_jobs_data.xlsx\n",
      "Total jobs in file: 2\n",
      "\n",
      "✅ Job data saved successfully!\n",
      "\n",
      "----------------------------------------\n"
     ]
    },
    {
     "name": "stdin",
     "output_type": "stream",
     "text": [
      "Do you want to add another job? (y/n):  y\n"
     ]
    },
    {
     "name": "stdout",
     "output_type": "stream",
     "text": [
      "\n",
      "========================================\n",
      "NEW JOB ENTRY\n",
      "========================================\n"
     ]
    },
    {
     "name": "stdin",
     "output_type": "stream",
     "text": [
      "Enter LinkedIn job URL:  https://www.linkedin.com/jobs/search-results/?currentJobId=4257165581&eBP=NON_CHARGEABLE_CHANNEL&geoId=101165590&keywords=operational%20research&origin=JOBS_HOME_SEARCH_BUTTON&refId=0bW7n%2Fc0HG5xoT8YXWFjJw%3D%3D&trackingId=g2rP167FQRvd1NEZrczf3g%3D%3D\n"
     ]
    },
    {
     "name": "stdout",
     "output_type": "stream",
     "text": [
      "\n",
      "============================================================\n",
      "JOB DATA ENTRY - LINKEDIN\n",
      "============================================================\n",
      "URL: https://www.linkedin.com/jobs/search-results/?currentJobId=4257165581&eBP=NON_CHARGEABLE_CHANNEL&geoId=101165590&keywords=operational%20research&origin=JOBS_HOME_SEARCH_BUTTON&refId=0bW7n%2Fc0HG5xoT8YXWFjJw%3D%3D&trackingId=g2rP167FQRvd1NEZrczf3g%3D%3D\n",
      "------------------------------------------------------------\n"
     ]
    },
    {
     "name": "stdin",
     "output_type": "stream",
     "text": [
      "Job Title:  Head of Operations Analysis\n",
      "Company Name:  Copello Global\n",
      "Location:  Bristol\n",
      "Posting Date (optional):  \n",
      "Employment Type (e.g., Full-time, Part-time, Contract) (optional):  \n",
      "Experience Level (e.g., Entry level, Mid-senior) (optional):  \n",
      "Workplace Type (e.g., On-site, Remote, Hybrid) (optional):  \n",
      "Salary Info (optional):  \n"
     ]
    },
    {
     "name": "stdout",
     "output_type": "stream",
     "text": [
      "\n",
      "Job Description:\n",
      "(Paste the job description below. Press Enter twice when finished)\n",
      "----------------------------------------\n"
     ]
    },
    {
     "name": "stdin",
     "output_type": "stream",
     "text": [
      " Copello are working with a defence consultancy who are looking for someone with a background in Operational Analysis, Operational Research or Supporting Government Approvals. The Head of Operational Analysis will grow a team around them, and alongside other departments, to set strategy and deliver multi-disciplinary support to some of the most complex Government programmes.   Key Responsibilities  Vision and Strategy: Setting the vision and strategy for the department in collaboration with the other department leads. Ensuring that it is then communicated across the Company. Team leadership: Motivating, coaching and managing the performance of team members. Leading team meetings to share knowledge, co-ordinate activities, pursue opportunities and address issues. Resource Management: Allocating consultants to projects and accounts in support of the business, working with the Account Leads to successfully meet demand. Capability Development: Developing and maintaining Operational Analysis service offerings aligned to account demand signal and collaborating with other departments to ensure services are coherent across the business.  Training and Development: Identifying and setting up training courses for members of the department based on their training needs. Coaching people on the use of Operational Analysis tools and techniques Business Development: Supporting Account Leads by writing technical approaches within bids and presenting to prospective customers. Collaborating with Account Leads to identify need for new capability across customers. Technical Assurance: Working on projects, providing technical guidance and review to ensure project deliverables are of a high quality and meet customers’ expectations. Recruitment: Working with the talent acquisition team to attract new people to the business through networking and thought leadership and ensuring a smooth candidate experience     Skill Requirements   Delivering Operational Analysis, Approvals Assurance, Decision Support and/or Modelling and Simulation in a consultancy context. Writing analysis documentation (e.g OASP, COA) or business cases. Capability Development of new tools and techniques. Providing technical guidance and reviews to ensure project deliverables are of a high quality and meet customers’ expectations. Leading multi-disciplined teams in a consultancy setting. Working within public sector with knowledge of government processes. Managing a variety of stakeholders both internally and externally. Developing employees and teams through internal and external training. Mentoring employees across all grades. Contributing and leading successful bids/technical proposals.   If you are interested in applying for this role, candidates must have:  An existing right to live and work in the UK. Either hold a current SC clearance or be willing and eligible to undergo a Security Clearance check (SC level) upon starting their employment with the company. To gain SC clearance you will normally need at least 5 years’ UK residency. Degree level qualification or relevant experience   If you are interested please apply now or send your CV to emmaw@copello.co.uk and we will be in touch for a further chat\n",
      " \n",
      " \n"
     ]
    },
    {
     "name": "stdout",
     "output_type": "stream",
     "text": [
      "\n",
      "============================================================\n",
      "PROCESSING RESULTS\n",
      "============================================================\n",
      "Job Title: Head of Operations Analysis\n",
      "Company: Copello Global\n",
      "Location: Bristol\n",
      "Remote Option: On-site\n",
      "Employment Type: Not specified\n",
      "Experience Level: Not specified\n",
      "Job Level: Executive\n",
      "Industry: Technology\n",
      "Company Size: Not specified\n",
      "Salary Info: Not specified\n",
      "Posting Date: Not specified\n",
      "Word Count: 452\n",
      "Masculine Score: 0.22%\n",
      "Feminine Score: 1.97%\n",
      "Neutral Score: 97.81%\n",
      "Gendered Words: F:team; F:support; F:team; F:team; F:team; F:share; F:support; F:team; M:decision; F:support\n",
      "Manual Review Flag: False\n",
      "\n",
      "Data saved to: C:\\Users\\HP\\OneDrive - University of Southampton\\Documents\\Dissertation Project - Marwa Ashfaq\\Codes\\linkedin_jobs_data.xlsx\n",
      "Total jobs in file: 3\n",
      "\n",
      "✅ Job data saved successfully!\n",
      "\n",
      "----------------------------------------\n"
     ]
    },
    {
     "name": "stdin",
     "output_type": "stream",
     "text": [
      "Do you want to add another job? (y/n):  y\n"
     ]
    },
    {
     "name": "stdout",
     "output_type": "stream",
     "text": [
      "\n",
      "========================================\n",
      "NEW JOB ENTRY\n",
      "========================================\n"
     ]
    },
    {
     "name": "stdin",
     "output_type": "stream",
     "text": [
      "Enter LinkedIn job URL:  https://www.linkedin.com/jobs/search-results/?currentJobId=4245287795&eBP=NON_CHARGEABLE_CHANNEL&geoId=101165590&keywords=operational%20research&origin=JOBS_HOME_SEARCH_BUTTON&refId=0bW7n%2Fc0HG5xoT8YXWFjJw%3D%3D&trackingId=y1hR9ezogO7XWxnBm72tww%3D%3D\n"
     ]
    },
    {
     "name": "stdout",
     "output_type": "stream",
     "text": [
      "\n",
      "============================================================\n",
      "JOB DATA ENTRY - LINKEDIN\n",
      "============================================================\n",
      "URL: https://www.linkedin.com/jobs/search-results/?currentJobId=4245287795&eBP=NON_CHARGEABLE_CHANNEL&geoId=101165590&keywords=operational%20research&origin=JOBS_HOME_SEARCH_BUTTON&refId=0bW7n%2Fc0HG5xoT8YXWFjJw%3D%3D&trackingId=y1hR9ezogO7XWxnBm72tww%3D%3D\n",
      "------------------------------------------------------------\n"
     ]
    },
    {
     "name": "stdin",
     "output_type": "stream",
     "text": [
      "Job Title:  Head of Operational Analysis\n",
      "Company Name:  Sagentia Defence\n",
      "Location:  Bristol\n",
      "Posting Date (optional):  \n",
      "Employment Type (e.g., Full-time, Part-time, Contract) (optional):  \n",
      "Experience Level (e.g., Entry level, Mid-senior) (optional):  \n",
      "Workplace Type (e.g., On-site, Remote, Hybrid) (optional):  \n",
      "Salary Info (optional):  \n"
     ]
    },
    {
     "name": "stdout",
     "output_type": "stream",
     "text": [
      "\n",
      "Job Description:\n",
      "(Paste the job description below. Press Enter twice when finished)\n",
      "----------------------------------------\n"
     ]
    },
    {
     "name": "stdin",
     "output_type": "stream",
     "text": [
      " Are you someone with a background in Operational Analysis, Operational Research or Supporting Government Approvals looking to take the next step in your career and lead a team/department?  Join a Growing Team   Sagentia Defence has a track record of success, as a trusted partner to customers within highly regulated Government programmes. As a result, we are looking for a new Head of Operational Analysis to lead our team of analysts.   The Head of Operational Analysis will grow a team around them, and alongside other departments, to set strategy and deliver multi-disciplinary support to some of the most complex Government programmes.  The Operational Analysis team uses modelling, analysis, domain knowledge and approvals expertise to provide the evidence to make better decisions, in support of our customers within the defence and space sectors. In particular, we:  Undertake research to analyse the benefits of new equipment, approaches or technologies Provide the evidence to support Government procurement decisions Work with customers and stakeholders to improve policy, strategy and planning  Key Responsibilities  As the Head of Operational Analysis, you will be responsible for:  Vision and Strategy: Setting the vision and strategy for the department in collaboration with the other department leads. Ensuring that it is then communicated across the Company and aligned with the wider Sagentia Defence vision and strategy.  Team leadership: Motivating, coaching and managing the performance of team members. Leading team meetings to share knowledge, co-ordinate activities, pursue opportunities and address issues.  Resource Management: Allocating consultants to projects and accounts in support of the business, working with the Account Leads to successfully meet demand.  Capability Development: Developing and maintaining Operational Analysis service offerings aligned to account demand signal and collaborating with other departments to ensure services are coherent across the business. As the Head of Operational Analysis your focus will be developing:  Operational Analysis Approvals Assurance Decision Support Modelling and Simulation  Training and Development: Identifying and setting up training courses for members of the department based on their training needs. Coaching people on the use of Operational Analysis tools and techniques. Collaborating with other Department Heads to ensure recruitment, training and performance reviews (including promotions) are coherent across the business.  Business Development: Supporting Account Leads by writing technical approaches within bids and presenting to prospective customers. Collaborating with Account Leads to identify need for new capability across all our customers.  Technical Assurance: Working on projects, providing technical guidance and review to ensure project deliverables are of a high quality and meet customers’ expectations.  Recruitment: Working with the talent acquisition team to attract new people to the business through networking and thought leadership and ensuring a smooth candidate experience     Skills, Knowledge and Expertise  You will be someone with experience in leading a team in an Operational Analysis discipline, with expertise in analysis, modelling or support to Government Approvals. You should have a positive, flexible and self-motivated attitude, and be keen to develop yourself and others within the team. They will have experience in:  Delivering Operational Analysis, Approvals Assurance, Decision Support and/or Modelling and Simulation in a consultancy context. Writing analysis documentation (e.g OASP, COA) or business cases. Capability Development of new tools and techniques. Providing technical guidance and reviews to ensure project deliverables are of a high quality and meet customers’ expectations. Leading multi-disciplined teams in a consultancy setting. Working within public sector with knowledge of government processes. Managing a variety of stakeholders both internally and externally. Developing employees and teams through internal and external training. Mentoring employees across all grades. Contributing and leading successful bids/technical proposals. If you are interested in applying for this role, candidates must have:  An existing right to live and work in the UK. Either hold a current SC clearance or be willing and eligible to undergo a Security Clearance check (SC level) upon starting their employment with the company. To gain SC clearance you will normally need at least 5 years’ UK residency. Degree level qualification or relevant experience  Benefits  Alongside a competitive salary you will also have a comprehensive benefits package including employee assistance programme, private healthcare and profit share scheme.\n",
      " \n",
      " \n"
     ]
    },
    {
     "name": "stdout",
     "output_type": "stream",
     "text": [
      "\n",
      "============================================================\n",
      "PROCESSING RESULTS\n",
      "============================================================\n",
      "Job Title: Head of Operational Analysis\n",
      "Company: Sagentia Defence\n",
      "Location: Bristol\n",
      "Remote Option: Hybrid\n",
      "Employment Type: Not specified\n",
      "Experience Level: Not specified\n",
      "Job Level: Executive\n",
      "Industry: Technology\n",
      "Company Size: Not specified\n",
      "Salary Info: Not specified\n",
      "Posting Date: Not specified\n",
      "Word Count: 677\n",
      "Masculine Score: 0.73%\n",
      "Feminine Score: 3.08%\n",
      "Neutral Score: 96.19%\n",
      "Gendered Words: M:lead; F:team; F:team; M:lead; F:team; F:team; F:support; F:team; F:support; F:support; F:responsible; F:team; F:team; F:team; F:share; F:support; M:decision; F:support; F:team; F:team; F:support; F:team; M:decision; F:support; M:competitive; F:share\n",
      "Manual Review Flag: False\n",
      "\n",
      "Data saved to: C:\\Users\\HP\\OneDrive - University of Southampton\\Documents\\Dissertation Project - Marwa Ashfaq\\Codes\\linkedin_jobs_data.xlsx\n",
      "Total jobs in file: 4\n",
      "\n",
      "✅ Job data saved successfully!\n",
      "\n",
      "----------------------------------------\n"
     ]
    },
    {
     "name": "stdin",
     "output_type": "stream",
     "text": [
      "Do you want to add another job? (y/n):  y\n"
     ]
    },
    {
     "name": "stdout",
     "output_type": "stream",
     "text": [
      "\n",
      "========================================\n",
      "NEW JOB ENTRY\n",
      "========================================\n"
     ]
    },
    {
     "name": "stdin",
     "output_type": "stream",
     "text": [
      "Enter LinkedIn job URL:  https://www.linkedin.com/jobs/search-results/?currentJobId=4227003646&eBP=NON_CHARGEABLE_CHANNEL&geoId=101165590&keywords=operational%20research&origin=JOBS_HOME_SEARCH_BUTTON&refId=0bW7n%2Fc0HG5xoT8YXWFjJw%3D%3D&trackingId=2tU0g291N3ZECRyfb3Gnrw%3D%3D\n"
     ]
    },
    {
     "name": "stdout",
     "output_type": "stream",
     "text": [
      "\n",
      "============================================================\n",
      "JOB DATA ENTRY - LINKEDIN\n",
      "============================================================\n",
      "URL: https://www.linkedin.com/jobs/search-results/?currentJobId=4227003646&eBP=NON_CHARGEABLE_CHANNEL&geoId=101165590&keywords=operational%20research&origin=JOBS_HOME_SEARCH_BUTTON&refId=0bW7n%2Fc0HG5xoT8YXWFjJw%3D%3D&trackingId=2tU0g291N3ZECRyfb3Gnrw%3D%3D\n",
      "------------------------------------------------------------\n"
     ]
    },
    {
     "name": "stdin",
     "output_type": "stream",
     "text": [
      "Job Title:  Consultant / Senior Consultant - Operational Analytics \n",
      "Company Name:  Capgemini Invent\n",
      "Location:  London\n",
      "Posting Date (optional):  \n",
      "Employment Type (e.g., Full-time, Part-time, Contract) (optional):  \n",
      "Experience Level (e.g., Entry level, Mid-senior) (optional):  \n",
      "Workplace Type (e.g., On-site, Remote, Hybrid) (optional):  \n",
      "Salary Info (optional):  \n"
     ]
    },
    {
     "name": "stdout",
     "output_type": "stream",
     "text": [
      "\n",
      "Job Description:\n",
      "(Paste the job description below. Press Enter twice when finished)\n",
      "----------------------------------------\n"
     ]
    },
    {
     "name": "stdin",
     "output_type": "stream",
     "text": [
      "  At Capgemini Invent, we believe difference drives change. As inventive transformation consultants, we blend our strategic, creative and scientific capabilities, collaborating closely with clients to deliver cutting-edge solutions. Join us to drive transformation tailored to our client's challenges of today and tomorrow. Informed and validated by science and data. Superpowered by creativity and design. All underpinned by technology created with purpose.  Your Role  As a valued Consultant/Senior Consultant in our Operational Analytics team, you will:  Contribute Operational Analytics expertise with skills such as process mining, intelligent automation, supply chain, demand forecasting, digital twin while working alongside mentors and industry experts Work directly with clients, tackling complex problems and designing innovative solutions that drive real transformation Act as a pillar of support for your teammates, fostering a culture of continuous learning and shared growth Leverage new technologies and tools to drive delivery excellence.   Your ideas matter. We are in search of dynamic individuals who possess the vision and energy to drive impactful change for our clients and within our organisation. In addition to your client delivery role, you will have the opportunity to take ownership of projects you feel passionately about in the following areas:  Business development – Leading/contributing to proposals, RFPs, bids, proposition development, client pitch contribution, client hosting at events. Internal contribution – Campaign development, internal think-tanks, whitepapers, practice development (operations, recruitment, team events & activities), offer development. Learning & development – Training to support your career development and the skills demand within the company through certifications, external training courses, informal lunch-and-learns etc.  Your Profile  You should have a skillset that combines rigorous thinking, creativity and thoughtful leadership.  We’d love to hear from you if you’re someone who can confidently:  Demonstrate personal capability and competence in pursuit of outstanding client delivery Lead a workstream and articulate your vision in a way that motivates and inspires Break down complex business problems, structure solutions and provide data-driven recommendations Translate insights into clear, actionable strategies Present findings in a way that resonates, using logic and storytelling Understand one or more of the following areas: process mining, modelling, simulation, and process optimisation, demand forecasting Apply data and automation to address business problems such as: Business process optimisation through Automation & Analytics, Energy Optimisation, Operational Sustainability, Operational Risk & Fraud Analytics, Supply Chain Analystics, Asset Management Analytics  The following skills would be beneficial and add value to the role:  Currently working in a major consulting firm, or in an industry role with a consulting background. Proven ability to succeed in a matrixed organization, enlisting support and commitment from peers to sell and deliver consulting solutions. Experience of proposition building and delivery   WHAT YOU’LL LOVE ABOUT WORKING HERE?  We’re here to help you build a fulfilling and sustainable career. That’s why we invest in:  Hybrid working options and a culture that values work-life integration Structured career progression, leadership programs and hands-on mentorship to ensure you become a better consultant on your own terms A team-oriented environment where collaboration is valued above competition and where success is shared Training to keep our people at the forefront of data innovation  We are delighted to have received the “Glassdoor Best Places to work UK’ accolade for 4 consecutive years, to see what it’s like to work at Capgemini Invent, visit our Glassdoor page  NEED TO KNOW  At Capgemini we don’t just believe in inclusion, we actively go out to making it a working reality. Driven by our core values and Inclusive Futures for All campaign, we build environments where you can bring you whole self to work.  We aim to build an environment where employees can enjoy a positive work-life balance. We embed hybrid working in all that we do and make flexible working arrangements the day-to-day reality for our people. All UK employees are eligible to request flexible working arrangements.  Employee wellbeing is vitally important to us as an organisation. We see a healthy and happy workforce a critical component for us to achieve our organisational ambitions. To help support wellbeing we have trained ‘Mental Health Champions’ across each of our business areas. We have also invested in wellbeing apps such as Thrive and Peppy.  CSR:  We’re also focused on using tech to have a positive social impact. So, we’re working to reduce our own carbon footprint and improve everyone’s access to a digital world. It’s something we’re really serious about. In fact, we were even named as one of the world’s most ethical companies by the Ethisphere Institute for the 10th year. When you join Capgemini, you’ll join a team that does the right thing.  Whilst you will have London, Manchester or Glasgow as an office base location, you must be fully flexible in terms of assignment location, as these roles may involve periods of time away from home at short notice.  We offer a remuneration package which includes flexible benefits options for you to choose to suit your own personal circumstances and a variable element dependent grade and on company and personal performance.  About Capgemini Invent  Capgemini is a global business and technology transformation partner, helping organizations to accelerate their dual transition to a digital and sustainable world, while creating tangible impact for enterprises and society. It is a responsible and diverse group of 340,000 team members in more than 50 countries. With its strong over 55-year heritage, Capgemini is trusted by its clients to unlock the value of technology to address the entire breadth of their business needs. It delivers end-to-end services and solutions leveraging strengths from strategy and design to engineering, all fuelled by its market leading capabilities in AI, cloud and data, combined with its deep industry expertise and partner ecosystem. The Group reported 2023 global revenues of €22.5 billion.\n",
      " \n",
      " \n"
     ]
    },
    {
     "name": "stdout",
     "output_type": "stream",
     "text": [
      "\n",
      "============================================================\n",
      "PROCESSING RESULTS\n",
      "============================================================\n",
      "Job Title: Consultant / Senior Consultant - Operational Analytics\n",
      "Company: Capgemini Invent\n",
      "Location: London\n",
      "Remote Option: Hybrid\n",
      "Employment Type: Not specified\n",
      "Experience Level: Not specified\n",
      "Job Level: Senior\n",
      "Industry: Technology\n",
      "Company Size: Large (500+)\n",
      "Salary Info: Not specified\n",
      "Posting Date: Not specified\n",
      "Word Count: 958\n",
      "Masculine Score: 0.73%\n",
      "Feminine Score: 1.45%\n",
      "Neutral Score: 97.82%\n",
      "Gendered Words: M:drive; F:team; M:drive; F:support; M:drive; M:drive; F:team; F:support; M:lead; F:understand; F:support; F:help; F:team; F:inclusive; M:achieve; F:help; F:support; F:team; F:responsible; F:team; M:strong\n",
      "Manual Review Flag: False\n",
      "\n",
      "Data saved to: C:\\Users\\HP\\OneDrive - University of Southampton\\Documents\\Dissertation Project - Marwa Ashfaq\\Codes\\linkedin_jobs_data.xlsx\n",
      "Total jobs in file: 5\n",
      "\n",
      "✅ Job data saved successfully!\n",
      "\n",
      "----------------------------------------\n"
     ]
    },
    {
     "name": "stdin",
     "output_type": "stream",
     "text": [
      "Do you want to add another job? (y/n):  y\n"
     ]
    },
    {
     "name": "stdout",
     "output_type": "stream",
     "text": [
      "\n",
      "========================================\n",
      "NEW JOB ENTRY\n",
      "========================================\n"
     ]
    },
    {
     "name": "stdin",
     "output_type": "stream",
     "text": [
      "Enter LinkedIn job URL:  https://www.linkedin.com/jobs/search-results/?currentJobId=4248904965&eBP=NON_CHARGEABLE_CHANNEL&geoId=101165590&keywords=operational%20research&origin=JOBS_HOME_SEARCH_BUTTON&refId=0bW7n%2Fc0HG5xoT8YXWFjJw%3D%3D&trackingId=nOZHhGZ1AXm7XHxWvCh77Q%3D%3D\n"
     ]
    },
    {
     "name": "stdout",
     "output_type": "stream",
     "text": [
      "\n",
      "============================================================\n",
      "JOB DATA ENTRY - LINKEDIN\n",
      "============================================================\n",
      "URL: https://www.linkedin.com/jobs/search-results/?currentJobId=4248904965&eBP=NON_CHARGEABLE_CHANNEL&geoId=101165590&keywords=operational%20research&origin=JOBS_HOME_SEARCH_BUTTON&refId=0bW7n%2Fc0HG5xoT8YXWFjJw%3D%3D&trackingId=nOZHhGZ1AXm7XHxWvCh77Q%3D%3D\n",
      "------------------------------------------------------------\n"
     ]
    },
    {
     "name": "stdin",
     "output_type": "stream",
     "text": [
      "Job Title:  Transport Modeller - CUBE - Various UK Locations\n",
      "Company Name:  Jacobs\n",
      "Location:  Birmingham\n",
      "Posting Date (optional):  \n",
      "Employment Type (e.g., Full-time, Part-time, Contract) (optional):  \n",
      "Experience Level (e.g., Entry level, Mid-senior) (optional):  \n",
      "Workplace Type (e.g., On-site, Remote, Hybrid) (optional):  \n",
      "Salary Info (optional):  \n"
     ]
    },
    {
     "name": "stdout",
     "output_type": "stream",
     "text": [
      "\n",
      "Job Description:\n",
      "(Paste the job description below. Press Enter twice when finished)\n",
      "----------------------------------------\n"
     ]
    },
    {
     "name": "stdin",
     "output_type": "stream",
     "text": [
      " Our values are the fundamental tenets shared across our organisation and the standards we hold ourselves to: We do things right , We aim higher , We challenge the accepted , We live inclusion.   People are Jacobs’ greatest asset, and we offer a competitive package to retain and attract the best talent. In addition to the benefits you’d expect, UK employees also receive free single medical cover and digital GP service, family-friendly benefits such as enhanced parental leave pay and free membership of employee assistance and parental programs, plus reimbursement towards relevant professional development and memberships.    Exciting CUBE Modelling Opportunities at Jacobs   We have an exciting opportunity for an experienced CUBE modeller who wants to take their career to the next level and get involved in some of the most high-profile CUBE model implementations in the UK and internationally. The role will be central to the delivery of these workstreams with significant opportunities for growth and independence   Successful candidates would be joining one of the largest transport modelling teams in the UK and Europe and will have on offer unparalleled diversity of projects and exposure to different types of clients in the UK and internationally. Such depth offers opportunities for a range of career paths whether it is technical excellence, technical leadership or management roles.    We are a friendly team with a number of modelling excellence centres in the UK, Poland and India. We operate without divisions as One Jacobs, with management practices and systems designed to take down regional barriers and encourage cross-office working.   We've built a strong pipeline of transport modelling projects with major clients like Heathrow Airport, National Transport Authority Ireland, Transport for London, and various Middle East clients. Our work spans demand models, public transport assignment, cycling models, and airport surface access - all using CUBE family software.   What we offer for those who want to continue their skills development:   * High-profile CUBE model implementations in the UK and internationally  * Career progression opportunities - from technical delivery to project leadership  * Mentoring from our Strategic Modelling & Data team  * Flexible/hybrid working across our national office network  * Potential to combine CUBE work with Python/R data analysis roles   You'll be central to delivering our transport modelling projects with opportunities to shape our expanding public transport and demand modelling services.    We are open to flexible working arrangements and have successfully embedded hybrid working into our delivery style. With a network of offices nationally, we are open to candidates from all locations. So if you have been wondering what to do next with your career and how to make change happen, do reach out to Jacobs!   Multiple positions in multiple UK locations available for the right candidates. * Numerate degree (Engineering, Mathematics, Statistics, Physics, Data, or equivalent quantitative background)  * Public transport or demand modelling experience using CUBE - Must have  * Ability to work independently and as part of a team while maintaining high technical standards   For leadership-focused candidates:  * Task/project management experience (budgets, timelines, deliverables)  * Strong communication skills for client interaction and technical proposals  * Team management and mentoring experience, or demonstrated readiness to develop these skills   Would be nice to have :  * Experience with other transport modelling packages (EMME, highway modelling, economic appraisal)  * Knowledge of UK transport modelling guidance  * Strong data analysis skills - competency in Excel, SQL, Python, or R   Our culture   Our values stand on a foundation of safety, integrity, inclusion and diversity. We put people at the heart of our business and we truly believe that by supporting one another through our culture of caring, we all succeed. We value positive mental health and a sense of belonging for all employees. [1] Find out more about life at Jacobs.   We aim to embed inclusion and diversity in everything we do. We know that if we are inclusive, we’re more connected, and if we are diverse, we’re more creative. We accept people for who they are, regardless of age, disability, gender identity, gender expression, marital status, mental health, race, faith or belief, sexual orientation, socioeconomic background, and whether you’re pregnant or on family leave. This is reflected in our wide range of Global Employee Networks centred on inclusion and diversity - ACE, Careers, Enlace, Harambee, OneWorld, Prism, Women and Vetnet. [2] Find out more about our employee networks here.   Jacobs partners with VERCIDA to help us attract and retain diverse talent. For greater online accessibility please visit [3] www.vercida.com to view and access our roles. As a Disability Confident employer, we will interview all disabled applicants who meet the minimum criteria for a vacancy. We welcome applications from candidates who are seeking flexible working and from those who may not meet all the listed requirements for a role.   If you require further support or reasonable adjustments with regards to the recruitment process (for example, you require the application form in a different format), please [4] contact the team.   Your application experience is important to us and we’re keen to adapt to make every interaction even better. We welcome feedback on our recruitment process and if you need more from us before deciding to join Jacobs then [5] please let us know.   \n",
      " \n",
      " \n"
     ]
    },
    {
     "name": "stdout",
     "output_type": "stream",
     "text": [
      "\n",
      "============================================================\n",
      "PROCESSING RESULTS\n",
      "============================================================\n",
      "Job Title: Transport Modeller - CUBE - Various UK Locations\n",
      "Company: Jacobs\n",
      "Location: Birmingham\n",
      "Remote Option: Hybrid\n",
      "Employment Type: Not specified\n",
      "Experience Level: Not specified\n",
      "Job Level: Senior\n",
      "Industry: Technology\n",
      "Company Size: Not specified\n",
      "Salary Info: Not specified\n",
      "Posting Date: Not specified\n",
      "Word Count: 858\n",
      "Masculine Score: 0.82%\n",
      "Feminine Score: 0.94%\n",
      "Neutral Score: 98.24%\n",
      "Gendered Words: M:challenge; M:competitive; F:team; M:strong; F:team; F:team; M:strong; F:team; M:strong; M:excel; F:inclusive; F:help; M:confident; F:support; F:team\n",
      "Manual Review Flag: False\n",
      "\n",
      "Data saved to: C:\\Users\\HP\\OneDrive - University of Southampton\\Documents\\Dissertation Project - Marwa Ashfaq\\Codes\\linkedin_jobs_data.xlsx\n",
      "Total jobs in file: 6\n",
      "\n",
      "✅ Job data saved successfully!\n",
      "\n",
      "----------------------------------------\n"
     ]
    },
    {
     "name": "stdin",
     "output_type": "stream",
     "text": [
      "Do you want to add another job? (y/n):  y\n"
     ]
    },
    {
     "name": "stdout",
     "output_type": "stream",
     "text": [
      "\n",
      "========================================\n",
      "NEW JOB ENTRY\n",
      "========================================\n"
     ]
    },
    {
     "name": "stdin",
     "output_type": "stream",
     "text": [
      "Enter LinkedIn job URL:  https://www.linkedin.com/jobs/search-results/?currentJobId=4239512035&eBP=NON_CHARGEABLE_CHANNEL&geoId=101165590&keywords=operational%20research&origin=JOBS_HOME_SEARCH_BUTTON&refId=0bW7n%2Fc0HG5xoT8YXWFjJw%3D%3D&trackingId=vVe%2BoqJKKap5%2B53AnfV0PQ%3D%3D\n"
     ]
    },
    {
     "name": "stdout",
     "output_type": "stream",
     "text": [
      "\n",
      "============================================================\n",
      "JOB DATA ENTRY - LINKEDIN\n",
      "============================================================\n",
      "URL: https://www.linkedin.com/jobs/search-results/?currentJobId=4239512035&eBP=NON_CHARGEABLE_CHANNEL&geoId=101165590&keywords=operational%20research&origin=JOBS_HOME_SEARCH_BUTTON&refId=0bW7n%2Fc0HG5xoT8YXWFjJw%3D%3D&trackingId=vVe%2BoqJKKap5%2B53AnfV0PQ%3D%3D\n",
      "------------------------------------------------------------\n"
     ]
    },
    {
     "name": "stdin",
     "output_type": "stream",
     "text": [
      "Job Title:  Optimisation and Trading Senior Analyst\n",
      "Company Name:  EDF Trading\n",
      "Location:  London\n",
      "Posting Date (optional):  \n",
      "Employment Type (e.g., Full-time, Part-time, Contract) (optional):  \n",
      "Experience Level (e.g., Entry level, Mid-senior) (optional):  \n",
      "Workplace Type (e.g., On-site, Remote, Hybrid) (optional):  \n",
      "Salary Info (optional):  \n"
     ]
    },
    {
     "name": "stdout",
     "output_type": "stream",
     "text": [
      "\n",
      "Job Description:\n",
      "(Paste the job description below. Press Enter twice when finished)\n",
      "----------------------------------------\n"
     ]
    },
    {
     "name": "stdin",
     "output_type": "stream",
     "text": [
      " Come work at a place where innovation and teamwork come together to support the most exciting missions in the world!   When you join EDF Trading you’ll become part of a diverse international team of experts who challenge conventional ideas, test new approaches and think outside the box.   Energy markets evolve rapidly so our team needs to remain agile, flexible and ready to spot opportunities across all the markets we trade in: power, gas, LNG, LPG, oil and environmental products.   EDF Group and our customers all over the world trust that their assets are managed by us in the most effective and efficient manner and are protected through expert risk management. Trading for over 20 years, it’s experience that makes us leaders in the field. Energy is what we do.   Most of all, we value our people. Become part of the team and you will be offered a great range of benefits which include hybrid working, a personal pension plan, private medical and dental insurance, bi-annual health assessment, corporate gym memberships, electric car lease programme, childcare vouchers, cycle to work scheme, season ticket loans, volunteering opportunities and much more. We even provide free fruit to keep you healthy.   Gender balance and inclusion are very high on the agenda at EDF Trading so you will become part of an ever-diversifying family of around 800 colleagues based in London, Paris, Singapore, Tokyo and Houston. Regular social and networking events, both physical and virtual, will ensure that you always feel connected to your colleagues and the business.   Who are we? We are EDF Trading, part of the EDF Group, a world leader in low-carbon sustainable electricity generation partnered with JERA, one of Japan’s largest utilities; the perfect organisation at which to begin or progress your career in the commodities sector.   Join us, make a difference and help shape the future of energy.   Department  Optimisation and Trading Analytical Team   The Energy Market Analytics department houses the Optimisation and Trading Analytical Team, a dynamic group of 10 professionals based in both Paris and London.   Our team’s primary mission is to develop sophisticated market forecasting models and asset optimisation tools. These tools are instrumental in supporting EDF Trading’s proprietary activities and optimising the EDF Group portfolio. The team efforts are directed towards short-term and mid to long term electricity markets as well as gas and LNG. We work closely with the trading desks and other analyst teams in both locations, fostering a collaborative environment that drives our success.   Position purpose  We are seeking an experienced optimisation analyst with experience in the energy sector to contribute to our energy price modelling platform with an initial focus on medium to long-term power markets modelling. This role presents an opportunity to work on applications with a strong impact on the business.   As a Senior Analyst you will contribute to the design and improvement of our models in close collaboration with the wider Energy Market Analytics Team. The work will involve communicating with internal stakeholders such as traders, other analysts and software engineers.   Main responsibilities  In this role your responsibilities will include Model development: deliver best-in-class optimisation and/or data science models for energy price forecasting from design to coding and deploying robust applications used daily by traders. The role will initially focus on the improvement of our medium to long term power market modelling applications. Provide analytical support and expertise on optimisation and/or data science projects undertaken by teams across EDF Trading (Trading desks, Market Analysis and Origination) and explore and promote further quantitative approaches to enhance our models. Operationally support and continuously improve existing processes to increase performance and reliability of OTAT applications. Collaboration: engage and coordinate with internal clients and stakeholders to ensure effective collaboration across the organisation. Provide guidance and support to other team members.   Experience required  3-6 years of experience in the development of data science and/or optimisation algorithms in the energy sector   Technical requirements    Key requirements:  Strong knowledge of mathematical optimisation/operations research (linear programming, mixed-integer programming, stochastic optimisation, …) and/or machine learning Strong analytical skills Object-oriented programming in Java, Python, or another relevant language Commercial awareness: ability to understand the broader business implications of projects Higher education degree in a quantitative subject (Math, Physics, Computer Science, Engineering, etc.)   Beneficial skills and experience: Practical experience with stochastic programming Practical experience with an optimisation solver (e.g. CPLEX, COIN OR Cbc/Clp, HiGHS) Experience of power market modelling/analysis (supply/demand equilibrium models) Experience in an energy trading environment (modelling, asset optimisation, portfolio management or trading) Tech stack: knowledge of Linux OS, SQL and noSQL databases   Person specification  Desire to learn and iterate quickly Proactive and adaptable, positive attitude Strong work ethic Excellent communication skills Team-oriented and customer-focused   Hours of work:  40 hours per week Occasional on-call support on weekends at an estimated interval of two months\n",
      " \n",
      " \n"
     ]
    },
    {
     "name": "stdout",
     "output_type": "stream",
     "text": [
      "\n",
      "============================================================\n",
      "PROCESSING RESULTS\n",
      "============================================================\n",
      "Job Title: Optimisation and Trading Senior Analyst\n",
      "Company: EDF Trading\n",
      "Location: London\n",
      "Remote Option: Remote\n",
      "Employment Type: Not specified\n",
      "Experience Level: Not specified\n",
      "Job Level: Executive\n",
      "Industry: Technology\n",
      "Company Size: Not specified\n",
      "Salary Info: Not specified\n",
      "Posting Date: Not specified\n",
      "Word Count: 808\n",
      "Masculine Score: 1.23%\n",
      "Feminine Score: 2.45%\n",
      "Neutral Score: 96.32%\n",
      "Gendered Words: F:together; F:support; F:team; M:challenge; F:team; F:trust; F:team; M:leader; F:help; M:analytical; F:team; M:analytical; F:team; F:team; F:team; F:collaborative; M:strong; F:team; M:analytical; F:support; F:support; F:support; F:team; M:strong; M:strong; M:analytical; F:understand; M:strong; F:team; F:support\n",
      "Manual Review Flag: False\n",
      "\n",
      "Data saved to: C:\\Users\\HP\\OneDrive - University of Southampton\\Documents\\Dissertation Project - Marwa Ashfaq\\Codes\\linkedin_jobs_data.xlsx\n",
      "Total jobs in file: 7\n",
      "\n",
      "✅ Job data saved successfully!\n",
      "\n",
      "----------------------------------------\n"
     ]
    },
    {
     "name": "stdin",
     "output_type": "stream",
     "text": [
      "Do you want to add another job? (y/n):  y\n"
     ]
    },
    {
     "name": "stdout",
     "output_type": "stream",
     "text": [
      "\n",
      "========================================\n",
      "NEW JOB ENTRY\n",
      "========================================\n"
     ]
    },
    {
     "name": "stdin",
     "output_type": "stream",
     "text": [
      "Enter LinkedIn job URL:  https://www.linkedin.com/jobs/search-results/?currentJobId=4253270216&eBP=NON_CHARGEABLE_CHANNEL&geoId=101165590&keywords=operational%20research&origin=JOBS_HOME_SEARCH_BUTTON&refId=0bW7n%2Fc0HG5xoT8YXWFjJw%3D%3D&trackingId=BhP3vpaGNQF7gdCohhEjDg%3D%3D\n"
     ]
    },
    {
     "name": "stdout",
     "output_type": "stream",
     "text": [
      "\n",
      "============================================================\n",
      "JOB DATA ENTRY - LINKEDIN\n",
      "============================================================\n",
      "URL: https://www.linkedin.com/jobs/search-results/?currentJobId=4253270216&eBP=NON_CHARGEABLE_CHANNEL&geoId=101165590&keywords=operational%20research&origin=JOBS_HOME_SEARCH_BUTTON&refId=0bW7n%2Fc0HG5xoT8YXWFjJw%3D%3D&trackingId=BhP3vpaGNQF7gdCohhEjDg%3D%3D\n",
      "------------------------------------------------------------\n"
     ]
    },
    {
     "name": "stdin",
     "output_type": "stream",
     "text": [
      "Job Title:  Data Science Manager - Platforms and Core Capabilities (Metaheuristics)\n",
      "Company Name:  Tesco Technology\n",
      "Location:  Welwyn Garden City, England, United Kingdom \n",
      "Posting Date (optional):  \n",
      "Employment Type (e.g., Full-time, Part-time, Contract) (optional):  \n",
      "Experience Level (e.g., Entry level, Mid-senior) (optional):  \n",
      "Workplace Type (e.g., On-site, Remote, Hybrid) (optional):  \n",
      "Salary Info (optional):  \n"
     ]
    },
    {
     "name": "stdout",
     "output_type": "stream",
     "text": [
      "\n",
      "Job Description:\n",
      "(Paste the job description below. Press Enter twice when finished)\n",
      "----------------------------------------\n"
     ]
    },
    {
     "name": "stdin",
     "output_type": "stream",
     "text": [
      " We know life looks a little different for each of us. That's why at Tesco, we always welcome chats about flexible working. Some people are at the start of their careers, some want the freedom to do the things they love. Others are going through life-changing moments like becoming a carer, nearing retirement, adapting to parenthood, or something else. So, talk to us throughout your application about how we can support.  Are you an Operational Research specialist with strong Meta-heuristics experience? Then look no further and come and join our team!   We'd love to hear from you if you have any questions about the role or our team!   About the Team  Here at Tesco we focus on solving sophisticated business problems and developing data products that can be deployed at scale to our customers and colleagues. Our teams work across multiple areas including Stores, Online, Fulfilment, Marketing Clubcard, and we encourage rotation among our Data Scientists, so they can apply their skills to different business challenges and gain deeper levels of domain expertise.   On any day you could be supporting the automation of decision-making across the business; optimising processes for key business objectives; or conducting exploratory analysis for strategic decision-making. You will be responsible for The technical domain and leading technical engagements whilst managing a team of Data Scientists and supporting with the mentoring of others in the team on the best approaches to optimise problems and the development of Meta-heuristics  Supporting teams in designing and implementing reusable components for algorithmic development for static and dynamic optimisation problems  Defining the strategic direction that the team should take, trading off contradicting priorities.  Unblocking day-to-day technical challenges and ensure that the daily work is aligned with the technical vision.  You will also communicate sophisticated solutions in a clear, understandable way to non-experts  Working on end-to-end developments, contributing to all aspects of the product lifecycle You will need Be an influential Senior Data Scientist or Data Science Manager within Operational Research combined with specialist knowledge of Meta-heuristics.  You will have a high level of capability in a programming language, preferably Python and have experience of mentoring others whilst partnering with teams in the areas of scheduling, vehicle routing or bin-packing on technical developments. Whats in it for you? We're all about the little helps. That's why we make sure our Tesco colleague benefits package takes care of you - both in and out of work.   Annual bonus scheme of up to 20% of base salary Holiday starting at 25 days plus a personal day (plus Bank holidays) Private medical insurance 26 weeks maternity and adoption leave (after 1 years' service) at full pay, followed by 13 weeks of Statutory Maternity Pay or Statutory Adoption Pay, we also offer 4 weeks fully paid paternity leave Free 24/7 virtual GP service, Employee Assistance Programme (EAP) for you and your family, free access to a range of experts to support your mental wellbeing About Us Our vision at Tesco is to become every customer's favourite way to shop, whether they are at home or out on the move. Our core purpose is'Serving our customers, communities and planet a little better every day'. Serving means more than a transactional relationship with our customers. It means acting as a responsible and sustainable business for all stakeholders, for the communities we are part of and for the planet.  Diversity, equity and inclusion (DE&I) at Tesco means that whoever you are and whatever your background, we always want you to feel represented and that you can be yourself at work. In short, we're a place where Everyone's Welcome. We're proud to have been accredited Disability Confident Leader and we're committed to providing a fully inclusive and accessible recruitment process.  We're a big business and we can offer a range of diverse full-time & part-time working patterns across our many business areas, which means that we can find something that works for you. We work in a more blended pattern -combining office and remote working. Our offices will continue to be where we connect, collaborate and innovate.\n",
      " \n",
      " \n"
     ]
    },
    {
     "name": "stdout",
     "output_type": "stream",
     "text": [
      "\n",
      "============================================================\n",
      "PROCESSING RESULTS\n",
      "============================================================\n",
      "Job Title: Data Science Manager - Platforms and Core Capabilities (Metaheuristics)\n",
      "Company: Tesco Technology\n",
      "Location: Welwyn Garden City, England, United Kingdom\n",
      "Remote Option: Remote\n",
      "Employment Type: Not specified\n",
      "Experience Level: Not specified\n",
      "Job Level: Senior\n",
      "Industry: Technology\n",
      "Company Size: Not specified\n",
      "Salary Info: Not specified\n",
      "Posting Date: Not specified\n",
      "Word Count: 689\n",
      "Masculine Score: 0.72%\n",
      "Feminine Score: 2.45%\n",
      "Neutral Score: 96.83%\n",
      "Gendered Words: F:support; M:strong; F:team; F:team; F:team; M:decision; M:decision; F:responsible; F:team; F:team; F:team; F:communicate; F:care; F:support; F:relationship; F:responsible; M:confident; M:leader; F:committed; F:inclusive; F:connect; F:collaborate\n",
      "Manual Review Flag: False\n",
      "\n",
      "Data saved to: C:\\Users\\HP\\OneDrive - University of Southampton\\Documents\\Dissertation Project - Marwa Ashfaq\\Codes\\linkedin_jobs_data.xlsx\n",
      "Total jobs in file: 8\n",
      "\n",
      "✅ Job data saved successfully!\n",
      "\n",
      "----------------------------------------\n"
     ]
    },
    {
     "name": "stdin",
     "output_type": "stream",
     "text": [
      "Do you want to add another job? (y/n):  y\n"
     ]
    },
    {
     "name": "stdout",
     "output_type": "stream",
     "text": [
      "\n",
      "========================================\n",
      "NEW JOB ENTRY\n",
      "========================================\n"
     ]
    },
    {
     "name": "stdin",
     "output_type": "stream",
     "text": [
      "Enter LinkedIn job URL:  https://www.linkedin.com/jobs/search-results/?currentJobId=4258755568&eBP=NON_CHARGEABLE_CHANNEL&geoId=101165590&keywords=operational%20research&origin=JOBS_HOME_SEARCH_BUTTON&refId=0bW7n%2Fc0HG5xoT8YXWFjJw%3D%3D&trackingId=8YAFGHhMJsSYEnVsOnq55w%3D%3D\n"
     ]
    },
    {
     "name": "stdout",
     "output_type": "stream",
     "text": [
      "\n",
      "============================================================\n",
      "JOB DATA ENTRY - LINKEDIN\n",
      "============================================================\n",
      "URL: https://www.linkedin.com/jobs/search-results/?currentJobId=4258755568&eBP=NON_CHARGEABLE_CHANNEL&geoId=101165590&keywords=operational%20research&origin=JOBS_HOME_SEARCH_BUTTON&refId=0bW7n%2Fc0HG5xoT8YXWFjJw%3D%3D&trackingId=8YAFGHhMJsSYEnVsOnq55w%3D%3D\n",
      "------------------------------------------------------------\n"
     ]
    },
    {
     "name": "stdin",
     "output_type": "stream",
     "text": [
      "Job Title:  Royal Navy - Operational Reconstruction Analyst\n",
      "Company Name:  UK Ministry of Defence\n",
      "Location:  Fareham, England, United Kingdom\n",
      "Posting Date (optional):  \n",
      "Employment Type (e.g., Full-time, Part-time, Contract) (optional):  \n",
      "Experience Level (e.g., Entry level, Mid-senior) (optional):  \n",
      "Workplace Type (e.g., On-site, Remote, Hybrid) (optional):  \n",
      "Salary Info (optional):  \n"
     ]
    },
    {
     "name": "stdout",
     "output_type": "stream",
     "text": [
      "\n",
      "Job Description:\n",
      "(Paste the job description below. Press Enter twice when finished)\n",
      "----------------------------------------\n"
     ]
    },
    {
     "name": "stdin",
     "output_type": "stream",
     "text": [
      " Do you want to analyse, shape and enhance RN frontline tactics?  The Operational Advantage Centre’s (OAC) – Operational Reconstruction & Analysis (ORA) team is tasked with undertaking scientifically rigorous and objective analysis of Royal Navy Operations, Exercises and Trials.  A blended military and civilian team, ORA’s remit is to analyse, identify and inject lessons and insights to frontline RN units, utilising evidence-based processes with strict adherence to a Just Culture methodology.  ORA promulgates what went well, identifies what could be improved and provides mitigations and recommendations to support the air, surface and subsurface domains. The team also provides evidence towards assurance requirements for Senior Leaders.  The position is advertised at 37 hours per week.  Job Description  The ORA team is proficient in undertaking operational reconstruction & analysis and each tranche (ORA 1, ORA 2 & ORA 3) has a specialisation. The ORA 1 tranche specialises in operational assurance.  We are looking for enthusiastic, scientifically and technically minded individuals, who are capable of integrating with frontline military colleagues to gather, prepare and analyse a plethora of datasets, fuse findings with additional information streams and impart information to a varied and diverse audience.  The role offers the opportunity to work directly alongside the RN frontline, both ashore and potentially deploying for short periods on RN or Allied platforms.  This role will require development of relationships with Fleet Operational Standards and Training (FOST), Joint Tactical and Exercise Planning Staff (JTEPS), NATO In-stride Debrief Team (NATO IDT) and equivalent organisations across NATO & Allied partners, including AUKUS.  Note - All OAC analysts have the option to deploy with the Royal Navy on exercises and operations. Whether off the coast of Japan or in the Fjords of Norway, our analysts provide key evidence to support military commanders. This aspect of the role is completely optional (requirements apply in some circumstances such as attaining an ENG-1 certificate) however, these are unique & rewarding experiences work that also attract additional allowances.  The ORA team is proficient in undertaking operational reconstruction & analysis and each tranche (ORA 1, ORA 2 & ORA 3) has a specialisation. The ORA 1 tranche specialises in operational assurance.  We are looking for enthusiastic, scientifically and technically minded individuals, who are capable of integrating with frontline military colleagues to gather, prepare and analyse a plethora of datasets, fuse findings with additional information streams and impart information to a varied and diverse audience.  The role offers the opportunity to work directly alongside the RN frontline, both ashore and potentially deploying for short periods on RN or Allied platforms.  This role will require development of relationships with Fleet Operational Standards and Training (FOST), Joint Tactical and Exercise Planning Staff (JTEPS), NATO In-stride Debrief Team (NATO IDT) and equivalent organisations across NATO & Allied partners, including AUKUS.  Note - All OAC analysts have the option to deploy with the Royal Navy on exercises and operations. Whether off the coast of Japan or in the Fjords of Norway, our analysts provide key evidence to support military commanders. This aspect of the role is completely optional (requirements apply in some circumstances such as attaining an ENG-1 certificate) however, these are unique & rewarding experiences work that also attract additional allowances.  Person specification  You will use, understand, modify, and improve software tools to conduct analysis in support of operations, exercises and trials. You will be able to work within dynamic military/civilian teams and be able to operate autonomously with appropriate direction and mentorship. You will be able to link technical capabilities with tactical requirements and be able to clearly articulate this information to a range of academic and military personnel.  The outputs of your work will directly influence operational and tactical behaviours.  Typical Responsibilities Include  Operational Analysis Geospatial Analysis Data science/engineering Application of scientific knowledge and analytical findings to advise frontline decision makers. Communication of sophisticated information to a varied audience.  Skills  We are looking for candidates with academic and/or professional experience of providing analytical output independently or as part of a team. While previous experience in Defence or the maritime domain is not essential, it is expected the applicant will have applicable skills in one or more of the following areas:  Operational analysis/operational research Data science/data engineering Trials planning and management Intelligence analysis Using the scientific process to generate evidence. Using evidence to support or make informed decisions.  Essential  Skills and Experience  A degree (or equivalent) in a relevant subject, or equivalent experience High level of IT literacy and data management skills. Experience in the application of scientific and/or analytical techniques. Enthusiasm and a willingness to learn  Other Desirable Experience  Experience of technical or scientific work in relation to the maritime domain. Knowledge and experience of the MOD and Defence environment. Experience in programming in any widely-used programming language. The ORA team’s policy is aimed towards open-source languages).  Further Note  Whilst Operational analysis (OA) / Operational Research (OR), is an applied subject area that draws on scientific and advanced analytical methods to solve military problems, it is recognised that the ORA team’s operating environment is a relatively unique one.  As a result, we are a broad range of scientific, engineering, and analytical practitioners with a range of backgrounds. We celebrate this diversity.  We do not expect candidates to meet all the desirable criteria. We will consider all candidates who meet the essential criteria. We will provide training, tutoring and mentoring to ensure that you can develop your own abilities within the role.  Qualifications  A degree-level qualification in a mathematical or scientific discipline.  Behaviours  We'll assess you against these behaviours during the selection process:  Working Together Communicating and Influencing Delivering at Pace Changing and Improving  Alongside your salary of £36,530, Ministry of Defence contributes £10,582 towards you being a member of the Civil Service Defined Benefit Pension scheme.  Find out what benefits a Civil Service Pension provides.  Learning and development tailored to your role An environment with flexible working options A culture encouraging inclusion and diversity A Civil Service pension with an employer contribution of 28.97%  As a civil servant in Navy Command, you will be part of a forward-looking organisation with inclusive workplace policies, excellent career prospects, and a job that makes a difference. Navy Command prides itself on being a supportive employer and where possible encourages flexible working, helping you to maintain a great work/life balance.  Other Benefits For Navy Command Civil Servants Include   25 days paid annual leave rising (1 day per year) to 30 days upon completion of 5 years’ service.  Personal & professional development  Alternative working patterns for many roles  Access to a confidential, professional support service  Discount schemes.  Bicycle / season ticket loans.  Enhanced maternity, paternity, and adoption leave.  Special paid leave to volunteer up to 6 days a year.  In Navy Command we believe that everyone has the potential to make a difference and you will be supported to help you learn and advance in your career. This includes working towards membership of a professional body and/or undertaking an apprenticeship as part of your role.  An apprenticeship is a combined package of work and training. Through an apprenticeship you will gain professional knowledge, practical experience, and the broader skills required to up-skill you in your current role and pave the way for your future career. Most of the training will be ‘on-the-job’, with the remaining ‘off-the-job’ training often delivered by a training provider. This means minimal disruption and maximum impact.  Professional qualifications can be achieved through an apprenticeship and range from Level 2 (equivalent to 5 GCSEs), Level 3 (equivalent to 2 A Levels), and Levels 4 -7, which can give you a foundation degree, a full Bachelor’s degree, or a Master’s degree.  Apprenticeships normally last between 12 months - 3 years, depending on the level of the apprenticeship.  Anyone can undertake an Apprenticeship and everyone, regardless of age, can benefit from developing their skills in an accredited way.  Successful candidates can discuss their development options with their manager when in post.  Our site in Fareham also offers an impressive range of on-site facilities including a gymnasium, swimming pool, and other sporting facilities, a children’s nursery, a bistro restaurant, a shop, and plenty of car parking spaces.  Please Note  Where business needs allow, some roles may be suitable for a combination of office and home-based working. This is a non-contractual arrangement where all office-based employees will be expected to spend a minimum of 60% of their working time in office, subject to capacity and any required workplace adjustments. Requirements to attend other locations for official business, or work in another MOD office, will also count towards this level of attendance. Applicants can request further information regarding how this may work in their team from the Vacancy Holder (see advert for contact details). Defence Business Services cannot respond to any questions about working arrangements.  The post does not offer relocation expenses. External recruits who join the MOD who are new to the Civil Service will be subject to a six-month probation period. Expenses incurred for travel to interviews will not be reimbursed. Please be advised that the Department is conducting a review of all pay related allowances which could impact on those allowances that the post currently being advertised attracts. Any move to MOD from another employer will mean you can no longer access childcare vouchers. This includes moves between government departments. You may however be eligible for other government schemes, including Tax-Free Childcare. Determine your eligibility at https://www.childcarechoices.gov.uk/.  The Ministry of Defence is committed to providing a safe and healthy working environment for its staff which includes educating them on the benefits of not smoking, protecting them from the harmful effects of second-hand smoke and supporting those who want to give up smoking. Under the Smoke-Free Working Environment policy, Smoking and the use of all tobacco products (including combustible and chewing tobacco products) will not be permitted anywhere in the Defence working environment however some exemptions are in place, please refer to local guidance. The policy is Whole Force and includes all Defence personnel, contractors, visitors and other non-MOD personnel. All applicants seeking, considering, or accepting employment with the Ministry of Defence should be aware of this policy and that it is already in place at a number of Defence Establishments.  MOD Recruitment Satisfaction Survey – We may contact you regarding your experience to help us improve our customer satisfaction. The survey is voluntary and anonymous. You may however be given the opportunity to provide additional information to help us improve our service which includes the collection of some personal data as defined by the United Kingdom General Data Protection Regulation (UK GDPR). The MOD Privacy Policy Notice sets out how we will use your personal data and your rights.  Selection process details  This vacancy is using Success Profiles (opens in a new window), and will assess your Behaviours and Experience.   Candidates will be required to complete an online Numerical test.  The Civil Service Judgement Test is not bankable and therefore must be taken on every vacancy where it is applied.  Should you be invited to complete the online tests, please allow sufficient time to complete the tests and the remainder of the full application form; only candidates who are successful at the test stage will be invited to complete the remainder of the application by clicking ‘Submit Application’. Your application must be completed by 23:55 on the closing date of the vacancy. Late submissions cannot be accepted. The tests are not timed, as they work by giving you harder questions if you answer the previous question correctly, and easier if you get it wrong. You should allow up to an hour for each test, and each test must be completed before you will be invited to complete the second part of your application. Internet access will be required for the duration of the test. Please refer to the attached Candidate Guidance for further information.  Required  Candidates that reach the minimum required pass mark will have their results saved as a banked score against the following tests:  New Civil Service Verbal Test New Civil Service Numerical Test  When a candidate has a banked score they’re not asked to re-take the same test providing it is set at the same level. Scores will be banked for a 6 month period from the date of test completion. If a candidate is invited to take the same test against multiple vacancies, the banked score will be recognised against all vacancies and all active applications will progress.  CSJT scores cannot be banked as each test is generated from the behaviours required for a specific role which will vary between recruitment campaigns.  If you require any particular arrangements (for example due to a disability or health problem) to be made in order for you to complete the online test you MUST contact the DBS Enquiry Centre on 0800 345 7772 BEFORE accessing the online test.  Opening times Mon -Friday 0800- 1600 hrs.   Candidates will be required to provide CV details to include job history; qualification details and previous skills and experience.  Candidates will be required to provide a statement of suitability. (750 Words)  At sift, candidates will be assessed against their CV and statement of suitability.  If successful at the sift stage, candidates will be invited to interview.  The interview will cover Civil Service Behaviours and Experience Success Profiles: Civil Service behaviours - GOV.UK and will require a short presentation on a question related to analysis in the Maritime Domain (provided in advance of the interview).  The interview questions will be based upon the following four Behaviours:  Working together. Communicating and influencing. Delivering at pace. Changing and improving.  Further Information  The Ministry of Defence requires all candidates who are successful at interview to declare any outside interests. These declarations will be discussed with successful candidates following the interview process and before a formal offer of employment is made, as some outside interests may not be compatible with MOD civilian roles. This will not, in the majority of cases, prevent employment in MOD, but it is a measure that must be taken to ensure that appropriate mitigations can be put in place to manage any potential, perceived or actual conflicts of interest from the first day of employment.  The Ministry of Defence adopts a zero-tolerance approach to unacceptable behaviours, which includes bullying, harassment, sexual harassment, discrimination, and victimisation. You will not be eligible and will not be considered for this post if you have been dismissed from a role for such unacceptable behaviours within the last five years. This will also apply if you resign or otherwise leave a role but, because of an adverse decision, would have been dismissed for gross misconduct had you continued in that employment. Pre-employment checks will be carried out.  The Civil Service embraces diversity and promotes equality of opportunity. There is a Disability Confident Scheme (DCS) for candidates with disabilities who meet the minimum selection criteria. If you need to advise us that you need additional help or reasonable adjustments for the recruitment process, please contact: DBSCivPers-Resourcingteam3@mod.gov.uk .  As a result of the changes to the UK immigration rules which came in to effect on 1 January 2021, the Ministry of Defence will only offer sponsorship for a skilled worker visa under the points based system, where a role has been deemed to be business critical. This role does not meet that category and we will not sponsor a visa. It is therefore NOT open to applications from those who will require sponsorship under the points based system.  Should you apply for this role and be found to require sponsorship, your application will be rejected and any provisional offer of employment withdrawn.  Feedback will only be provided if you attend an interview or assessment.  This vacancy is using Success Profiles (opens in a new window), and will assess your Behaviours and Experience.  Security  Successful candidates must undergo a criminal record check.  Successful candidates must meet the security requirements before they can be appointed. The level of security needed is developed vetting (opens in a new window).See our vetting charter (opens in a new window).  People working with government assets must complete baseline personnel security standard (opens in new window) checks.  Successful candidates must undergo a criminal record check.  Successful candidates must meet the security requirements before they can be appointed. The level of security needed is developed vetting (opens in a new window).See our vetting charter (opens in a new window).  People working with government assets must complete baseline personnel security standard (opens in new window) checks.  Nationality requirements  Open to UK nationals only.  Working for the Civil Service  The Civil Service Code (opens in a new window) sets out the standards of behaviour expected of civil servants.  We recruit by merit on the basis of fair and open competition, as outlined in the Civil Service Commission's recruitment principles (opens in a new window).  The Civil Service embraces diversity and promotes equal opportunities. As such, we run a Disability Confident Scheme (DCS) for candidates with disabilities who meet the minimum selection criteria.  The Civil Service also offers a Redeployment Interview Scheme to civil servants who are at risk of redundancy, and who meet the minimum requirements for the advertised vacancy.  The Civil Service Code (opens in a new window) sets out the standards of behaviour expected of civil servants.  We recruit by merit on the basis of fair and open competition, as outlined in the Civil Service Commission's recruitment principles (opens in a new window).  The Civil Service embraces diversity and promotes equal opportunities. As such, we run a Disability Confident Scheme (DCS) for candidates with disabilities who meet the minimum selection criteria.  The Civil Service also offers a Redeployment Interview Scheme to civil servants who are at risk of redundancy, and who meet the minimum requirements for the advertised vacancy.  Diversity and Inclusion  The Civil Service is committed to attract, retain and invest in talent wherever it is found. To learn more please see the  Civil Service People Plan (opens in a new window) and the  Civil Service Diversity and Inclusion Strategy (opens in a new window).  This vacancy is part of the Great Place to Work for Veterans (opens in a new window) initiative.  Once this job has closed, the job advert will no longer be available. You may want to save a copy for your records.  Contact point for applicants  Job Contact  Name : Dr Aaron Cusack Email : aaron.cusack450@mod.gov.uk  Recruitment team  Email : DBSCivPers-Resourcingteam3@mod.gov.uk  Further information  Please ensure you read the attached candidate information document prior to completing your application. If you are dissatisfied with the service you have received from DBS, or believe that DBS has failed to follow the recruitment process in line with the Civil Service Commission principles of selection for appointment on merit on the basis of Fair and Open competition, you can raise a formal complaint by writing to DBS at the following address: Defence Business Services, Scanning Hub, Room 6124, Tomlinson House, Norcross Lane, Blackpool, FY5 3WP. If after raising your complaint with DBS you remain dissatisfied you can complain directly to the Civil Service Commission at the following address: Civil Service commission, Room G/8, 1 Horse Guards Road, London, SW1A 2HQ Or by email: info@csc.gov.uk.\n",
      " \n",
      " \n"
     ]
    },
    {
     "name": "stdout",
     "output_type": "stream",
     "text": [
      "\n",
      "============================================================\n",
      "PROCESSING RESULTS\n",
      "============================================================\n",
      "Job Title: Royal Navy - Operational Reconstruction Analyst\n",
      "Company: UK Ministry of Defence\n",
      "Location: Fareham, England, United Kingdom\n",
      "Remote Option: Remote\n",
      "Employment Type: Not specified\n",
      "Experience Level: Not specified\n",
      "Job Level: Executive\n",
      "Industry: Technology\n",
      "Company Size: Not specified\n",
      "Salary Info: Not specified\n",
      "Posting Date: Not specified\n",
      "Word Count: 3208\n",
      "Masculine Score: 0.38%\n",
      "Feminine Score: 0.91%\n",
      "Neutral Score: 98.71%\n",
      "Gendered Words: F:team; M:objective; F:team; F:support; F:team; F:team; F:team; F:support; F:team; F:team; F:support; F:understand; F:support; M:analytical; M:decision; M:analytical; F:team; F:support; M:analytical; F:team; M:analytical; F:team; M:analytical; F:together; F:inclusive; F:supportive; F:support; F:help; F:team; F:committed; F:help; F:help; F:together; M:manage; M:decision; M:confident; F:help; M:confident; M:confident; F:committed; F:team\n",
      "Manual Review Flag: False\n",
      "\n",
      "Data saved to: C:\\Users\\HP\\OneDrive - University of Southampton\\Documents\\Dissertation Project - Marwa Ashfaq\\Codes\\linkedin_jobs_data.xlsx\n",
      "Total jobs in file: 9\n",
      "\n",
      "✅ Job data saved successfully!\n",
      "\n",
      "----------------------------------------\n"
     ]
    },
    {
     "name": "stdin",
     "output_type": "stream",
     "text": [
      "Do you want to add another job? (y/n):  y\n"
     ]
    },
    {
     "name": "stdout",
     "output_type": "stream",
     "text": [
      "\n",
      "========================================\n",
      "NEW JOB ENTRY\n",
      "========================================\n"
     ]
    },
    {
     "name": "stdin",
     "output_type": "stream",
     "text": [
      "Enter LinkedIn job URL:  https://www.linkedin.com/jobs/search-results/?currentJobId=4260882946&eBP=NON_CHARGEABLE_CHANNEL&geoId=101165590&keywords=operational%20research&origin=JOBS_HOME_SEARCH_BUTTON&refId=0bW7n%2Fc0HG5xoT8YXWFjJw%3D%3D&trackingId=fpRkRBbpZDzCjtRq5kF40Q%3D%3D\n"
     ]
    },
    {
     "name": "stdout",
     "output_type": "stream",
     "text": [
      "\n",
      "============================================================\n",
      "JOB DATA ENTRY - LINKEDIN\n",
      "============================================================\n",
      "URL: https://www.linkedin.com/jobs/search-results/?currentJobId=4260882946&eBP=NON_CHARGEABLE_CHANNEL&geoId=101165590&keywords=operational%20research&origin=JOBS_HOME_SEARCH_BUTTON&refId=0bW7n%2Fc0HG5xoT8YXWFjJw%3D%3D&trackingId=fpRkRBbpZDzCjtRq5kF40Q%3D%3D\n",
      "------------------------------------------------------------\n"
     ]
    },
    {
     "name": "stdin",
     "output_type": "stream",
     "text": [
      "Job Title:  AI Research and Robotics Manager\n",
      "Company Name:   Ellison Institute of Technology Oxford\n",
      "Location:  Oxford\n",
      "Posting Date (optional):  \n",
      "Employment Type (e.g., Full-time, Part-time, Contract) (optional):  \n",
      "Experience Level (e.g., Entry level, Mid-senior) (optional):  \n",
      "Workplace Type (e.g., On-site, Remote, Hybrid) (optional):  \n",
      "Salary Info (optional):  \n"
     ]
    },
    {
     "name": "stdout",
     "output_type": "stream",
     "text": [
      "\n",
      "Job Description:\n",
      "(Paste the job description below. Press Enter twice when finished)\n",
      "----------------------------------------\n"
     ]
    },
    {
     "name": "stdin",
     "output_type": "stream",
     "text": [
      " The Ellison Institute of Technology (EIT) works to develop and deploy advanced technology in pursuit of solving some of humanity's most challenging and enduring problems. Guided by world-leading scientists and entrepreneurs, EIT seeks to accelerate innovation by driving scientific and technological advancements across four humane endeavours:health and medical science, food security and sustainable agriculture, climate change and clean energy, and government innovation and the era of artificial intelligence.  Please visit eit.org for more details.  Our Culture  At the Ellison Institute, we believe that an inclusive, collaborative team atmosphere is just as important to our mission as our scientific aims and methods.  We strive to build a supportive environment where everyone feels confident taking creative risks toward innovation. We value emotional intelligence and communicating with empathy and respect for others.  We foster a team that is curious, has a deep sense of commitment, responsibility, and the resilience needed to achieve excellence.  About The AI Capability  We are a team of AI researchers, Applied AI scientists, data and software engineers within EIT. We work across all the humane endeavours, supported by world-class data platforms and large-scale compute.  AI is at the heart of how EIT tackles humanity's most pressing and enduring challenges. Our mission is to harness state-of-the-art statistical machine learning to 10x the impact of EIT's programmes and discover novel AI approaches that lead to 100x impact in the future.  Requirements  Job Summary:  You'll play a foundational role in building a highly collaborative, well-structured, and efficient research environment across our AI capability. Partnering closely with our Research Lead and Research Program Manager, you will enable the smooth running of research efforts connecting the research team with the rest of EIT and external partners, defining and running enabling research processes, and helping shape a strong research culture.  You'll work as part of the broader AI Operations function; driving operational excellence in close alignment and collaboration with other Operations team members. You'll contribute across multiple domains including partnership with Oxford University on high impact projects and play a key role in increasing effectiveness of internal events, processes, and knowledge-sharing. You'll thrive in a dynamic environment, bring clarity where needed, and be a consistent source of momentum behind the scenes.  Key Responsibilities:  Research Environment and Collaboration:  You will co-design and implement systems that foster a productive, collaborative research culture.  Build operating rhythms and co-ordination structures for the research team  Connecting with other teams across EIT to build relevant infrastructure/processes (e.g. journal access, publication processes and required infrastructure)  Ensure a smooth integration between AI-research and AI-wide operations   Academic & Research Community Interaction:   Coordinate with Oxford University and other academic partners, especially on project logistics, people engagement, and reporting (e.g. Centre for Doctoral Training logistics)  Serve as the operational lead for academic partnership tracking and engagement  Develop and own our conference attendance approach and footprint  Internal Research Community Building:   Organise and manage journal clubs, tech talks, and internal seminars to drive knowledge sharing  Support integration between Research and Applied teams through regular syncs, shared documentation, and experiment tracking tools  Help set a team-wide approach to conference participation: submission support, knowledge capture, and external representation   Project Management & Operations:   Own the delivery of cross-functional initiatives that support research workflows, tooling, and documentation standards  Track and report on progress across key research initiatives, supporting leadership in strategic decision-making  Champion operational excellence and efficiency through documentation, process improvement, and lightweight governance   Essential Knowledge, Skills and Experience:   AI Research/Tech Operations: Experience working in AI research, academic ML, or other technical environment; comfortable bridging rigor and executive  Project Coordination: Able to drive multiple projects at once, keeping stakeholders aligned and timelines on track   Stakeholder Management: Skilled communicator, confident working with researchers, engineers, external partners, and internal leadership   Culture & Community Building: Proven ability to build environments of trust, curiosity, and open knowledge sharing   Operational Excellence: Detail-oriented with a strong bias to action; able to bring clarity and simplicity to evolving processes   Benefits  Why work for EIT:  At the Ellison Institute, we believe a collaborative, inclusive team is key to our success. We are building a supportive environment where creative risks are encouraged, and everyone feels heard. Valuing emotional intelligence, empathy, respect, and resilience, we encourage people to be curious and to have a shared commitment to excellence. Join us and make an impact!  We offer the following salary and benefits:  Enhanced holiday pay  Pension  Life Assurance  Income Protection  Private Medical Insurance  Hospital Cash Plan  Therapy Services  Perk Box\n",
      " \n",
      " \n"
     ]
    },
    {
     "name": "stdout",
     "output_type": "stream",
     "text": [
      "\n",
      "============================================================\n",
      "PROCESSING RESULTS\n",
      "============================================================\n",
      "Job Title: AI Research and Robotics Manager\n",
      "Company: Ellison Institute of Technology Oxford\n",
      "Location: Oxford\n",
      "Remote Option: On-site\n",
      "Employment Type: Not specified\n",
      "Experience Level: Not specified\n",
      "Job Level: Executive\n",
      "Industry: Technology\n",
      "Company Size: Not specified\n",
      "Salary Info: Not specified\n",
      "Posting Date: Not specified\n",
      "Word Count: 743\n",
      "Masculine Score: 1.71%\n",
      "Feminine Score: 3.15%\n",
      "Neutral Score: 95.14%\n",
      "Gendered Words: F:inclusive; F:collaborative; F:team; F:supportive; M:confident; F:team; M:responsibility; M:achieve; F:team; M:lead; F:collaborative; M:lead; F:team; M:strong; F:team; F:collaborative; F:team; F:community; M:lead; F:community; M:manage; M:drive; F:support; F:help; F:team; F:support; F:support; M:decision; M:drive; M:confident; F:community; F:trust; M:strong; F:collaborative; F:inclusive; F:team; F:supportive\n",
      "Manual Review Flag: False\n",
      "\n",
      "Data saved to: C:\\Users\\HP\\OneDrive - University of Southampton\\Documents\\Dissertation Project - Marwa Ashfaq\\Codes\\linkedin_jobs_data.xlsx\n",
      "Total jobs in file: 10\n",
      "\n",
      "✅ Job data saved successfully!\n",
      "\n",
      "----------------------------------------\n"
     ]
    },
    {
     "name": "stdin",
     "output_type": "stream",
     "text": [
      "Do you want to add another job? (y/n):  y\n"
     ]
    },
    {
     "name": "stdout",
     "output_type": "stream",
     "text": [
      "\n",
      "========================================\n",
      "NEW JOB ENTRY\n",
      "========================================\n"
     ]
    }
   ],
   "source": [
    "import pandas as pd\n",
    "from datetime import datetime\n",
    "import re\n",
    "import os\n",
    "\n",
    "class LinkedInJobProcessor:\n",
    "    def __init__(self):\n",
    "        # Gendered words lists for analysis\n",
    "        self.masculine_words = [\n",
    "            'leader', 'competitive', 'dominant', 'assertive', 'aggressive', 'ambitious',\n",
    "            'analytical', 'confident', 'decisive', 'determined', 'independent', 'objective',\n",
    "            'self-reliant', 'strong', 'superior', 'lead', 'manage', 'direct', 'control',\n",
    "            'drive', 'challenge', 'compete', 'win', 'achieve', 'dominate', 'excel',\n",
    "            'individual', 'autonomous', 'hierarchy', 'decision', 'responsibility'\n",
    "        ]\n",
    "        \n",
    "        self.feminine_words = [\n",
    "            'collaborative', 'cooperative', 'supportive', 'nurturing', 'empathetic',\n",
    "            'interpersonal', 'communicate', 'understand', 'responsible', 'connect',\n",
    "            'honest', 'loyal', 'dependable', 'committed', 'dedicated', 'support',\n",
    "            'help', 'assist', 'care', 'share', 'together', 'team', 'community',\n",
    "            'relationship', 'trust', 'warm', 'kind', 'inclusive', 'collaborate'\n",
    "        ]\n",
    "\n",
    "    def clean_text(self, text):\n",
    "        \"\"\"Clean and normalize text\"\"\"\n",
    "        if not text:\n",
    "            return \"\"\n",
    "        \n",
    "        # Remove extra whitespace and normalize\n",
    "        text = ' '.join(text.split())\n",
    "        # Remove special characters but keep basic punctuation\n",
    "        text = re.sub(r'[^\\w\\s\\.\\,\\!\\?\\;\\:\\-\\(\\)]', ' ', text)\n",
    "        # Remove multiple spaces\n",
    "        text = re.sub(r'\\s+', ' ', text)\n",
    "        return text.strip()\n",
    "\n",
    "    def extract_job_id(self, url):\n",
    "        \"\"\"Extract job ID from LinkedIn URL\"\"\"\n",
    "        try:\n",
    "            # Pattern for LinkedIn URLs: /jobs/view/12345678910/\n",
    "            match = re.search(r'/jobs/view/(\\d+)/?', url)\n",
    "            if match:\n",
    "                return match.group(1)\n",
    "            \n",
    "            # Alternative pattern with currentJobId parameter\n",
    "            match = re.search(r'currentJobId=(\\d+)', url)\n",
    "            if match:\n",
    "                return match.group(1)\n",
    "            \n",
    "            # Pattern for job posting URLs\n",
    "            match = re.search(r'/job-postings/(\\d+)', url)\n",
    "            if match:\n",
    "                return match.group(1)\n",
    "            \n",
    "            # Fallback to last numeric part of URL\n",
    "            numbers = re.findall(r'\\d+', url)\n",
    "            if numbers:\n",
    "                return numbers[-1]\n",
    "            \n",
    "            return \"manual_entry\"\n",
    "        except:\n",
    "            return \"manual_entry\"\n",
    "\n",
    "    def detect_remote_option(self, text):\n",
    "        \"\"\"Detect remote work options from text\"\"\"\n",
    "        if not text:\n",
    "            return \"Not specified\"\n",
    "        \n",
    "        text_lower = text.lower()\n",
    "        remote_keywords = [\n",
    "            'remote', 'work from home', 'telecommute', 'virtual', 'distributed',\n",
    "            'home-based', 'location independent', 'anywhere', 'flexible location',\n",
    "            'fully remote', '100% remote'\n",
    "        ]\n",
    "        hybrid_keywords = ['hybrid', 'flexible', 'part remote', 'some remote', 'flexible work']\n",
    "        \n",
    "        for keyword in remote_keywords:\n",
    "            if keyword in text_lower:\n",
    "                return \"Remote\"\n",
    "        \n",
    "        for keyword in hybrid_keywords:\n",
    "            if keyword in text_lower:\n",
    "                return \"Hybrid\"\n",
    "        \n",
    "        return \"On-site\"\n",
    "\n",
    "    def extract_salary_info(self, text):\n",
    "        \"\"\"Extract salary information from text\"\"\"\n",
    "        if not text:\n",
    "            return \"Not specified\"\n",
    "        \n",
    "        # Look for salary patterns\n",
    "        salary_patterns = [\n",
    "            # Range patterns\n",
    "            r'£\\s*(\\d{1,3}(?:,\\d{3})*(?:\\.\\d{2})?)\\s*(?:-|to)\\s*£?\\s*(\\d{1,3}(?:,\\d{3})*(?:\\.\\d{2})?)',\n",
    "            r'\\$\\s*(\\d{1,3}(?:,\\d{3})*(?:\\.\\d{2})?)\\s*(?:-|to)\\s*\\$?\\s*(\\d{1,3}(?:,\\d{3})*(?:\\.\\d{2})?)',\n",
    "            r'€\\s*(\\d{1,3}(?:,\\d{3})*(?:\\.\\d{2})?)\\s*(?:-|to)\\s*€?\\s*(\\d{1,3}(?:,\\d{3})*(?:\\.\\d{2})?)',\n",
    "            # Hourly rates\n",
    "            r'(\\d+(?:\\.\\d+)?)\\s*(?:-|to)\\s*(\\d+(?:\\.\\d+)?)\\s*(?:per hour|/hour|hourly)',\n",
    "            # Annual salaries\n",
    "            r'(\\d{1,3}(?:,\\d{3})*)\\s*(?:-|to)\\s*(\\d{1,3}(?:,\\d{3})*)\\s*(?:per year|annually|pa|p\\.a\\.)',\n",
    "            # Single values\n",
    "            r'£(\\d{1,3}(?:,\\d{3})*)', r'\\$(\\d{1,3}(?:,\\d{3})*)', r'€(\\d{1,3}(?:,\\d{3})*)',\n",
    "            r'(\\d{1,3}(?:,\\d{3})*)\\s*(?:per year|pa|p\\.a\\.)',\n",
    "            # LinkedIn specific patterns\n",
    "            r'(\\d+(?:,\\d+)?)\\s*k\\s*(?:-|to)\\s*(\\d+(?:,\\d+)?)\\s*k',\n",
    "            r'(\\d+(?:,\\d+)?)\\s*k\\s*(?:per year|annually)'\n",
    "        ]\n",
    "        \n",
    "        for pattern in salary_patterns:\n",
    "            match = re.search(pattern, text, re.IGNORECASE)\n",
    "            if match:\n",
    "                if len(match.groups()) >= 2:\n",
    "                    return f\"{match.group(1)} - {match.group(2)}\"\n",
    "                else:\n",
    "                    return match.group(1)\n",
    "        \n",
    "        return \"Not specified\"\n",
    "\n",
    "    def analyze_gendered_language(self, text):\n",
    "        \"\"\"Analyze gendered language in text\"\"\"\n",
    "        if not text:\n",
    "            return 0, 0, 0, []\n",
    "        \n",
    "        # Clean and tokenize text\n",
    "        text_lower = text.lower()\n",
    "        words = re.findall(r'\\b[a-z]+\\b', text_lower)\n",
    "        \n",
    "        masculine_count = sum(1 for word in words if word in self.masculine_words)\n",
    "        feminine_count = sum(1 for word in words if word in self.feminine_words)\n",
    "        \n",
    "        # Find gendered words present\n",
    "        gendered_words_found = []\n",
    "        for word in words:\n",
    "            if word in self.masculine_words:\n",
    "                gendered_words_found.append(f\"M:{word}\")\n",
    "            elif word in self.feminine_words:\n",
    "                gendered_words_found.append(f\"F:{word}\")\n",
    "        \n",
    "        total_words = len(words)\n",
    "        if total_words == 0:\n",
    "            return 0, 0, 0, gendered_words_found\n",
    "        \n",
    "        masculine_score = round((masculine_count / total_words) * 100, 2)\n",
    "        feminine_score = round((feminine_count / total_words) * 100, 2)\n",
    "        neutral_score = round(100 - masculine_score - feminine_score, 2)\n",
    "        \n",
    "        return masculine_score, feminine_score, neutral_score, gendered_words_found\n",
    "\n",
    "    def determine_job_level(self, title, description):\n",
    "        \"\"\"Determine job level from title and description\"\"\"\n",
    "        combined_text = f\"{title} {description}\".lower()\n",
    "        \n",
    "        executive_keywords = ['ceo', 'cto', 'cfo', 'coo', 'vp', 'vice president', 'president', 'executive']\n",
    "        senior_keywords = ['senior', 'lead', 'principal', 'head', 'director', 'manager', 'chief', 'sr.', 'sr ']\n",
    "        junior_keywords = ['junior', 'entry', 'graduate', 'intern', 'trainee', 'assistant', 'associate', 'jr.', 'jr ']\n",
    "        mid_keywords = ['mid', 'intermediate', 'specialist', 'analyst', 'coordinator', 'consultant']\n",
    "        \n",
    "        for keyword in executive_keywords:\n",
    "            if keyword in combined_text:\n",
    "                return \"Executive\"\n",
    "        \n",
    "        for keyword in senior_keywords:\n",
    "            if keyword in combined_text:\n",
    "                return \"Senior\"\n",
    "        \n",
    "        for keyword in junior_keywords:\n",
    "            if keyword in combined_text:\n",
    "                return \"Junior\"\n",
    "        \n",
    "        for keyword in mid_keywords:\n",
    "            if keyword in combined_text:\n",
    "                return \"Mid-level\"\n",
    "        \n",
    "        return \"Not specified\"\n",
    "\n",
    "    def extract_company_size(self, description):\n",
    "        \"\"\"Extract company size information\"\"\"\n",
    "        if not description:\n",
    "            return \"Not specified\"\n",
    "        \n",
    "        text_lower = description.lower()\n",
    "        \n",
    "        # Look for explicit employee count ranges\n",
    "        size_patterns = [\n",
    "            r'(\\d+(?:,\\d+)?)\\s*(?:-|to)\\s*(\\d+(?:,\\d+)?)\\s*employees',\n",
    "            r'(\\d+(?:,\\d+)?)\\+\\s*employees',\n",
    "            r'over\\s*(\\d+(?:,\\d+)?)\\s*employees',\n",
    "            r'more than\\s*(\\d+(?:,\\d+)?)\\s*employees'\n",
    "        ]\n",
    "        \n",
    "        for pattern in size_patterns:\n",
    "            match = re.search(pattern, text_lower)\n",
    "            if match:\n",
    "                return match.group(0)\n",
    "        \n",
    "        # Look for size descriptors\n",
    "        if any(word in text_lower for word in ['startup', 'small company', 'small business']):\n",
    "            return \"Small (1-50)\"\n",
    "        elif any(word in text_lower for word in ['medium company', 'mid-size']):\n",
    "            return \"Medium (51-500)\"\n",
    "        elif any(word in text_lower for word in ['large company', 'enterprise', 'multinational', 'fortune']):\n",
    "            return \"Large (500+)\"\n",
    "        \n",
    "        return \"Not specified\"\n",
    "\n",
    "    def extract_industry(self, title, description, company):\n",
    "        \"\"\"Extract industry information\"\"\"\n",
    "        combined_text = f\"{title} {description} {company}\".lower()\n",
    "        \n",
    "        # Technology\n",
    "        if any(word in combined_text for word in ['software', 'technology', 'tech', 'it', 'data science', 'ai', 'machine learning']):\n",
    "            return \"Technology\"\n",
    "        \n",
    "        # Finance\n",
    "        if any(word in combined_text for word in ['finance', 'banking', 'financial', 'investment', 'accounting']):\n",
    "            return \"Finance\"\n",
    "        \n",
    "        # Healthcare\n",
    "        if any(word in combined_text for word in ['healthcare', 'medical', 'pharmaceutical', 'biotech', 'clinical']):\n",
    "            return \"Healthcare\"\n",
    "        \n",
    "        # Consulting\n",
    "        if any(word in combined_text for word in ['consulting', 'advisory', 'strategy', 'management consulting']):\n",
    "            return \"Consulting\"\n",
    "        \n",
    "        # Marketing/Advertising\n",
    "        if any(word in combined_text for word in ['marketing', 'advertising', 'digital marketing', 'brand', 'social media']):\n",
    "            return \"Marketing/Advertising\"\n",
    "        \n",
    "        # Education\n",
    "        if any(word in combined_text for word in ['education', 'university', 'school', 'training', 'learning']):\n",
    "            return \"Education\"\n",
    "        \n",
    "        # Manufacturing\n",
    "        if any(word in combined_text for word in ['manufacturing', 'production', 'industrial', 'factory']):\n",
    "            return \"Manufacturing\"\n",
    "        \n",
    "        # Retail\n",
    "        if any(word in combined_text for word in ['retail', 'e-commerce', 'consumer', 'sales']):\n",
    "            return \"Retail\"\n",
    "        \n",
    "        return \"Not specified\"\n",
    "\n",
    "    def get_job_input(self, url):\n",
    "        \"\"\"Get job information through user input\"\"\"\n",
    "        print(\"\\n\" + \"=\"*60)\n",
    "        print(\"JOB DATA ENTRY - LINKEDIN\")\n",
    "        print(\"=\"*60)\n",
    "        print(f\"URL: {url}\")\n",
    "        print(\"-\"*60)\n",
    "        \n",
    "        # Get basic information\n",
    "        job_title = input(\"Job Title: \").strip()\n",
    "        company_name = input(\"Company Name: \").strip()\n",
    "        location = input(\"Location: \").strip()\n",
    "        \n",
    "        # Get LinkedIn-specific information\n",
    "        posting_date = input(\"Posting Date (optional): \").strip()\n",
    "        employment_type = input(\"Employment Type (e.g., Full-time, Part-time, Contract) (optional): \").strip()\n",
    "        experience_level = input(\"Experience Level (e.g., Entry level, Mid-senior) (optional): \").strip()\n",
    "        workplace_type = input(\"Workplace Type (e.g., On-site, Remote, Hybrid) (optional): \").strip()\n",
    "        salary_info = input(\"Salary Info (optional): \").strip()\n",
    "        \n",
    "        # Get job description\n",
    "        print(\"\\nJob Description:\")\n",
    "        print(\"(Paste the job description below. Press Enter twice when finished)\")\n",
    "        print(\"-\" * 40)\n",
    "        \n",
    "        description_lines = []\n",
    "        empty_line_count = 0\n",
    "        \n",
    "        while empty_line_count < 2:\n",
    "            try:\n",
    "                line = input()\n",
    "                if line.strip() == \"\":\n",
    "                    empty_line_count += 1\n",
    "                else:\n",
    "                    empty_line_count = 0\n",
    "                description_lines.append(line)\n",
    "            except EOFError:\n",
    "                break\n",
    "        \n",
    "        description = '\\n'.join(description_lines).strip()\n",
    "        \n",
    "        return {\n",
    "            'job_title': job_title,\n",
    "            'company_name': company_name,\n",
    "            'location': location,\n",
    "            'posting_date': posting_date,\n",
    "            'employment_type': employment_type,\n",
    "            'experience_level': experience_level,\n",
    "            'workplace_type': workplace_type,\n",
    "            'salary_info': salary_info,\n",
    "            'description': description\n",
    "        }\n",
    "\n",
    "    def process_job_data(self, input_data, url):\n",
    "        \"\"\"Process the manually entered job data\"\"\"\n",
    "        \n",
    "        # Clean the description\n",
    "        description_cleaned = self.clean_text(input_data['description'])\n",
    "        \n",
    "        # Create job data structure\n",
    "        job_data = {\n",
    "            'job_id': self.extract_job_id(url),\n",
    "            'platform': 'LinkedIn',\n",
    "            'job_url': url,\n",
    "            'scrape_date': datetime.now().strftime('%Y-%m-%d %H:%M:%S'),\n",
    "            'job_title': input_data['job_title'],\n",
    "            'company_name': input_data['company_name'],\n",
    "            'location': input_data['location'],\n",
    "            'remote_option': '',\n",
    "            'posting_date': input_data['posting_date'] or 'Not specified',\n",
    "            'employment_type': input_data['employment_type'] or 'Not specified',\n",
    "            'experience_level': input_data['experience_level'] or 'Not specified',\n",
    "            'workplace_type': input_data['workplace_type'] or 'Not specified',\n",
    "            'job_description_raw': input_data['description'],\n",
    "            'job_description_cleaned': description_cleaned,\n",
    "            'salary_info': '',\n",
    "            'industry': '',\n",
    "            'company_size': '',\n",
    "            'job_level': '',\n",
    "            'gendered_words_found': '',\n",
    "            'masculine_score': 0,\n",
    "            'feminine_score': 0,\n",
    "            'neutral_score': 0,\n",
    "            'seniority_flag': '',\n",
    "            'word_count': 0,\n",
    "            'manual_review_flag': False,\n",
    "            'ad_url': url\n",
    "        }\n",
    "        \n",
    "        # Process salary info\n",
    "        if input_data['salary_info']:\n",
    "            job_data['salary_info'] = input_data['salary_info']\n",
    "        else:\n",
    "            job_data['salary_info'] = self.extract_salary_info(description_cleaned)\n",
    "        \n",
    "        # Determine remote option (use workplace_type if provided, otherwise analyze text)\n",
    "        if input_data['workplace_type']:\n",
    "            job_data['remote_option'] = input_data['workplace_type']\n",
    "        else:\n",
    "            combined_text = f\"{job_data['job_title']} {job_data['location']} {description_cleaned}\"\n",
    "            job_data['remote_option'] = self.detect_remote_option(combined_text)\n",
    "        \n",
    "        # Determine job level\n",
    "        job_data['job_level'] = self.determine_job_level(job_data['job_title'], description_cleaned)\n",
    "        job_data['seniority_flag'] = job_data['job_level'] in [\"Senior\", \"Executive\"]\n",
    "        \n",
    "        # Determine industry\n",
    "        job_data['industry'] = self.extract_industry(\n",
    "            job_data['job_title'], description_cleaned, job_data['company_name']\n",
    "        )\n",
    "        \n",
    "        # Extract company size\n",
    "        job_data['company_size'] = self.extract_company_size(description_cleaned)\n",
    "        \n",
    "        # Analyze gendered language\n",
    "        masculine_score, feminine_score, neutral_score, gendered_words = self.analyze_gendered_language(description_cleaned)\n",
    "        \n",
    "        job_data['masculine_score'] = masculine_score\n",
    "        job_data['feminine_score'] = feminine_score\n",
    "        job_data['neutral_score'] = neutral_score\n",
    "        job_data['gendered_words_found'] = '; '.join(gendered_words) if gendered_words else ''\n",
    "        \n",
    "        # Word count\n",
    "        if description_cleaned:\n",
    "            job_data['word_count'] = len(description_cleaned.split())\n",
    "        \n",
    "        # Manual review flag\n",
    "        if (job_data['word_count'] < 20 or \n",
    "            not job_data['job_title'] or \n",
    "            not job_data['company_name']):\n",
    "            job_data['manual_review_flag'] = True\n",
    "        \n",
    "        return job_data\n",
    "\n",
    "    def save_to_excel(self, job_data, output_path, append_mode=False):\n",
    "        \"\"\"Save job data to Excel file\"\"\"\n",
    "        try:\n",
    "            # Ensure output directory exists\n",
    "            os.makedirs(os.path.dirname(output_path), exist_ok=True)\n",
    "            \n",
    "            # Create DataFrame\n",
    "            df_new = pd.DataFrame([job_data])\n",
    "            \n",
    "            if append_mode and os.path.exists(output_path):\n",
    "                # Read existing data and append\n",
    "                try:\n",
    "                    df_existing = pd.read_excel(output_path)\n",
    "                    df_combined = pd.concat([df_existing, df_new], ignore_index=True)\n",
    "                except:\n",
    "                    df_combined = df_new\n",
    "            else:\n",
    "                df_combined = df_new\n",
    "            \n",
    "            # Save to Excel\n",
    "            with pd.ExcelWriter(output_path, engine='openpyxl') as writer:\n",
    "                df_combined.to_excel(writer, sheet_name='Job_Data', index=False)\n",
    "            \n",
    "            print(f\"\\nData saved to: {output_path}\")\n",
    "            print(f\"Total jobs in file: {len(df_combined)}\")\n",
    "            return True\n",
    "            \n",
    "        except Exception as e:\n",
    "            print(f\"Error saving to Excel: {e}\")\n",
    "            return False\n",
    "\n",
    "def main():\n",
    "    \"\"\"Main function for manual job data entry\"\"\"\n",
    "    \n",
    "    # Configuration\n",
    "    OUTPUT_PATH = r\"C:\\Users\\HP\\OneDrive - University of Southampton\\Documents\\Dissertation Project - Marwa Ashfaq\\Codes\\linkedin_jobs_data.xlsx\"\n",
    "    \n",
    "    print(\"=\"*70)\n",
    "    print(\"LINKEDIN JOB DATA PROCESSOR - MANUAL ENTRY\")\n",
    "    print(\"=\"*70)\n",
    "    print(\"This tool helps you manually enter job data from LinkedIn and performs analysis.\")\n",
    "    print(\"You can process multiple jobs - the data will be appended to the Excel file.\")\n",
    "    print(\"=\"*70)\n",
    "    \n",
    "    processor = LinkedInJobProcessor()\n",
    "    \n",
    "    while True:\n",
    "        print(\"\\n\" + \"=\"*40)\n",
    "        print(\"NEW JOB ENTRY\")\n",
    "        print(\"=\"*40)\n",
    "        \n",
    "        # Get job URL\n",
    "        url = input(\"Enter LinkedIn job URL: \").strip()\n",
    "        if not url:\n",
    "            print(\"No URL provided. Exiting...\")\n",
    "            break\n",
    "        \n",
    "        # Get job data\n",
    "        input_data = processor.get_job_input(url)\n",
    "        \n",
    "        # Process the data\n",
    "        job_data = processor.process_job_data(input_data, url)\n",
    "        \n",
    "        # Display results\n",
    "        print(\"\\n\" + \"=\"*60)\n",
    "        print(\"PROCESSING RESULTS\")\n",
    "        print(\"=\"*60)\n",
    "        print(f\"Job Title: {job_data['job_title']}\")\n",
    "        print(f\"Company: {job_data['company_name']}\")\n",
    "        print(f\"Location: {job_data['location']}\")\n",
    "        print(f\"Remote Option: {job_data['remote_option']}\")\n",
    "        print(f\"Employment Type: {job_data['employment_type']}\")\n",
    "        print(f\"Experience Level: {job_data['experience_level']}\")\n",
    "        print(f\"Job Level: {job_data['job_level']}\")\n",
    "        print(f\"Industry: {job_data['industry']}\")\n",
    "        print(f\"Company Size: {job_data['company_size']}\")\n",
    "        print(f\"Salary Info: {job_data['salary_info']}\")\n",
    "        print(f\"Posting Date: {job_data['posting_date']}\")\n",
    "        print(f\"Word Count: {job_data['word_count']}\")\n",
    "        print(f\"Masculine Score: {job_data['masculine_score']}%\")\n",
    "        print(f\"Feminine Score: {job_data['feminine_score']}%\")\n",
    "        print(f\"Neutral Score: {job_data['neutral_score']}%\")\n",
    "        if job_data['gendered_words_found']:\n",
    "            print(f\"Gendered Words: {job_data['gendered_words_found']}\")\n",
    "        print(f\"Manual Review Flag: {job_data['manual_review_flag']}\")\n",
    "        \n",
    "        # Save to Excel\n",
    "        append_mode = os.path.exists(OUTPUT_PATH)\n",
    "        success = processor.save_to_excel(job_data, OUTPUT_PATH, append_mode)\n",
    "        \n",
    "        if success:\n",
    "            print(\"\\n✅ Job data saved successfully!\")\n",
    "        else:\n",
    "            print(\"\\n❌ Failed to save job data.\")\n",
    "        \n",
    "        # Ask if user wants to add another job\n",
    "        print(\"\\n\" + \"-\"*40)\n",
    "        continue_choice = input(\"Do you want to add another job? (y/n): \").strip().lower()\n",
    "        if continue_choice not in ['y', 'yes']:\n",
    "            break\n",
    "    \n",
    "    print(\"\\n\" + \"=\"*70)\n",
    "    print(\"SESSION COMPLETED\")\n",
    "    print(\"=\"*70)\n",
    "    print(f\"All job data has been saved to: {OUTPUT_PATH}\")\n",
    "    print(\"Thank you for using the LinkedIn Job Data Processor!\")\n",
    "\n",
    "if __name__ == \"__main__\":\n",
    "    main()"
   ]
  },
  {
   "cell_type": "code",
   "execution_count": null,
   "id": "03c674ca-b5a7-470e-a44e-1951816c5c0a",
   "metadata": {},
   "outputs": [],
   "source": []
  }
 ],
 "metadata": {
  "kernelspec": {
   "display_name": "Python 3 (ipykernel)",
   "language": "python",
   "name": "python3"
  },
  "language_info": {
   "codemirror_mode": {
    "name": "ipython",
    "version": 3
   },
   "file_extension": ".py",
   "mimetype": "text/x-python",
   "name": "python",
   "nbconvert_exporter": "python",
   "pygments_lexer": "ipython3",
   "version": "3.12.7"
  }
 },
 "nbformat": 4,
 "nbformat_minor": 5
}
