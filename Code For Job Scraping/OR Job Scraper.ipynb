{
 "cells": [
  {
   "cell_type": "code",
   "execution_count": 2,
   "id": "d09425fe-ba69-40fd-9453-51f95a07db93",
   "metadata": {},
   "outputs": [
    {
     "name": "stdout",
     "output_type": "stream",
     "text": [
      "Requirement already satisfied: pandas in c:\\users\\hp\\anaconda3\\lib\\site-packages (2.2.2)\n",
      "Requirement already satisfied: openpyxl in c:\\users\\hp\\anaconda3\\lib\\site-packages (3.1.5)\n",
      "Requirement already satisfied: numpy>=1.26.0 in c:\\users\\hp\\anaconda3\\lib\\site-packages (from pandas) (1.26.4)\n",
      "Requirement already satisfied: python-dateutil>=2.8.2 in c:\\users\\hp\\anaconda3\\lib\\site-packages (from pandas) (2.9.0.post0)\n",
      "Requirement already satisfied: pytz>=2020.1 in c:\\users\\hp\\anaconda3\\lib\\site-packages (from pandas) (2024.1)\n",
      "Requirement already satisfied: tzdata>=2022.7 in c:\\users\\hp\\anaconda3\\lib\\site-packages (from pandas) (2023.3)\n",
      "Requirement already satisfied: et-xmlfile in c:\\users\\hp\\anaconda3\\lib\\site-packages (from openpyxl) (1.1.0)\n",
      "Requirement already satisfied: six>=1.5 in c:\\users\\hp\\anaconda3\\lib\\site-packages (from python-dateutil>=2.8.2->pandas) (1.16.0)\n",
      "Note: you may need to restart the kernel to use updated packages.\n"
     ]
    }
   ],
   "source": [
    "pip install pandas openpyxl"
   ]
  },
  {
   "cell_type": "code",
   "execution_count": 2,
   "id": "44889966-01ef-4873-8f85-3e1f28f9f778",
   "metadata": {},
   "outputs": [
    {
     "name": "stdout",
     "output_type": "stream",
     "text": [
      "======================================================================\n",
      "OR SOCIETY JOB DATA PROCESSOR - MANUAL ENTRY\n",
      "======================================================================\n",
      "This tool helps you manually enter job data and performs analysis.\n",
      "You can process multiple jobs - the data will be appended to the Excel file.\n",
      "======================================================================\n",
      "\n",
      "========================================\n",
      "NEW JOB ENTRY\n",
      "========================================\n"
     ]
    },
    {
     "name": "stdin",
     "output_type": "stream",
     "text": [
      "Enter job URL:  https://theorsociety.careerwebsite.com/jobs/view/lead-data-scientist/f14adde5-5287058406/\n"
     ]
    },
    {
     "name": "stdout",
     "output_type": "stream",
     "text": [
      "\n",
      "============================================================\n",
      "JOB DATA ENTRY\n",
      "============================================================\n",
      "URL: https://theorsociety.careerwebsite.com/jobs/view/lead-data-scientist/f14adde5-5287058406/\n",
      "------------------------------------------------------------\n"
     ]
    },
    {
     "name": "stdin",
     "output_type": "stream",
     "text": [
      "Job Title:  Lead Data Scientist\n",
      "Company Name:  UCAS\n",
      "Location:  UK\n",
      "Posting Date (optional):  \n",
      "Salary Info (optional):  \n"
     ]
    },
    {
     "name": "stdout",
     "output_type": "stream",
     "text": [
      "\n",
      "Job Description:\n",
      "(Paste the job description below. Press Enter twice when finished)\n",
      "----------------------------------------\n"
     ]
    },
    {
     "name": "stdin",
     "output_type": "stream",
     "text": [
      " About UCAS UCAS is at the heart of connecting people to higher education.  UCAS is the world’s leading shared admissions service for higher education. We provide application services for UK universities and colleges as well as delivering a wide range of research, consultancy and advisory services to schools, colleges, careers services, professional bodies and employers.  We’re a successful and fast-growing organisation, which helps hundreds of thousands of people every year. We're committed to delivering a first-class service to all of our customers — they're at the heart of everything we do. Business Unit description   Business Unit description The Digital Services business unit is at the heart of UCAS’ technical innovation, data and infrastructure. It focuses on leveraging data science, technology, and enterprise architecture to enhance UCAS' digital products and services.   The unit is dedicated to developing and improving customer-centric digital solutions, ensuring seamless and secure online experiences for all users. By providing insightful data and analysis, often made available to anyone with free-to-use intuitive dashboard, Digital Services empowers the Higher Education sector and those interested in the sector with valuable information to make informed decisions. By working in collaborative, expert led, multi-disciplinary teams, Digital Services drives UCAS’ mission to connect students with their next opportunities through advanced technological solutions.  About the role Contractual Hours 35.00  About the role The Lead Data Scientist will be part of a team responsible for using critical thinking and data science techniques to support a wide range of customer outputs, including data product development, live data services, data consultancy, marketing optimisation, digital behaviour analysis and policy research. The Lead Data Scientist will leverage the power of statistical analysis and machine learning to maximise the value of UCAS’ data assets.  Led by the Principal Data Scientist you will support the delivery of products, services and analysis to time, cost, and quality. You will champion excellence and professionalism in Data Science and have the customer focus and curiosity to use data in new and exciting applications, while communicating this clearly externally and with a wider audience within the business.   This role is a 12 month fixed term contract.   Ky Accountabilities  Explore existing and new data sets and confidently use a range of appropriate techniques including data visualisation, statistical analysis, unsupervised and supervised machine learning, and an enquiring mindset to derive valuable insights with minimal supervision from data and communicate these effectively internally and externally. To deliver high value analytical products and services to time and quality, using your own initiative to prioritise and resource epics.    You can find the full job description in the attached role profile below.   Skills, qualifications, and experience Bachelor’s degree (or higher) in a numerate discipline, such as mathematics, statistics, computer science, operational research, data science, or a related field Good working knowledge of programming in Python and/or R (or equivalents) and the ability to write readable, efficient code. Can confidently apply coding standards and has an in-depth knowledge of version control methodology A collaborative nature and the ability to communicate effectively with both technical and non-technical audiences A natural curiosity and drive to find things out that really matter from data Commercially aware and user-focused A high level of numerate, analytical, and logical thinking Proven experience of developing, testing, and deploying statistical, numerical and/or machine-learning models Proven experience in using data science to deliver improved business outcomes Experience of data visualisation tools is desirable. Experience of coaching peers or junior members of staff Package Salary - up to - £47,000   30 days annual leave (plus 3 concessionary days over Christmas and your bank holidays Flexibility – UCAS positively supports Hybrid working for its employees, meaning you can work between home and the office in a way that suits you and the business and also has a comprehensive Flexible Working Policy A generous pension scheme Hundreds of high street discounts and offers with Perkbox Internal training and development Subsidised gym and cafe Be rewarded for going above and beyond with our ex-gratia bonus scheme and Celebrating U, our quarterly employee recognition scheme Dedicated volunteer employee networks promoting wellbeing, awareness and inclusion Working Arrangements Is fully remote working an option? No\n",
      " \n",
      " \n"
     ]
    },
    {
     "name": "stdout",
     "output_type": "stream",
     "text": [
      "\n",
      "============================================================\n",
      "PROCESSING RESULTS\n",
      "============================================================\n",
      "Job Title: Lead Data Scientist\n",
      "Company: UCAS\n",
      "Location: UK\n",
      "Remote Option: Remote\n",
      "Job Level: Senior\n",
      "Salary Info: Not specified\n",
      "Word Count: 692\n",
      "Masculine Score: 0.86%\n",
      "Feminine Score: 1.72%\n",
      "Neutral Score: 97.42%\n",
      "Gendered Words: F:committed; F:dedicated; F:collaborative; F:connect; M:lead; F:team; F:responsible; F:support; M:lead; F:support; F:communicate; M:analytical; M:control; F:collaborative; F:communicate; M:drive; M:analytical; F:dedicated\n",
      "Manual Review Flag: False\n",
      "\n",
      "Data saved to: C:\\Users\\HP\\OneDrive - University of Southampton\\Documents\\Dissertation Project - Marwa Ashfaq\\Codes\\or_society_jobs.xlsx\n",
      "Total jobs in file: 37\n",
      "\n",
      "✅ Job data saved successfully!\n",
      "\n",
      "----------------------------------------\n"
     ]
    },
    {
     "name": "stdin",
     "output_type": "stream",
     "text": [
      "Do you want to add another job? (y/n):  y\n"
     ]
    },
    {
     "name": "stdout",
     "output_type": "stream",
     "text": [
      "\n",
      "========================================\n",
      "NEW JOB ENTRY\n",
      "========================================\n"
     ]
    },
    {
     "name": "stdin",
     "output_type": "stream",
     "text": [
      "Enter job URL:  https://theorsociety.careerwebsite.com/jobs/view/technical-data-scientist/f14adde5-5296036456/\n"
     ]
    },
    {
     "name": "stdout",
     "output_type": "stream",
     "text": [
      "\n",
      "============================================================\n",
      "JOB DATA ENTRY\n",
      "============================================================\n",
      "URL: https://theorsociety.careerwebsite.com/jobs/view/technical-data-scientist/f14adde5-5296036456/\n",
      "------------------------------------------------------------\n"
     ]
    },
    {
     "name": "stdin",
     "output_type": "stream",
     "text": [
      "Job Title:  Technical Data Scientist\n",
      "Company Name:  Halian Technology Limited\n",
      "Location:  East Midlands, United Kingdom\n",
      "Posting Date (optional):  \n",
      "Salary Info (optional):  \n"
     ]
    },
    {
     "name": "stdout",
     "output_type": "stream",
     "text": [
      "\n",
      "Job Description:\n",
      "(Paste the job description below. Press Enter twice when finished)\n",
      "----------------------------------------\n"
     ]
    },
    {
     "name": "stdin",
     "output_type": "stream",
     "text": [
      " Exciting Opportunity: Technical Data Scientist Role in Hospitality Innovation & AI Halian International is looking for a Lead Data Scientist to join a dynamic digital team within the hospitality sector. This permanent position offers the chance to spearhead the data science roadmap, create advanced AI/ML solutions, and drive business value in a fast-paced, multi-brand environment. Key Responsibilities: - Drive the Data Science roadmap aligned with business objectives and digital strategy. - Develop predictive models and AI/ML decision engines for innovative solutions. - Optimize the data science environment for scalability and efficiency. - Ensure accuracy and effectiveness of deployed models. - Collaborate cross-functionally to integrate data science solutions. - Translate complex data outputs into actionable insights. - Mentor junior data scientists for quality delivery and professional growth. - Enhance data quality across digital platforms. Key Skills & Experience: - 5 years of data science experience in dynamic, multi-brand industries. - Proficiency in Python, SQL, and statistical modeling. - Adept in A/B testing, significance testing, and data visualization tools like Power BI or Looker. - Strong communication and stakeholder management capabilities. - Experience leading data science teams. - Knowledge of cloud platforms and modern data science environments is advantageous. Join us in this innovative organization with a rich history, where you can collaborate with diverse teams to provide transformative insights and elevate data capabilities.\n",
      " \n",
      " \n"
     ]
    },
    {
     "name": "stdout",
     "output_type": "stream",
     "text": [
      "\n",
      "============================================================\n",
      "PROCESSING RESULTS\n",
      "============================================================\n",
      "Job Title: Technical Data Scientist\n",
      "Company: Halian Technology Limited\n",
      "Location: East Midlands, United Kingdom\n",
      "Remote Option: On-site\n",
      "Job Level: Senior\n",
      "Salary Info: Not specified\n",
      "Word Count: 223\n",
      "Masculine Score: 2.36%\n",
      "Feminine Score: 1.42%\n",
      "Neutral Score: 96.22%\n",
      "Gendered Words: M:lead; F:team; M:drive; M:drive; M:decision; F:collaborate; M:strong; F:collaborate\n",
      "Manual Review Flag: False\n",
      "\n",
      "Data saved to: C:\\Users\\HP\\OneDrive - University of Southampton\\Documents\\Dissertation Project - Marwa Ashfaq\\Codes\\or_society_jobs.xlsx\n",
      "Total jobs in file: 38\n",
      "\n",
      "✅ Job data saved successfully!\n",
      "\n",
      "----------------------------------------\n"
     ]
    },
    {
     "name": "stdin",
     "output_type": "stream",
     "text": [
      "Do you want to add another job? (y/n):  y\n"
     ]
    },
    {
     "name": "stdout",
     "output_type": "stream",
     "text": [
      "\n",
      "========================================\n",
      "NEW JOB ENTRY\n",
      "========================================\n"
     ]
    },
    {
     "name": "stdin",
     "output_type": "stream",
     "text": [
      "Enter job URL:  https://theorsociety.careerwebsite.com/jobs/view/marketing-data-scientist-python-sql-azure/f14adde5-5302056518/\n"
     ]
    },
    {
     "name": "stdout",
     "output_type": "stream",
     "text": [
      "\n",
      "============================================================\n",
      "JOB DATA ENTRY\n",
      "============================================================\n",
      "URL: https://theorsociety.careerwebsite.com/jobs/view/marketing-data-scientist-python-sql-azure/f14adde5-5302056518/\n",
      "------------------------------------------------------------\n"
     ]
    },
    {
     "name": "stdin",
     "output_type": "stream",
     "text": [
      "Job Title:  Marketing Data Scientist (Python, SQL, AZURE)\n",
      "Company Name:  Salt\n",
      "Location:  London\n",
      "Posting Date (optional):  \n",
      "Salary Info (optional):  \n"
     ]
    },
    {
     "name": "stdout",
     "output_type": "stream",
     "text": [
      "\n",
      "Job Description:\n",
      "(Paste the job description below. Press Enter twice when finished)\n",
      "----------------------------------------\n"
     ]
    },
    {
     "name": "stdin",
     "output_type": "stream",
     "text": [
      " Hybrid (London-based)  Join a growing data science function driving transformation across several established consumer-focused businesses. This is a key opportunity for a Senior Data Scientist to specialise in Market...\n",
      " \n",
      " \n"
     ]
    },
    {
     "name": "stdout",
     "output_type": "stream",
     "text": [
      "\n",
      "============================================================\n",
      "PROCESSING RESULTS\n",
      "============================================================\n",
      "Job Title: Marketing Data Scientist (Python, SQL, AZURE)\n",
      "Company: Salt\n",
      "Location: London\n",
      "Remote Option: Hybrid\n",
      "Job Level: Senior\n",
      "Salary Info: Not specified\n",
      "Word Count: 29\n",
      "Masculine Score: 0.0%\n",
      "Feminine Score: 0.0%\n",
      "Neutral Score: 100.0%\n",
      "Manual Review Flag: False\n",
      "\n",
      "Data saved to: C:\\Users\\HP\\OneDrive - University of Southampton\\Documents\\Dissertation Project - Marwa Ashfaq\\Codes\\or_society_jobs.xlsx\n",
      "Total jobs in file: 39\n",
      "\n",
      "✅ Job data saved successfully!\n",
      "\n",
      "----------------------------------------\n"
     ]
    },
    {
     "name": "stdin",
     "output_type": "stream",
     "text": [
      "Do you want to add another job? (y/n):  y\n"
     ]
    },
    {
     "name": "stdout",
     "output_type": "stream",
     "text": [
      "\n",
      "========================================\n",
      "NEW JOB ENTRY\n",
      "========================================\n"
     ]
    },
    {
     "name": "stdin",
     "output_type": "stream",
     "text": [
      "Enter job URL:  https://theorsociety.careerwebsite.com/jobs/view/ai-ml-analyst/f14adde5-5249033279/?sort=position\n"
     ]
    },
    {
     "name": "stdout",
     "output_type": "stream",
     "text": [
      "\n",
      "============================================================\n",
      "JOB DATA ENTRY\n",
      "============================================================\n",
      "URL: https://theorsociety.careerwebsite.com/jobs/view/ai-ml-analyst/f14adde5-5249033279/?sort=position\n",
      "------------------------------------------------------------\n"
     ]
    },
    {
     "name": "stdin",
     "output_type": "stream",
     "text": [
      "Job Title:  AI & ML Analyst\n",
      "Company Name:  Intellect Group\n",
      "Location:  The City, Central London, United Kingdom\n",
      "Posting Date (optional):  \n",
      "Salary Info (optional):  \n"
     ]
    },
    {
     "name": "stdout",
     "output_type": "stream",
     "text": [
      "\n",
      "Job Description:\n",
      "(Paste the job description below. Press Enter twice when finished)\n",
      "----------------------------------------\n"
     ]
    },
    {
     "name": "stdin",
     "output_type": "stream",
     "text": [
      " Are you a curious and driven AI/ML enthusiast ready to transform commercial strategy with data science?    We’re looking for an AI/ML Analyst - Pricing & Commercial Strategy to join our dynamic team and play a pivotal role in shaping smarter pricing, deal governance, and business performance through cutting-edge machine learning.    In this hands-on role, you’ll develop models that drive pricing optimisation, margin forecasting, and deal scoring. Turning data into actionable insights for high-stakes commercial decisions. From regression and clustering to time series forecasting, you’ll apply advanced techniques to real-world datasets and see your work directly impact strategy.    Whether you're an early-career professional or bringing 2–4 years of experience, this is your chance to grow alongside a forward-thinking team that’s redefining how data powers business success.    What’s in it for you?  Impactful AI/ML Projects: Build models for pricing optimisation, customer segmentation, and deal prioritisation that drive real business outcomes. Cross-Functional Collaboration: Work with sales, finance, and pricing teams to translate models into tools and decision aids. Learning & Growth: Access to mentorship, structured data pipelines, and A/B testing for cutting-edge commercial applications. Innovation Culture: Be part of a team where data science meets strategy, experimentation, and fast-paced problem-solving.   What We’re Looking For:  2–4 years of experience in data science, machine learning, or commercial/pricing analytics. Proficiency in Python/R, SQL, and ML libraries (e.g., scikit-learn, TensorFlow, XGBoost). Experience with data visualisation tools (Tableau, Power BI) and statistical methods. Ability to communicate insights clearly to non-technical stakeholders. Passion for applying AI/ML to solve complex business challenges.   Nice to Have:  Exposure to B2B pricing models, SaaS optimisation, or CRM systems (e.g., Salesforce). Interest in finance, behavioural economics, or negotiation science.   If you’re excited to leverage AI/ML for strategic decision-making and want to see your work shape the future of commercial performance, we’d love to hear from you.    Apply now and help us turn data into competitive advantage!\n",
      " \n",
      " \n"
     ]
    },
    {
     "name": "stdout",
     "output_type": "stream",
     "text": [
      "\n",
      "============================================================\n",
      "PROCESSING RESULTS\n",
      "============================================================\n",
      "Job Title: AI & ML Analyst\n",
      "Company: Intellect Group\n",
      "Location: The City, Central London, United Kingdom\n",
      "Remote Option: On-site\n",
      "Job Level: Mid-level\n",
      "Salary Info: Not specified\n",
      "Word Count: 329\n",
      "Masculine Score: 1.48%\n",
      "Feminine Score: 1.48%\n",
      "Neutral Score: 97.04%\n",
      "Gendered Words: F:team; M:drive; F:team; M:drive; M:decision; F:team; F:communicate; M:decision; F:help; M:competitive\n",
      "Manual Review Flag: False\n",
      "\n",
      "Data saved to: C:\\Users\\HP\\OneDrive - University of Southampton\\Documents\\Dissertation Project - Marwa Ashfaq\\Codes\\or_society_jobs.xlsx\n",
      "Total jobs in file: 40\n",
      "\n",
      "✅ Job data saved successfully!\n",
      "\n",
      "----------------------------------------\n"
     ]
    },
    {
     "name": "stdin",
     "output_type": "stream",
     "text": [
      "Do you want to add another job? (y/n):  y\n"
     ]
    },
    {
     "name": "stdout",
     "output_type": "stream",
     "text": [
      "\n",
      "========================================\n",
      "NEW JOB ENTRY\n",
      "========================================\n"
     ]
    },
    {
     "name": "stdin",
     "output_type": "stream",
     "text": [
      "Enter job URL:  https://theorsociety.careerwebsite.com/jobs/view/scheduling-operations-analyst/f14adde5-5280825663/?sort=position\n"
     ]
    },
    {
     "name": "stdout",
     "output_type": "stream",
     "text": [
      "\n",
      "============================================================\n",
      "JOB DATA ENTRY\n",
      "============================================================\n",
      "URL: https://theorsociety.careerwebsite.com/jobs/view/scheduling-operations-analyst/f14adde5-5280825663/?sort=position\n",
      "------------------------------------------------------------\n"
     ]
    },
    {
     "name": "stdin",
     "output_type": "stream",
     "text": [
      "Job Title:  Scheduling & Operations Analyst\n",
      "Company Name:  Habitat Energy\n",
      "Location:  Oxford, Oxfordshire, United Kingdom\n",
      "Posting Date (optional):  \n",
      "Salary Info (optional):  \n"
     ]
    },
    {
     "name": "stdout",
     "output_type": "stream",
     "text": [
      "\n",
      "Job Description:\n",
      "(Paste the job description below. Press Enter twice when finished)\n",
      "----------------------------------------\n"
     ]
    },
    {
     "name": "stdin",
     "output_type": "stream",
     "text": [
      " Habitat Energy is a fast growing technology company focussed on the trading and algorithmic optimisation of energy storage and renewable assets around the world. Our mission is to deliver outstanding returns to our clients to increase the attractiveness of renewable energy globally and support the transition to a clean energy future. Our rapidly growing team of 100+ people in Austin, TX, Oxford, UK, and Melbourne, Australia brings together exceptionally talented and passionate people in the domains of energy trading, data science, software engineering and renewable energy management.  We have a vacancy for a Scheduling & Operations Analyst to join our team based in Oxford. This role will assist our 24/7 trading team with the day to day optimisation of our portfolio of battery storage assets across wholesale, balancing and ancillary markets. The Scheduling and Operations Analyst will provide in and out of hours cover to assist with monitoring of our live assets, and ensuring any issues are communicated and raised with relevant parties. This role also includes an element of trade support and confirmation checking with relevant trade counterparties.  Your Responsibilities Will Include  Live Operations:  Monitoring of live energy storage and renewable assets both during normal office hours and out of hours as part of a shift rota. Respond to any asset issues that occur in a timely manner as per issue escalation policies.  Trading And Optimisation Support  Ensuring planned asset dispatch is delivered as per the traders instructions. Assist traders and the technology team with asset outage planning and testing Ensuring correct and accurate nomination of traded positions with our trading counterparts.  Asset Planning And Reporting  Ensure asset warranty conditions are tracked and managed effectively. Ensuring clients and customers are kept informed on asset conditions, and auditing delivery against our requirements.  Performance Monitoring, Reporting And Analysis  Responsible for performing analysis on operational and commercial data. Updating internal databases with trading related information. Generation of incident reports and engagement with internal technology teams to ensure issues are reported and tracked.  ‘Must Have’ Skills And Experience  Ability to multitask and retain excellent attention to detail Good written and verbal communication skills Must be able to operate independently and be happy to work in an office environment on a shift rotation Decisive and able to use own initiative in dealing with operational problems Familiarity with MS Excel  Extra Credit If You Can Demonstrate  A highly self-motivated attitude An analytical background Strong critical thinking ability  Ultimately we are looking for someone who is a great fit for our company so we encourage you to apply even if you may not meet every requirement in this posting. We value diversity and our environment is supportive, challenging and focused on the consistent delivery of high quality, meaningful work.  In return, we’ll give you a competitive salary and a lot of personal development opportunities. This role works to shift patterns that may include some weekends and night shifts.  When you apply for a job with us, we process some of your personal information. You can find out more about how we process your information in our candidate privacy policy, here.\n",
      " \n",
      " \n"
     ]
    },
    {
     "name": "stdout",
     "output_type": "stream",
     "text": [
      "\n",
      "============================================================\n",
      "PROCESSING RESULTS\n",
      "============================================================\n",
      "Job Title: Scheduling & Operations Analyst\n",
      "Company: Habitat Energy\n",
      "Location: Oxford, Oxfordshire, United Kingdom\n",
      "Remote Option: On-site\n",
      "Job Level: Junior\n",
      "Salary Info: Not specified\n",
      "Word Count: 515\n",
      "Masculine Score: 0.97%\n",
      "Feminine Score: 2.53%\n",
      "Neutral Score: 96.5%\n",
      "Gendered Words: F:support; F:team; F:together; F:team; F:assist; F:team; F:assist; F:support; F:support; F:assist; F:team; F:responsible; M:decisive; M:excel; M:analytical; M:strong; F:supportive; M:competitive\n",
      "Manual Review Flag: False\n",
      "\n",
      "Data saved to: C:\\Users\\HP\\OneDrive - University of Southampton\\Documents\\Dissertation Project - Marwa Ashfaq\\Codes\\or_society_jobs.xlsx\n",
      "Total jobs in file: 41\n",
      "\n",
      "✅ Job data saved successfully!\n",
      "\n",
      "----------------------------------------\n"
     ]
    },
    {
     "name": "stdin",
     "output_type": "stream",
     "text": [
      "Do you want to add another job? (y/n):  y\n"
     ]
    },
    {
     "name": "stdout",
     "output_type": "stream",
     "text": [
      "\n",
      "========================================\n",
      "NEW JOB ENTRY\n",
      "========================================\n"
     ]
    },
    {
     "name": "stdin",
     "output_type": "stream",
     "text": [
      "Enter job URL:  https://theorsociety.careerwebsite.com/jobs/view/product-data-scientist-education-data-insights/f14adde5-5295887626/?sort=position\n"
     ]
    },
    {
     "name": "stdout",
     "output_type": "stream",
     "text": [
      "\n",
      "============================================================\n",
      "JOB DATA ENTRY\n",
      "============================================================\n",
      "URL: https://theorsociety.careerwebsite.com/jobs/view/product-data-scientist-education-data-insights/f14adde5-5295887626/?sort=position\n",
      "------------------------------------------------------------\n"
     ]
    },
    {
     "name": "stdin",
     "output_type": "stream",
     "text": [
      "Job Title:  Product Data Scientist, Education Data Insights\n",
      "Company Name:  Google\n",
      "Location:  UK\n",
      "Posting Date (optional):  \n",
      "Salary Info (optional):  \n"
     ]
    },
    {
     "name": "stdout",
     "output_type": "stream",
     "text": [
      "\n",
      "Job Description:\n",
      "(Paste the job description below. Press Enter twice when finished)\n",
      "----------------------------------------\n"
     ]
    },
    {
     "name": "stdin",
     "output_type": "stream",
     "text": [
      " Bachelor's degree in Statistics, Mathematics, Data Science, Engineering, Physics, Economics, or a related quantitative field, or equivalent practical experience. 8 years of experience with analysis applications (e.g., extracting insights, performing statistical analysis, or solving business problems), and coding (e.g., Python, R, SQL).  Preferred qualifications:  Master's degree. Experience with experimental design, training, data analysis, survey design, and statistical modeling. Experience in strategic analysis or operations management support (e.g., consulting, management reporting, Six Sigma certification). Ability to apply statistical training to real-world data. Ability to complete projects separately and work with cross-functional teams in a dynamic fast-paced environment. Excellent problem-solving and critical thinking skills.  About The Job  The Education Data Insights team plays a fundamental role in the success of Google for Education by providing deep understanding of our business and product performance, and developing insights to help drive strategic decisions.  As a Product Data Scientist on the team, you will work closely with Product and Engineering teams throughout the entire development process to help build exceptional products enjoyed by users globally. You will conduct proactive analyses to identify and size new opportunities and perform thorough research to better understand user behavior and how users engage with our products. You will research, develop, and validate metrics to define what success looks like. You'll design and analyze experiments to measure the causal effects of product changes and democratize data access through developing dashboards and accurate reporting. You will help shape new product experiences and develop innovative ways to evaluate the quality of the content and the user experience.  Responsibilities  Define, own, and refine product success metrics. Work with Product Management, UX, and Engineering to develop a comprehensive metric framework that ties to business uplift. Report, track, and rationalize key metrics and make recommendations to improve them. Identify critical product functionalities and assess their business impact. Collaborate with Engineering teams to identify and address instrumentation gaps, ensuring accurate data collection for key functionalities, with a focus on business-generating customer journeys. Partner with Product, Engineering, and cross-functional teams to influence, prioritize, and support product strategy. Apply technical expertise with observational data analysis to address critical business questions. Deliver effective presentations of data-driven insights and recommendations to multiple levels of stakeholders.  Google is proud to be an equal opportunity workplace and is an affirmative action employer. We are committed to equal employment opportunity regardless of race, color, ancestry, religion, sex, national origin, sexual orientation, age, citizenship, marital status, disability, gender identity or Veteran status. We also consider qualified applicants regardless of criminal histories, consistent with legal requirements. See also Google's EEO Policy and EEO is the Law. If you have a disability or special need that requires accommodation, please let us know by completing our Accommodations for Applicants form . ]]>\n",
      " \n",
      " \n"
     ]
    },
    {
     "name": "stdout",
     "output_type": "stream",
     "text": [
      "\n",
      "============================================================\n",
      "PROCESSING RESULTS\n",
      "============================================================\n",
      "Job Title: Product Data Scientist, Education Data Insights\n",
      "Company: Google\n",
      "Location: UK\n",
      "Remote Option: On-site\n",
      "Job Level: Not specified\n",
      "Salary Info: Not specified\n",
      "Word Count: 458\n",
      "Masculine Score: 0.21%\n",
      "Feminine Score: 2.15%\n",
      "Neutral Score: 97.64%\n",
      "Gendered Words: F:support; F:team; F:help; M:drive; F:team; F:help; F:understand; F:help; F:collaborate; F:support; F:committed\n",
      "Manual Review Flag: False\n",
      "\n",
      "Data saved to: C:\\Users\\HP\\OneDrive - University of Southampton\\Documents\\Dissertation Project - Marwa Ashfaq\\Codes\\or_society_jobs.xlsx\n",
      "Total jobs in file: 42\n",
      "\n",
      "✅ Job data saved successfully!\n",
      "\n",
      "----------------------------------------\n"
     ]
    },
    {
     "name": "stdin",
     "output_type": "stream",
     "text": [
      "Do you want to add another job? (y/n):  Y\n"
     ]
    },
    {
     "name": "stdout",
     "output_type": "stream",
     "text": [
      "\n",
      "========================================\n",
      "NEW JOB ENTRY\n",
      "========================================\n"
     ]
    },
    {
     "name": "stdin",
     "output_type": "stream",
     "text": [
      "Enter job URL:  https://theorsociety.careerwebsite.com/jobs/view/research-assistant-fixed-term/f14adde5-5257789576/?sort=position\n"
     ]
    },
    {
     "name": "stdout",
     "output_type": "stream",
     "text": [
      "\n",
      "============================================================\n",
      "JOB DATA ENTRY\n",
      "============================================================\n",
      "URL: https://theorsociety.careerwebsite.com/jobs/view/research-assistant-fixed-term/f14adde5-5257789576/?sort=position\n",
      "------------------------------------------------------------\n"
     ]
    },
    {
     "name": "stdin",
     "output_type": "stream",
     "text": [
      "Job Title:  Research Assistant (Fixed Term)\n",
      "Company Name:  University of Cambridge\n",
      "Location:  Cambridgeshire,UK\n",
      "Posting Date (optional):  \n",
      "Salary Info (optional):  \n"
     ]
    },
    {
     "name": "stdout",
     "output_type": "stream",
     "text": [
      "\n",
      "Job Description:\n",
      "(Paste the job description below. Press Enter twice when finished)\n",
      "----------------------------------------\n"
     ]
    },
    {
     "name": "stdin",
     "output_type": "stream",
     "text": [
      " The Mitchell Group at the Cambridge Early Cancer Institute is seeking a highly motivated and skilled Research Assistant with a background in computational biology to join their team specialising in kidney cancer research. This is an exciting opportunity to contribute to a large-scale, collaborative project investigating the genomic evolution of kidney cancer, using a uniquely rich cohort of patient samples and data. The project integrates whole-genome sequencing, transcriptomics, epigenetic profiling, and clinical information to uncover the key molecular drivers that underpin tumour progression and therapeutic response.  The successful candidate will play a central role in the group's research efforts, taking responsibility for the curation, analysis, and integration of complex, large-scale genomic datasets. This includes the processing and quality control of whole-genome sequencing data, methylation data, and RNA-sequencing data, as well as the development and application of computational methods to derive meaningful biological insights. The role also involves generating clear and informative data visualisations and contributing to discussions and decision-making within the wider research team. The ability to maintain well-documented, reproducible analysis pipelines is essential, as is a commitment to open, collaborative science.  Applicants should hold a Master's degree or equivalent in Computational Biology, Bioinformatics, Genomics, Data Science, Biostatistics, or a related field. They should have experience analysing high-throughput sequencing data, particularly whole-genome sequencing, methylation, and/or RNA-seq. Proficiency in programming languages commonly used in genomics, such as Python and/or R, along with familiarity with Bash scripting, is essential. The ideal candidate will demonstrate not only strong technical skills but also a genuine enthusiasm for applying computational approaches to pressing questions in cancer biology. Prior experience in multi-omics data integration is highly desirable. This role offers opportunities for professional development, including access to specialised training in cancer genomics and bioinformatics.  Please review the Further Particulars in full before submitting an application.  Please ensure that you upload a covering letter and CV in the Upload section of the online application. The covering letter should outline how you match the criteria for the post and why you are applying for this role. If you upload any additional documents which have not been requested, we will not be able to consider these as part of your application.  Please include details of your referees, including email address and phone number, one of which must be your most recent line manager.  The closing date for applications is 16 July 2025  The University actively supports equality, diversity and inclusion and encourages applications from all sections of society.  The University has a responsibility to ensure that all employees are eligible to live and work in the UK.  Fixed-term: The funds for this post are available for 2 years in the first instance.  Once an offer of employment has been accepted, the successful candidate will be required to undergo a health assessment.  Click the 'Apply' button below to register an account with our recruitment system (if you have not already) and apply online.  Please ensure that you upload a covering letter and CV in the Upload section of the online application. The covering letter should outline how you match the criteria for the post and why you are applying for this role. If you upload any additional documents which have not been requested, we will not be able to consider these as part of your application.  Please include details of your referees, including email address and phone number, one of which must be your most recent line manager.  Please quote reference RE46358 on your application and in any correspondence about this vacancy.  The University actively supports equality, diversity and inclusion and encourages applications from all sections of society.  The University has a responsibility to ensure that all employees are eligible to live and work in the UK.  Further information Further Particulars (RE46358) Apply online\n",
      " \n",
      " \n"
     ]
    },
    {
     "name": "stdout",
     "output_type": "stream",
     "text": [
      "\n",
      "============================================================\n",
      "PROCESSING RESULTS\n",
      "============================================================\n",
      "Job Title: Research Assistant (Fixed Term)\n",
      "Company: University of Cambridge\n",
      "Location: Cambridgeshire,UK\n",
      "Remote Option: On-site\n",
      "Job Level: Senior\n",
      "Salary Info: Not specified\n",
      "Word Count: 628\n",
      "Masculine Score: 0.94%\n",
      "Feminine Score: 0.63%\n",
      "Neutral Score: 98.43%\n",
      "Gendered Words: F:team; F:collaborative; M:responsibility; M:control; M:decision; F:team; F:collaborative; M:strong; M:responsibility; M:responsibility\n",
      "Manual Review Flag: False\n",
      "\n",
      "Data saved to: C:\\Users\\HP\\OneDrive - University of Southampton\\Documents\\Dissertation Project - Marwa Ashfaq\\Codes\\or_society_jobs.xlsx\n",
      "Total jobs in file: 43\n",
      "\n",
      "✅ Job data saved successfully!\n",
      "\n",
      "----------------------------------------\n"
     ]
    },
    {
     "name": "stdin",
     "output_type": "stream",
     "text": [
      "Do you want to add another job? (y/n):  Y\n"
     ]
    },
    {
     "name": "stdout",
     "output_type": "stream",
     "text": [
      "\n",
      "========================================\n",
      "NEW JOB ENTRY\n",
      "========================================\n"
     ]
    },
    {
     "name": "stdin",
     "output_type": "stream",
     "text": [
      "Enter job URL:  https://theorsociety.careerwebsite.com/jobs/view/research-scientist-knowledge-semantics/f14adde5-5293969657/?sort=position\n"
     ]
    },
    {
     "name": "stdout",
     "output_type": "stream",
     "text": [
      "\n",
      "============================================================\n",
      "JOB DATA ENTRY\n",
      "============================================================\n",
      "URL: https://theorsociety.careerwebsite.com/jobs/view/research-scientist-knowledge-semantics/f14adde5-5293969657/?sort=position\n",
      "------------------------------------------------------------\n"
     ]
    },
    {
     "name": "stdin",
     "output_type": "stream",
     "text": [
      "Job Title:  Research Scientist - Knowledge & Semantics\n",
      "Company Name:  Anson Mccade\n",
      "Location:  Chelmsford, Essex, United Kingdom\n",
      "Posting Date (optional):  \n",
      "Salary Info (optional):  \n"
     ]
    },
    {
     "name": "stdout",
     "output_type": "stream",
     "text": [
      "\n",
      "Job Description:\n",
      "(Paste the job description below. Press Enter twice when finished)\n",
      "----------------------------------------\n"
     ]
    },
    {
     "name": "stdin",
     "output_type": "stream",
     "text": [
      " Research Scientist - Knowledge & Semantics £70000 GBP Hybrid WORKING Location: Chelmsford, East of England - United Kingdom Type: Permanent  Research Scientist - Knowledge & Semantics Location: Chelmsford | Hybrid (2 days onsite) | Salary ~£70,000 + 10% bonus | SC Clearable  A specialist technology consultancy is seeking a Research Scientist - Knowledge & Semantics to lead a small team of experts exploring cutting-edge AI solutions across knowledge representation, NLP, LLMs, and graph-based machine learning. The organisation plays a pivotal role in delivering advanced research for secure government and national security clients, often operating at the intersection of AI, autonomy, cyber, and complex systems.  About the Opportunity You'll head up a 4-person Knowledge & Semantics research group within a wider AI & Machine Learning capability (35+ scientists and engineers) that works across domains such as reinforcement learning, computer vision, signal processing, geospatial data, and applied machine intelligence.  This is a hands-on research leadership role where you'll guide technical direction, shape R&D proposals, and deliver demonstrators and publications. You'll also be involved in collaborating with top-tier academic institutions and SMEs on mission-led innovation in data and decision support systems.  Key Responsibilities Drive applied and novel research in knowledge representation, semantics, and graph-based ML Lead the delivery of technical reports, research proposals, and PoC demonstrators Mentor junior researchers and manage technical delivery across projects Present findings to both technical and non-technical audiences Engage with external collaborators, including academia and innovation partners About You PhD (ideally in AI, Machine Learning, Computer Science, or related field) + 4+ years post-doctoral or industry R&D experience Strong experience leading small R&D teams (ideally 5+ people) Demonstrated success in writing and winning technical research proposals (especially within Defence or public sector R&D environments) Advanced skills in Python and ML frameworks (TensorFlow, PyTorch) Deep experience in one or more of the following: Knowledge graphs & graph ML (e.g. PyTorch-Geometric, Neo4j) NLP and information extraction (transformer-based models desirable) Semantic reasoning, ontology development, or LLM-based applications Experience with Cypher, SQL, or similar query languages is desirable Eligible for SC clearance (UK EYES ONLY); eligibility for DV/UKIC clearance is a plus Why Apply? This is an opportunity to lead high-impact research that supports the UK's national capability in data science and AI. You'll work in a collaborative, cross-disciplinary setting-where innovation is actively funded and your contributions can directly influence the next generation of AI-powered tools for decision making and intelligence support.  Hybrid working is offered, with typically 2 days onsite in Chelmsford. You'll join a forward-thinking team of researchers operating at the forefront of secure, applied AI.  Interested? Apply now or reach out for a confidential conversation. This is a rare chance to lead next-gen AI research in an environment where your ideas will directly contribute to national innovation.  For further information, feel free to reach me at 02895213213, or simply apply!  Reference: AMC/RKI\n",
      " \n",
      " \n"
     ]
    },
    {
     "name": "stdout",
     "output_type": "stream",
     "text": [
      "\n",
      "============================================================\n",
      "PROCESSING RESULTS\n",
      "============================================================\n",
      "Job Title: Research Scientist - Knowledge & Semantics\n",
      "Company: Anson Mccade\n",
      "Location: Chelmsford, Essex, United Kingdom\n",
      "Remote Option: Hybrid\n",
      "Job Level: Senior\n",
      "Salary Info: Not specified\n",
      "Word Count: 474\n",
      "Masculine Score: 1.88%\n",
      "Feminine Score: 1.05%\n",
      "Neutral Score: 97.07%\n",
      "Gendered Words: M:lead; F:team; M:decision; F:support; M:drive; M:lead; M:manage; M:strong; M:lead; F:collaborative; M:decision; F:support; F:team; M:lead\n",
      "Manual Review Flag: False\n",
      "\n",
      "Data saved to: C:\\Users\\HP\\OneDrive - University of Southampton\\Documents\\Dissertation Project - Marwa Ashfaq\\Codes\\or_society_jobs.xlsx\n",
      "Total jobs in file: 44\n",
      "\n",
      "✅ Job data saved successfully!\n",
      "\n",
      "----------------------------------------\n"
     ]
    },
    {
     "name": "stdin",
     "output_type": "stream",
     "text": [
      "Do you want to add another job? (y/n):  Y\n"
     ]
    },
    {
     "name": "stdout",
     "output_type": "stream",
     "text": [
      "\n",
      "========================================\n",
      "NEW JOB ENTRY\n",
      "========================================\n"
     ]
    },
    {
     "name": "stdin",
     "output_type": "stream",
     "text": [
      "Enter job URL:  https://theorsociety.careerwebsite.com/jobs/view/scientistsenior-scientist-technical-operations/f14adde5-5287058490/?sort=position\n"
     ]
    },
    {
     "name": "stdout",
     "output_type": "stream",
     "text": [
      "\n",
      "============================================================\n",
      "JOB DATA ENTRY\n",
      "============================================================\n",
      "URL: https://theorsociety.careerwebsite.com/jobs/view/scientistsenior-scientist-technical-operations/f14adde5-5287058490/?sort=position\n",
      "------------------------------------------------------------\n"
     ]
    },
    {
     "name": "stdin",
     "output_type": "stream",
     "text": [
      "Job Title:  Scientist/Senior Scientist - Technical Operations\n",
      "Company Name:  Chemify\n",
      "Location:  UK\n",
      "Posting Date (optional):  \n",
      "Salary Info (optional):  \n"
     ]
    },
    {
     "name": "stdout",
     "output_type": "stream",
     "text": [
      "\n",
      "Job Description:\n",
      "(Paste the job description below. Press Enter twice when finished)\n",
      "----------------------------------------\n"
     ]
    },
    {
     "name": "stdin",
     "output_type": "stream",
     "text": [
      " Chemify is creating a future where important molecules, drugs and currently unimaginable new materials are instantly accessible; thereby radically increasing the speed of innovation, quality of life, and reach of humanity. The company is building the infrastructure to digitize chemistry for the design, discovery and synthesis of new molecules with the desired function and properties instantly and on-demand. Chemify has built a platform that combines purpose-built programming languages, robotics, AI, and the world’s largest and continuously growing database of chemical programs to accelerate chemical discovery to new, transformative heights.  Chemify is supported by some of the best investors from Silicon Valley and across the world, including Triatomic Capital, BlueYard ventures, DCVC, Founders Fund, and others.  Job Purpose  Reporting to the Process Engineering Manager, the Scientist/Senior Scientist will support the Reaction Class Expansion and Reaction Class Validation projects in efficiently executing strategic research and development experiments. The Scientist/Senior Scientist’s main task is to utilise Chemify’s Platform to create and maintain an industry-leading data set of reaction processes, conditions and results for the broadest possible range of chemical space. To use data to identify need for new functionality, to ensure high-quality, reproducible, high-throughput and safe chemical manufacturing.  The Scientist/Senior Scientist will be exposed to and learn to operate a breadth of cutting-edge technologies in collaboration with a multi-disciplinary team.  The ideal candidate will be a smart, enthusiastic, energetic, and ambitious individual excited to wear many hats and contribute to the overall success of the company in a variety of capacity as the needs evolve.  Key Responsibilities  Plan and oversee research experiments on Chemify’s automated chemistry platform, both gram-scale and high-throughput Review analytical data, identify trends, summarise findings and plan next steps Work with colleagues in Software to identify new tools required to enable workflow Work with colleagues in Hardware to specify highest priority improvements to enable more automated chemistry Create new process and draft training procedures as appropriate Collaboration with multi-disciplinary team to solve complex technical problems Qualifications and Experience  Degree (BSc or MSc) in Chemistry PhD in Chemistry or equivalent (3-4 years) industrial experience 2+ years post-doctoral or industrial experience (ideally Medicinal Chemistry) Strong synthetic organic background Ability to think abstractly about chemical reactions and processes Encyclopaedic knowledge of reaction mechanisms and conditions Data interpretation skills (NMR, UPLC-MS) Familiarity with common chemical industry software tools (ChemDraw, MestreNova, Reaxys etc.) Oral and written communication skills (English fluency) Desirable: any experience with DoE, Data science, Python Desirable: any background in automation Desirable: any experience in process engineering ​  Location  This role will be based at the company’s new manufacturing site at OakBank Industrial Estate, Garscube Road, Glasgow, G20 7LU.  It is anticipated that a period of initial training will take place at the company’s headquarters in the Advanced Research Centre, 11 Chapel Lane, Glasgow, G11 6EW.\n",
      " \n",
      " \n"
     ]
    },
    {
     "name": "stdout",
     "output_type": "stream",
     "text": [
      "\n",
      "============================================================\n",
      "PROCESSING RESULTS\n",
      "============================================================\n",
      "Job Title: Scientist/Senior Scientist - Technical Operations\n",
      "Company: Chemify\n",
      "Location: UK\n",
      "Remote Option: On-site\n",
      "Job Level: Senior\n",
      "Salary Info: Not specified\n",
      "Word Count: 471\n",
      "Masculine Score: 0.84%\n",
      "Feminine Score: 0.63%\n",
      "Neutral Score: 98.53%\n",
      "Gendered Words: F:support; F:team; M:ambitious; M:individual; M:analytical; F:team; M:strong\n",
      "Manual Review Flag: False\n",
      "\n",
      "Data saved to: C:\\Users\\HP\\OneDrive - University of Southampton\\Documents\\Dissertation Project - Marwa Ashfaq\\Codes\\or_society_jobs.xlsx\n",
      "Total jobs in file: 45\n",
      "\n",
      "✅ Job data saved successfully!\n",
      "\n",
      "----------------------------------------\n"
     ]
    },
    {
     "name": "stdin",
     "output_type": "stream",
     "text": [
      "Do you want to add another job? (y/n):  Y\n"
     ]
    },
    {
     "name": "stdout",
     "output_type": "stream",
     "text": [
      "\n",
      "========================================\n",
      "NEW JOB ENTRY\n",
      "========================================\n"
     ]
    },
    {
     "name": "stdin",
     "output_type": "stream",
     "text": [
      "Enter job URL:  https://theorsociety.careerwebsite.com/jobs/view/sector-analyst-proprietary-research/f14adde5-5283943043/?sort=position\n"
     ]
    },
    {
     "name": "stdout",
     "output_type": "stream",
     "text": [
      "\n",
      "============================================================\n",
      "JOB DATA ENTRY\n",
      "============================================================\n",
      "URL: https://theorsociety.careerwebsite.com/jobs/view/sector-analyst-proprietary-research/f14adde5-5283943043/?sort=position\n",
      "------------------------------------------------------------\n"
     ]
    },
    {
     "name": "stdin",
     "output_type": "stream",
     "text": [
      "Job Title:  Sector Analyst, Proprietary Research\n",
      "Company Name:  Point72\n",
      "Location:  London\n",
      "Posting Date (optional):  \n",
      "Salary Info (optional):  \n"
     ]
    },
    {
     "name": "stdout",
     "output_type": "stream",
     "text": [
      "\n",
      "Job Description:\n",
      "(Paste the job description below. Press Enter twice when finished)\n",
      "----------------------------------------\n"
     ]
    },
    {
     "name": "stdin",
     "output_type": "stream",
     "text": [
      " On our proprietary research team—Market Intelligence— you will uncover insights about companies, industries, and the broader economy through deep compliant fundamental research and applying data science and engineering techniques to alternative data sets. In partnership with our investment professionals and Compliance team, our team of analysts, data scientists and engineers work together to produce compliant research and build tools that inform our firm’s investments. We look for other bright, motivated, and collaborative people to join our team and grow with us—a majority of the leaders in our group were promoted from within.  WHAT YOU’LL DO  As a Sector Analyst for European Equities, you will work with alternative data to gather industry context and business fundamentals. You will then partner with our team of data scientists and engineers to develop analyses that you’ll deliver as synthesized insights to our investment professionals to help aid in their research processes. The work is ever evolving, affording opportunities to tackle new challenges alongside research teammates from diverse backgrounds. Specifically, you will:  Analyze and interpret alternative data from multiple sources and develop subject-matter expertise on the key themes and KPIs that drive the industry and companies within your assigned coverage Produce research for internal consumption by our investment professionals across a variety of mediums, including written research reports, verbal communication, and visualization tools Interact directly with our investment professionals to learn the discretionary investment process and help them to drive more informed investment decisions Collaborate with our proprietary research teams including Data Sourcing, Data Science, and Data Engineering, as well as Compliance, to source, evaluate, and draw value from new and existing data assets to produce actionable research for investment professionals WHAT’S REQUIRED  An undergraduate or advanced degree with demonstrated academic success One to five years of prior equity/investment/scientific/industry research or consulting experience, including any relevant internship experience Proficiency with technical coding/programming and ability to participate in a live technical screen (SQL, Python) Experience leveraging data analysis as part of the fundamental research process for business, public policy, finance, engineering, applied sciences, or other quantitative fields Comfort with analyzing novel data and explaining concepts to non-technical partners A passion for finance, research, and using data to solve problems Great organizational skills to handle a demanding workload, creativity, and a strong work ethic Ability to operate productively in a team environment Strong verbal and written communication skills Commitment to the highest ethical standards WE TAKE CARE OF OUR PEOPLE  We invest in our people, their careers, their health, and their well-being. When you work here, we provide:  Private Medical and Dental Insurances Generous parental and family leave policies Volunteer opportunities Support for employee-led affinity groups representing women, people of colour and the LGBQT+ community Mental and physical wellness programmes Tuition assistance Non-contributory pension and more ABOUT POINT72  Point72 is a leading global alternative investment firm led by Steven A. Cohen. Building on more than 30 years of investing experience, Point72 seeks to deliver superior returns for its investors through fundamental and systematic investing strategies across asset classes and geographies. We aim to attract and retain the industry’s brightest talent by cultivating an investor-led culture and committing to our people’s long-term growth. For more information, visit www.Point72.com/about.\n",
      " \n",
      " \n"
     ]
    },
    {
     "name": "stdout",
     "output_type": "stream",
     "text": [
      "\n",
      "============================================================\n",
      "PROCESSING RESULTS\n",
      "============================================================\n",
      "Job Title: Sector Analyst, Proprietary Research\n",
      "Company: Point72\n",
      "Location: London\n",
      "Remote Option: On-site\n",
      "Job Level: Senior\n",
      "Salary Info: Not specified\n",
      "Word Count: 543\n",
      "Masculine Score: 0.91%\n",
      "Feminine Score: 2.56%\n",
      "Neutral Score: 96.53%\n",
      "Gendered Words: F:team; F:team; F:team; F:together; F:collaborative; F:team; F:team; F:help; M:drive; F:help; M:drive; F:collaborate; M:strong; F:team; M:strong; F:care; F:support; F:community; M:superior\n",
      "Manual Review Flag: False\n",
      "\n",
      "Data saved to: C:\\Users\\HP\\OneDrive - University of Southampton\\Documents\\Dissertation Project - Marwa Ashfaq\\Codes\\or_society_jobs.xlsx\n",
      "Total jobs in file: 46\n",
      "\n",
      "✅ Job data saved successfully!\n",
      "\n",
      "----------------------------------------\n"
     ]
    },
    {
     "name": "stdin",
     "output_type": "stream",
     "text": [
      "Do you want to add another job? (y/n):  y\n"
     ]
    },
    {
     "name": "stdout",
     "output_type": "stream",
     "text": [
      "\n",
      "========================================\n",
      "NEW JOB ENTRY\n",
      "========================================\n"
     ]
    },
    {
     "name": "stdin",
     "output_type": "stream",
     "text": [
      "Enter job URL:  https://theorsociety.careerwebsite.com/jobs/view/senior-analyst-customer-data/f14adde5-5282396757/?sort=position\n"
     ]
    },
    {
     "name": "stdout",
     "output_type": "stream",
     "text": [
      "\n",
      "============================================================\n",
      "JOB DATA ENTRY\n",
      "============================================================\n",
      "URL: https://theorsociety.careerwebsite.com/jobs/view/senior-analyst-customer-data/f14adde5-5282396757/?sort=position\n",
      "------------------------------------------------------------\n"
     ]
    },
    {
     "name": "stdin",
     "output_type": "stream",
     "text": [
      "Job Title:  Senior Analyst (Customer Data)\n",
      "Company Name:  Screwfix\n",
      "Location:  Yeovil, Somerset, United Kingdom\n",
      "Posting Date (optional):  \n",
      "Salary Info (optional):  \n"
     ]
    },
    {
     "name": "stdout",
     "output_type": "stream",
     "text": [
      "\n",
      "Job Description:\n",
      "(Paste the job description below. Press Enter twice when finished)\n",
      "----------------------------------------\n"
     ]
    },
    {
     "name": "stdin",
     "output_type": "stream",
     "text": [
      " It’s a great time to join Screwfix. Thanks to the hard work of our team and record-breaking sales, we’re proud to be one of the fastest-growing retailers in the UK. And we want to pass that growth onto you.  Are you passionate about turning data into powerful insights that shape strategic decisions? At Screwfix, we're looking for a Senior Analyst (Customer Data) to play a critical role in transforming how we understand and serve our customers. In this exciting role, you'll lead the analysis of customer behaviour and commercial data, using predictive and advanced analytics to influence high-level decision-making across trading, CRM, and marketing. You’ll be a key voice in the room, translating complex findings into clear, actionable strategies that improve performance and customer experience.  This is more than just a numbers role, it’s an opportunity to impact the future of one of the UK’s fastest-growing retailers. You’ll work at the heart of our Data & Analytics team, collaborating cross-functionally and mentoring others while driving innovation through experimentation, modelling, and automated decisioning. If you thrive in a fast-paced, insight-led environment and want your work to drive real change, we’d love to hear from you.  At Screwfix, we believe happy, fulfilled colleagues create a stronger business. That’s why we’ve built a workplace that works for you, combining flexibility, inclusivity, and sustainability with opportunities to thrive.  Work-Life Balance:  Enjoy the best of both worlds: Our hybrid working offering includes face-to-face collaboration at our welcoming Head Office and flexible hours to fit life’s priorities, whether it’s the school run or personal time. We are also open to considering applications from part time working for this position.  Belonging & Growth:  From day one, you’ll feel part of a team that values your voice and supports your growth. We’re proud to champion diversity because we know unique perspectives make us stronger. Whether starting out or looking for your next step, you’ll thrive here  Sustainability That Matters:  We’re committed to creating a better future, taking bold steps to reduce carbon emissions, use sustainable packaging, and innovate for a greener world. Sustainability drives everything we do, and we’re proud to make a real impact for our planet and future generations.  Join Screwfix and discover a workplace where you can belong, grow, and help build a more sustainable future.  Key responsibilities  Conduct analysis into customer behaviour, purchasing patterns, and sales data to identify trends, opportunities and actionable insights to inform decision making to enhance commercial decision making and drive business performance. Translate complex data into an understandable and actionable format through engaging reports and dashboards that communicate key findings and recommendations to senior stakeholders and board members. Often tackling big questions that others have been unable to answer using advanced analytical skills. Delivering data experimentation to optimise how we target and segment consumers for targeted offers and promotions Interrogate large volumes of data from a range of sources (online, customer verbatims, transactional etc) to use for modelling Build predictive models to support business decision making Build prescriptive tools (automated decisioning) with measurable commercial value – especially improving our marketing ROI Lead the proactive and reactive support for the weekly trading process - both outputs and analysis – working with the CRM team and other stakeholders. Lead on building relationships with key stakeholders, challenging and questioning the ask to build a good understanding Presenting analytics in high profile forums and meetings Manage a portfolio of analytics work, prioritising as required to deliver effectively. Collaborate with cross-functional teams to align customer insights with business objectives and to drive customer-centric strategies and decisions. Set key customer metrics. Monitor and evaluate the performance of customer KPIs and proactively report back to the business on any areas of concern or opportunity. Oversee and review/QA analytics work produced by team members, to ensure data accuracy and integrity, and quality of communication. Develop and maintain customer segmentation models to inform targeted marketing and sales strategies. Create strong relationships with key stakeholders in the business, for example our CRM, Commercial and Marketing teams. Mentor and support junior members of the analytics team, providing guidance, fostering their professional development and advancing their analytical skills  Required Skills & Experience  Experience in customer data/analytics, ideally within the retail industry. Strong predictive analytics background, preferably in customer marketing Strong expertise in data analysis and statistical modelling. Experience of data science and machine learning techniques. Significant experience and strength in data visualisation and storytelling – able to communicate complexity in a straightforward and visually engaging manner, creating a compelling narrative. Proficiency in analytical tools such as SQL, Python, R. Proficiency in data visualisation platforms (e.g. Tableau or Power BI). Excellent communication and presentation skills, confident verbally and in writing. Strong relationship management skills, able to build high quality relationships with a range of internal stakeholders. Excellent attention to detail, focused on accuracy and integrity of work. - Strong problem-solving skills, able to synthesise data from multiple sources to create and test hypotheses, and to determine root cause. Ability to work independently and collaboratively in a fast-paced environment. Experience in coaching and developing others.  At Screwfix, Your Wellbeing Comes First:  We’re dedicated to helping you thrive at work and at home. With a fantastic range of benefits, opportunities for self-development, and an annual discretionary bonus of up to 20%, we put your wellbeing at the heart of everything we do.  Your Wellbeing, Our Priority:  Health Support: 24/7 GP services, discounted gym memberships, and wellness resources like PepTalk.  Financial Wellbeing: Up to 14% employer pension contributions, life cover of up to 4x salary, and tools like Wagestream to track earnings and save.  Everyday Perks: 20% staff discounts at Screwfix and B&Q, savings on bikes, and exclusive offers via the Hapi app.  Opportunities to Grow: We believe in self-development and creating space for you to thrive. With access to training, career growth, and support networks, we’ll help you build a brighter future.  We believe in equity for all. Please let us know at careers@screwfix.com if you need any additional support or adjustments when it comes to your application.\n",
      " \n",
      " \n"
     ]
    },
    {
     "name": "stdout",
     "output_type": "stream",
     "text": [
      "\n",
      "============================================================\n",
      "PROCESSING RESULTS\n",
      "============================================================\n",
      "Job Title: Senior Analyst (Customer Data)\n",
      "Company: Screwfix\n",
      "Location: Yeovil, Somerset, United Kingdom\n",
      "Remote Option: Hybrid\n",
      "Job Level: Senior\n",
      "Salary Info: Not specified\n",
      "Word Count: 1024\n",
      "Masculine Score: 1.93%\n",
      "Feminine Score: 2.03%\n",
      "Neutral Score: 96.04%\n",
      "Gendered Words: F:team; F:understand; M:lead; M:decision; F:team; M:drive; F:team; F:committed; F:help; M:decision; M:decision; M:drive; F:communicate; M:analytical; F:support; M:decision; M:lead; F:support; F:team; M:lead; M:manage; F:collaborate; M:drive; F:team; M:strong; F:support; F:team; M:analytical; M:strong; M:strong; F:communicate; M:analytical; M:confident; M:strong; F:relationship; M:strong; F:dedicated; F:support; F:support; F:help; F:support\n",
      "Manual Review Flag: False\n",
      "\n",
      "Data saved to: C:\\Users\\HP\\OneDrive - University of Southampton\\Documents\\Dissertation Project - Marwa Ashfaq\\Codes\\or_society_jobs.xlsx\n",
      "Total jobs in file: 47\n",
      "\n",
      "✅ Job data saved successfully!\n",
      "\n",
      "----------------------------------------\n"
     ]
    },
    {
     "name": "stdin",
     "output_type": "stream",
     "text": [
      "Do you want to add another job? (y/n):  y\n"
     ]
    },
    {
     "name": "stdout",
     "output_type": "stream",
     "text": [
      "\n",
      "========================================\n",
      "NEW JOB ENTRY\n",
      "========================================\n"
     ]
    },
    {
     "name": "stdin",
     "output_type": "stream",
     "text": [
      "Enter job URL:  https://theorsociety.careerwebsite.com/jobs/view/senior-analyst-machine-learning/f14adde5-5261805644/?sort=position\n"
     ]
    },
    {
     "name": "stdout",
     "output_type": "stream",
     "text": [
      "\n",
      "============================================================\n",
      "JOB DATA ENTRY\n",
      "============================================================\n",
      "URL: https://theorsociety.careerwebsite.com/jobs/view/senior-analyst-machine-learning/f14adde5-5261805644/?sort=position\n",
      "------------------------------------------------------------\n"
     ]
    },
    {
     "name": "stdin",
     "output_type": "stream",
     "text": [
      "Job Title:  Senior Analyst, Machine Learning\n",
      "Company Name:  SitusAMC\n",
      "Location:  London\n",
      "Posting Date (optional):  \n",
      "Salary Info (optional):  \n"
     ]
    },
    {
     "name": "stdout",
     "output_type": "stream",
     "text": [
      "\n",
      "Job Description:\n",
      "(Paste the job description below. Press Enter twice when finished)\n",
      "----------------------------------------\n"
     ]
    },
    {
     "name": "stdin",
     "output_type": "stream",
     "text": [
      " SitusAMC is where the best and most passionate people come to transform our client's businesses and their own careers. Whether you're a real estate veteran, a passionate technologist, or looking to get your start, join us as we work together to realize opportunities for everyone, we proudly serve. At SitusAMC, we are looking to match your unique experience with one of our amazing careers, so that we can help you realize your potential and career growth within the Real Estate Industry. If you are someone who can be yourself, advocate for others, stay nimble, dream big, own every outcome, and think global but act local - come join our team! Essential Job Functions: - Provide innovative solutions for problems in commercial real estate using generative AI and other machine learning algorithms - Use large language models (LLMs) to analyze various commercial real estate data sets, including large sets of financial documents and commercial real estate market data - Engineer and tune LLM prompts, and perform automatic and manual evaluations of LLM outputs - Apply machine learning algorithms to find patterns in financial data sets, especially time series, related to commercial real estate - Translate business problems and requirements into tasks that can be solved with generative AI, machine learning, or other algorithmic solutions - Process structured and unstructured data for generative AI use cases - Collaborate with engineering and product development teams - Following experimentation and model selection and validation, implement the solution using production-ready Python code - Contribute to the full software development lifecycle, including requirements gathering, design, development, testing, deployment, and maintenance of machine learning solutions - Monitor model performance post-deployment and iterate based on feedback - Communicate with, and present results to, colleagues and stakeholders - Present information using data visualization techniques Qualifications/Requirements: - A master's degree (or equivalent) in a numerate discipline such as Statistics, Machine Learning, Computer Science, Engineering, or Physics. A doctorate is a plus but not required - Mid-level professional with 2-4 years of ML/AI experience, typically at an Analyst level role or external equivalent - A scientific approach to solving problems, an analytical mind, and experience in applied machine learning and generative AI - Experience in applying LLMs to analyze text documents, prompt engineering, and manual and automatic evaluation of LLM outputs - Good foundational knowledge of standard machine learning algorithms and statistical methods - Proficient in python and its standard data science and ML libraries (e.g., numpy, pandas, scikit-learn, boosting and data visualization libraries) - Practical experience in data processing and feature engineering for machine learning applications - Ability to write robust production-ready Python code - Good communication and presentation skills - Experience in commercial real estate is a plus #LI-Onsite #LI-AS1 Note: This job description is not intended to be all inclusive or exclusive. At any time, employees may perform other related duties as required to meet the ongoing needs of the organization and participate in additional trainings. SitusAMC does not accept unsolicited resumes from staffing agencies, search firms or any third parties. Any unsolicited resume submitted to SitusAMC in any manner will be considered SitusAMC property, and SitusAMC will not pay a fee for any placement resulting from the receipt of an unsolicited resume. Specific compensation is determined through interviews and a review of relevant education, experience, training, skills, geographic location and alignment with market data. Additionally, certain positions may be eligible to receive a discretionary bonus as determined by bonus program guidelines, position eligibility and SitusAMC Senior Management approval. SitusAMC offers a comprehensive and competitive benefits plan. SitusAMC is an Equal Opportunity Employer. Qualified applicants will receive consideration for employment without regard to race, color, religion, age, sex, national origin, disability, genetics, protected veteran status, sexual orientation, gender identity or expression, or any other characteristic protected by law.\n",
      " \n",
      " \n"
     ]
    },
    {
     "name": "stdout",
     "output_type": "stream",
     "text": [
      "\n",
      "============================================================\n",
      "PROCESSING RESULTS\n",
      "============================================================\n",
      "Job Title: Senior Analyst, Machine Learning\n",
      "Company: SitusAMC\n",
      "Location: London\n",
      "Remote Option: On-site\n",
      "Job Level: Senior\n",
      "Salary Info: Not specified\n",
      "Word Count: 635\n",
      "Masculine Score: 0.65%\n",
      "Feminine Score: 0.97%\n",
      "Neutral Score: 98.38%\n",
      "Gendered Words: F:together; F:help; F:team; F:collaborate; F:communicate; M:analytical; F:inclusive; M:determined; M:determined; M:competitive\n",
      "Manual Review Flag: False\n",
      "\n",
      "Data saved to: C:\\Users\\HP\\OneDrive - University of Southampton\\Documents\\Dissertation Project - Marwa Ashfaq\\Codes\\or_society_jobs.xlsx\n",
      "Total jobs in file: 48\n",
      "\n",
      "✅ Job data saved successfully!\n",
      "\n",
      "----------------------------------------\n"
     ]
    },
    {
     "name": "stdin",
     "output_type": "stream",
     "text": [
      "Do you want to add another job? (y/n):  y\n"
     ]
    },
    {
     "name": "stdout",
     "output_type": "stream",
     "text": [
      "\n",
      "========================================\n",
      "NEW JOB ENTRY\n",
      "========================================\n"
     ]
    },
    {
     "name": "stdin",
     "output_type": "stream",
     "text": [
      "Enter job URL:  https://theorsociety.careerwebsite.com/jobs/view/senior-analytics-engineer/f14adde5-5299400282/?sort=position\n"
     ]
    },
    {
     "name": "stdout",
     "output_type": "stream",
     "text": [
      "\n",
      "============================================================\n",
      "JOB DATA ENTRY\n",
      "============================================================\n",
      "URL: https://theorsociety.careerwebsite.com/jobs/view/senior-analytics-engineer/f14adde5-5299400282/?sort=position\n",
      "------------------------------------------------------------\n"
     ]
    },
    {
     "name": "stdin",
     "output_type": "stream",
     "text": [
      "Job Title:  Senior Analytics Engineer\n",
      "Company Name:  Monzo\n",
      "Location:  London\n",
      "Posting Date (optional):  \n",
      "Salary Info (optional):  \n"
     ]
    },
    {
     "name": "stdout",
     "output_type": "stream",
     "text": [
      "\n",
      "Job Description:\n",
      "(Paste the job description below. Press Enter twice when finished)\n",
      "----------------------------------------\n"
     ]
    },
    {
     "name": "stdin",
     "output_type": "stream",
     "text": [
      " We’re on a mission to make money work for everyone.  We’re waving goodbye to the complicated and confusing ways of traditional banking.  After starting as a prepaid card, our product offering has grown a lot in the last 10 years in the UK. As well as personal and business bank accounts, we offer joint accounts, accounts for 16-17 year olds, a free kids account and credit cards in the UK, with more exciting things to come beyond. Our UK customers can also save, invest and combine their pensions with us.  With our hot coral cards and get-paid-early feature, combined with financial education on social media and our award winning customer service, we have a long history of creating magical moments for our customers!  We’re not about selling products - we want to solve problems and change lives through Monzo ❤️  Hear from our UK team about what it's like working at Monzo ✨   London/Cardiff/UK Remote | £76,500-£95,000 + Benefits | Hear from the team ✨  Analytics Engineering at Monzo We have around 50 Analytics Engineers out of roughly 200 data practitioners in total - and we have big ambitions for the discipline. Analytics Engineering is at the core of how we build our data to enable Monzo to make better and faster decisions by having a performant, scalable and high quality data warehouse. As an Analytics Engineer here you'll be working collaboratively with other disciplines like product, engineering and data science, and we run regular knowledge-sharing sessions so you’ll learn loads about everything from our data modelling principles to how banks work and effective communication.  What you’ll be working on:  The Analytics Engineering team is responsible for building downstream data models from backend services with the desire to make our Data Warehouse a genuine competitive advantage for Monzo. We want a discipline capable of building an amazing Data Warehouse to support decision making, Business Intelligence, key financial reconciliation processes and best in class analytics and Data Science.  You’ll enable our data driven approach, and:  Support the building of robust data models downstream of backend services (mostly in BigQuery) that support internal reporting, machine learning as well as financial and regulatory use cases. Focus on optimisation of our Data Warehouse, spotting opportunities to reduce complexity and cost. Help define and manage best practices for our Data Warehouse. This may include payload design of source data, logical data modelling, implementation, metadata and testing standards. Set standards and ways of working with data across Monzo, working collaboratively with others to make it happen. Take established best practices and standards defined by the team, applying them within other areas of the business. Investigate and effectively work with colleagues from other disciplines to monitor and improve data quality within the warehouse. Contribute to prioritisation of data governance issues We all own and support the pipelines we contribute to, and on call support out of hours will be expected from time to time as part of this role We’d love to hear from you if… You enjoy working with cross functional fast moving teams and are passionate about serving small businesses. You are able to think strategically about the Business Banking product and how our underlying data models will unlock more insights for our team and more value for our customers. You have a strong passion for data modelling, ETL projects, and Big Data. You enjoy working with data streams from various services, such as financial, transactional, and operational systems. SQL and data modelling are second nature to you, and you are comfortable with general Data Warehousing concepts. You are committed to continuous improvement, proactively identifying opportunities and addressing challenges in your work and the work of others. Nice to haves Any experience working within a finance function or knowledge of accounting. Experience working in a highly regulated environment (e.g. finance, gaming, food, health care). Knowledge of regulatory reporting and treasury operations in retail banking Exposure to Python, Go or similar languages. Experience working with orchestration frameworks such as Airflow/Luigi Have previously used dbt, dataform or similar tooling. Used to AGILE ways of working (Kanban, Scrum) The Interview Process:  Our interview process involves 3 main stages:  30 minute recruiter call 45 minute call with the hiring manager Take home task 2-part final stage Our average process takes around 3 weeks but we will always work around your availability. You will have the chance to speak to our recruitment team at various points during your process but if you do have any specific questions ahead of this please contact us on tech-hiring@monzo.com Please also use that email to let us know if there's anything we can do to make your application process easier for you, because of disability, neurodiversity or any other personal reason.  What’s in it for you:  ✈️ We can help you relocate to the UK  ✅ We can sponsor visas  This role can be based in our London office, but we're open to distributed working within the UK (with ad hoc meetings in London).  ⏰ We offer flexible working hours and trust you to work enough hours to do your job well, at times that suit you and your team.  Learning budget of £1,000 a year for books, training courses and conferences  ➕And much more, see our full list of benefits here  #LI-AE1 #LI-REMOTE  Equal opportunities for everyone  Diversity and inclusion are a priority for us and we’re making sure we have lots of support for all of our people to grow at Monzo. At Monzo, we’re embracing diversity by fostering an inclusive environment for all people to do the best work of their lives with us. This is integral to our mission of making money work for everyone. You can read more in our blog, 2024 Diversity and Inclusion Report and 2024 Gender Pay Gap Report.  We’re an equal opportunity employer. All applicants will be considered for employment without attention to age, ethnicity, religion, sex, sexual orientation, gender identity, family or parental status, national origin, or veteran, neurodiversity or disability status.  If you have a preferred name, please use it to apply. We don't need full or birth names at application stage\n",
      " \n",
      " \n"
     ]
    },
    {
     "name": "stdout",
     "output_type": "stream",
     "text": [
      "\n",
      "============================================================\n",
      "PROCESSING RESULTS\n",
      "============================================================\n",
      "Job Title: Senior Analytics Engineer\n",
      "Company: Monzo\n",
      "Location: London\n",
      "Remote Option: Remote\n",
      "Job Level: Senior\n",
      "Salary Info: Not specified\n",
      "Word Count: 1031\n",
      "Masculine Score: 0.39%\n",
      "Feminine Score: 1.96%\n",
      "Neutral Score: 97.65%\n",
      "Gendered Words: F:team; F:team; F:team; F:responsible; M:competitive; F:support; M:decision; F:support; F:support; F:help; M:manage; F:team; F:support; F:support; F:team; M:strong; F:committed; F:care; F:team; F:help; F:trust; F:team; F:support; F:inclusive\n",
      "Manual Review Flag: False\n",
      "\n",
      "Data saved to: C:\\Users\\HP\\OneDrive - University of Southampton\\Documents\\Dissertation Project - Marwa Ashfaq\\Codes\\or_society_jobs.xlsx\n",
      "Total jobs in file: 49\n",
      "\n",
      "✅ Job data saved successfully!\n",
      "\n",
      "----------------------------------------\n"
     ]
    },
    {
     "name": "stdin",
     "output_type": "stream",
     "text": [
      "Do you want to add another job? (y/n):  y\n"
     ]
    },
    {
     "name": "stdout",
     "output_type": "stream",
     "text": [
      "\n",
      "========================================\n",
      "NEW JOB ENTRY\n",
      "========================================\n"
     ]
    },
    {
     "name": "stdin",
     "output_type": "stream",
     "text": [
      "Enter job URL:  https://theorsociety.careerwebsite.com/jobs/view/senior-bioinformatics-engineer-pipeline-automation-tool-development/f14adde5-5273490237/?sort=position\n"
     ]
    },
    {
     "name": "stdout",
     "output_type": "stream",
     "text": [
      "\n",
      "============================================================\n",
      "JOB DATA ENTRY\n",
      "============================================================\n",
      "URL: https://theorsociety.careerwebsite.com/jobs/view/senior-bioinformatics-engineer-pipeline-automation-tool-development/f14adde5-5273490237/?sort=position\n",
      "------------------------------------------------------------\n"
     ]
    },
    {
     "name": "stdin",
     "output_type": "stream",
     "text": [
      "Job Title:  Senior Bioinformatics Engineer – Pipeline Automation & Tool Development\n",
      "Company Name:  Lonza\n",
      "Location:  Cambridge\n",
      "Posting Date (optional):  \n",
      "Salary Info (optional):  \n"
     ]
    },
    {
     "name": "stdout",
     "output_type": "stream",
     "text": [
      "\n",
      "Job Description:\n",
      "(Paste the job description below. Press Enter twice when finished)\n",
      "----------------------------------------\n"
     ]
    },
    {
     "name": "stdin",
     "output_type": "stream",
     "text": [
      " Today, Lonza is a global leader in life sciences operating across five continents. While we work in science, there’s no magic formula to how we do it. Our greatest scientific solution is talented people working together, devising ideas that help businesses to help people. In exchange, we let our people own their careers. Their ideas, big and small, genuinely improve the world. And that’s the kind of work we want to be part of.  The Senior Bioinformatics Engineer – Pipeline Automation & Tool Development will be responsible for developing efficient and high quality bioinformatic pipelines and data science software supporting the design, data processing, analysis, and reporting across Lonza R&D departments. They will be placed in the Bioinformatics & Data Science group and closely work with multi-disciplinary teams of bioinformaticians, lab scientists, biochemists and bioprocess engineers.  The Senior Bioinformatics Engineer – Pipeline Automation & Tool Development will further drive and implement innovative solutions enhancing Lonza’s capabilities in data science and statistics, with the goal to improve biomanufacturing of Biologics molecules. The role is also expected to manage collaborations and act as mentor for more junior team members.  What you’ll do:  Develop and maintain bioinformatic pipelines to facilitate complex data analysis and integration.  Supports onboarding and development of data analysis tools used by multidisciplinary teams across Lonza.  Drives digital innovation in biomanufacturing by enhancing data science, bioinformatics and statistical capabilities.  Manages internal and external collaborations with academic and commercial partners.  Leads, mentors and trains junior team members.  What we’re looking for:  PhD with at least 2 years of industry experience or MSc with 5 or more years of relevant experience in bioinformatics, computational biology, data science or a related field.  Hands-on experience in developing and implementing multiple Nextflow pipelines in a production system.  Excellent knowledge of Docker, git, the UNIX command line, R (or python) and unit/pipeline testing frameworks.  Minimum 2 years work experience in developing and rolling out GUI-based bioinformatic tools facilitating experimental design and analyses.  Proven ability to communicate complex bioinformatic concepts to stakeholders and multidisciplinary teams.  General expertise in analyzing and interpreting omics and other biological data sets using statistical and visualization approaches.  Good organizational skills, including time management, ability to set priorities and adhere to deadlines.  Strong attention to detail and problem solving skills.  Every day, Lonza’s products and services have a positive impact on millions of people. For us, this is not only a great privilege, but also a great responsibility. How we achieve our business results is just as important as the achievements themselves. At Lonza, we respect and protect our people and our environment. Any success we achieve is no success at all if not achieved ethically.  People come to Lonza for the challenge and creativity of solving complex problems and developing new ideas in life sciences. In return, we offer the satisfaction that comes with improving lives all around the world. The satisfaction that comes with making a meaningful difference.  Lonza is an equal opportunity employer. All qualified applicants will receive consideration for employment without regard to race, religion, color, national origin, sex, sexual orientation, gender identity, age, status as a qualified individual with disability, protected veteran status, or any other characteristic protected by law.\n",
      " \n",
      " \n"
     ]
    },
    {
     "name": "stdout",
     "output_type": "stream",
     "text": [
      "\n",
      "============================================================\n",
      "PROCESSING RESULTS\n",
      "============================================================\n",
      "Job Title: Senior Bioinformatics Engineer – Pipeline Automation & Tool Development\n",
      "Company: Lonza\n",
      "Location: Cambridge\n",
      "Remote Option: On-site\n",
      "Job Level: Senior\n",
      "Salary Info: Not specified\n",
      "Word Count: 535\n",
      "Masculine Score: 1.68%\n",
      "Feminine Score: 1.5%\n",
      "Neutral Score: 96.82%\n",
      "Gendered Words: M:leader; F:together; F:help; F:help; F:kind; F:responsible; M:drive; M:manage; F:team; F:team; F:communicate; M:strong; M:responsibility; M:achieve; M:achieve; M:challenge; M:individual\n",
      "Manual Review Flag: False\n",
      "\n",
      "Data saved to: C:\\Users\\HP\\OneDrive - University of Southampton\\Documents\\Dissertation Project - Marwa Ashfaq\\Codes\\or_society_jobs.xlsx\n",
      "Total jobs in file: 50\n",
      "\n",
      "✅ Job data saved successfully!\n",
      "\n",
      "----------------------------------------\n"
     ]
    },
    {
     "name": "stdin",
     "output_type": "stream",
     "text": [
      "Do you want to add another job? (y/n):  y\n"
     ]
    },
    {
     "name": "stdout",
     "output_type": "stream",
     "text": [
      "\n",
      "========================================\n",
      "NEW JOB ENTRY\n",
      "========================================\n"
     ]
    },
    {
     "name": "stdin",
     "output_type": "stream",
     "text": [
      "Enter job URL:  https://theorsociety.careerwebsite.com/jobs/view/senior-customer-marketing-analyst-12m-ftc/f14adde5-5288700559/?sort=position\n"
     ]
    },
    {
     "name": "stdout",
     "output_type": "stream",
     "text": [
      "\n",
      "============================================================\n",
      "JOB DATA ENTRY\n",
      "============================================================\n",
      "URL: https://theorsociety.careerwebsite.com/jobs/view/senior-customer-marketing-analyst-12m-ftc/f14adde5-5288700559/?sort=position\n",
      "------------------------------------------------------------\n"
     ]
    },
    {
     "name": "stdin",
     "output_type": "stream",
     "text": [
      "Job Title:  Senior Customer Marketing Analyst - 12M FTC\n",
      "Company Name:  Boots\n",
      "Location:  UK\n",
      "Posting Date (optional):  \n",
      "Salary Info (optional):  \n"
     ]
    },
    {
     "name": "stdout",
     "output_type": "stream",
     "text": [
      "\n",
      "Job Description:\n",
      "(Paste the job description below. Press Enter twice when finished)\n",
      "----------------------------------------\n"
     ]
    },
    {
     "name": "stdin",
     "output_type": "stream",
     "text": [
      " We are looking to recruit a specialist Senior Customer Marketing Analyst, who will be responsible for developing and enhancing our personalisation capability and influencing business decisions through their knowledge of the customer and application of innovative analysis and insight.  About the opportunity  Boots has recognised that putting customers’ needs at the centre of business decision making is essential in order to maintain and grow our business in an ever-changing environment.  We’re looking for a data-driven, strategic thinker to join our marketing team as a Senior Customer Marketing Analyst, specializing in all forms of personalised communications (e.g., email, app, direct mail, social, search, display, programmatic). They should have 5+ years experience in marketing analytics, with a passion for optimizing customer engagement and acquisition.  As a Senior Customer Marketing Analyst, you will be responsible for developing and enhancing our personalisation capability - promoting our brands in conjunction with Boots Advantage Card, influencing business decisions through your knowledge of the customer, and increasing customer engagement through innovative analysis and insight. Using Advantage Card data and other sources, you will have a strong insight led customer understanding, developing innovative applications and solutions for personalised communications. You will be able to present your findings and interact effectively with senior stakeholders and be key in shaping strategies and objectives. This role does not have direct reports but it is expected that you will act as a role model and work with team leaders to develop and guide our junior analysts.  Your responsibilities: Become an acknowledged leader on customer insight and personalised communications and be able to provide advice and guidance; steering loyalty business decisions and applying best practice to business challenges Seek opportunities to improve performance and knowledge; demonstrate impact of innovation and year on year improvements Support team leaders in the development of the wider team; ability to enhance skills, knowledge and profile through role-modelling, mentoring, cross-team projects and motivation. To understand the future of direct and digital marketing technology, channels and techniques, seeks to build opportunities to bring in best practice Own technical domain knowledge for your specific area, acting as the leader in technical knowledge, developing understanding and best practice internal and external to the team  About you: We are looking for an inquisitive and creative problem solver, who can bring together partner needs and knowledge to develop innovative solutions to meet our customer aims Experience of customer analysis in the context of a loyalty scheme mechanic is desirable You should have experience in developing solutions that can be used in personalisation activity, including data science techniques and campaign optimisation. Experience of SQL and Python are desirable. You should be able to show that you have an ability to analyse data at a high technical level whilst being able to confidently interpret findings and deliver them to an audience with little or no analytical, statistical or numerical background Experience of using campaign management software such as Salesforce or Adobe Campaign would be advantageous.   Benefits  We have a great range of benefits* that go beyond salary and offer flexibility to suit you: Competitive holiday allowance (with the option to buy more days) Boots Retirement Savings Plan pension scheme Discretionary annual bonus scheme Enhanced Maternity / Paternity / Adoption leave pay £100 gift card for colleagues expecting/adopting a baby Flexible benefits scheme (via salary sacrifice) including financial wellbeing support, gym membership, holiday buying, dental cover, life assurance, restaurant discount cards, activity passes and much more (exclusions may apply, eligible roles only) Access to our Employee Assistance Programme offering free, independent and confidential counselling and support, 24 hours a day, 7 days a week Generous staff discount (with enhanced discounts for Boots brands, Boot Opticians and Boots Hearingcare) Access to corporate third-party discounts, including retail, cinema, holidays and more (UK only) Access to the Boots Benevolent Fund, a registered charity that offers support to eligible current and former colleagues in the UK, as well as their immediate relatives, at times of financial hardship. Access to a range of learning and development resources and programmes Excellent onsite facilities including: staff shop, opticians, gym, coffee shops, cafeteria, outdoor seating spaces, dry cleaning service and excellent travel links including on campus bus stops  *All rewards and benefits are subject to change and eligibility.   Why Boots  Our mission is to help everyone to feel good. This starts internally – with every colleague and every team. In our stores and pharmacies, our warehouses and our Support Office, we work together, putting our customers first and our colleagues at the heart of everything we do. We aim to attract, develop and retain the best people, with a huge range of opportunities for you to continue to grow with us… just bring your passion and commitment and we’ll do the rest.  Diversity, equity and inclusion is at the centre of everything we do in our business. We are proud to be an equal opportunity employer, passionate about embracing the diversity of our colleagues and providing a positive and inclusive working environment for all.  At Boots we're proud to offer our Support Office team members a hybrid working approach because how we work is central to our ability to compete, innovate and win together. Our hybrid, flexible approach to work is based upon empowerment, accountability, care and trust and includes a balanced mix of remote and office-based working.   What’s next  If your application is successful, our in-house recruitment team will be in touch to arrange an interview and to answer any initial questions you have. If you have not been successful on this occasion you will be notified by email.  If you have any questions about this vacancy, please contact chelsea.jenno@boots.co.uk     Keywords Looking for a data-driven, strategic thinker to join our marketing team as a Senior Customer Marketing Analyst, specializing in all forms of personalised communications (e.g., email, app, direct mail, social, search, display, programmatic). They should have 5+ years experience in marketing analytics, with a passion for optimizing customer engagement and acquisition\n",
      " \n",
      " \n"
     ]
    },
    {
     "name": "stdout",
     "output_type": "stream",
     "text": [
      "\n",
      "============================================================\n",
      "PROCESSING RESULTS\n",
      "============================================================\n",
      "Job Title: Senior Customer Marketing Analyst - 12M FTC\n",
      "Company: Boots\n",
      "Location: UK\n",
      "Remote Option: Remote\n",
      "Job Level: Senior\n",
      "Salary Info: Not specified\n",
      "Word Count: 992\n",
      "Masculine Score: 1.3%\n",
      "Feminine Score: 2.6%\n",
      "Neutral Score: 96.1%\n",
      "Gendered Words: F:responsible; M:decision; F:team; M:direct; F:responsible; M:strong; M:direct; F:team; M:leader; F:support; F:team; F:team; F:team; F:understand; M:direct; M:leader; F:team; F:together; M:analytical; M:competitive; F:support; M:independent; F:support; F:support; F:help; F:team; F:support; F:together; F:inclusive; F:support; F:team; M:compete; M:win; F:together; F:care; F:trust; F:team; F:team; M:direct\n",
      "Manual Review Flag: False\n",
      "\n",
      "Data saved to: C:\\Users\\HP\\OneDrive - University of Southampton\\Documents\\Dissertation Project - Marwa Ashfaq\\Codes\\or_society_jobs.xlsx\n",
      "Total jobs in file: 51\n",
      "\n",
      "✅ Job data saved successfully!\n",
      "\n",
      "----------------------------------------\n"
     ]
    },
    {
     "name": "stdin",
     "output_type": "stream",
     "text": [
      "Do you want to add another job? (y/n):  Y\n"
     ]
    },
    {
     "name": "stdout",
     "output_type": "stream",
     "text": [
      "\n",
      "========================================\n",
      "NEW JOB ENTRY\n",
      "========================================\n"
     ]
    },
    {
     "name": "stdin",
     "output_type": "stream",
     "text": [
      "Enter job URL:  https://theorsociety.careerwebsite.com/jobs/view/senior-data-analyst/f14adde5-5255914475/?sort=position\n"
     ]
    },
    {
     "name": "stdout",
     "output_type": "stream",
     "text": [
      "\n",
      "============================================================\n",
      "JOB DATA ENTRY\n",
      "============================================================\n",
      "URL: https://theorsociety.careerwebsite.com/jobs/view/senior-data-analyst/f14adde5-5255914475/?sort=position\n",
      "------------------------------------------------------------\n"
     ]
    },
    {
     "name": "stdin",
     "output_type": "stream",
     "text": [
      "Job Title:  Senior Data Analyst\n",
      "Company Name:  Warman O'Brien\n",
      "Location:  UK\n",
      "Posting Date (optional):  \n",
      "Salary Info (optional):  \n"
     ]
    },
    {
     "name": "stdout",
     "output_type": "stream",
     "text": [
      "\n",
      "Job Description:\n",
      "(Paste the job description below. Press Enter twice when finished)\n",
      "----------------------------------------\n"
     ]
    },
    {
     "name": "stdin",
     "output_type": "stream",
     "text": [
      " Senior Data Analyst – RWE | Global CRO – Client FSP | UK & Europe | Home based | We’re hiring a Senior Data Analyst to join our clients expanding Real-World Evidence team where you will be fully embedded within our client’s FSP model at a global pharma. This is a fully integrated role supporting oncology observational research, with a strong focus on Flatiron Health data. You’ll play a key role in advancing real-world insights in oncology, leading programming, analyses, and collaborating cross-functionally with epidemiologists, data scientists, and external partners. If you're experienced with Flatiron data and thrive in complex, matrixed environments, this is your opportunity to drive meaningful change in cancer research. What you’ll be doing: Lead statistical programming and analytics using Flatiron Health and other real-world data (RWD) sources, including claims, EHR, genomic, and HEOR data. Develop statistical analysis plans, specifications, and contribute to study reports. Evaluate data feasibility, build patient cohorts, and define/validate variables aligned to oncology study goals. Integrate data across sources and ensure quality control through automation and checks. Deliver analyses on time, on budget, and in line with quality expectations for multiple studies. Collaborate with epidemiologists and scientific teams to refine coding logic, variable definitions, and workflows. Act as a technical and analytical resource for complex RWD projects. What you will need: Master’s degree (with 5–8 years' experience) or PhD (with 2 years) in Biostatistics, Epidemiology, Data Science, or a related field. Extensive experience using Flatiron Health data for real-world oncology research. Expertise in programming oncology-specific methodologies, such as deriving lines of therapy and performing survival analyses. Proficiency in SAS (preferred) or R. Proven experience in real-world studies, especially handling large, complex datasets. Strong organization, prioritization, and communication skills with a sharp eye for detail. What’s in it for you: An exciting opportunity to support innovative clinical research for a leading biotech sponsor, while being part of a globally recognized organization known for its scientific excellence and commitment to improving patient outcomes. Generous remuneration and benefits package. Fully remote role across the UK & Europe. What to do next: If this opportunity is of interest, please apply now with your CV as the organisation are looking to welcome the Senior Data Analyst onboard as soon as possible. Not what you’re looking for? Please contact Jo Fornaciari on 44 7488 822 859 for a confidential discussion about potential opportunities.\n",
      " \n",
      " \n"
     ]
    },
    {
     "name": "stdout",
     "output_type": "stream",
     "text": [
      "\n",
      "============================================================\n",
      "PROCESSING RESULTS\n",
      "============================================================\n",
      "Job Title: Senior Data Analyst\n",
      "Company: Warman O'Brien\n",
      "Location: UK\n",
      "Remote Option: Remote\n",
      "Job Level: Senior\n",
      "Salary Info: Not specified\n",
      "Word Count: 396\n",
      "Masculine Score: 1.52%\n",
      "Feminine Score: 0.76%\n",
      "Neutral Score: 97.72%\n",
      "Gendered Words: F:team; M:strong; M:drive; M:lead; M:control; F:collaborate; M:analytical; M:strong; F:support\n",
      "Manual Review Flag: False\n",
      "\n",
      "Data saved to: C:\\Users\\HP\\OneDrive - University of Southampton\\Documents\\Dissertation Project - Marwa Ashfaq\\Codes\\or_society_jobs.xlsx\n",
      "Total jobs in file: 52\n",
      "\n",
      "✅ Job data saved successfully!\n",
      "\n",
      "----------------------------------------\n"
     ]
    },
    {
     "name": "stdin",
     "output_type": "stream",
     "text": [
      "Do you want to add another job? (y/n):  Y\n"
     ]
    },
    {
     "name": "stdout",
     "output_type": "stream",
     "text": [
      "\n",
      "========================================\n",
      "NEW JOB ENTRY\n",
      "========================================\n"
     ]
    },
    {
     "name": "stdin",
     "output_type": "stream",
     "text": [
      "Enter job URL:  https://theorsociety.careerwebsite.com/jobs/view/senior-data-governance-consultant/f14adde5-5301925036/?sort=position\n"
     ]
    },
    {
     "name": "stdout",
     "output_type": "stream",
     "text": [
      "\n",
      "============================================================\n",
      "JOB DATA ENTRY\n",
      "============================================================\n",
      "URL: https://theorsociety.careerwebsite.com/jobs/view/senior-data-governance-consultant/f14adde5-5301925036/?sort=position\n",
      "------------------------------------------------------------\n"
     ]
    },
    {
     "name": "stdin",
     "output_type": "stream",
     "text": [
      "Job Title:  Senior Data Governance Consultant\n",
      "Company Name:  Billigence\n",
      "Location:  West Kensington, West London, United Kingdom\n",
      "Posting Date (optional):  \n",
      "Salary Info (optional):  \n"
     ]
    },
    {
     "name": "stdout",
     "output_type": "stream",
     "text": [
      "\n",
      "Job Description:\n",
      "(Paste the job description below. Press Enter twice when finished)\n",
      "----------------------------------------\n"
     ]
    },
    {
     "name": "stdin",
     "output_type": "stream",
     "text": [
      " Billigence is a boutique data consultancy with global outreach clientele, transforming the way organizations work with data. We leverage proven, cutting-edge technologies to design, tailor, and implement advanced Business Intelligence solutions with high added value across a wide range of applications from process digitization through Cloud Data Warehousing, Visualisation, Data Science, or Data Governance. Headquartered in Sydney, Australia with offices around the world, we help clients navigate difficult business conditions, remove inefficiencies, and enable scalable adoption of analytics culture.    About the Role:   As a Senior Data Governance Consultant, you will be responsible for ensuring that an organization's data assets are properly managed and used in accordance with policies, regulations, and best practices. You’ll collaborate closely with key stakeholders—including IT, legal, compliance, and business teams—to design and implement data governance strategies that align with the organization’s goals.    This role also requires a solid understanding of Master Data Management, including the ability to define strategy, approach, and lead/support the build and integration of MDM solutions using supporting technologies.    What you'll do:    Serve as a subject matter expert in the implementation of Data Governance and MDM best practices for our clients. Design and promote effective Data Governance and MDM frameworks, policies, and operating models. Collaborate with senior stakeholders to integrate governance and master data principles into enterprise data strategy. Lead the definition and execution of MDM strategy, approach, and roadmaps tailored to client requirements. Deploy and support data governance technologies (e.g., Collibra, Informatica, Alteryx Connect), and train Data Owners and Stewards on their roles and responsibilities. Help clients understand and comply with statutory and regulatory requirements (e.g. GDPR) through effective data governance. Identify risks and opportunities to improve data quality, reduce duplication, and drive data value. When not working directly with clients, contribute to the development of internal tools, training materials, and go-to-market offerings.   What You'll Need:    Experience with Master Data Management (MDM) – including strategy design, governance alignment, solution build, and supporting technologies. Proven experience implementing Data Governance, Data Quality and MDM Solutions (including: Collibra, Erwin DI, Ataccama) Strong knowledge of data governance principles, frameworks, and industry best practices. Ability to design and implement data governance models that align with business goals. Understanding of data management legislation and compliance requirements (e.g., GDPR). Ability to communicate and collaborate with both technical and non-technical stakeholders. Strong problem-solving and analytical skills, especially with complex data sets. High attention to detail and a commitment to data accuracy and completeness. Experience with data modelling and metadata management to support governance efforts. Excellent written and verbal communication skills to influence and engage across all levels of the business.   Benefits:    25 days annual leave entitlement. Hybrid/remote working environment, allowing you a flexible work-life balance to thrive both in the office and from the comfort of your home. Competitive compensations package + performance bonus. Private healthcare insurance. Referral bonus scheme. Coaching, mentoring, and buddy scheme (for faster integration during the probationary period) Certification opportunities throughout your time with us. Career growth support, internal moves, and career advancement opportunities. Modern office located in West London with a football table, coffee, tea and treats, and a snack station at the workplace. Team building and networking events.   Inclusion and equal opportunities: We are always on the lookout for talented individuals to join our team at Billigence. We are an equal opportunity and inclusive employer and are committed to creating an inclusive environment for all applicants and employees. We will consider all applicants for employment without regard to race, ethnicity, national origin, religion, gender identity or expression, sexual orientation, neurodiversity, disability, age, parental or veteran status.\n",
      " \n",
      " \n"
     ]
    },
    {
     "name": "stdout",
     "output_type": "stream",
     "text": [
      "\n",
      "============================================================\n",
      "PROCESSING RESULTS\n",
      "============================================================\n",
      "Job Title: Senior Data Governance Consultant\n",
      "Company: Billigence\n",
      "Location: West Kensington, West London, United Kingdom\n",
      "Remote Option: Remote\n",
      "Job Level: Senior\n",
      "Salary Info: Not specified\n",
      "Word Count: 599\n",
      "Masculine Score: 1.15%\n",
      "Feminine Score: 2.97%\n",
      "Neutral Score: 95.88%\n",
      "Gendered Words: F:help; F:responsible; F:collaborate; M:lead; F:support; F:collaborate; M:lead; F:support; F:connect; F:help; F:understand; M:drive; M:strong; F:communicate; F:collaborate; M:strong; M:analytical; F:support; M:competitive; F:support; F:team; F:team; F:inclusive; F:committed; F:inclusive\n",
      "Manual Review Flag: False\n",
      "\n",
      "Data saved to: C:\\Users\\HP\\OneDrive - University of Southampton\\Documents\\Dissertation Project - Marwa Ashfaq\\Codes\\or_society_jobs.xlsx\n",
      "Total jobs in file: 53\n",
      "\n",
      "✅ Job data saved successfully!\n",
      "\n",
      "----------------------------------------\n"
     ]
    },
    {
     "name": "stdin",
     "output_type": "stream",
     "text": [
      "Do you want to add another job? (y/n):  Y\n"
     ]
    },
    {
     "name": "stdout",
     "output_type": "stream",
     "text": [
      "\n",
      "========================================\n",
      "NEW JOB ENTRY\n",
      "========================================\n"
     ]
    },
    {
     "name": "stdin",
     "output_type": "stream",
     "text": [
      "Enter job URL:  https://theorsociety.careerwebsite.com/jobs/view/analyst-supply-chain-optimisation/f14adde5-5301926176/?keywords=RESEARCH&pos_flt=0&location=&location_completion=&location_type=&location_text=&location_autocomplete=true&location_latlong=&radius=320&sort=position\n"
     ]
    },
    {
     "name": "stdout",
     "output_type": "stream",
     "text": [
      "\n",
      "============================================================\n",
      "JOB DATA ENTRY\n",
      "============================================================\n",
      "URL: https://theorsociety.careerwebsite.com/jobs/view/analyst-supply-chain-optimisation/f14adde5-5301926176/?keywords=RESEARCH&pos_flt=0&location=&location_completion=&location_type=&location_text=&location_autocomplete=true&location_latlong=&radius=320&sort=position\n",
      "------------------------------------------------------------\n"
     ]
    },
    {
     "name": "stdin",
     "output_type": "stream",
     "text": [
      "Job Title:  Analyst (Supply Chain Optimisation)\n",
      "Company Name:  Sainsbury's\n",
      "Location:  Farringdon, Central London, United Kingdom\n",
      "Posting Date (optional):  \n",
      "Salary Info (optional):  \n"
     ]
    },
    {
     "name": "stdout",
     "output_type": "stream",
     "text": [
      "\n",
      "Job Description:\n",
      "(Paste the job description below. Press Enter twice when finished)\n",
      "----------------------------------------\n"
     ]
    },
    {
     "name": "stdin",
     "output_type": "stream",
     "text": [
      "  Sit within the Supply Chain Optimisation team, liaising closely with members of the Supply Chain operations team. • Apply your analytical knowledge to business problems recommending and implementing the analytical approach. • Lead projects, develop & maintain relationships with your stakeholders, championing a collaborative approach to requirements gathering and the formation of compelling analysis. • Move at pace, whilst still delivering high quality, accurate, professional outputs that land the real truths that sit within the data. You will proactively ensure you are always in touch with the ‘Why’ behind every project – understanding the purpose of your analysis, and which decisions the business is looking to inform. • Deliver insights and recommendations through high quality data storytelling. We love data and deriving value from it. The key to the value is in being able to build and tell compelling stories based on this data. • Embrace our values of Owning It, Making it Better and Being Human.   How I will succeed • Able to deliver effective insight using initiative, strong communication skills and ensuring the customer is always the priority across all activities. • Ability to manage multiple stakeholders, at various levels, and their expectations, able to clearly articulate any delays or challenges and manage this accordingly so there are no surprises or issues. • Strong communicator and storyteller, able to flex style based on the audience and convey complex outputs to both technical and non-technical audiences. • Inquisitive in nature and self-driven - able to ask the ‘what if’ and ‘why’ questions. • Seek/generate regular feedback from stakeholders’ teams on how the analytical support material has supported them in meeting their objectives. • Add value to stakeholders by understanding their business need and not just their insight request. Asking “Can I do this in a better way?” • Work cross functionally to ensure stakeholders are aware of any challenges and engaged. • Contributing to the conversation of the team sharing learnings and opportunities for us as individuals and as a team to push our performance forward.   What I need to know Essential • A highly numerate background. You will have a degree in Data Science, Mathematics, statistics or another analytical subject, or analytical work experience. • SQL proficiency is essential. • A proven history of delivering actionable insights and demonstrable business change through the application of analytics. • Brilliant communication skills, having the ability to explain complex information in simple terms • An inquisitive mind, with the curiosity to be constantly on the lookout for opportunities and the ability to logically solve problems. • High attention to detail • The ability to partner brilliantly with the business to understand their problems and deliver value, applying commercial acumen and communicating/connecting in a compelling way. Desirable • Experience working within the Food retail industry is helpful and within Supply Chain would be a big advantage. • Experience using Python or R is helpful but not vital. • Keen to learn and develop. Pro-active about driving your career development and progression. • A high level of team contribution – looking for opportunities to provide input and support across the wider analytics community.   What I need to show Our Valued Behaviours are our common DNA that every colleague should live by and provide the benchmark for how we deliver our goals/individual contribution, and how we relate to other colleagues in the organisation. • Own it o Deliver a wide range of tasks, and take ownership for solving problems that you identify o Actively share your thoughts and are prepared to challenge others in a positive way o Use business context and other information sources to make decisions o Regularly review your goals with your line manager • Make it better o Open minded and try new ways of doing things, making things simpler where possible o Adaptable and respond positively when circumstances change o Show curiosity about the business beyond your immediate role o Seek feedback from those you work with and understand your strengths and development areas o Provide regular fair and accurate feedback to others • Be human o Ask questions to understand where others are coming from. Show care and respect for how others are feeling and provide support to those around you o Listen and ask questions about the needs and motivations of others to build effective relationships o Regularly gather customer feedback and use this insight to continuously improve the customer experience      Responsibilities We believe in providing meaningful work and achieving a real work/life balance. Here, you'll find both. Our Supply Chain team is the engine room for getting thousands of products from farms and factories to our millions of customers every day. We leverage insight and data to anticipate customer needs, ensuring they get what they want, when they need it. You'll be part of a team that is data-driven and judgement-focused, always the first to identify and address any issues or ambiguities. A culture of collaboration, customer obsession, and continuous improvement drives us to deliver market-leading product availability and operational excellence, and fuels our innovation. Our Supply Chain team calls for people who champion change, are customer-obsessed, data-driven, and excel at collaborating and communicating effectively - because those people can go a very long way.  Qualifications We are committed to being a truly inclusive retailer so you’ll be welcomed whoever you are and wherever you work. Around here, there’s always the chance to try something new — whether that’s as part of an evolving team or somewhere else across the business - and we take development seriously and promise to support you. We also recognise and celebrate colleagues when they go the extra mile and, where possible, offer flexible working. When you join our team, we’ll also offer you an amazing range of benefits. Here are some of them:  Starting off with colleague discount, you'll be able to save 10% on your shopping online and instore at Sainsbury's, Argos, TU and Habitat, and we regularly increase the discount to 15% at points during the year. We've also got you covered for your future with our pensions scheme and life cover. You'll also be able to share in our success as you may be eligible for a performance-related bonus of up to 10% of salary, depending on how we perform.  Your wellbeing is important to us too. You'll receive an annual holiday allowance and you can buy up to an additional week's holiday. We also offer other benefits that will help your money go further such as season ticket loans, cycle to work scheme, health cash plans, salary advance (where you can access some of your pay before pay day) as well access to a great range of discounts from hundreds of other retailers. And if you ever need it there is also an employee assistance programme.  Moments that matter are as important to us as they are to you which is why we give up to 26 weeks’ pay for maternity or adoption leave and up to 4 weeks’ pay for paternity leave.  Please see www.sainsburys.jobs for a range of our benefits (note, length of service and eligibiity criteria may apply).\n",
      " \n",
      " \n"
     ]
    },
    {
     "name": "stdout",
     "output_type": "stream",
     "text": [
      "\n",
      "============================================================\n",
      "PROCESSING RESULTS\n",
      "============================================================\n",
      "Job Title: Analyst (Supply Chain Optimisation)\n",
      "Company: Sainsbury's\n",
      "Location: Farringdon, Central London, United Kingdom\n",
      "Remote Option: Hybrid\n",
      "Job Level: Senior\n",
      "Salary Info: Not specified\n",
      "Word Count: 1170\n",
      "Masculine Score: 1.11%\n",
      "Feminine Score: 2.13%\n",
      "Neutral Score: 96.76%\n",
      "Gendered Words: F:team; F:team; M:analytical; M:analytical; M:lead; F:collaborative; M:strong; M:manage; M:manage; M:strong; M:analytical; F:support; F:team; F:team; M:analytical; M:analytical; F:understand; F:team; F:support; F:community; M:individual; F:share; M:challenge; F:understand; F:understand; F:care; F:support; F:team; F:team; F:team; M:excel; F:committed; F:inclusive; F:team; F:support; F:team; F:share; F:help\n",
      "Manual Review Flag: False\n",
      "\n",
      "Data saved to: C:\\Users\\HP\\OneDrive - University of Southampton\\Documents\\Dissertation Project - Marwa Ashfaq\\Codes\\or_society_jobs.xlsx\n",
      "Total jobs in file: 54\n",
      "\n",
      "✅ Job data saved successfully!\n",
      "\n",
      "----------------------------------------\n"
     ]
    },
    {
     "name": "stdin",
     "output_type": "stream",
     "text": [
      "Do you want to add another job? (y/n):  Y\n"
     ]
    },
    {
     "name": "stdout",
     "output_type": "stream",
     "text": [
      "\n",
      "========================================\n",
      "NEW JOB ENTRY\n",
      "========================================\n"
     ]
    },
    {
     "name": "stdin",
     "output_type": "stream",
     "text": [
      "Enter job URL:  https://theorsociety.careerwebsite.com/jobs/view/analyst-bi-development-data-modelling-crawley/f14adde5-5303430059/?keywords=RESEARCH&pos_flt=0&location=&location_completion=&location_type=&location_text=&location_autocomplete=true&location_latlong=&radius=320&sort=position\n"
     ]
    },
    {
     "name": "stdout",
     "output_type": "stream",
     "text": [
      "\n",
      "============================================================\n",
      "JOB DATA ENTRY\n",
      "============================================================\n",
      "URL: https://theorsociety.careerwebsite.com/jobs/view/analyst-bi-development-data-modelling-crawley/f14adde5-5303430059/?keywords=RESEARCH&pos_flt=0&location=&location_completion=&location_type=&location_text=&location_autocomplete=true&location_latlong=&radius=320&sort=position\n",
      "------------------------------------------------------------\n"
     ]
    },
    {
     "name": "stdin",
     "output_type": "stream",
     "text": [
      "Job Title:  Analyst - BI Development & Data Modelling - Crawley\n",
      "Company Name:  Virgin Atlantic\n",
      "Location:  Crawley, West Sussex, United Kingdom\n",
      "Posting Date (optional):  \n",
      "Salary Info (optional):  \n"
     ]
    },
    {
     "name": "stdout",
     "output_type": "stream",
     "text": [
      "\n",
      "Job Description:\n",
      "(Paste the job description below. Press Enter twice when finished)\n",
      "----------------------------------------\n"
     ]
    },
    {
     "name": "stdin",
     "output_type": "stream",
     "text": [
      " Hours: 37.5 hrs per week Monday to Friday  Contract: Permanent  Location: Hybrid remote working with 3 days a week in the VHQ, Crawley  Closing Date: 18th July  In a nutshell  Are you ready to build the foundation of data-driven decision-making at Virgin Atlantic? As an Analyst - BI & Data Modelling, you will develop and maintain robust data models that support BI reporting needs, optimizing them for performance and scalability while ensuring seamless integration with existing data architecture.  In this role, you will create and maintain BI reports and dashboards, using best practices in data visualization to deliver clear and actionable insights that align with established standards and templates. Working closely with the Manager - BI & Analytics Delivery and Managers - BI & Reporting, you will ensure data models and reporting initiatives are aligned with BI strategy and contribute to the development of BI governance policies.  Your technical expertise will be vital as you provide guidance and support to spoke analysts on data modelling and reporting, leading training sessions and workshops to enhance their skills and ensuring effective use of BI tools and technologies. Committed to maintaining high data quality and accuracy, you will document data models, definitions, and reporting processes comprehensively, conducting regular reviews and updates to keep data relevant and reliable.  If you are passionate about data modelling and BI, and eager to play a key role in delivering insights that drive business success, this is your opportunity to join Virgin Atlantic and elevate your career while shaping the future of data analytics.  Day to day  Develop and maintain data models to support BI reporting needs, ensuring performance and scalability. Collaborate with data engineers to integrate data models with existing data architecture. Create and maintain BI reports and dashboards based on business requirements, using best practices in data visualization. Ensure reports and dashboards align with established standards and templates. Work closely with BI & Reporting Managers to align data models and reporting initiatives with BI strategies. Support the development of BI strategies and governance policies. Provide input on best practices for data modelling and reporting across teams. Offer technical support and guidance to spoke analysts on data modelling and reporting. Conduct training sessions and workshops to enhance the skills of spoke analysts in BI tools and technologies. Ensure high data quality and accuracy in data models and reports, with clear and comprehensive documentation. About you  Experience in data modelling, BI reporting, data analysis or a related field. Bachelor's degree in Data Science, Information Technology, Computer Science, Business Analytics, or a related discipline, or equivalent practical experience. Proven expertise in developing and maintaining data models optimized for performance and scalability. Strong proficiency in SQL scripting & data visualization tools and technologies such as Power BI, Tableau, or similar platforms, with a track record of creating high-quality reports and dashboards. Hands on with Databricks is a bonus. Excellent communication and collaboration skills, with the ability to provide technical support and training to analysts, work effectively with cross-functional teams, and ensure high data quality and accurate documentation. Be yourself - Our differences make us stronger  Our customers come from all walks of life and so do our colleagues. That's why we're proud to be an equal opportunity employer and actively encourage applications from all backgrounds. At Virgin Atlantic, we believe everyone can take on the world - no matter your age, gender, gender identity, gender expression, ethnicity, sexual orientation, disabilities, religion, or beliefs. We celebrate difference and everything that makes our colleagues unique by upholding an inclusive environment in which we can all thrive. So that everyone at Virgin Atlantic can be themselves and know they belong.  To make your journey with us accessible and individual to you, we encourage you to let us know if you'd like a little extra help with your application, or if you have any individual requirements at any stage along your recruitment journey. We are here to support you, so please reach out to our team, (recruitment@fly.virgin.com) feeling confident that we've got your individual considerations covered.  Our recipe for leadership  At Virgin Atlantic, our leaders empower teams to thrive through collaboration, innovation, and excellence. Explore our Leadership Recipe and discover the 20 core ingredients that define what it means to lead with us, driving our mission to be the most loved travel company and achieve sustainable profit. Want to learn more? Click here\n",
      " \n",
      " \n"
     ]
    },
    {
     "name": "stdout",
     "output_type": "stream",
     "text": [
      "\n",
      "============================================================\n",
      "PROCESSING RESULTS\n",
      "============================================================\n",
      "Job Title: Analyst - BI Development & Data Modelling - Crawley\n",
      "Company: Virgin Atlantic\n",
      "Location: Crawley, West Sussex, United Kingdom\n",
      "Remote Option: Remote\n",
      "Job Level: Senior\n",
      "Salary Info: Not specified\n",
      "Word Count: 730\n",
      "Masculine Score: 1.24%\n",
      "Feminine Score: 1.65%\n",
      "Neutral Score: 97.11%\n",
      "Gendered Words: M:decision; F:support; F:support; F:committed; M:drive; F:support; F:collaborate; F:support; F:support; M:strong; F:support; F:inclusive; M:individual; F:help; M:individual; F:support; F:team; M:confident; M:individual; M:lead; M:achieve\n",
      "Manual Review Flag: False\n",
      "\n",
      "Data saved to: C:\\Users\\HP\\OneDrive - University of Southampton\\Documents\\Dissertation Project - Marwa Ashfaq\\Codes\\or_society_jobs.xlsx\n",
      "Total jobs in file: 55\n",
      "\n",
      "✅ Job data saved successfully!\n",
      "\n",
      "----------------------------------------\n"
     ]
    },
    {
     "name": "stdin",
     "output_type": "stream",
     "text": [
      "Do you want to add another job? (y/n):  Y\n"
     ]
    },
    {
     "name": "stdout",
     "output_type": "stream",
     "text": [
      "\n",
      "========================================\n",
      "NEW JOB ENTRY\n",
      "========================================\n"
     ]
    },
    {
     "name": "stdin",
     "output_type": "stream",
     "text": [
      "Enter job URL:  https://theorsociety.careerwebsite.com/jobs/view/analytics-engineer/f14adde5-5287050271/?keywords=RESEARCH&pos_flt=0&location=&location_completion=&location_type=&location_text=&location_autocomplete=true&location_latlong=&radius=320&sort=position\n"
     ]
    },
    {
     "name": "stdout",
     "output_type": "stream",
     "text": [
      "\n",
      "============================================================\n",
      "JOB DATA ENTRY\n",
      "============================================================\n",
      "URL: https://theorsociety.careerwebsite.com/jobs/view/analytics-engineer/f14adde5-5287050271/?keywords=RESEARCH&pos_flt=0&location=&location_completion=&location_type=&location_text=&location_autocomplete=true&location_latlong=&radius=320&sort=position\n",
      "------------------------------------------------------------\n"
     ]
    },
    {
     "name": "stdin",
     "output_type": "stream",
     "text": [
      "Job Title:  Analytics Engineer\n",
      "Company Name:  Just Eat Holding Limited\n",
      "Location:  Bristol\n",
      "Posting Date (optional):  \n",
      "Salary Info (optional):  \n"
     ]
    },
    {
     "name": "stdout",
     "output_type": "stream",
     "text": [
      "\n",
      "Job Description:\n",
      "(Paste the job description below. Press Enter twice when finished)\n",
      "----------------------------------------\n"
     ]
    },
    {
     "name": "stdin",
     "output_type": "stream",
     "text": [
      " Then Just Eat Takeaway.com might be the place for you. We’re a leading global online food delivery platform, and our vision is to empower everyday convenience.  Whether it’s a Friday-night feast, a post-gym poke bowl, or grabbing some groceries, our tech platform connects tens of millions of customers with hundreds of thousands of restaurant, grocery and convenience partners across the globe.  About the role  Just Eat Takeaway is looking to hire an Analytics Engineer for the Food Discovery Algorithms team, which is responsible for building machine learning driven features that help our customers to find the restaurants and dishes they’ll love. You will be working in a data-driven environment as part of a multidisciplinary team. You will work closely with our data scientists, product manager, analyst and engineers to ensure the data that is required for our features and analytics is reliable, suitable and easy to use.   You will be a self-starter with an interest in data, experimentation and machine learning, able to work with uncertainty and evolving requirements as we adapt and change to new insights and data, You don’t need prior experience of working with machine learning, but you will be someone who is confident with large datasets, and able to work closely with others or under your own initiative to collaborate, learn and solve problems.  These are some of the key ingredients to the role:  Designing and implementing datasets using ETL pipelines written in SQL that can be used by the team for various purposes such as training models or evaluating feature performance. These will need to be quality assured, well documented and with sufficient observability for anomaly detection in the underlying data. To build these datasets, it may be necessary to collect requirements from product, engineering or data science. Contributing to the definition of product features based on your knowledge of the data points that will power them. What will you bring to the table:  Strong experience with SQL, including an understanding of how to improve the efficiency of SQL queries. Experience of working with and analysing data. Can plot distributions, describe qualities of data sets. Is statistically or mathematically mindful. Have some experience dealing with data quality and how to handle missing values. Can make informed decisions based on the domain. Able to collaborate effectively with product, IT stakeholders and other colleagues Experience of web and app tracking implementations on customer-facing or ecommerce applications Has some understanding of Cloud Services (Amazon Web Services or similar e.g Azure, Google Cloud) and event-driven architecture. At JET, this is on the menu:  Our teams forge connections internally and work with some of the best-known brands on the planet, giving us truly international impact in a dynamic environment.  Fun, fast-paced and supportive, the JET culture is about movement, growth and about celebrating every aspect of our JETers. Thanks to them we stay one step ahead of the competition.  Inclusion, Diversity & Belonging: No matter who you are, what you look like, who you love, or where you are from, you can find your place at Just Eat Takeaway.com. We’re committed to creating an inclusive culture, encouraging diversity of people and thinking, in which all employees feel they truly belong and can bring their most colourful selves to work every day.  What else are we delivering? Want to know more about our JETers, culture or company? Have a look at our career site where you can find people's stories, blogs, podcasts and more JET morsels.    Are you ready to take your seat? Apply now!  #LI-CB2\n",
      " \n",
      " \n"
     ]
    },
    {
     "name": "stdout",
     "output_type": "stream",
     "text": [
      "\n",
      "============================================================\n",
      "PROCESSING RESULTS\n",
      "============================================================\n",
      "Job Title: Analytics Engineer\n",
      "Company: Just Eat Holding Limited\n",
      "Location: Bristol\n",
      "Remote Option: On-site\n",
      "Job Level: Senior\n",
      "Salary Info: Not specified\n",
      "Word Count: 590\n",
      "Masculine Score: 0.33%\n",
      "Feminine Score: 1.66%\n",
      "Neutral Score: 98.01%\n",
      "Gendered Words: F:team; F:responsible; F:help; F:team; M:confident; F:collaborate; F:team; M:strong; F:collaborate; F:supportive; F:committed; F:inclusive\n",
      "Manual Review Flag: False\n",
      "\n",
      "Data saved to: C:\\Users\\HP\\OneDrive - University of Southampton\\Documents\\Dissertation Project - Marwa Ashfaq\\Codes\\or_society_jobs.xlsx\n",
      "Total jobs in file: 56\n",
      "\n",
      "✅ Job data saved successfully!\n",
      "\n",
      "----------------------------------------\n"
     ]
    },
    {
     "name": "stdin",
     "output_type": "stream",
     "text": [
      "Do you want to add another job? (y/n):  y\n"
     ]
    },
    {
     "name": "stdout",
     "output_type": "stream",
     "text": [
      "\n",
      "========================================\n",
      "NEW JOB ENTRY\n",
      "========================================\n"
     ]
    },
    {
     "name": "stdin",
     "output_type": "stream",
     "text": [
      "Enter job URL:  https://theorsociety.careerwebsite.com/jobs/view/associate-director-biostatistics/f14adde5-5301454353/?keywords=RESEARCH&pos_flt=0&location=&location_completion=&location_type=&location_text=&location_autocomplete=true&location_latlong=&radius=320&sort=position\n"
     ]
    },
    {
     "name": "stdout",
     "output_type": "stream",
     "text": [
      "\n",
      "============================================================\n",
      "JOB DATA ENTRY\n",
      "============================================================\n",
      "URL: https://theorsociety.careerwebsite.com/jobs/view/associate-director-biostatistics/f14adde5-5301454353/?keywords=RESEARCH&pos_flt=0&location=&location_completion=&location_type=&location_text=&location_autocomplete=true&location_latlong=&radius=320&sort=position\n",
      "------------------------------------------------------------\n"
     ]
    },
    {
     "name": "stdin",
     "output_type": "stream",
     "text": [
      "Job Title:  Associate Director Biostatistics\n",
      "Company Name:  Novartis\n",
      "Location:  London\n",
      "Posting Date (optional):  \n",
      "Salary Info (optional):  \n"
     ]
    },
    {
     "name": "stdout",
     "output_type": "stream",
     "text": [
      "\n",
      "Job Description:\n",
      "(Paste the job description below. Press Enter twice when finished)\n",
      "----------------------------------------\n"
     ]
    },
    {
     "name": "stdin",
     "output_type": "stream",
     "text": [
      " Within the Quantitative Sciences drug development function, the Advanced Methodology and Data Science pillar plays a crucial role in enhancing analytical capabilities to support drug development and regulatory decision-making. This Associate Director position focuses on optimizing approaches for data-driven decision-making, utilizing clinical study data along with other internal and external data sources.  Key Responsibilities  Advanced Modeling & Simulation: Develop and apply sophisticated models to optimize study design, analyze complex datasets, and enhance predictive capabilities. Innovative Analytical Methods: Explore and implement novel statistical techniques such as Bayesian modeling, Statistical Learning, Machine Learning, and Causal Inference. Rapid-Response Analyses: Conduct flexible, rapid-response analyses to address emerging scientific and regulatory questions. Cross-Functional Collaboration: Work closely with Biostatistics, Pharmacometrics, Statistical Programming, and drug development teams to enhance study design, data interpretation, and evidence generation strategies. Problem Identification and Solution Development: Identify recurring problems and use a combination of reproducible research techniques and tool development to provide general solutions that can be applied repeatedly.  Quantitative Science Education: Play a key role in quantitative science education and awareness efforts.  About The Role  Location: United Kingdom  Within the Quantitative Sciences drug development function, the Advanced Methodology and Data Science pillar plays a crucial role in enhancing analytical capabilities to support drug development and regulatory decision-making. This Associate Director position focuses on optimizing approaches for data-driven decision-making, utilizing clinical study data along with other internal and external data sources.  Advanced Modeling & Simulation: Develop and apply sophisticated models to optimize study design, analyze complex datasets, and enhance predictive capabilities. Innovative Analytical Methods: Explore and implement novel statistical techniques such as Bayesian modeling, Statistical Learning, Machine Learning, and Causal Inference. Rapid-Response Analyses: Conduct flexible, rapid-response analyses to address emerging scientific and regulatory questions. Cross-Functional Collaboration: Work closely with Biostatistics, Pharmacometrics, Statistical Programming, and drug development teams to enhance study design, data interpretation, and evidence generation strategies. Problem Identification and Solution Development: Identify recurring problems and use a combination of reproducible research techniques and tool development to provide general solutions that can be applied repeatedly. Quantitative Science Education: Play a key role in quantitative science education and awareness efforts.  Key Responsibilities  Project Level:  Lead project support with hands-on expertise in novel quantitative approaches, including innovative clinical trial design, quantitative decision-making, and incorporating big data evidence (e.g., biomarkers, digital technology, real-world evidence). Foster collaborative relationships and effective communication with Biostatistics, Pharmacometrics, and development teams to promote and implement innovation. Provide agile consulting, guidance, and non-standard exploratory analysis for urgent, unplanned problems. Implement and communicate innovative quantitative methods to support regulatory submissions and health authority meetings.  Development Unit/ Enterprise Level  Support advanced analytical methods to improve decision-making at the development unit level, including key development decision points, project transitions from research to development, dose-finding, clinical development plans, target product profiles, portfolio evaluations, and in-licensing assessments. Develop presentations on the use of advanced quantitative methodologies.  Scientific Innovation And Training  Develop new quantitative methods to improve drug development across multiple projects, focusing on clinical trial design, modeling, visualization, machine learning and good data science practice. Evaluate the need for new technology, scientific software, visualization tools, and computational approaches to enhance efficiency and quality in drug development. Play a key role in global clinical innovation projects, emphasizing the practical application of innovative quantitative approaches. Provide training on quantitative methods to colleagues in Biostatistics, Pharmacometrics, and other development functions.  External Engagement  Collaborate with regulatory, academic, and industry partners to advance drug development science through innovative quantitative approaches. Publish in peer-reviewed journals, organize sessions at professional conferences, and contribute to cross-industry work streams in external scientific working groups. Identify opportunities for colleagues in Biostatistics and Pharmacometrics to contribute externally.  Essential Requirements  Ph.D. in statistics, biostatistics, data science, machine learning, computational biology or another related field Fluent English oral and written Very good communication and presentation skill 6 years of relevant experience with application of innovative quantitative methods from the R&D or academic setting Expert knowledge in a number of relevant quantitative approaches in terms of both theory and hands-on experience  Benefits And Rewards  Competitive salary, Sales incentive bonus, Pension scheme, Share purchase scheme,Health insurance, 25 days annual leave, Flexible working arrangements, subsidized dining facilities, Employee recognition scheme, learning and development opportunities.  Commitment To Diversity And Inclusion  Novartis is committed to building an outstanding, inclusive work environment and diverse teams representative of the patients and communities we serve.  Why Novartis: Helping people with disease and their families takes more than innovative science. It takes a community of smart, passionate people like you. Collaborating, supporting and inspiring each other. Combining to achieve breakthroughs that change patients’ lives. Ready to create a brighter future together? https://www.novartis.com/about/strategy/people-and-culture  Join our Novartis Network: Not the right Novartis role for you? Sign up to our talent community to stay connected and learn about suitable career opportunities as soon as they come up: https://talentnetwork.novartis.com/network  Benefits and Rewards: Read our handbook to learn about all the ways we’ll help you thrive personally and professionally: https://www.novartis.com/careers/benefits-rewards\n",
      " \n",
      " \n"
     ]
    },
    {
     "name": "stdout",
     "output_type": "stream",
     "text": [
      "\n",
      "============================================================\n",
      "PROCESSING RESULTS\n",
      "============================================================\n",
      "Job Title: Associate Director Biostatistics\n",
      "Company: Novartis\n",
      "Location: London\n",
      "Remote Option: Hybrid\n",
      "Job Level: Senior\n",
      "Salary Info: Not specified\n",
      "Word Count: 827\n",
      "Masculine Score: 1.75%\n",
      "Feminine Score: 1.75%\n",
      "Neutral Score: 96.5%\n",
      "Gendered Words: M:analytical; F:support; M:decision; M:decision; M:analytical; M:analytical; F:support; M:decision; M:decision; M:analytical; M:lead; F:support; M:decision; F:collaborative; F:communicate; F:support; F:support; M:analytical; M:decision; M:decision; F:collaborate; M:competitive; F:share; F:committed; F:inclusive; F:community; M:achieve; F:together; F:community; F:help\n",
      "Manual Review Flag: False\n",
      "\n",
      "Data saved to: C:\\Users\\HP\\OneDrive - University of Southampton\\Documents\\Dissertation Project - Marwa Ashfaq\\Codes\\or_society_jobs.xlsx\n",
      "Total jobs in file: 57\n",
      "\n",
      "✅ Job data saved successfully!\n",
      "\n",
      "----------------------------------------\n"
     ]
    },
    {
     "name": "stdin",
     "output_type": "stream",
     "text": [
      "Do you want to add another job? (y/n):  y\n"
     ]
    },
    {
     "name": "stdout",
     "output_type": "stream",
     "text": [
      "\n",
      "========================================\n",
      "NEW JOB ENTRY\n",
      "========================================\n"
     ]
    },
    {
     "name": "stdin",
     "output_type": "stream",
     "text": [
      "Enter job URL:  https://theorsociety.careerwebsite.com/jobs/view/associate-vp-quant-analysis-morgan-mckinley/f14adde5-5273349384/?keywords=RESEARCH&pos_flt=0&location=&location_completion=&location_type=&location_text=&location_autocomplete=true&location_latlong=&radius=320&sort=position\n"
     ]
    },
    {
     "name": "stdout",
     "output_type": "stream",
     "text": [
      "\n",
      "============================================================\n",
      "JOB DATA ENTRY\n",
      "============================================================\n",
      "URL: https://theorsociety.careerwebsite.com/jobs/view/associate-vp-quant-analysis-morgan-mckinley/f14adde5-5273349384/?keywords=RESEARCH&pos_flt=0&location=&location_completion=&location_type=&location_text=&location_autocomplete=true&location_latlong=&radius=320&sort=position\n",
      "------------------------------------------------------------\n"
     ]
    },
    {
     "name": "stdin",
     "output_type": "stream",
     "text": [
      "Job Title:  Associate VP (Quant Analysis) - Morgan McKinley\n",
      "Company Name:  Morgan McKinley\n",
      "Location:  London\n",
      "Posting Date (optional):  \n",
      "Salary Info (optional):  \n"
     ]
    },
    {
     "name": "stdout",
     "output_type": "stream",
     "text": [
      "\n",
      "Job Description:\n",
      "(Paste the job description below. Press Enter twice when finished)\n",
      "----------------------------------------\n"
     ]
    },
    {
     "name": "stdin",
     "output_type": "stream",
     "text": [
      " Independent model validation of quantitative methodologies, both initial and periodic, across all asset classes and model types (derivative pricing models, credit and market risk, capital models, AI models, etc. ) and in line with regulatory requirements and industry best practice. The validation regularly requires an independent implementation of the models and the implementation of alternative challenger models.  KEY RESPONSIBILITIES  Initial and periodic validation of quant models Designing, modelling and prototyping challenger models Quantitative analysis and review of model frameworks, assumptions, data, and results Testing models numerical implementations and reviewing documentations Checking the adherence to governance requirements Documentation of findings in validation reports, including raising recommendations for model improvements Ensuring models are validated in line with regulatory requirements and industry best practice Tracking remediation of validation recommendations   SKILLS AND EXPERIENCE  Essential: At least a first relevant experience in quantitative modelling (model development or validation) in one or more of these topics: Market risk models Counterparty credit risk models Derivatives pricing models  Optional: Capital models (Economic/Regulatory) Corporate credit risk models (IRB, PD/LGD/EAD)   Competencies:  Essential: Good background in Math and Probability theory - applied to finance. Good knowledge of Data Science and Statistical inference techniques. Good understanding of financial products. Good programming level in Python or R or equivalent. Good knowledge of simulation and numerical methods Awareness of latest technical developments in financial mathematics, pricing, and risk modelling   Beneficial: Experience with AI models Experience with C++ or C# or equivalent   Optional: Up-to-date knowledge of regulatory capital requirements for market and credit risk   Education : A Postgraduate degree in a quantitative discipline (e.g., statistics, mathematics, mathematical finance, econometrics)   PERSONAL REQUIREMENTS Strong problem solving skills Strong numerical skills A structured and logical approach to work Excellent attention to detail Excellent written and oral communication skills Ability to clearly explain technical matters A pro-active, motivated approach\n",
      " \n",
      " \n"
     ]
    },
    {
     "name": "stdout",
     "output_type": "stream",
     "text": [
      "\n",
      "============================================================\n",
      "PROCESSING RESULTS\n",
      "============================================================\n",
      "Job Title: Associate VP (Quant Analysis) - Morgan McKinley\n",
      "Company: Morgan McKinley\n",
      "Location: London\n",
      "Remote Option: On-site\n",
      "Job Level: Senior\n",
      "Salary Info: Not specified\n",
      "Word Count: 303\n",
      "Masculine Score: 1.32%\n",
      "Feminine Score: 0.0%\n",
      "Neutral Score: 98.68%\n",
      "Gendered Words: M:independent; M:independent; M:strong; M:strong\n",
      "Manual Review Flag: False\n",
      "\n",
      "Data saved to: C:\\Users\\HP\\OneDrive - University of Southampton\\Documents\\Dissertation Project - Marwa Ashfaq\\Codes\\or_society_jobs.xlsx\n",
      "Total jobs in file: 58\n",
      "\n",
      "✅ Job data saved successfully!\n",
      "\n",
      "----------------------------------------\n"
     ]
    },
    {
     "name": "stdin",
     "output_type": "stream",
     "text": [
      "Do you want to add another job? (y/n):  y\n"
     ]
    },
    {
     "name": "stdout",
     "output_type": "stream",
     "text": [
      "\n",
      "========================================\n",
      "NEW JOB ENTRY\n",
      "========================================\n"
     ]
    },
    {
     "name": "stdin",
     "output_type": "stream",
     "text": [
      "Enter job URL:  https://theorsociety.careerwebsite.com/jobs/view/business-analyst-fmcg/f14adde5-5306064361/?keywords=RESEARCH&pos_flt=0&location=&location_completion=&location_type=&location_text=&location_autocomplete=true&location_latlong=&radius=320&sort=position\n"
     ]
    },
    {
     "name": "stdout",
     "output_type": "stream",
     "text": [
      "\n",
      "============================================================\n",
      "JOB DATA ENTRY\n",
      "============================================================\n",
      "URL: https://theorsociety.careerwebsite.com/jobs/view/business-analyst-fmcg/f14adde5-5306064361/?keywords=RESEARCH&pos_flt=0&location=&location_completion=&location_type=&location_text=&location_autocomplete=true&location_latlong=&radius=320&sort=position\n",
      "------------------------------------------------------------\n"
     ]
    },
    {
     "name": "stdin",
     "output_type": "stream",
     "text": [
      "Job Title:  Business Analyst - FMCG\n",
      "Company Name:  Bucks and Berks Recruitment\n",
      "Location:  Bourne End, Buckinghamshire, United Kingdom\n",
      "Posting Date (optional):  \n",
      "Salary Info (optional):  \n"
     ]
    },
    {
     "name": "stdout",
     "output_type": "stream",
     "text": [
      "\n",
      "Job Description:\n",
      "(Paste the job description below. Press Enter twice when finished)\n",
      "----------------------------------------\n"
     ]
    },
    {
     "name": "stdin",
     "output_type": "stream",
     "text": [
      " We are looking for a bright individual with strong knowledge of data analytics apps, ideally you will have experience using at least one of the following: Jet reports, Power BI, Qlikview.  The ideal candidate will have 3 years + experience as a Business Analyst, FMCG industry experience highly beneficial.  The purpose of this role is to provide data extraction and analytics services to a wide range of clients both internal and external. The role is positioned within Operations and is also expected to provide planning and business improvement services to customer service, warehouse and purchasing.  Salary is up to £35,000 depending on experience. Plus, a range of excellent benefits including generous pension and annual leave entitlement.  Key Responsibilities  Maintain the monthly order file (including maintenance of safety stock levels for key lines) as the basis for calculating replenishment requirements for stock items Expedite and report on outstanding Purchase Order lines on weekly basis Ensure that all Operations activities are tracked and measured to report on resource utilisation Publish and update the main Operations and wider business dashboards Maintain and publish an up to date price file for all goods which are regularly ordered Deal with all incoming customs clearance documentation and processes Identify and map processes for improvement or automation, design new reports Key Requirements  Degree level education with emphasis on analytics/operational research 3yrs experience in an analytical role ideally in an FMCG product based organisation Understand business process, evaluate it and suggest improvements with metrics Exposure to AI as a means of providing improvements across an organisation Be a strong team player Clear and concise communicator Please note that we will only contact those candidates that we assess as suitable for the positions we have currently available based on their experience, training, and skills. If we do not have anything suitable, we will not keep your CV for more than 30 days.  As an equal opportunity employer, Bucks and Berks Recruitment is committed to the equal treatment of all current and prospective employees and does not condone discrimination on the basis of age, disability, sex, sexual orientation, pregnancy and maternity, race or ethnicity, religion or belief, gender identity, or marriage and civil partnership. We aspire to have a diverse and inclusive workplace and strongly encourage suitably qualified applicants from a wide range of backgrounds to apply.\n",
      " \n",
      " \n"
     ]
    },
    {
     "name": "stdout",
     "output_type": "stream",
     "text": [
      "\n",
      "============================================================\n",
      "PROCESSING RESULTS\n",
      "============================================================\n",
      "Job Title: Business Analyst - FMCG\n",
      "Company: Bucks and Berks Recruitment\n",
      "Location: Bourne End, Buckinghamshire, United Kingdom\n",
      "Remote Option: On-site\n",
      "Job Level: Junior\n",
      "Salary Info: Not specified\n",
      "Word Count: 387\n",
      "Masculine Score: 1.04%\n",
      "Feminine Score: 1.04%\n",
      "Neutral Score: 97.92%\n",
      "Gendered Words: M:individual; M:strong; M:analytical; F:understand; M:strong; F:team; F:committed; F:inclusive\n",
      "Manual Review Flag: False\n",
      "\n",
      "Data saved to: C:\\Users\\HP\\OneDrive - University of Southampton\\Documents\\Dissertation Project - Marwa Ashfaq\\Codes\\or_society_jobs.xlsx\n",
      "Total jobs in file: 59\n",
      "\n",
      "✅ Job data saved successfully!\n",
      "\n",
      "----------------------------------------\n"
     ]
    },
    {
     "name": "stdin",
     "output_type": "stream",
     "text": [
      "Do you want to add another job? (y/n):  y\n"
     ]
    },
    {
     "name": "stdout",
     "output_type": "stream",
     "text": [
      "\n",
      "========================================\n",
      "NEW JOB ENTRY\n",
      "========================================\n"
     ]
    },
    {
     "name": "stdin",
     "output_type": "stream",
     "text": [
      "Enter job URL:  https://theorsociety.careerwebsite.com/jobs/view/business-analyst-fmcg/f14adde5-5306064361/?keywords=RESEARCH&pos_flt=0&location=&location_completion=&location_type=&location_text=&location_autocomplete=true&location_latlong=&radius=320&sort=position\n"
     ]
    },
    {
     "name": "stdout",
     "output_type": "stream",
     "text": [
      "\n",
      "============================================================\n",
      "JOB DATA ENTRY\n",
      "============================================================\n",
      "URL: https://theorsociety.careerwebsite.com/jobs/view/business-analyst-fmcg/f14adde5-5306064361/?keywords=RESEARCH&pos_flt=0&location=&location_completion=&location_type=&location_text=&location_autocomplete=true&location_latlong=&radius=320&sort=position\n",
      "------------------------------------------------------------\n"
     ]
    },
    {
     "name": "stdin",
     "output_type": "stream",
     "text": [
      "Job Title:  nn\n",
      "Company Name:  n\n",
      "Location:  n\n",
      "Posting Date (optional):  n\n",
      "Salary Info (optional):  n\n"
     ]
    },
    {
     "name": "stdout",
     "output_type": "stream",
     "text": [
      "\n",
      "Job Description:\n",
      "(Paste the job description below. Press Enter twice when finished)\n",
      "----------------------------------------\n"
     ]
    },
    {
     "name": "stdin",
     "output_type": "stream",
     "text": [
      " n\n",
      " n\n",
      " n\n",
      " n\n",
      " \n",
      " \n"
     ]
    },
    {
     "name": "stdout",
     "output_type": "stream",
     "text": [
      "\n",
      "============================================================\n",
      "PROCESSING RESULTS\n",
      "============================================================\n",
      "Job Title: nn\n",
      "Company: n\n",
      "Location: n\n",
      "Remote Option: On-site\n",
      "Job Level: Not specified\n",
      "Salary Info: n\n",
      "Word Count: 4\n",
      "Masculine Score: 0.0%\n",
      "Feminine Score: 0.0%\n",
      "Neutral Score: 100.0%\n",
      "Manual Review Flag: True\n",
      "\n",
      "Data saved to: C:\\Users\\HP\\OneDrive - University of Southampton\\Documents\\Dissertation Project - Marwa Ashfaq\\Codes\\or_society_jobs.xlsx\n",
      "Total jobs in file: 60\n",
      "\n",
      "✅ Job data saved successfully!\n",
      "\n",
      "----------------------------------------\n"
     ]
    },
    {
     "name": "stdin",
     "output_type": "stream",
     "text": [
      "Do you want to add another job? (y/n):  y\n"
     ]
    },
    {
     "name": "stdout",
     "output_type": "stream",
     "text": [
      "\n",
      "========================================\n",
      "NEW JOB ENTRY\n",
      "========================================\n"
     ]
    },
    {
     "name": "stdin",
     "output_type": "stream",
     "text": [
      "Enter job URL:  https://www.adzuna.co.uk/jobs/details/5264913155?utm_source=adzuna&utm_medium=application\n"
     ]
    },
    {
     "name": "stdout",
     "output_type": "stream",
     "text": [
      "\n",
      "============================================================\n",
      "JOB DATA ENTRY\n",
      "============================================================\n",
      "URL: https://www.adzuna.co.uk/jobs/details/5264913155?utm_source=adzuna&utm_medium=application\n",
      "------------------------------------------------------------\n"
     ]
    },
    {
     "name": "stdin",
     "output_type": "stream",
     "text": [
      "Job Title:  Research Analyst\n",
      "Company Name:  Executive Integrity\n",
      "Location:  London\n",
      "Posting Date (optional):  \n",
      "Salary Info (optional):  \n"
     ]
    },
    {
     "name": "stdout",
     "output_type": "stream",
     "text": [
      "\n",
      "Job Description:\n",
      "(Paste the job description below. Press Enter twice when finished)\n",
      "----------------------------------------\n"
     ]
    },
    {
     "name": "stdin",
     "output_type": "stream",
     "text": [
      " Who are we recruiting for? We are supporting a forward-thinking, award-winning clean tech company that is transforming the global shipping industry. This unique organisation pioneers wind propulsion systems that help shipowners cut emissions and fuel costs. With a strong focus on decarbonisation and innovation, they are a motivated team passionate about sustainability and impact.  What will you be doing?   Deliver focused research on evolving maritime regulations like IMO, EU ETS, and FuelEU Maritime.  Identify and prioritise potential clients based on environmental and commercial exposure.  Prepare tailored briefs for the sales team that connect fleet profiles to sustainability solutions.  Monitor global maritime trends and translate complex data into actionable insight.  Collaborate with commercial and marketing teams to align strategy and messaging.  Are you the ideal candidate?   Proven experience in market intelligence or research in the maritime or sustainability space.  Strong knowledge of maritime regulations and green technology drivers.  Confident communicator able to turn complex data into commercial insight.  Proficient in using market intelligence tools and data sources.  Detail-oriented, motivated, and collaborative across technical and commercial teams.  What's in it for you?   Join a brave, vibrant, and growing company focused on maritime decarbonisation.  Hybrid working model (2 days in London HQ, 3 days WFH).  Work with a team making a global impact through sustainability.  Real progression and ownership in your role.  Contribute to a mission that matters in the race to net zero.  Who are we? Executive Integrity is a global executive search and recruitment consultancy for a more sustainable world with a focus on talent within the Maritime and Renewable Energy sectors. We give a proportion of all our profits to Renewable World, a charity that develops affordable and innovative renewable energy solutions to poverty-stricken communities.\n",
      " \n",
      " \n"
     ]
    },
    {
     "name": "stdout",
     "output_type": "stream",
     "text": [
      "\n",
      "============================================================\n",
      "PROCESSING RESULTS\n",
      "============================================================\n",
      "Job Title: Research Analyst\n",
      "Company: Executive Integrity\n",
      "Location: London\n",
      "Remote Option: Hybrid\n",
      "Job Level: Mid-level\n",
      "Salary Info: Not specified\n",
      "Word Count: 286\n",
      "Masculine Score: 1.04%\n",
      "Feminine Score: 2.43%\n",
      "Neutral Score: 96.53%\n",
      "Gendered Words: F:help; M:strong; F:team; F:team; F:connect; F:collaborate; M:strong; M:confident; F:collaborative; F:team\n",
      "Manual Review Flag: False\n",
      "\n",
      "Data saved to: C:\\Users\\HP\\OneDrive - University of Southampton\\Documents\\Dissertation Project - Marwa Ashfaq\\Codes\\or_society_jobs.xlsx\n",
      "Total jobs in file: 61\n",
      "\n",
      "✅ Job data saved successfully!\n",
      "\n",
      "----------------------------------------\n"
     ]
    },
    {
     "name": "stdin",
     "output_type": "stream",
     "text": [
      "Do you want to add another job? (y/n):  y\n"
     ]
    },
    {
     "name": "stdout",
     "output_type": "stream",
     "text": [
      "\n",
      "========================================\n",
      "NEW JOB ENTRY\n",
      "========================================\n"
     ]
    },
    {
     "name": "stdin",
     "output_type": "stream",
     "text": [
      "Enter job URL:  https://theorsociety.careerwebsite.com/jobs/view/chief-information-officer/f14adde5-5289877234/?keywords=RESEARCH&pos_flt=0&location=&location_completion=&location_type=&location_text=&location_autocomplete=true&location_latlong=&radius=320&sort=position\n"
     ]
    },
    {
     "name": "stdout",
     "output_type": "stream",
     "text": [
      "\n",
      "============================================================\n",
      "JOB DATA ENTRY\n",
      "============================================================\n",
      "URL: https://theorsociety.careerwebsite.com/jobs/view/chief-information-officer/f14adde5-5289877234/?keywords=RESEARCH&pos_flt=0&location=&location_completion=&location_type=&location_text=&location_autocomplete=true&location_latlong=&radius=320&sort=position\n",
      "------------------------------------------------------------\n"
     ]
    },
    {
     "name": "stdin",
     "output_type": "stream",
     "text": [
      "Job Title:  Chief Information Officer\n",
      "Company Name:  DFT Operator\n",
      "Location:  Waterloo, South East London, United Kingdom\n",
      "Posting Date (optional):  \n",
      "Salary Info (optional):  \n"
     ]
    },
    {
     "name": "stdout",
     "output_type": "stream",
     "text": [
      "\n",
      "Job Description:\n",
      "(Paste the job description below. Press Enter twice when finished)\n",
      "----------------------------------------\n"
     ]
    },
    {
     "name": "stdin",
     "output_type": "stream",
     "text": [
      " \n",
      " DFTO is the government’s public sector rail owning group. Its purpose is to bring all currently privately-owned train operators into public ownership in advance of the creation of Great British Railways in 2027 - and deliver improvements in the here and now by unifying and integrating train operations under common public ownership.  DFTO has over 23,000 employees, runs over 6,000 services a day and delivers over 450 million customer journeys across its networks every year. This accounts for 26% of total UK passenger journeys and 30% of passenger miles.  Major improvements are being delivered by DFTO train operators (TOCs) that are already under public ownership - these are LNER, Northern, TransPennine Express (TPE), Southeastern and South Western Railway (SWR).   Job Title = Chief Information Officer  Directorate = Finance  Location = Waterloo  Salary = This role holds a six figure salary  Close date = 18th July 2025   About the Position:  To lead DFTO’s IT, data, and cybersecurity across DFTO as an entity, and have a strategic view of these across all TOCs. The CIO is responsible for overseeing the design, implementation, and optimisation of the Group’s IT infrastructure which is currently quite fragmented, establishing a robust data function, and enhancing the company's cybersecurity resilience.  The CIO ensures that the company’s expanding network is supported by forward looking technologies, data-driven insights, and secure systems. The CIO is also responsible for fostering cross-functional collaboration to support DFTO’s growth and industry development, ensuring future compatibility with GBR.   Key Competencies:  Interpersonal Skills:  Demonstrates a strong ability to build and maintain relationships with a diverse group of stakeholders, including executives, teams across the TOCs, and external partners. Effectively engages others to promote collaboration and achieve strategic objectives. Planning and Execution:  Excels at creating and implementing detailed, effective plans for IT, cybersecurity, and data strategy development that align with DFTO’s growth objectives. Capable of designing scalable and robust solutions to meet current and future demands. Analytical Skills:  Proficient in analysing data and system performance, utilising insights to inform decision-making, optimize IT infrastructure, and guide long-term strategies. Adept at assessing risk and addressing complex challenges within DFTO. Verbal and Written Communication:  Possesses exceptional communication skills, able to articulate complex technical ideas clearly and persuasively in both written and oral formats. Communicates effectively with leadership, cross-functional teams, and external partners and is able to set the IT agenda through a compelling vision. Collaboration:  Fosters a collaborative environment across DFTO’s portfolio, promoting teamwork within IT, cybersecurity, and data teams, as well as cross-industry groups. Encourages knowledge sharing and alignment across different operational areas. Conflict Resolution:  Skilled in managing and resolving conflicts effectively, ensuring productive outcomes for all parties involved. Able to navigate differences between IT, business units, and external partners to maintain alignment and focus on shared goals. Proactive Problem Solving:  Anticipates potential issues and challenges within the IT and cybersecurity landscape and develops mitigation strategies. Demonstrates an ability to think ahead, preventing disruptions and minimising risks. Transparency:  Committed to open and honest communication, maintaining high ethical standards and promoting trust through consistent and reliable actions. Ensures transparency in decision-making and operations, particularly in cybersecurity and data handling. Professional Networking:  Capable of building and leveraging a robust network of industry contacts, fostering partnerships that can benefit DFTO’s IT, data, and cybersecurity objectives. Engages with industry groups and leaders to stay ahead of technological trends.  Key Responsibilities:  Develop IT Roadmap and support integration  Lead the creation of a comprehensive systems landscape roadmap for all TOCs, aligned with DFTO's growth profile, and GBR development. A key principle of this work should be simplification. Conduct a full review of the current TOCs' IT systems, researching existing infrastructures, and identifying areas for optimisation and improvement in an evolving industry corporate context. Support DfT’s Public Ownership Transition Programme (POTP) team to identify and resolve risks in TOC transfer, and to ensure alignment and scalability as DFTO expands. Cybersecurity Assurance  Review DFTO entity and TOC cybersecurity strategies, and recommend improvement, to ensure the safety and integrity of data and operations across all TOCs. Review and monitor DFTO entity and TOC cybersecurity protocols for robustness and compliance with relevant regulations and industry standards in DFTO entity Work proactively to identify vulnerabilities and support Group incident response strategies. Develop IT Capacity within DFTO entity  Build and enhance the IT capacity of DFTO at a corporate level, ensuring it can support and scale with the company's growth. Foster a culture of continuous improvement within the IT department, identifying and deploying best practices, tools, and technologies. Create a delivery and governance framework to manage IT projects and ensure delivery of high-quality solutions on time and within budget. Establish a centralised data strategy for DFTO, ensuring that data collection, management, and analysis are aligned with the company’s goals. Build the infrastructure and capabilities needed to transform data into actionable insights that enhance operational performance across all TOCs. Lead the development of data governance and data security practices, ensuring data integrity and compliance across all systems. This will include legislative compliance such as GDPR. Foster a data-driven culture within DFTO by promoting the use of analytics and insights in decision-making processes. Leadership and Team Development  In time, lead, mentor, and grow a high-performing IT, data, and cybersecurity team to meet the demands of DFTO’s expanding operations. Promote collaboration between DFTO’s IT and data teams and other departments, ensuring smooth and cohesive operation across functions. Act as a strategic partner to the executive leadership team, providing insights on technological and data-driven innovations that could benefit DFTO’s business. DFTO Group digital capability development  Support collaboration across TOCs and more widely to drive the development of digital solutions. Attend DFTO Digital Board and support deliverables as required. Stakeholder Management  Partner with key stakeholders across the industry and DFTO TOCs to identify technology and data needs and align solutions with business objectives and industry corporate change. · Liaise with DfT, DFTO Board members and other stakeholder to ensure their requirements are identified, considered, and resolved · As required manage relationships with external IT and data vendors and service providers, ensuring that DFTO receives the best value and services.  Knowledge, Skills, Experience & Technical Qualifications  Bachelor's or Master's degree in Computer Science, Information Systems, Data Science, Cybersecurity, or a related field. Proven experience as a Chief Information Officer, or similar leadership role in a multi-entity organisation. Strong knowledge of enterprise IT systems, including cloud computing, cybersecurity, digital transformation initiatives, and data management. Experience leading IT and data projects across multiple subsidiaries, locations, or operating companies, preferably in the transportation or infrastructure sectors. Demonstrated success in leading digital transformation, data infrastructure development, and IT infrastructure improvements. Solid understanding of data governance, analytics, and cybersecurity frameworks, with hands-on experience managing related programs. Excellent leadership, communication, and stakeholder management skills.  Preferred Experience:  Experience working within the transportation, logistics, or rail industries. Familiarity with TOC operations and regulatory requirements related to transportation and rail services.  Benefits:  Annual Leave: Starting at 25 days and rising to an additional day per year of service completed within the first 5 completed years up to a maximum of 5 additional (30 days)  DC Pension Scheme: 10% Employer contribution, 5% Employee contribution  Opportunities to learn and network across the wider industry   PLEASE NOTE: This opportunity is available on either a Permanent basis or an Industry secondment. Should anyone be applying for a secondment please ensure you notify your line manager prior to applying for the opportunity.  About our people and the recruitment process - We're an inclusive employer of choice and we welcome applications from everyone! We encourage our colleagues to work flexibly, as we know traditional working patterns don't always fit. If you want to consider working flexibly, just let us know and we'll do our best to help and invest in your career with us, whilst you have a healthy work life balance.  Disclaimer: Candidates applying for this position on a secondment basis must inform their line manager prior to submitting their application. This is to ensure transparency and facilitate any necessary discussions regarding workload and responsibilities.   Equity Statement  At DFTO we are committed to creating an inclusive and equitable workplace where diverse perspectives and backgrounds are valued. We believe that diversity enriches our team and contributes to our success. We welcome applicants from all backgrounds and experiences, and we are dedicated to providing equal opportunities regardless of race, colour, religion, gender, gender identity or expression, sexual orientation, national origin, genetics, disability, age, or other status. We strive to foster an environment where everyone feels respected and empowered to bring their whole selves to work. We actively promote practices that ensure fairness, eliminate biases, and support the growth and development of all employees. Join us in our mission to create a workplace that reflects the diverse communities we serve and fosters a culture of equity and inclusion. Together, we can build a brighter future where every voice is heard, every idea is valued, and everyone has the opportunity to thrive.\n",
      " \n",
      " \n"
     ]
    },
    {
     "name": "stdout",
     "output_type": "stream",
     "text": [
      "\n",
      "============================================================\n",
      "PROCESSING RESULTS\n",
      "============================================================\n",
      "Job Title: Chief Information Officer\n",
      "Company: DFT Operator\n",
      "Location: Waterloo, South East London, United Kingdom\n",
      "Remote Option: On-site\n",
      "Job Level: Senior\n",
      "Salary Info: Not specified\n",
      "Word Count: 1499\n",
      "Masculine Score: 0.94%\n",
      "Feminine Score: 1.74%\n",
      "Neutral Score: 97.32%\n",
      "Gendered Words: M:lead; F:responsible; F:responsible; F:support; F:interpersonal; M:strong; M:achieve; M:analytical; M:decision; F:collaborative; F:committed; F:honest; F:trust; M:decision; F:support; M:lead; F:support; F:team; F:support; F:support; M:manage; M:lead; M:decision; F:team; M:lead; F:team; F:team; F:support; M:drive; F:support; M:manage; M:strong; F:inclusive; F:help; F:committed; F:inclusive; F:team; F:dedicated; F:support; F:together\n",
      "Manual Review Flag: False\n",
      "\n",
      "Data saved to: C:\\Users\\HP\\OneDrive - University of Southampton\\Documents\\Dissertation Project - Marwa Ashfaq\\Codes\\or_society_jobs.xlsx\n",
      "Total jobs in file: 58\n",
      "\n",
      "✅ Job data saved successfully!\n",
      "\n",
      "----------------------------------------\n"
     ]
    },
    {
     "name": "stdin",
     "output_type": "stream",
     "text": [
      "Do you want to add another job? (y/n):  y\n"
     ]
    },
    {
     "name": "stdout",
     "output_type": "stream",
     "text": [
      "\n",
      "========================================\n",
      "NEW JOB ENTRY\n",
      "========================================\n"
     ]
    },
    {
     "name": "stdin",
     "output_type": "stream",
     "text": [
      "Enter job URL:  https://theorsociety.careerwebsite.com/jobs/view/company-intelligence-analyst/f14adde5-5303481097/?keywords=RESEARCH&pos_flt=0&location=&location_completion=&location_type=&location_text=&location_autocomplete=true&location_latlong=&radius=320&sort=position\n"
     ]
    },
    {
     "name": "stdout",
     "output_type": "stream",
     "text": [
      "\n",
      "============================================================\n",
      "JOB DATA ENTRY\n",
      "============================================================\n",
      "URL: https://theorsociety.careerwebsite.com/jobs/view/company-intelligence-analyst/f14adde5-5303481097/?keywords=RESEARCH&pos_flt=0&location=&location_completion=&location_type=&location_text=&location_autocomplete=true&location_latlong=&radius=320&sort=position\n",
      "------------------------------------------------------------\n"
     ]
    },
    {
     "name": "stdin",
     "output_type": "stream",
     "text": [
      "Job Title:  Company Intelligence Analyst\n",
      "Company Name:  The Opportunity Hub UK\n",
      "Location:  London\n",
      "Posting Date (optional):  \n",
      "Salary Info (optional):  \n"
     ]
    },
    {
     "name": "stdout",
     "output_type": "stream",
     "text": [
      "\n",
      "Job Description:\n",
      "(Paste the job description below. Press Enter twice when finished)\n",
      "----------------------------------------\n"
     ]
    },
    {
     "name": "stdin",
     "output_type": "stream",
     "text": [
      " This organisation is building the future of company intelligence, delivering a next-generation AI software platform designed for instant, intuitive benchmarking and insights. They collaborate with leading experts across global consultancies, M&A advisory, and beyond, providing high-value competitor intelligence to support new business development and key client engagements. Their platform drives strategic benchmarking across critical areas like culture, leadership, technology, and customer operations.  Job Overview The Company Intelligence Analyst role offers the chance to work at the intersection of software, AI, and company benchmarking. You’ll collaborate with intelligence analysts, data engineers, and technologists to deliver insightful benchmarking products and develop intelligence for a variety of industries.  Here's What You'll Be Doing Producing high-quality company intelligence products tailored to diverse industries and use cases. Analysing commercial, technological, and operational benchmarks relevant to M&A, consultancy, and client sales. Handling confidential and sensitive client briefs, working independently and in a team. Processing data to uncover insights on companies’ people, activities, technologies, and investments. Writing succinct, technical commentary to interpret client deliverables. Using Python and advanced data tools to innovate intelligence concepts, including APIs, web scrapers, and robotic process automation. Here Are the Skills You'll Need Passion for data, statistics, company benchmarking, and AI. Strong interest in M&A, consultancy, and competitor intelligence. Excellent attention to detail and ability to learn quickly. Proficiency in Python, statistical analysis, and MS Excel. Degree-level qualification in finance, business, STEM, or related fields. Experience in areas like company benchmarking, data science, AI, or FP&A is advantageous. Knowledge of data pipelines and acquisition techniques, including APIs and automation, is a plus. Work Permissions You must have the right to work in the United Kingdom. Visa sponsorship is not available at this time.  Here Are the Benefits of This Job Competitive salary starting at £35,000+ (depending on experience). Permanent full-time position with flexibility to work primarily from home. Pension scheme and annual leave allowance. Share options. Opportunity to work in a flat organisational structure alongside a passionate and diverse team, including direct collaboration with the founding team. Why This Role Is Exciting A career as a Company Intelligence Analyst opens doors to the innovative world of AI-driven benchmarking, where you can make a meaningful impact by transforming data into actionable insights. Whether you’re passionate about technology, M&A, or consultancy, this role offers a unique blend of challenge and opportunity in an inclusive, supportive, and startup-like atmosphere.  Ready to step into the future of company intelligence? Apply today and be part of shaping what’s next.\n",
      " \n",
      " \n"
     ]
    },
    {
     "name": "stdout",
     "output_type": "stream",
     "text": [
      "\n",
      "============================================================\n",
      "PROCESSING RESULTS\n",
      "============================================================\n",
      "Job Title: Company Intelligence Analyst\n",
      "Company: The Opportunity Hub UK\n",
      "Location: London\n",
      "Remote Option: On-site\n",
      "Job Level: Senior\n",
      "Salary Info: Not specified\n",
      "Word Count: 423\n",
      "Masculine Score: 1.17%\n",
      "Feminine Score: 2.1%\n",
      "Neutral Score: 96.73%\n",
      "Gendered Words: F:collaborate; F:support; F:collaborate; F:team; M:strong; M:excel; M:competitive; F:share; F:team; M:direct; F:team; M:challenge; F:inclusive; F:supportive\n",
      "Manual Review Flag: False\n",
      "\n",
      "Data saved to: C:\\Users\\HP\\OneDrive - University of Southampton\\Documents\\Dissertation Project - Marwa Ashfaq\\Codes\\or_society_jobs.xlsx\n",
      "Total jobs in file: 59\n",
      "\n",
      "✅ Job data saved successfully!\n",
      "\n",
      "----------------------------------------\n"
     ]
    },
    {
     "name": "stdin",
     "output_type": "stream",
     "text": [
      "Do you want to add another job? (y/n):  y\n"
     ]
    },
    {
     "name": "stdout",
     "output_type": "stream",
     "text": [
      "\n",
      "========================================\n",
      "NEW JOB ENTRY\n",
      "========================================\n"
     ]
    },
    {
     "name": "stdin",
     "output_type": "stream",
     "text": [
      "Enter job URL:  https://theorsociety.careerwebsite.com/jobs/view/data-insights-analyst/f14adde5-5302639151/?keywords=RESEARCH&pos_flt=0&location=&location_completion=&location_type=&location_text=&location_autocomplete=true&location_latlong=&radius=320&sort=position\n"
     ]
    },
    {
     "name": "stdout",
     "output_type": "stream",
     "text": [
      "\n",
      "============================================================\n",
      "JOB DATA ENTRY\n",
      "============================================================\n",
      "URL: https://theorsociety.careerwebsite.com/jobs/view/data-insights-analyst/f14adde5-5302639151/?keywords=RESEARCH&pos_flt=0&location=&location_completion=&location_type=&location_text=&location_autocomplete=true&location_latlong=&radius=320&sort=position\n",
      "------------------------------------------------------------\n"
     ]
    },
    {
     "name": "stdin",
     "output_type": "stream",
     "text": [
      "Job Title:  Data Insights Analyst\n",
      "Company Name:  IntaPeople\n",
      "Location:  Cardiff, Cardiff County, United Kingdom\n",
      "Posting Date (optional):  \n",
      "Salary Info (optional):  \n"
     ]
    },
    {
     "name": "stdout",
     "output_type": "stream",
     "text": [
      "\n",
      "Job Description:\n",
      "(Paste the job description below. Press Enter twice when finished)\n",
      "----------------------------------------\n"
     ]
    },
    {
     "name": "stdin",
     "output_type": "stream",
     "text": [
      "  We’re looking for a skilled Data Analyst who can do more than just crunch numbers. You’ll be responsible for the end-to-end management of our data – from building and maintaining our data warehouse, to driving data quality, analysis, and reporting that directly supports business decisions.  You’ll work across the company, supporting data governance, compliance, and insight generation. There’s a strong focus on improving how data is collected, stored, and used – and making sure everyone across the business understands the value of it.  What You’ll Be Doing  Governance & Quality  Develop and maintain our Data Governance Framework  Own data quality monitoring, audits, and issue management  Ensure consistent, accurate, and reliable data across all systems  Data Integration & Warehousing  Build and manage a centralised data warehouse  Apply ETL processes to extract, transform and load data  Integrate data across platforms using APIs, Celigo, Make  Keep documentation updated in the IT Knowledgebase  Analysis & Insights  Build and maintain dashboards and MI reports  Analyse complex datasets to uncover trends, insights, and performance gaps  Present findings clearly to non-technical stakeholders  Work closely with teams to support data-driven decisions  Compliance & Lifecycle  Support GDPR compliance and Data Lifecycle Management  Contribute to maintaining Cyber Essentials and ISO27001 standards  Training & Culture  Promote data literacy across teams  Deliver internal training on Power BI, Excel and other data tools  Embed data metrics into team performance tracking  What You’ll Need  Top 5 Must-Have Competencies  Strong communication skills – clear, concise and confident  Experience with data modelling, data warehousing, and ETL processes  Excellent problem-solving and critical thinking skills  High attention to detail and accuracy  Qualification in Data Science, IT, Statistics, Maths, or similar  Also Important  Proven experience in a Data Analyst or similar role  Hands-on skills with SQL, Power BI, DAX, Excel  Experience working with NetSuite, Salesforce, or other Tier 1 systems (desirable)  Comfortable with APIs, cloud storage (e.g. Azure), and data integration tools  Solid documentation and process discipline  Ready to Apply?  If you know your data inside out, have the right mindset, and want to help shape how a business uses its information – we want to hear from you, please apply for more details, thanks\n",
      " \n",
      " \n"
     ]
    },
    {
     "name": "stdout",
     "output_type": "stream",
     "text": [
      "\n",
      "============================================================\n",
      "PROCESSING RESULTS\n",
      "============================================================\n",
      "Job Title: Data Insights Analyst\n",
      "Company: IntaPeople\n",
      "Location: Cardiff, Cardiff County, United Kingdom\n",
      "Remote Option: On-site\n",
      "Job Level: Junior\n",
      "Salary Info: Not specified\n",
      "Word Count: 353\n",
      "Masculine Score: 1.68%\n",
      "Feminine Score: 1.4%\n",
      "Neutral Score: 96.92%\n",
      "Gendered Words: F:responsible; M:strong; M:manage; F:support; F:support; M:excel; F:team; M:strong; M:confident; M:excel; F:help\n",
      "Manual Review Flag: False\n",
      "\n",
      "Data saved to: C:\\Users\\HP\\OneDrive - University of Southampton\\Documents\\Dissertation Project - Marwa Ashfaq\\Codes\\or_society_jobs.xlsx\n",
      "Total jobs in file: 60\n",
      "\n",
      "✅ Job data saved successfully!\n",
      "\n",
      "----------------------------------------\n"
     ]
    },
    {
     "name": "stdin",
     "output_type": "stream",
     "text": [
      "Do you want to add another job? (y/n):  n\n"
     ]
    },
    {
     "name": "stdout",
     "output_type": "stream",
     "text": [
      "\n",
      "======================================================================\n",
      "SESSION COMPLETED\n",
      "======================================================================\n",
      "All job data has been saved to: C:\\Users\\HP\\OneDrive - University of Southampton\\Documents\\Dissertation Project - Marwa Ashfaq\\Codes\\or_society_jobs.xlsx\n",
      "Thank you for using the OR Society Job Data Processor!\n"
     ]
    }
   ],
   "source": [
    "import pandas as pd\n",
    "from datetime import datetime\n",
    "import re\n",
    "import os\n",
    "\n",
    "class ORSocietyJobProcessor:\n",
    "    def __init__(self):\n",
    "        # Gendered words lists for analysis\n",
    "        self.masculine_words = [\n",
    "            'leader', 'competitive', 'dominant', 'assertive', 'aggressive', 'ambitious',\n",
    "            'analytical', 'confident', 'decisive', 'determined', 'independent', 'objective',\n",
    "            'self-reliant', 'strong', 'superior', 'lead', 'manage', 'direct', 'control',\n",
    "            'drive', 'challenge', 'compete', 'win', 'achieve', 'dominate', 'excel',\n",
    "            'individual', 'autonomous', 'hierarchy', 'decision', 'responsibility'\n",
    "        ]\n",
    "        \n",
    "        self.feminine_words = [\n",
    "            'collaborative', 'cooperative', 'supportive', 'nurturing', 'empathetic',\n",
    "            'interpersonal', 'communicate', 'understand', 'responsible', 'connect',\n",
    "            'honest', 'loyal', 'dependable', 'committed', 'dedicated', 'support',\n",
    "            'help', 'assist', 'care', 'share', 'together', 'team', 'community',\n",
    "            'relationship', 'trust', 'warm', 'kind', 'inclusive', 'collaborate'\n",
    "        ]\n",
    "\n",
    "    def clean_text(self, text):\n",
    "        \"\"\"Clean and normalize text\"\"\"\n",
    "        if not text:\n",
    "            return \"\"\n",
    "        \n",
    "        # Remove extra whitespace and normalize\n",
    "        text = ' '.join(text.split())\n",
    "        # Remove special characters but keep basic punctuation\n",
    "        text = re.sub(r'[^\\w\\s\\.\\,\\!\\?\\;\\:\\-\\(\\)]', ' ', text)\n",
    "        # Remove multiple spaces\n",
    "        text = re.sub(r'\\s+', ' ', text)\n",
    "        return text.strip()\n",
    "\n",
    "    def extract_job_id(self, url):\n",
    "        \"\"\"Extract job ID from URL\"\"\"\n",
    "        try:\n",
    "            # Pattern for OR Society URLs: /jobs/view/title/job-id/\n",
    "            match = re.search(r'/jobs/view/[^/]+/([^/]+)/?', url)\n",
    "            if match:\n",
    "                return match.group(1)\n",
    "            return url.split('/')[-1] or url.split('/')[-2]\n",
    "        except:\n",
    "            return \"manual_entry\"\n",
    "\n",
    "    def detect_remote_option(self, text):\n",
    "        \"\"\"Detect remote work options from text\"\"\"\n",
    "        if not text:\n",
    "            return \"Not specified\"\n",
    "        \n",
    "        text_lower = text.lower()\n",
    "        remote_keywords = [\n",
    "            'remote', 'work from home', 'telecommute', 'virtual', 'distributed',\n",
    "            'home-based', 'location independent', 'anywhere', 'flexible location'\n",
    "        ]\n",
    "        hybrid_keywords = ['hybrid', 'flexible', 'part remote', 'some remote']\n",
    "        \n",
    "        for keyword in remote_keywords:\n",
    "            if keyword in text_lower:\n",
    "                return \"Remote\"\n",
    "        \n",
    "        for keyword in hybrid_keywords:\n",
    "            if keyword in text_lower:\n",
    "                return \"Hybrid\"\n",
    "        \n",
    "        return \"On-site\"\n",
    "\n",
    "    def extract_salary_info(self, text):\n",
    "        \"\"\"Extract salary information from text\"\"\"\n",
    "        if not text:\n",
    "            return \"Not specified\"\n",
    "        \n",
    "        # Look for salary patterns\n",
    "        salary_patterns = [\n",
    "            r'£\\s*(\\d{1,3}(?:,\\d{3})*(?:\\.\\d{2})?)\\s*(?:-|to)\\s*£?\\s*(\\d{1,3}(?:,\\d{3})*(?:\\.\\d{2})?)',\n",
    "            r'\\$\\s*(\\d{1,3}(?:,\\d{3})*(?:\\.\\d{2})?)\\s*(?:-|to)\\s*\\$?\\s*(\\d{1,3}(?:,\\d{3})*(?:\\.\\d{2})?)',\n",
    "            r'(\\d{1,3}(?:,\\d{3})*)\\s*(?:-|to)\\s*(\\d{1,3}(?:,\\d{3})*)\\s*(?:per year|annually|pa|p\\.a\\.)',\n",
    "            r'£(\\d{1,3}(?:,\\d{3})*)', r'\\$(\\d{1,3}(?:,\\d{3})*)', r'(\\d{1,3}(?:,\\d{3})*)\\s*(?:per year|pa|p\\.a\\.)'\n",
    "        ]\n",
    "        \n",
    "        for pattern in salary_patterns:\n",
    "            match = re.search(pattern, text, re.IGNORECASE)\n",
    "            if match:\n",
    "                if len(match.groups()) >= 2:\n",
    "                    return f\"{match.group(1)} - {match.group(2)}\"\n",
    "                else:\n",
    "                    return match.group(1)\n",
    "        \n",
    "        return \"Not specified\"\n",
    "\n",
    "    def analyze_gendered_language(self, text):\n",
    "        \"\"\"Analyze gendered language in text\"\"\"\n",
    "        if not text:\n",
    "            return 0, 0, 0, []\n",
    "        \n",
    "        # Clean and tokenize text\n",
    "        text_lower = text.lower()\n",
    "        words = re.findall(r'\\b[a-z]+\\b', text_lower)\n",
    "        \n",
    "        masculine_count = sum(1 for word in words if word in self.masculine_words)\n",
    "        feminine_count = sum(1 for word in words if word in self.feminine_words)\n",
    "        \n",
    "        # Find gendered words present\n",
    "        gendered_words_found = []\n",
    "        for word in words:\n",
    "            if word in self.masculine_words:\n",
    "                gendered_words_found.append(f\"M:{word}\")\n",
    "            elif word in self.feminine_words:\n",
    "                gendered_words_found.append(f\"F:{word}\")\n",
    "        \n",
    "        total_words = len(words)\n",
    "        if total_words == 0:\n",
    "            return 0, 0, 0, gendered_words_found\n",
    "        \n",
    "        masculine_score = round((masculine_count / total_words) * 100, 2)\n",
    "        feminine_score = round((feminine_count / total_words) * 100, 2)\n",
    "        neutral_score = round(100 - masculine_score - feminine_score, 2)\n",
    "        \n",
    "        return masculine_score, feminine_score, neutral_score, gendered_words_found\n",
    "\n",
    "    def determine_job_level(self, title, description):\n",
    "        \"\"\"Determine job level from title and description\"\"\"\n",
    "        combined_text = f\"{title} {description}\".lower()\n",
    "        \n",
    "        senior_keywords = ['senior', 'lead', 'principal', 'head', 'director', 'manager', 'chief', 'vp', 'vice president']\n",
    "        junior_keywords = ['junior', 'entry', 'graduate', 'intern', 'trainee', 'assistant', 'associate']\n",
    "        mid_keywords = ['mid', 'intermediate', 'specialist', 'analyst', 'coordinator']\n",
    "        \n",
    "        for keyword in senior_keywords:\n",
    "            if keyword in combined_text:\n",
    "                return \"Senior\"\n",
    "        \n",
    "        for keyword in junior_keywords:\n",
    "            if keyword in combined_text:\n",
    "                return \"Junior\"\n",
    "        \n",
    "        for keyword in mid_keywords:\n",
    "            if keyword in combined_text:\n",
    "                return \"Mid-level\"\n",
    "        \n",
    "        return \"Not specified\"\n",
    "\n",
    "    def get_job_input(self, url):\n",
    "        \"\"\"Get job information through user input\"\"\"\n",
    "        print(\"\\n\" + \"=\"*60)\n",
    "        print(\"JOB DATA ENTRY\")\n",
    "        print(\"=\"*60)\n",
    "        print(f\"URL: {url}\")\n",
    "        print(\"-\"*60)\n",
    "        \n",
    "        # Get basic information\n",
    "        job_title = input(\"Job Title: \").strip()\n",
    "        company_name = input(\"Company Name: \").strip()\n",
    "        location = input(\"Location: \").strip()\n",
    "        \n",
    "        # Get optional information\n",
    "        posting_date = input(\"Posting Date (optional): \").strip()\n",
    "        salary_info = input(\"Salary Info (optional): \").strip()\n",
    "        \n",
    "        # Get job description\n",
    "        print(\"\\nJob Description:\")\n",
    "        print(\"(Paste the job description below. Press Enter twice when finished)\")\n",
    "        print(\"-\" * 40)\n",
    "        \n",
    "        description_lines = []\n",
    "        empty_line_count = 0\n",
    "        \n",
    "        while empty_line_count < 2:\n",
    "            try:\n",
    "                line = input()\n",
    "                if line.strip() == \"\":\n",
    "                    empty_line_count += 1\n",
    "                else:\n",
    "                    empty_line_count = 0\n",
    "                description_lines.append(line)\n",
    "            except EOFError:\n",
    "                break\n",
    "        \n",
    "        description = '\\n'.join(description_lines).strip()\n",
    "        \n",
    "        return {\n",
    "            'job_title': job_title,\n",
    "            'company_name': company_name,\n",
    "            'location': location,\n",
    "            'posting_date': posting_date,\n",
    "            'salary_info': salary_info,\n",
    "            'description': description\n",
    "        }\n",
    "\n",
    "    def process_job_data(self, input_data, url):\n",
    "        \"\"\"Process the manually entered job data\"\"\"\n",
    "        \n",
    "        # Clean the description\n",
    "        description_cleaned = self.clean_text(input_data['description'])\n",
    "        \n",
    "        # Create job data structure\n",
    "        job_data = {\n",
    "            'job_id': self.extract_job_id(url),\n",
    "            'platform': 'OR Society',\n",
    "            'job_url': url,\n",
    "            'scrape_date': datetime.now().strftime('%Y-%m-%d %H:%M:%S'),\n",
    "            'job_title': input_data['job_title'],\n",
    "            'company_name': input_data['company_name'],\n",
    "            'location': input_data['location'],\n",
    "            'remote_option': '',\n",
    "            'posting_date': input_data['posting_date'] or 'Not specified',\n",
    "            'job_description_raw': input_data['description'],\n",
    "            'job_description_cleaned': description_cleaned,\n",
    "            'salary_info': '',\n",
    "            'industry': 'Operations Research',\n",
    "            'job_level': '',\n",
    "            'gendered_words_found': '',\n",
    "            'masculine_score': 0,\n",
    "            'feminine_score': 0,\n",
    "            'neutral_score': 0,\n",
    "            'seniority_flag': '',\n",
    "            'word_count': 0,\n",
    "            'manual_review_flag': False,\n",
    "            'ad_url': url\n",
    "        }\n",
    "        \n",
    "        # Process salary info\n",
    "        if input_data['salary_info']:\n",
    "            job_data['salary_info'] = input_data['salary_info']\n",
    "        else:\n",
    "            job_data['salary_info'] = self.extract_salary_info(description_cleaned)\n",
    "        \n",
    "        # Determine remote option\n",
    "        combined_text = f\"{job_data['job_title']} {job_data['location']} {description_cleaned}\"\n",
    "        job_data['remote_option'] = self.detect_remote_option(combined_text)\n",
    "        \n",
    "        # Determine job level\n",
    "        job_data['job_level'] = self.determine_job_level(job_data['job_title'], description_cleaned)\n",
    "        job_data['seniority_flag'] = \"Senior\" in job_data['job_level']\n",
    "        \n",
    "        # Analyze gendered language\n",
    "        masculine_score, feminine_score, neutral_score, gendered_words = self.analyze_gendered_language(description_cleaned)\n",
    "        \n",
    "        job_data['masculine_score'] = masculine_score\n",
    "        job_data['feminine_score'] = feminine_score\n",
    "        job_data['neutral_score'] = neutral_score\n",
    "        job_data['gendered_words_found'] = '; '.join(gendered_words) if gendered_words else ''\n",
    "        \n",
    "        # Word count\n",
    "        if description_cleaned:\n",
    "            job_data['word_count'] = len(description_cleaned.split())\n",
    "        \n",
    "        # Manual review flag\n",
    "        if (job_data['word_count'] < 20 or \n",
    "            not job_data['job_title'] or \n",
    "            not job_data['company_name']):\n",
    "            job_data['manual_review_flag'] = True\n",
    "        \n",
    "        return job_data\n",
    "\n",
    "    def save_to_excel(self, job_data, output_path, append_mode=False):\n",
    "        \"\"\"Save job data to Excel file\"\"\"\n",
    "        try:\n",
    "            # Ensure output directory exists\n",
    "            os.makedirs(os.path.dirname(output_path), exist_ok=True)\n",
    "            \n",
    "            # Create DataFrame\n",
    "            df_new = pd.DataFrame([job_data])\n",
    "            \n",
    "            if append_mode and os.path.exists(output_path):\n",
    "                # Read existing data and append\n",
    "                try:\n",
    "                    df_existing = pd.read_excel(output_path)\n",
    "                    df_combined = pd.concat([df_existing, df_new], ignore_index=True)\n",
    "                except:\n",
    "                    df_combined = df_new\n",
    "            else:\n",
    "                df_combined = df_new\n",
    "            \n",
    "            # Save to Excel\n",
    "            with pd.ExcelWriter(output_path, engine='openpyxl') as writer:\n",
    "                df_combined.to_excel(writer, sheet_name='Job_Data', index=False)\n",
    "            \n",
    "            print(f\"\\nData saved to: {output_path}\")\n",
    "            print(f\"Total jobs in file: {len(df_combined)}\")\n",
    "            return True\n",
    "            \n",
    "        except Exception as e:\n",
    "            print(f\"Error saving to Excel: {e}\")\n",
    "            return False\n",
    "\n",
    "def main():\n",
    "    \"\"\"Main function for manual job data entry\"\"\"\n",
    "    \n",
    "    # Configuration\n",
    "    OUTPUT_PATH = r\"C:\\Users\\HP\\OneDrive - University of Southampton\\Documents\\Dissertation Project - Marwa Ashfaq\\Codes\\or_society_jobs.xlsx\"\n",
    "    \n",
    "    print(\"=\"*70)\n",
    "    print(\"OR SOCIETY JOB DATA PROCESSOR - MANUAL ENTRY\")\n",
    "    print(\"=\"*70)\n",
    "    print(\"This tool helps you manually enter job data and performs analysis.\")\n",
    "    print(\"You can process multiple jobs - the data will be appended to the Excel file.\")\n",
    "    print(\"=\"*70)\n",
    "    \n",
    "    processor = ORSocietyJobProcessor()\n",
    "    \n",
    "    while True:\n",
    "        print(\"\\n\" + \"=\"*40)\n",
    "        print(\"NEW JOB ENTRY\")\n",
    "        print(\"=\"*40)\n",
    "        \n",
    "        # Get job URL\n",
    "        url = input(\"Enter job URL: \").strip()\n",
    "        if not url:\n",
    "            print(\"No URL provided. Exiting...\")\n",
    "            break\n",
    "        \n",
    "        # Get job data\n",
    "        input_data = processor.get_job_input(url)\n",
    "        \n",
    "        # Process the data\n",
    "        job_data = processor.process_job_data(input_data, url)\n",
    "        \n",
    "        # Display results\n",
    "        print(\"\\n\" + \"=\"*60)\n",
    "        print(\"PROCESSING RESULTS\")\n",
    "        print(\"=\"*60)\n",
    "        print(f\"Job Title: {job_data['job_title']}\")\n",
    "        print(f\"Company: {job_data['company_name']}\")\n",
    "        print(f\"Location: {job_data['location']}\")\n",
    "        print(f\"Remote Option: {job_data['remote_option']}\")\n",
    "        print(f\"Job Level: {job_data['job_level']}\")\n",
    "        print(f\"Salary Info: {job_data['salary_info']}\")\n",
    "        print(f\"Word Count: {job_data['word_count']}\")\n",
    "        print(f\"Masculine Score: {job_data['masculine_score']}%\")\n",
    "        print(f\"Feminine Score: {job_data['feminine_score']}%\")\n",
    "        print(f\"Neutral Score: {job_data['neutral_score']}%\")\n",
    "        if job_data['gendered_words_found']:\n",
    "            print(f\"Gendered Words: {job_data['gendered_words_found']}\")\n",
    "        print(f\"Manual Review Flag: {job_data['manual_review_flag']}\")\n",
    "        \n",
    "        # Save to Excel\n",
    "        append_mode = os.path.exists(OUTPUT_PATH)\n",
    "        success = processor.save_to_excel(job_data, OUTPUT_PATH, append_mode)\n",
    "        \n",
    "        if success:\n",
    "            print(\"\\n✅ Job data saved successfully!\")\n",
    "        else:y\n",
    "            https://theorsociety.careerwebsite.com/jobs/view/chief-information-officer/f14adde5-5289877234/?keywords=RESEARCH&pos_flt=0&location=&location_completion=&location_type=&location_text=&location_autocomplete=true&location_latlong=&radius=320&sort=position\n",
    "        Chief Information Officer\n",
    "            print(\"\\n❌ Failed to save job data.\")\n",
    "        \n",
    "        # Ask if user wants to add another job\n",
    "        print(\"\\n\" + \"-\"*40)\n",
    "        continue_choice = input(\"Do you want to add another job? (y/n): \").strip().lower()\n",
    "        if continue_choice not in ['y', 'yes']:\n",
    "            break\n",
    "    \n",
    "    print(\"\\n\" + \"=\"*70)\n",
    "    print(\"SESSION COMPLETED\")\n",
    "    print(\"=\"*70)\n",
    "    print(f\"All job data has been saved to: {OUTPUT_PATH}\")\n",
    "    print(\"Thank you for using the OR Society Job Data Processor!\")\n",
    "\n",
    "if __name__ == \"__main__\":\n",
    "    main()"
   ]
  },
  {
   "cell_type": "code",
   "execution_count": null,
   "id": "64960bc0-e9f6-4586-ad6e-5f7e7089b517",
   "metadata": {},
   "outputs": [
    {
     "name": "stdout",
     "output_type": "stream",
     "text": [
      "======================================================================\n",
      "OR SOCIETY JOB DATA PROCESSOR - MANUAL ENTRY\n",
      "======================================================================\n",
      "This tool helps you manually enter job data and performs analysis.\n",
      "You can process multiple jobs - the data will be appended to the Excel file.\n",
      "======================================================================\n",
      "\n",
      "========================================\n",
      "NEW JOB ENTRY\n",
      "========================================\n"
     ]
    },
    {
     "name": "stdin",
     "output_type": "stream",
     "text": [
      "Enter job URL:  https://theorsociety.careerwebsite.com/jobs/view/associate-director-ai-enablement-operations-lead/f14adde5-5263019386/\n"
     ]
    },
    {
     "name": "stdout",
     "output_type": "stream",
     "text": [
      "\n",
      "============================================================\n",
      "JOB DATA ENTRY\n",
      "============================================================\n",
      "URL: https://theorsociety.careerwebsite.com/jobs/view/associate-director-ai-enablement-operations-lead/f14adde5-5263019386/\n",
      "------------------------------------------------------------\n"
     ]
    },
    {
     "name": "stdin",
     "output_type": "stream",
     "text": [
      "Job Title:  Associate Director, AI Enablement & Operations Lead\n",
      "Company Name:  S&P Global\n",
      "Location:  London, United Kingdom\n",
      "Posting Date (optional):  \n",
      "Salary Info (optional):  \n"
     ]
    },
    {
     "name": "stdout",
     "output_type": "stream",
     "text": [
      "\n",
      "Job Description:\n",
      "(Paste the job description below. Press Enter twice when finished)\n",
      "----------------------------------------\n"
     ]
    },
    {
     "name": "stdin",
     "output_type": "stream",
     "text": [
      " Grade Level (for internal use): 11 About the Role: The Team: This role is part of the Demand Generation function within Enterprise Marketing, reporting into the Director responsible for In-bound lead management and account-based marketing (ABM). As marketing at S&P Global embraces AI across the funnel, the AI Enablement & Operations Lead will drive the successful implementation, adoption, and continuous improvement of AI-powered marketing tools and capabilities. This individual will work across all marketing teams to scale enablement and maximize the business impact of AI-driven lead generation, personalization, and productivity. The Impact This role will accelerate marketing transformation by championing intelligent automation and responsible AI usage across the enterprise. The AI Enablement & Operations Lead will ensure that tools like Drift, Conversica, and any other new AI-powered martech tool-as well as S&P Global's in-house AI tool SparkAssist-are configured optimally, understood widely, and applied effectively to drive qualified pipeline, enhance customer experience, and improve operational efficiency. They will serve as both a technical enabler and a change agent-building trust in AI adoption while delivering tangible business outcomes. Responsibilities AI Tool Deployment & Optimization - Own day-to-day operations, performance monitoring, and roadmap alignment for AI-powered tools including Drift, Conversica, and future AI applications. - Collaborate with Martech and vendor teams to configure tools, build workflows, and optimize integrations with Salesforce, Marketo, and Adobe Experience Cloud. - Lead the design and refinement of prompt frameworks for generative AI tools - including S&P Global's in-house SparkAssist - to ensure outputs are brand-aligned, operationally effective, and tailored for internal marketing use cases. - Establish usage standards, best practices, and automation governance policies to ensure scalable, secure, and compliant deployment. - Assist in developing and communicating the strategic vision for AI integration in marketing, aligning initiatives with the overall marketing strategy. - Engage with cross-functional stakeholders and collaborate with cross-functional teams to ensure seamless integration of AI tools into the existing tech stack and address technical challenges. Enablement, Training & Change Management - Develop and execute internal training programs to drive adoption and responsible use of AI tools across the global marketing organization. - Create toolkits, playbooks, and use-case documentation tailored to different user groups (e.g., SDRs, campaign managers, content teams). - Train marketers and content creators in prompt engineering best practices to improve generative AI output quality and usability. - Facilitate feedback loops between users, product teams, and analytics to refine use cases and identify new value creation opportunities. - Implement and analyze feedback mechanisms from users to drive continuous improvement in AI tool usage and effectiveness. Measurement, Testing & Innovation - Design and execute robust experimentation frameworks (e.g., A/B tests, multivariate tests) specifically for AI-driven initiatives, analyzing results to derive actionable insights and optimize model performance. - Lead the continuous monitoring and analysis of AI tool performance against defined success metrics, providing actionable recommendations for optimization and strategic pivots. What We're Looking For: Basic Required Qualifications: - Bachelor's degree in marketing, Business, Data Science, or a related field; advanced degree or AI-specific certifications preferred - 5-7+ years of experience in marketing operations, marketing technology, or digital enablement roles, with at least 2 years working with AI tools - Hands-on experience with AI-driven platforms like Drift, Conversica, 6sense, and/or LLM/NLP enhancement tools. Crucially, the ability to understand how these tools integrate (data flow, API concepts) is essential, even if they're not building the integrations from scratch. - Familiarity with Martech stack integrations (e.g., Marketo, Salesforce, CDPs, Adobe Experience Cloud) - Strong understanding of B2B marketing processes and lead flow across sales and marketing systems - Strong understanding of data management practices, including data quality assurance, privacy, and compliance. - Proven ability to deliver training programs and influence adoption across cross-functional teams - Cultural sensitivity and the ability to tailor AI strategies to diverse markets and customer segments, where/if applicable. - Proven ability to drive the development and communication of the marketing AI roadmap, identifying opportunities for AI in marketing, translating business needs into AI use cases, and articulating the strategic value. - This role requires a proactive problem solver who can troubleshoot operational issues with AI tools and actively seek out new martech AI solutions that solve marketing problems. - Understanding the implications of AI ethics for customer experience, brand reputation, data privacy, and compliance is essential. Additional Preferred Qualifications: - Experience leading AI implementation projects in a marketing or go-to-market environment - Background in change management, enablement, or internal communications - Knowledge of AI ethics, compliance frameworks, or responsible AI guidelines - Experience designing and optimizing prompts for large language models or generative AI platforms (e.g., OpenAI, Google Gemini, Adobe Firefly), ideally including proprietary in-house models. - Familiarity with change management frameworks to effectively manage transitions and drive adoption, a plus. What's In It for You? - Innovation Leadership: Be at the forefront of integrating AI into global marketing practices and lead enterprise-wide adoption. - Cross-Functional Impact: Collaborate with marketing, sales, enablement, and technology teams to design intelligent workflows and lead handling. - Scalable Enablement: Build playbooks, training, and certification programs that upskill marketing teams on AI capabilities and responsible use. - Measurable Influence: Shape the performance of marketing automation and conversational AI programs through continuous improvement and analytics. - Enterprise Visibility: Champion AI value cases to leadership and guide decision-making on future-state AI integrations. S&P Global company culture and values At S&P Global, we believe that our diversity drives innovation and success. We are committed to fostering an inclusive environment where every employee feels valued and empowered to contribute their unique perspectives. Our mission is to provide essential intelligence that drives decision-making and shapes the future of global markets. We encourage collaboration and embrace a culture of integrity, accountability, and respect, which allows our teams to thrive and deliver exceptional results for our clients. We are dedicated to attracting and retaining a diverse workforce that reflects the global markets we serve. Our initiatives focus on creating equal opportunities for all employees, promoting a culture of belonging, and supporting professional development for underrepresented groups. Join us in our commitment to making a positive impact in the industry and the communities we serve. Return to Work: Have you taken time out for caring responsibilities and are now looking to return to work? As part of our Return to Work initiative, Restart, we are encouraging enthusiastic and talented returners to apply, and will actively support your return to the workplace. What's In It For You? Our Purpose: Progress is not a self-starter. It requires a catalyst to be set in motion. Information, imagination, people, technology-the right combination can unlock possibility and change the world. Our world is in transition and getting more complex by the day. We push past expected observations and seek out new levels of understanding so that we can help companies, governments and individuals make an impact on tomorrow. At S&P Global we transform data into Essential Intelligence®, pinpointing risks and opening possibilities. We Accelerate Progress. Our People: We're more than 35,000 strong worldwide-so we're able to understand nuances while having a broad perspective. Our team is driven by curiosity and a shared belief that Essential Intelligence can help build a more prosperous future for us all. From finding new ways to measure sustainability to analyzing energy transition across the supply chain to building workflow solutions that make it easy to tap into insight and apply it. We are changing the way people see things and empowering them to make an impact on the world we live in. We're committed to a more equitable future and to helping our customers find new, sustainable ways of doing business. We're constantly seeking new solutions that have progress in mind. Join us and help create the critical insights that truly make a difference. Our Values: Integrity, Discovery, Partnership At S&P Global, we focus on Powering Global Markets. Throughout our history, the world's leading organizations have relied on us for the Essential Intelligence they need to make confident decisions about the road ahead. We start with a foundation of integrity in all we do, bring a spirit of discovery to our work, and collaborate in close partnership with each other and our customers to achieve shared goals. Benefits: We take care of you, so you can take care of business. We care about our people. That's why we provide everything you-and your career-need to thrive at S&P Global. Our benefits include: - Health & Wellness: Health care coverage designed for the mind and body. - Flexible Downtime: Generous time off helps keep you energized for your time on. - Continuous Learning: Access a wealth of resources to grow your career and learn valuable new skills. - Invest in Your Future: Secure your financial future through competitive pay, retirement planning, a continuing education program with a company-matched student loan contribution, and financial wellness programs. - Family Friendly Perks: It's not just about you. S&P Global has perks for your partners and little ones, too, with some best-in class benefits for families. - Beyond the Basics: From retail discounts to referral incentive awards-small perks can make a big difference. For more information on benefits by country visit: https://spgbenefits.com/benefit-summaries Global Hiring and Opportunity at S&P Global: At S&P Global, we are committed to fostering a connected and engaged workplace where all individuals have access to opportunities based on their skills, experience, and contributions. Our hiring practices emphasize fairness, transparency, and merit, ensuring that we attract and retain top talent. By valuing different perspectives and promoting a culture of respect and collaboration, we drive innovation and power global markets. Recruitment Fraud Alert: If you receive an email from a spglobalind.com domain or any other regionally based domains, it is a scam and should be reported to reportfraud@spglobal.com . S&P Global never requires any candidate to pay money for job applications, interviews, offer letters, \"pre-employment training\" or for equipment/delivery of equipment. Stay informed and protect yourself from recruitment fraud by reviewing our guidelines, fraudulent domains, and how to report suspicious activity here (https://www.spglobal.com/content/dam/spglobal/corporate/en/documents/careers/Corp_0525-Recruitment-Fraud-Alert.pdf) .  Equal Opportunity Employer S&P Global is an equal opportunity employer and all qualified candidates will receive consideration for employment without regard to race/ethnicity, color, religion, sex, sexual orientation, gender identity, national origin, age, disability, marital status, military veteran status, unemployment status, or any other status protected by law. Only electronic job submissions will be considered for employment. If you need an accommodation during the application process due to a disability, please send an email to:? EEO.Compliance@spglobal.com ?and your request will be forwarded to the appropriate person.? US Candidates Only: The EEO is the Law Poster http://www.dol.gov/ofccp/regs/compliance/posters/pdf/eeopost.pdf ? describes discrimination protections under federal law. Pay Transparency Nondiscrimination Provision - https://www.dol.gov/sites/dolgov/files/ofccp/pdf/pay-transp\\%20English\\formattedESQA508c.pdf  20 - Professional (EEO-2 Job Categories-United States of America), MRKTNG202.2 - Middle Professional Tier II (EEO Job Group) Job ID: 316810 Posted On: 2025-06-22 Location: London, United Kingdom\n",
      " \n",
      " \n"
     ]
    },
    {
     "name": "stdout",
     "output_type": "stream",
     "text": [
      "\n",
      "============================================================\n",
      "PROCESSING RESULTS\n",
      "============================================================\n",
      "Job Title: Associate Director, AI Enablement & Operations Lead\n",
      "Company: S&P Global\n",
      "Location: London, United Kingdom\n",
      "Remote Option: Hybrid\n",
      "Job Level: Senior\n",
      "Salary Info: Not specified\n",
      "Word Count: 1856\n",
      "Masculine Score: 1.4%\n",
      "Feminine Score: 1.51%\n",
      "Neutral Score: 97.09%\n",
      "Gendered Words: F:team; F:responsible; M:lead; M:lead; M:drive; M:individual; M:lead; F:responsible; M:lead; M:drive; F:trust; F:collaborate; M:lead; F:assist; F:collaborate; M:drive; F:responsible; M:drive; M:lead; F:understand; M:strong; M:lead; M:strong; M:drive; F:responsible; M:manage; M:drive; M:lead; F:collaborate; M:lead; F:responsible; M:decision; F:committed; F:inclusive; M:decision; F:dedicated; F:support; F:help; M:strong; F:understand; F:team; F:help; F:committed; F:help; M:confident; F:collaborate; M:achieve; F:care; F:care; F:care; F:care; M:competitive; F:committed; M:drive\n",
      "Manual Review Flag: False\n",
      "\n",
      "Data saved to: C:\\Users\\HP\\OneDrive - University of Southampton\\Documents\\Dissertation Project - Marwa Ashfaq\\Codes\\or_society_jobs.xlsx\n",
      "Total jobs in file: 4\n",
      "\n",
      "✅ Job data saved successfully!\n",
      "\n",
      "----------------------------------------\n"
     ]
    },
    {
     "name": "stdin",
     "output_type": "stream",
     "text": [
      "Do you want to add another job? (y/n/exit):  y\n"
     ]
    },
    {
     "name": "stdout",
     "output_type": "stream",
     "text": [
      "\n",
      "========================================\n",
      "NEW JOB ENTRY\n",
      "========================================\n"
     ]
    },
    {
     "name": "stdin",
     "output_type": "stream",
     "text": [
      "Enter job URL:  https://theorsociety.careerwebsite.com/jobs/view/research-systems-and-information-manager/f14adde5-5254004965/\n"
     ]
    },
    {
     "name": "stdout",
     "output_type": "stream",
     "text": [
      "\n",
      "============================================================\n",
      "JOB DATA ENTRY\n",
      "============================================================\n",
      "URL: https://theorsociety.careerwebsite.com/jobs/view/research-systems-and-information-manager/f14adde5-5254004965/\n",
      "------------------------------------------------------------\n"
     ]
    },
    {
     "name": "stdin",
     "output_type": "stream",
     "text": [
      "Job Title:  Research Systems and Information Manager\n",
      "Company Name:  Durham University\n",
      "Location:  Durham, County Durham, United Kingdom\n",
      "Posting Date (optional):  \n",
      "Salary Info (optional):  \n"
     ]
    },
    {
     "name": "stdout",
     "output_type": "stream",
     "text": [
      "\n",
      "Job Description:\n",
      "(Paste the job description below. Press Enter twice when finished)\n",
      "----------------------------------------\n"
     ]
    },
    {
     "name": "stdin",
     "output_type": "stream",
     "text": [
      " At Durham University we are proud of our people. A globally outstanding centre of educational excellence, a collegiate community of extraordinary people, a unique and historic setting - Durham is a university like no other.  We believe that inspiring our people to do outstanding things at Durham enables Durham people to do outstanding things professionally and personally.  Across the University we have a huge variety of roles and career opportunities, which together make us a large and successful community, which is a key hub of activity within our region and nationally.  We would be thrilled if you would consider joining our thriving University. Further information about the University can be found here.  Find out more about the benefits of working at the University and what it is like to live and work in the Durham area on ourWhy Join Us? - Information Page.  The Role and Department  Research and Innovation Services (RIS) provides guidance, expert advice and hands-on support for all aspects of research and research-related work, including securing funding, working with partners, undertaking knowledge exchange, demonstrating impact, commercialising outputs, ensuring good research practice and supporting professional development.  This post sits within the Policy, Systems and Performance team in Research & Innovation Services (RIS). The team is responsible for the University's research information management systems, the overall governance and ethical framework for both funded and unfunded research & research related activities across the institution, support for institutional strategy development and the compilation of relevant returns including HEBCI, KEF, KEC and REF, as well as management information reporting relating to university research and knowledge exchange (RKE) activities.  As a Research Systems and Information Manager you will be our research systems subject matter expert. You will provide specialist advice and guidance in relation to both the implementation of new research systems and additional functionality to our existing systems (Worktribe Research Management, Infonetica Ethics RM, and Dynamics CRM) as well as any business as usual activities and system improvements. You will be responsible for ensuring our research systems are configured in the most optimal and user-friendly way and that any associated training and communications will be delivered in a clear, concise and timely manner. You verify and authorise any work undertaken in the systems space by any other Systems team member. You will be responsible for delivering key reporting from research systems to enable strategic decision-making, including using tools such as PowerBI as well as in-system reporting tools. You will lead on requirements-gathering for reports, liaise with report stakeholders, and collaborate with other key departments in providing reports, such as the Strategic Planning and Insight Office.  You will report to the Senior Manager - Research Systems and Reporting but will work closely with colleagues across the Research and Innovation Services Directorate as well as colleagues in faculties, departments and across professional support services. You will be a part of an enthusiastic team that is known for delivering transformational change. You will also be a key contact to a number of external system suppliers.  The Research Systems and Information Manager is an extremely strong problem-solver with excellent communication skills. You as the Research Systems and Information Manager will act as an escalation point for cases where local system knowledge is not sufficient. If cases need to be escalated further, you will be leading on the work liaising with the appropriate internal and external stakeholders.  It is essential that the Research Systems and Information Manager is highly organised and pays close attention to detail. The capability to prioritise and manage a busy and varied workload is crucial. The ability to work across business as usual activities and a number of concurrent projects at different stages of development is essential.  This role is suitable for hybrid working, and office days are based at our exciting new professional services hub based at Boldon House. Boldon House is situated on the outskirts of Durham near the Arnison Centre in Pity Me. Boldon House brings a number of professional services teams together in a vibrant office environment which supports collaborative working and is designed to embrace hybrid working.  Further information about the role and the responsibilities is at the bottom of this job description.  Working at Durham  A competitive salary is only one part of the many fantastic benefits you will receive if you join the University: you will also receive access to the following fantastic benefits: 30 Days annual leave per year in addition to 8 public holidays and 4 customary days per year - a total of 42 days per year. The University closes between Christmas and New Year. We offer a generous pension scheme, As a new member of staff you will be automatically enrolled into the University Superannuation Scheme (USS). No matter how you travel to work, we have you covered. We have parking across campus, a cycle to work scheme which helps you to buy a bike and discount with local bus and train companies. There is a genuine commitment to developing our colleagues professionally and personally. There is a comprehensive range of development courses, apprenticeships and access to qualifications and routes to develop your career in the University. All staff have dedicated annual time to concentrate on their personal development opportunities. Lots of support for health and wellbeing including discounted membership for our state of the art sport and gym facilities and access to a 24-7 Employee Assistance Programme. On site nursery is available plus access to holiday camps for children aged 5-16. Family friendly policies, including maternity and adoption leave, which are among the most generous in the higher education sector (and likely above and beyond many employers). The opportunity to take part in staff volunteering activities to make a difference in the local community. Discounts are available via our benefits portal including; money off at supermarkets, high street retailers, IT products such as Apple, the cinema and days out at various attractions. A salary sacrifice scheme is also available to help you take advantage of tax savings on benefits. If you are moving to Durham, you may be eligible for help with removal costs and we have a dedicated team who can help you with the practicalities such as house hunting and schools. If you need a visa, we cover most visa costs and offer an interest free loan scheme to pay for dependant visas.  Discover more about our total rewards and benefits package here.  Durham University is committed to equality, diversity and inclusion  Our collective aim is to create an open and inclusive environment where everyone can reach their full potential and we believe our staff should reflect the diversity of the global community in which we work. As a University equality, diversity, and inclusion (EDI) are a key part of the University's Strategy and a central part of everything we do. We also live by our values and our Staff Code of Conduct. At Durham we actively work towards providing an environment where our staff and students can study, work and live in a community which is supportive and inclusive. It's important to us that all of our colleagues are aligned to both our values and commitment to EDI.  We welcome and encourage applications from members of groups who are under-represented in our work force including people with disabilities, women and black, Asian and minority ethnic communities. If you have taken time out of your career, and you feel it relevant, let us know about it in your application. If you are a candidate with a disability, we are committed to ensuring fair treatment throughout the recruitment process. We will make adjustments to support the interview process wherever it is reasonable to do so and, where successful, reasonable adjustments will be made to support people within their role. What you need to demonstrate when you apply/Person Specification  When you apply it is important that you let us know what skills/experience you have from a similar role and/or what skills/experience you have which would make you right for this role. Further information about the role and responsibilities is at the end of this job description. Where a criteria has an asterisk* next to it, it may be given additional weighting when your application is considered.  Your application should cover the following criteria:  Essential Criteria  Qualifications/Experience  1. Educated to degree level (or equivalent experience).  2. Relevant experience of managing research systems, for example Worktribe, Pure, etc.  3. Professional practitioner with knowledge and expertise in the delivery and development of services and activities within the organisation.  4. Experience of implementing policies and procedures and supporting change and service improvements.  5. Experience of providing specialist advice and guidance to a range of customers and colleagues, including more senior colleagues.  6. Experience of participating in internal or external networks to share and discuss good practice, develop strong and productive working relationships and positively influence the University's reputation.  7. Experience of using data visualisation software (e.g. PowerBI) to create reports.  Skills/Abilities/Knowledge  8. Excellent spoken and written communication skills including the ability to develop effective working relationships, both internally and externally.  9. Strong digital competence across a range digital devices and apps including digital communication tools, Microsoft 365 applications, business systems.  10. Accuracy, numeracy and the ability to analyse, interpret, contextualise and explain complex information and data sets to a variety of audiences.  11. Committed to continuing professional development to maintain professional recognition.  12. Knowledge and experience of ensuring compliance with regulatory and organisational policy and guidelines (e.g. General Data Protection Regulation).  13. Ability to solve problems and decide on and plan appropriate solutions.  14. Ability to be proactive and prioritise work effectively to meet demanding and often conflicting deadlines.  Desirable Criteria  1. Experience of acting as subject matter expert on internal and external events and running presentations/training to a wide audience.  2. Relevant qualification in statistics, data science or related field or equivalent professional experience.  3. Experience of managing a team or leading others  How to Apply  To progress to the assessment stage, candidates must evidence each of the essential criteria required for the role in the person specification above. It will be at the discretion of the recruiting panel as to whether they will also consider any desirable criteria, but we would urge candidates to provide evidence for all criteria. Please don't forget to check if there is any weighted criteria (see above).  While some criteria will be considered at the shortlisting stage, other criteria may be considered later in the assessment process, such as questions at interview.  Submitting your application  We prefer to receive applications online. We will update you about your application at various points throughout the selection process, via automated emails from our e-recruitment system. Please check your spam/junk folder periodically to make sure you have not missed any of our updates.  What you need to submit  • A CV: and • A supporting statement or covering letter which outlines how you meet all of the criteria within the Person Specification. When submitting evidence of each essential criteria, please ensure you use the essential criteria wording as the section heading.  Contact details  For a chat about the role or any further information please contact Rosi Jelfs, Senior Manager - Research Systems and Reporting (r.a.jelfs@durham.ac.uk).  Typical Role Requirements Service Delivery/Development Show a commitment to equality, diversity and inclusion and the University's values. Review and look for ways to improve systems and procedures that are relevant to your area of work in line with the University's frameworks and regulations. Provide specialist advice and guidance relating to your professional area of expertise, in line with the University's policies, regulations and values, for example when developing reports for key stakeholders. Manage the delivery of research systems and reporting across the University to a high standard. Provide the best possible service by continually reviewing what is required from the University research community and contribute to ideas and service improvements. Provide specialist knowledge and support when interpreting and analysing complex data and information sources. Look for ways to improve systems and reporting processes, techniques and outputs/results across all areas of your work. Identify any learning needs that should be met by the service and design activities and arrange any training.  Planning and Organisation Contribute to operational leadership teams to influence the type and level of services that are provided by Research and Innovation Services. Contribute to progressing the strategic and operational priorities of your Department. Seek feedback from the University research community so that the service is being adapted to meet customer expectations and to plan future requirements. Analyse data on the level of service being provided by Research and Innovation Services to recommend areas for future improvement. Meet the development needs of your stakeholders, providing training when required. Manage budgets and expenditure including buying (and returning) goods and services.  Communication/Liaison Provide advice and share guidance with your stakeholders to ensure that the University's policies, procedures and regulations are complied with. Use your operational expertise to lead and participate in business meetings, working groups and sub-committees. Coordinate and organise committees and other business meetings and deal with any related complaints. Update policies and procedures in response to any internal or external changes. Use your expertise to provide training or guidance to other stakeholders. Create positive working relationships, including internal and external networks, for example with contractors and third-party suppliers, using your networks to increase your knowledge and skills and swap information with peers. Any other reasonable duties.  Please note that in submitting your application Durham University will be processing your data. We would ask you to consider the relevant University Privacy Statement Privacy Notices - Durham University which provides information on the collation, storing and use of data.  When appointing to this role the University must ensure that it meets any applicable immigration requirements, including salary thresholds which are applicable to some visas.\n",
      " \n",
      " \n"
     ]
    },
    {
     "name": "stdout",
     "output_type": "stream",
     "text": [
      "\n",
      "============================================================\n",
      "PROCESSING RESULTS\n",
      "============================================================\n",
      "Job Title: Research Systems and Information Manager\n",
      "Company: Durham University\n",
      "Location: Durham, County Durham, United Kingdom\n",
      "Remote Option: Hybrid\n",
      "Job Level: Senior\n",
      "Salary Info: Not specified\n",
      "Word Count: 2314\n",
      "Masculine Score: 0.43%\n",
      "Feminine Score: 1.74%\n",
      "Neutral Score: 97.83%\n",
      "Gendered Words: F:community; F:together; F:community; F:support; F:team; F:team; F:responsible; F:support; F:responsible; F:team; F:responsible; M:decision; M:lead; F:collaborate; F:support; F:team; M:strong; M:manage; F:together; F:collaborative; M:competitive; F:dedicated; F:support; F:community; F:help; F:help; F:dedicated; F:team; F:help; F:committed; F:inclusive; F:community; F:community; F:supportive; F:inclusive; F:committed; F:support; F:support; F:share; M:strong; M:strong; F:committed; F:team; M:manage; F:community; F:support; F:community; M:manage; F:share; M:lead\n",
      "Manual Review Flag: False\n",
      "Error saving to Excel: [Errno 13] Permission denied: 'C:\\\\Users\\\\HP\\\\OneDrive - University of Southampton\\\\Documents\\\\Dissertation Project - Marwa Ashfaq\\\\Codes\\\\or_society_jobs.xlsx'\n",
      "\n",
      "❌ Failed to save job data.\n",
      "\n",
      "----------------------------------------\n"
     ]
    },
    {
     "name": "stdin",
     "output_type": "stream",
     "text": [
      "Do you want to add another job? (y/n/exit):  y\n"
     ]
    },
    {
     "name": "stdout",
     "output_type": "stream",
     "text": [
      "\n",
      "========================================\n",
      "NEW JOB ENTRY\n",
      "========================================\n"
     ]
    },
    {
     "name": "stdin",
     "output_type": "stream",
     "text": [
      "Enter job URL:  https://theorsociety.careerwebsite.com/jobs/view/people-development-manager/f14adde5-5270082797/\n"
     ]
    },
    {
     "name": "stdout",
     "output_type": "stream",
     "text": [
      "\n",
      "============================================================\n",
      "JOB DATA ENTRY\n",
      "============================================================\n",
      "URL: https://theorsociety.careerwebsite.com/jobs/view/people-development-manager/f14adde5-5270082797/\n",
      "------------------------------------------------------------\n"
     ]
    },
    {
     "name": "stdin",
     "output_type": "stream",
     "text": [
      "Job Title:  People Development Manager\n",
      "Company Name:  Carnall Farrar\n",
      "Location:  Hammersmith, West London, United Kingdom\n",
      "Posting Date (optional):  \n",
      "Salary Info (optional):  \n"
     ]
    },
    {
     "name": "stdout",
     "output_type": "stream",
     "text": [
      "\n",
      "Job Description:\n",
      "(Paste the job description below. Press Enter twice when finished)\n",
      "----------------------------------------\n"
     ]
    },
    {
     "name": "stdin",
     "output_type": "stream",
     "text": [
      " Reporting to the Chief People Officer, you will champion our People Strategy which supports the success of all of CF’s business practices. You will collaborate with the rest of the People Team to deliver an excellent employee experience across employee learning, performance and talent. As a People Development Lead at CF, you will own our performance and development frameworks so your scope and ability to make a difference will be huge.  We have developed our People Strategy, which is designed to support the delivery of CF’s company strategy, through ensuring we are an employer of choice within the sector and an ‘irresistible organisation’ for our employees. We have made an extensive commitment to staff development through an in-house development programme, supported with external inputs. This delivers 10 days of training per year to all staff, with additional time for specific groups (e.g. graduate analysts on induction). Training draws on the extensive skills and experience of the leadership team to deliver the programme, which has been accredited as a route for recipients to become Chartered Management Consultants. Spearheading and continuing to innovate our learning offering is a key responsibility of this role.  Our growth ambitions are significant – we have diversified over the past seven years, and in the future this is likely to see us establish additional UK bases, as well as considering how we have a more international face. These developments will all have significant implications for how we work and the skills we need.  Responsibilities and duties  Assessment, development and performance management  Be the owner of our performance management framework with responsibility for ensuring staff understand it, that new joiners are familiarised with it on induction and line managers and Development Sponsors are upskilled to act as guardians of the framework Manage our framework for 1 to 1 meetings to support successful probationary, monthly, mid-year and end of year review discussions Lead our feedback management process giving staff access to give and receive 360 feedback that supports their development Support line managers and Development Sponsors in having effective 1 to 1 conversations using a coaching style of leadership Create development plans for staff and coach Development Sponsors to do the same Responsible for the review and ongoing improvements of the performance management framework making sure we are innovative in our approach to performance Lead our OKR programme, ensuring OKRs are set at project level and by individuals and updated on a cadence set by the company Deliver training and feedback on OKRs and how they can be used most effectively to empower teams and individuals Provide coaching and support to managers in addressing people and team challenges, performance issues and driving improvements Manage our Assessment and Development Committee meetings, including preparing attendees and materials to enable effective discussions Act as a trusted advisor on giving and receiving feedback, readiness to progress and career planning Own our Development Sponsor framework with responsibility for making sure Development Sponsors are equipped with the resources, training and support needed to be successful Embed our values and leadership model in assessment and development journeys  Learning  Position the organisation as an employer of choice through compelling learning offerings that other consulting firms can’t beat Develop a portfolio of online training that addresses core needs flexibly and that lends itself to utilising the strengths of our team Be creative in leveraging tools such as e-learning platforms, gamification, and microlearning to enhance learning experiences Manage our learning calendar, including attendance management, feedback management and ensuring relevancy as we grow and evolve Develop and evolve our wellbeing learning offering using employee feedback Introduce an LMS to support the development of e-learning content and to give staff increased access to on demand learning Review, evaluate and report on learning program effectiveness; analyse feedback from the business to ensure alignment of talent practices with business needs Lead a redesign of our onboarding program so that new hires can feel successful from day one Support the CEO in the design of the leadership development programme, ensuring this delivers training in core skills necessary to fulfil roles, is agile, able to respond to changing demands, and supports personal development Champion the external development programme, including our mission to support the majority of our colleagues on the Chartered Management Consultant Award pathway and the associated relationship with the MCA/CMI, utilising apprenticeships and further developing our Data Innovation Team Own the annual accreditation process of our internal learning programme through external accreditation providers for example ChMC, CIMA & RSS Be accountable for, and enhance the impact of the learning budget Career pathing and skills development  Identify the skills development needs and wants of key talent pools, serve as a design consultant for content creation to enhance our leadership development programs Owns and has responsibility for development of career pathways and competency frameworks across the business Engages in succession planning to allow the Senior Leadership Team to identify top talent with Partner potential Own and update our skills matrix so that it can be used as a tool for the creation of development plans, resourcing and succession planning Develop and manage our secondment programme to create exciting and interesting opportunities for our team to gain first hand industry experience Create innovative opportunities for skills and experience development through mechanisms including shadowing or volunteering Requirements  Qualifications and Experience  We're not necessarily looking for someone CIPD qualified or with a certain level of education, but we are looking for a collaborative, innovative and friendly Learning professional who enjoys rolling up their sleeves and jumping into the thick of the action, someone who is tech savvy, results oriented and loves delivering work to the highest standards. You will likely have a combination of the following skills and attributes:  5+ years prior experience in a people role with hands on experience of learning and development as well as performance management. Experience working with stakeholders outside of a people function Knowledge of LMS administration You will be a self-starter who is action oriented and able to thrive in an entrepreneurial, fast paced environment Exceptional communication and relationship-building skills to influence across all levels Data will be your best friend. You will be someone who makes data driven decisions and recommendations to help us achieve our desired people and business outcomes You will understand project management principles and be interested in developing in this area, in order to deliver projects to agreed deadlines  Desired  Professional services and / or health background is desirable  Flexible working  We follow a hybrid working model that balances in person connections and remote work to drive exceptional client impact. We enjoy working in person together with clients and colleagues and work where clients need us to be.  In supporting flexibility and remote working, team members can work from home one day per week as standard. Additionally, we offer 44 remote working days per year which can be used to top up your working from home days and enable you to work from home up to two days per week-subject to client needs. Alternatively, you could use your allowance in blocks to manage school holidays or other commitments. Our core in person working hours are from 10am until 4pm allowing you that extra flexibility to manage your schedule in a way that works for you  Our commitment to Diversity & Inclusion   We are committed to building an inclusive and supportive culture where diversity thrives, and all our people can excel. We only recruit, promote and reward our people based on their skills and contribution, without regard to gender, race, disability, religion, nationality, ethnicity, sexual orientation, age, marital status, or other characteristics.  We are Disability Confident Accredited, and we want you to feel comfortable and able to perform at your best in the recruitment process, if you require any reasonable adjustments for any part of the recruitment process, please let us know.  Benefits  Holiday entitlement: 25 days/year for staff and 30 days/ year for leadership (Manager role included), increasing by 1 day for every year of service up to a maximum of 35 days of holiday per year We contribute 7% of your salary into your pension, while you contribute 3% (or more if you like) Access to a flexible benefits programme giving you the chance to increase pension contributions, gain access to a cash plan or benefit from a ClassPass subscription Annual leave purchase: employees with less than 35 days annual leave entitlement are able to purchase additional annual leave days Income protection: in the event of long-term incapacity and a qualifying claim, 75% of salary will be paid Enhanced sick pay benefit beyond Statutory Sick Pay for up to a total 12 weeks in any 12-month period Life insurance covering four times your basic salary in a tax-free lump sum payable to your beneficiaries in the event of your death whilst in service Enhanced family leave policies: additional pay for parents who have a baby or adopt Access to an interest free loan of up to £10,000 Access to an interest-free season ticket loan, repayable by 12 monthly instalments Workplace nursery scheme: access to a scheme to help working parents save tax and NI on the cost of the nursery care Flexible working policy: including the ability to work fully remotely for up to 4 weeks a year An employee assistance and wellness Program: including access to telephone counselling, life coaching, interactive tools online and digital content downloadable from Lifeworks Seasonal flu jabs: provided by Boots annually Eye care tests: vouchers and discounts at Vision Express Ride to work scheme, saving up to 42% on bikes and cycling accessories at Evans Cycles Membership to the Health Service Journal (HSJ)\n",
      " \n",
      " \n"
     ]
    },
    {
     "name": "stdout",
     "output_type": "stream",
     "text": [
      "\n",
      "============================================================\n",
      "PROCESSING RESULTS\n",
      "============================================================\n",
      "Job Title: People Development Manager\n",
      "Company: Carnall Farrar\n",
      "Location: Hammersmith, West London, United Kingdom\n",
      "Remote Option: Remote\n",
      "Job Level: Senior\n",
      "Salary Info: Not specified\n",
      "Word Count: 1606\n",
      "Masculine Score: 1.13%\n",
      "Feminine Score: 1.94%\n",
      "Neutral Score: 96.93%\n",
      "Gendered Words: F:collaborate; F:team; M:lead; F:support; F:team; M:responsibility; M:responsibility; F:understand; M:manage; F:support; M:lead; F:support; F:responsible; M:lead; F:support; F:team; M:manage; M:responsibility; F:support; F:team; M:manage; F:support; M:lead; F:support; F:support; F:relationship; F:team; M:responsibility; F:team; M:manage; F:team; F:collaborative; F:relationship; F:help; M:achieve; F:understand; M:drive; F:together; F:team; M:manage; M:manage; F:committed; F:inclusive; F:supportive; M:excel; M:confident; F:help; F:care; F:care\n",
      "Manual Review Flag: False\n",
      "Error saving to Excel: [Errno 13] Permission denied: 'C:\\\\Users\\\\HP\\\\OneDrive - University of Southampton\\\\Documents\\\\Dissertation Project - Marwa Ashfaq\\\\Codes\\\\or_society_jobs.xlsx'\n",
      "\n",
      "❌ Failed to save job data.\n",
      "\n",
      "----------------------------------------\n"
     ]
    },
    {
     "name": "stdin",
     "output_type": "stream",
     "text": [
      "Do you want to add another job? (y/n/exit):  y\n"
     ]
    },
    {
     "name": "stdout",
     "output_type": "stream",
     "text": [
      "\n",
      "========================================\n",
      "NEW JOB ENTRY\n",
      "========================================\n"
     ]
    },
    {
     "name": "stdin",
     "output_type": "stream",
     "text": [
      "Enter job URL:  https://theorsociety.careerwebsite.com/jobs/view/research-scientist-knowledge-semantics-it/f14adde5-5279461648/\n"
     ]
    },
    {
     "name": "stdout",
     "output_type": "stream",
     "text": [
      "\n",
      "============================================================\n",
      "JOB DATA ENTRY\n",
      "============================================================\n",
      "URL: https://theorsociety.careerwebsite.com/jobs/view/research-scientist-knowledge-semantics-it/f14adde5-5279461648/\n",
      "------------------------------------------------------------\n"
     ]
    },
    {
     "name": "stdin",
     "output_type": "stream",
     "text": [
      "Job Title:  Research Scientist - Knowledge & Semantics (IT)\n",
      "Company Name:  BAE Systems\n",
      "Location:  Chelmsford, Essex, United Kingdom\n",
      "Posting Date (optional):  \n",
      "Salary Info (optional):  \n"
     ]
    },
    {
     "name": "stdout",
     "output_type": "stream",
     "text": [
      "\n",
      "Job Description:\n",
      "(Paste the job description below. Press Enter twice when finished)\n",
      "----------------------------------------\n"
     ]
    },
    {
     "name": "stdin",
     "output_type": "stream",
     "text": [
      " BAE Systems Digital Intelligence is home to 4,500 digital, cyber and intelligence experts. We work collaboratively across 10 countries to collect, connect and understand complex data, so that governments, nation states, armed forces and commercial businesses can unlock digital advantage in the most demanding environments.   BAE Systems Digital Intelligence Defence Innovation and Technology is seeking to recruit a team lead for our Knowledge and Semantics team.      The Data and Decision Support Capability has a diverse range of teams working in: reinforcement learning, NLP, knowledge graphs, applications of LLMs, computer vision, AI for RF and EW, sonar and acoustics.      You will have the opportunity to work with these colleagues in multi-disciplinary teams and to work on a wide range of data science topics for customers across the defence, security and commercial sectors as well as on internal BAE Systems AI programmes. You will also have the opportunity to maintain strong links with academic partners and SME partners as well as to grow technical research areas of interest to you.         You will have experience of leading a team of researchers working in NLP, LLM applications, text-mining, knowledge graphs and/or graph machine learning and with a vision on how to develop solutions for practical applications of ML in these domains. You will have a proven record of successful proposal writing and delivery to funding bodies relevant to the Defence sector. You should have existing skills in Machine Learning (ML), will need to be a proficient programmer in Python, with extensive experience in the use of libraries and toolboxes to support efficient development.      You will also have the opportunity to mix technical challenges with customer-facing and project support tasks. In addition to a solid academic background and excellent written and verbal communication skills, we are interested in candidates with experience in NLP, text-mining, knowledge graphs and/or graph machine learning and with a vision on how to develop solutions for practical applications of ML in these domains.         Typical Responsibilities:   Propose and lead novel research in given topic areas, often in partnership with leading UK Universities.   Lead technical delivery of project teams. Prepare and deliver technical reports, technical proposals and supporting material.   Develop prototypes and proof of concept demonstrators.   Take ownership of tasks in projects and deliver to challenging standards.   Effectively present results to both technical and non-technical audiences.         Essential Knowledge, Skills and Experience:   PhD qualified with at least 4 years? experience post PhD You will have experience of leading R&D teams with a minimum of 5 developers. You will have a strong record of securing funding for and delivering innovative R&D. Experience in software development in Python Experience with at least one ML framework: TensorFlow, Pytorch.         Of particular interest are candidates with the following experience (evidenced by a track record of publications, industry experience, open-source available code or equivalent academic work):   Predictive Graph Machine Learning, Causal Machine Learning or Neuro-Symbolic AI.   Natural Language Processing, including Information extraction, text-mining and entity linking. Experience with modern (e.g. transformer-based) NLP models is desirable but not essential.   Application of LLMs to Defence problems.   The taxonomy of Graph Machine Learning tasks and experience in using graph ML in applied or foundational settings.   Graph-structured data, designing and utilising relational and graph databases, and knowledge of graph algorithms.      Desirable Knowledge, Skills and Experience:   Experience with one or more graph machine learning packages (PyTorch-Geometric, PyKeen etc.) and knowledge graph toolkits (Neo4j) Familiarity with one or more query languages (e.g. SQL and Cypher) Familiarity with knowledge representation, ontology design and semantic or LLM based reasoning         Why BAE Systems?      This is a place where you?ll be able to make a real difference. You?ll be part of an inclusive culture that values diversity of thought, rewards integrity, and merit, and where you?ll be empowered to fulfil your potential. We welcome people from all backgrounds and want to make sure that our recruitment processes are as inclusive as possible. If you have a disability or health condition (for example dyslexia, autism, an anxiety disorder etc.) that may affect your performance in certain assessment types, please speak to your recruiter about potential reasonable adjustments.      Please be aware that many roles at BAE Systems are subject to both security and export control restrictions. These restrictions mean that factors such as your nationality, any nationalities you may have previously held, and your place of birth can restrict the roles you are eligible to perform within the organisation. All applicants must as a minimum achieve Baseline Personnel Security Standard. Many roles also require higher levels of National Security Vetting where applicants must typically have 5 to 10 years of continuous residency in the UK depending on the vetting level required for the role, to allow for meaningful security vetting checks.   Life at BAE Systems Digital Intelligence   We are embracing Hybrid Working. This means you and your colleagues may be working in different locations, such as from home, another BAE Systems office or client site, some or all of the time, and work might be going on at different times of the day.   By embracing technology, we can interact, collaborate and create together, even when we?re working remotely from one another. Hybrid Working allows for increased flexibility in when and where we work, helping us to balance our work and personal life more effectively, and enhance well-being.   Diversity and inclusion are integral to the success of BAE Systems Digital Intelligence. We are proud to have an organisational culture where employees with varying perspectives, skills, life experiences and backgrounds - the best and brightest minds - can work together to achieve excellence and realise individual and organisational potential.   Division overview: Capabilities   At BAE Systems Digital Intelligence, we pride ourselves in being a leader in the cyber defence industry, and Capabilities is the engine that keeps the business moving forward. It is the largest area of Digital Intelligence, containing our Engineering, Consulting and Project Management teams that design and implement the defence solutions and digital transformation projects that make us a globally recognised brand in both the public and private sector.   As a member of the Capabilities team, you will be creating and managing the solutions that earn us our place in an ever changing digital world. We all have a role to play in defending our clients, and this is yours.\n",
      " \n",
      " \n"
     ]
    },
    {
     "name": "stdout",
     "output_type": "stream",
     "text": [
      "\n",
      "============================================================\n",
      "PROCESSING RESULTS\n",
      "============================================================\n",
      "Job Title: Research Scientist - Knowledge & Semantics (IT)\n",
      "Company: BAE Systems\n",
      "Location: Chelmsford, Essex, United Kingdom\n",
      "Remote Option: Remote\n",
      "Job Level: Senior\n",
      "Salary Info: Not specified\n",
      "Word Count: 1042\n",
      "Masculine Score: 1.05%\n",
      "Feminine Score: 1.33%\n",
      "Neutral Score: 97.62%\n",
      "Gendered Words: F:connect; F:understand; F:team; M:lead; F:team; M:decision; F:support; M:strong; F:team; F:support; F:support; M:lead; M:lead; M:strong; F:inclusive; F:inclusive; M:control; M:achieve; F:collaborate; F:together; F:together; M:achieve; M:individual; M:leader; F:team\n",
      "Manual Review Flag: False\n",
      "\n",
      "Data saved to: C:\\Users\\HP\\OneDrive - University of Southampton\\Documents\\Dissertation Project - Marwa Ashfaq\\Codes\\or_society_jobs.xlsx\n",
      "Total jobs in file: 5\n",
      "\n",
      "✅ Job data saved successfully!\n",
      "\n",
      "----------------------------------------\n"
     ]
    },
    {
     "name": "stdin",
     "output_type": "stream",
     "text": [
      "Do you want to add another job? (y/n/exit):  y\n"
     ]
    },
    {
     "name": "stdout",
     "output_type": "stream",
     "text": [
      "\n",
      "========================================\n",
      "NEW JOB ENTRY\n",
      "========================================\n"
     ]
    },
    {
     "name": "stdin",
     "output_type": "stream",
     "text": [
      "Enter job URL:  https://theorsociety.careerwebsite.com/jobs/view/bi-manager/f14adde5-5273490750/?keywords=research&pos_flt=0&location=&location_completion=&location_type=&location_text=&location_autocomplete=true&location_latlong=&radius=320&sort=position\n"
     ]
    },
    {
     "name": "stdout",
     "output_type": "stream",
     "text": [
      "\n",
      "============================================================\n",
      "JOB DATA ENTRY\n",
      "============================================================\n",
      "URL: https://theorsociety.careerwebsite.com/jobs/view/bi-manager/f14adde5-5273490750/?keywords=research&pos_flt=0&location=&location_completion=&location_type=&location_text=&location_autocomplete=true&location_latlong=&radius=320&sort=position\n",
      "------------------------------------------------------------\n"
     ]
    },
    {
     "name": "stdin",
     "output_type": "stream",
     "text": [
      "Job Title:  BI Manager\n",
      "Company Name:  Fospha\n",
      "Location:  London, United Kingdom\n",
      "Posting Date (optional):  \n",
      "Salary Info (optional):  \n"
     ]
    },
    {
     "name": "stdout",
     "output_type": "stream",
     "text": [
      "\n",
      "Job Description:\n",
      "(Paste the job description below. Press Enter twice when finished)\n",
      "----------------------------------------\n"
     ]
    },
    {
     "name": "stdin",
     "output_type": "stream",
     "text": [
      " Fospha is dedicated to building the world's most powerful measurement solution for online retail. For over 10 years, we've been pioneering privacy-safe, full-funnel marketing measurement, empowering all teams to make smarter decisions  Our platform unites Finance, Marketing, Data, and Leadership with a shared view of performance and profitability—combining full-funnel measurement, forecasting, and optimization. With Fospha, every team moves faster and grows smarter.  Trusted by over 200 leading brands across three continents, including Huel, Oh Polly, and Represent, Fospha manages $2.5 billion in annual ad spend.  We're scaling fast across London, Mumbai, and Austin — and we're on the lookout for a Business Intelligence Manager to help us build the world’s most powerful marketing measurement solution. Ready to make your mark? Let’s go!   The Opportunity  We are seeking a highly skilled and motivated Business Intelligence Manager to contribute to our Business Intelligence team. The ideal candidate will be a strong individual contributor with a solid analytical background, developing and implementing data-driven solutions to support business decisions. This is an exciting opportunity to contribute to shaping our BI capabilities from the ground up, fostering a data-driven culture and collaborating with a high-performing team. You will combine analytical expertise with a collaborative approach to develop, optimize, and troubleshoot BI solutions.  Responsibilities:  Define and implement best practices for data analysis and reporting. Conduct in-depth analysis to identify actionable trends and patterns. Develop and maintain insightful reports and dashboards. Communicate complex data findings and recommendations clearly to technical and non-technical audiences. Design and develop robust data models and semantic layers. Take ownership of BI tools and environments, including setup and optimization. Build and maintain critical data pipelines and transformations in collaboration with data engineering.  Qualifications  Bachelor's degree in a quantitative field (e.g., Data Science, Statistics, Economics, Mathematics) or equivalent practical experience. 3-5+ years of progressive experience in data analysis, reporting, and Business Intelligence. Proven ability to manage multiple analytical projects and meet deadlines. Bonus Points:  Experience across the modern data stack, including AWS, data warehousing solutions (Redshift, Postgres), ELT tools (Fivetran), and data transformation (dbt). Proven ability to design, implement, and optimize end-to-end data solutions, from robust data ingestion and pipeline development to sophisticated data modelling and impactful dashboard creation using tools like QuickSight and Astrato. Proficiency in key data programming languages, particularly SQL and Python. Demonstrated experience in collaborating with stakeholders and managing analytical tasks from concept to delivery. Understanding of data privacy and security best practices, coupled with experience in CI/CD methodologies for data pipelines.  Our Values and Principles  You will be able to demonstrate examples of our core principles:  Seek inclusion & diversity: We create an environment where everyone feels welcome, and people are encouraged to speak and be heard Work Hard, Work Well, Work Together: We take responsibility for making things happen, independently and together; we help colleagues in need and close loops, making sure our work is complete and has lasting impact Grow: We are proactive, curious and unafraid of failure Customer at the heart: We care about the customer, feel their pain and love building product that solves their biggest problems Candour with caring: We deliver candid feedback with kindness and receive it with gratitude Above all, our people show a willingness to work together and get their hands dirty to deliver product success, which means our customers are successful!   What we can offer you  Competitive Salary Be part of a leading global venture builder, Blenheim Chalcot and learn from the incredible talent in BC. Be exposed to the right mix of challenges and learning and development opportunities Flexible Benefits including Private Medical and Dental, Gym Subsidiaries, Life Assurance, Pension scheme etc 25 days of paid holiday + your birthday off! One day extra after 3 years! Free snacks in the office! Quarterly team socials\n",
      " \n",
      " \n"
     ]
    },
    {
     "name": "stdout",
     "output_type": "stream",
     "text": [
      "\n",
      "============================================================\n",
      "PROCESSING RESULTS\n",
      "============================================================\n",
      "Job Title: BI Manager\n",
      "Company: Fospha\n",
      "Location: London, United Kingdom\n",
      "Remote Option: Hybrid\n",
      "Job Level: Senior\n",
      "Salary Info: Not specified\n",
      "Word Count: 632\n",
      "Masculine Score: 1.41%\n",
      "Feminine Score: 2.2%\n",
      "Neutral Score: 96.39%\n",
      "Gendered Words: F:dedicated; F:team; F:help; F:team; M:strong; M:individual; M:analytical; F:support; F:team; M:analytical; F:collaborative; F:communicate; M:manage; M:analytical; M:analytical; F:together; M:responsibility; F:together; F:help; F:care; F:together; M:competitive; F:team\n",
      "Manual Review Flag: False\n",
      "\n",
      "Data saved to: C:\\Users\\HP\\OneDrive - University of Southampton\\Documents\\Dissertation Project - Marwa Ashfaq\\Codes\\or_society_jobs.xlsx\n",
      "Total jobs in file: 6\n",
      "\n",
      "✅ Job data saved successfully!\n",
      "\n",
      "----------------------------------------\n"
     ]
    },
    {
     "name": "stdin",
     "output_type": "stream",
     "text": [
      "Do you want to add another job? (y/n/exit):  y\n"
     ]
    },
    {
     "name": "stdout",
     "output_type": "stream",
     "text": [
      "\n",
      "========================================\n",
      "NEW JOB ENTRY\n",
      "========================================\n"
     ]
    },
    {
     "name": "stdin",
     "output_type": "stream",
     "text": [
      "Enter job URL:  https://theorsociety.careerwebsite.com/jobs/view/chief-data-scientist/f14adde5-5265648705/?keywords=research&pos_flt=0&location=&location_completion=&location_type=&location_text=&location_autocomplete=true&location_latlong=&radius=320&sort=position\n"
     ]
    },
    {
     "name": "stdout",
     "output_type": "stream",
     "text": [
      "\n",
      "============================================================\n",
      "JOB DATA ENTRY\n",
      "============================================================\n",
      "URL: https://theorsociety.careerwebsite.com/jobs/view/chief-data-scientist/f14adde5-5265648705/?keywords=research&pos_flt=0&location=&location_completion=&location_type=&location_text=&location_autocomplete=true&location_latlong=&radius=320&sort=position\n",
      "------------------------------------------------------------\n"
     ]
    },
    {
     "name": "stdin",
     "output_type": "stream",
     "text": [
      "Job Title:  Chief Data Scientist\n",
      "Company Name:  Harnham - Data & Analytics Recruitment\n",
      "Location:  London, United Kingdom\n",
      "Posting Date (optional):  \n",
      "Salary Info (optional):  \n"
     ]
    },
    {
     "name": "stdout",
     "output_type": "stream",
     "text": [
      "\n",
      "Job Description:\n",
      "(Paste the job description below. Press Enter twice when finished)\n",
      "----------------------------------------\n"
     ]
    },
    {
     "name": "stdin",
     "output_type": "stream",
     "text": [
      " Job Title: Chief Data Scientist Location: Hybrid - London Salary: Up to £125,000 A pioneering data and analytics company is seeking a Chief Data Scientist to lead and grow a high-performing team working at the forefront of machine learning and predictive modelling. This is a senior, hands-on leadership role focused on delivering production-grade models in areas such as Automated Valuation Models (AVMs) and propensity modelling. You will take full ownership of the end-to-end data science lifecycle-from problem scoping to model deployment-while also setting technical standards, shaping strategy, and managing a team of three skilled data scientists. Key Responsibilities Manage a team of 3 data scientists, fostering a high-performance and collaborative culture Own the end-to-end development of predictive models, including AVMs and propensity models Work closely with data engineering and product teams to integrate models into scalable solutions Set the vision and strategy for data science within the business, championing best practices and innovation Communicate complex technical concepts to both technical and non-technical stakeholders Guide experimentation, model validation, and continuous performance monitoring Contribute to long-term planning for the company's data science roadmap Tech Environment Strong emphasis on Python and cloud-based data science tooling Experience with model deployment in production is essential Understanding of real estate or consumer behaviour data is a bonus, but not required About You Proven experience leading small data science teams in a commercial setting Strong expertise in machine learning, particularly with propensity modelling / AVM's Deep experience with end-to-end model development and deployment Confident working in a fast-paced, hands-on environment Comfortable operating at both strategic and technical levels Excellent stakeholder management and communication skills This is an opportunity to make a meaningful impact at a company where data science sits at the core of the product and strategy. You'll be a key voice in shaping how machine learning drives growth, innovation, and commercial outcomes. Please register your interest for this role by sending your CV to Rosie O'Callaghan via the apply link on this page\n",
      " \n",
      " \n"
     ]
    },
    {
     "name": "stdout",
     "output_type": "stream",
     "text": [
      "\n",
      "============================================================\n",
      "PROCESSING RESULTS\n",
      "============================================================\n",
      "Job Title: Chief Data Scientist\n",
      "Company: Harnham - Data & Analytics Recruitment\n",
      "Location: London, United Kingdom\n",
      "Remote Option: Hybrid\n",
      "Job Level: Senior\n",
      "Salary Info: Not specified\n",
      "Word Count: 331\n",
      "Masculine Score: 1.45%\n",
      "Feminine Score: 1.45%\n",
      "Neutral Score: 97.1%\n",
      "Gendered Words: M:lead; F:team; F:team; M:manage; F:team; F:collaborative; F:communicate; M:strong; M:strong; M:confident\n",
      "Manual Review Flag: False\n",
      "\n",
      "Data saved to: C:\\Users\\HP\\OneDrive - University of Southampton\\Documents\\Dissertation Project - Marwa Ashfaq\\Codes\\or_society_jobs.xlsx\n",
      "Total jobs in file: 7\n",
      "\n",
      "✅ Job data saved successfully!\n",
      "\n",
      "----------------------------------------\n"
     ]
    },
    {
     "name": "stdin",
     "output_type": "stream",
     "text": [
      "Do you want to add another job? (y/n/exit):  y\n"
     ]
    },
    {
     "name": "stdout",
     "output_type": "stream",
     "text": [
      "\n",
      "========================================\n",
      "NEW JOB ENTRY\n",
      "========================================\n"
     ]
    },
    {
     "name": "stdin",
     "output_type": "stream",
     "text": [
      "Enter job URL:  https://theorsociety.careerwebsite.com/jobs/view/commercial-operations-analyst/f14adde5-5269349305/?keywords=research&pos_flt=0&location=&location_completion=&location_type=&location_text=&location_autocomplete=true&location_latlong=&radius=320&sort=position\n"
     ]
    },
    {
     "name": "stdout",
     "output_type": "stream",
     "text": [
      "\n",
      "============================================================\n",
      "JOB DATA ENTRY\n",
      "============================================================\n",
      "URL: https://theorsociety.careerwebsite.com/jobs/view/commercial-operations-analyst/f14adde5-5269349305/?keywords=research&pos_flt=0&location=&location_completion=&location_type=&location_text=&location_autocomplete=true&location_latlong=&radius=320&sort=position\n",
      "------------------------------------------------------------\n"
     ]
    },
    {
     "name": "stdin",
     "output_type": "stream",
     "text": [
      "Job Title:  Commercial Operations Analyst\n",
      "Company Name:  Dealstack Ltd\n",
      "Location:  Putney, South West London, United Kingdom\n",
      "Posting Date (optional):  \n",
      "Salary Info (optional):  \n"
     ]
    },
    {
     "name": "stdout",
     "output_type": "stream",
     "text": [
      "\n",
      "Job Description:\n",
      "(Paste the job description below. Press Enter twice when finished)\n",
      "----------------------------------------\n"
     ]
    },
    {
     "name": "stdin",
     "output_type": "stream",
     "text": [
      " Dealstack is a SaaS platform that powers private equity. Private equity deal making remains manual, chaotic and backward. Our goal is to end these outdated practices and to become the new collaboration standard in the industry. Dealstack is built by PE, for PE. Founded by experienced professionals from within the industry, our solution sits at the intersection of SaaS, fintech and legaltech.Dealstack has an ambitious, multi-product roadmap. The first product went live in 2023. It allows private equity professionals to easily onboard and maintain investment programmes. Sincethen, we have launched several new products and features creating a multi-use case operating system for private equity.Following strong commercial traction from leading industry players, we are looking for an ambitious individual, with proven quantitative skills and attention to detail and who thrives with data-based tasks, to support our commercial operations. The objective of the role is simple: to deliver our clients an outstanding experience when onboarding onto our platform and throughout the lifecycle, anticipating their requirements and challenges and proactively helping them to use our software effectively.The role presents an exciting opportunity to join a high-growth tech company delivering new innovation to a fast-moving industry. You will help clients to onboard their complex PE structures onto our platform and achieve their goals with our software. You will have the opportunity to contribute to shaping how we do things and build the best processes and experience for onboarding and serving clients, so that they get the best out of our products and trusted relationships are established. Being at the frontline, you will engage with and serve PE lawyers, investment professionals, central functions and senior management at portfolio companies.    Who you are • Self starter with the ability to work on own initiative and take the responsibility for completing tasks within set deadlines; • High adaptability to existing and evolving technologies and proactive thinking about how to streamline and improve processes, particularly through digitalisation and software; • Inquisitive mind, critical thinking and constant urge to solve problems, show interest and some degree of knowledge about private equity; • A team player with desire and ability to thrive in a fast-moving environment and feel comfortable working in a young company environment.     What job involves Responsibilities: Supporting the onboarding process of the structures of existing private equity clients’ portfolio companies on the Dealstack platform as well as the implementation process for live deals and the ongoing customer success initiatives. This includes a number of steps that must be followed with the highest level of diligence: • Familiarising oneself with the nature of the deal and the deal structure; • Making sense of various data sets (share registers, transaction records, cap tables, waterfalls etc.) and being able to make high level inferences; • Cleaning and manipulating data in order to bring it to the required format for uploading on the platform; • Reviewing various legal documentation; • Identifying patterns and inconsistencies in the provided data records as well as missing pieces in the underlying supporting documentation and addressing those directly with clients; • Keeping the team up to date with progress and flagging any issues as they arise; • Thinking of ways to improve the onboarding and implementation processes and communicating those to the team; • Delivering ongoing support to ensure maximum customer satisfaction and retention and building trusted relationships with clients • Proactively engaging with clients to understand their needs and share best practice on how Dealstack’s products and workflows can address them in the best way possible. • Acting as a liaison between clients and internal teams to address any challenges or concerns.    Desirable skills Skills & competencies • Ability to work and thrive handling large, complex data sets. Processing data, spotting patterns and inconsistencies is a must; • Proficient Excel user, particularly using functions such as: vlookup, index, match, sumif. • Meticulous attention to detail (particularly essential!) with clear documentation and communication; • Strong written and verbal communication skills and ability to build relationships with the team and our clients;  Qualifications & Experience • Required: Degree in a quantitative field (finance, accounting, data science, or related). • Preferred: Prior internship/work experience in finance or quantitative roles. • Bonus: Familiarity with private equity deal structures and administration.  About us Dealstack is on a mission to power private equityDealstack was founded by experienced private equity practitioners with the goal of ending the outdated deal administration practices that have plagued the industry since its inception. Manual and repetitive, these practices remain very time-consuming, costly, and error prone. We know how frustrating they can be. Yet, while we cannot remove the need for these tasks to be completed, we can equip professionals with better tools.  The design of Dealstack is fully focused on helping our old selves work faster, smoother and feel better. By engineering away the burden of deal administration, we can give way to what matters most, creating value. We want Dealstack to become a central part of the dealmaking toolkit – just as obvious as Word, Excel or PowerPoint might feel today – only 100x better!  We recognise that changing old habits can be difficult. Our aim is not to change what works and take away that precious feeling of control. We want to enhance, not replace. Evolve, not revolutionise. We know that peace of mind is central to our users. To that end, we have built Dealstack with best-in-class security, service, and user experience as our core guiding principles.  Join us!\n",
      " \n",
      " \n"
     ]
    },
    {
     "name": "stdout",
     "output_type": "stream",
     "text": [
      "\n",
      "============================================================\n",
      "PROCESSING RESULTS\n",
      "============================================================\n",
      "Job Title: Commercial Operations Analyst\n",
      "Company: Dealstack Ltd\n",
      "Location: Putney, South West London, United Kingdom\n",
      "Remote Option: On-site\n",
      "Job Level: Senior\n",
      "Salary Info: Not specified\n",
      "Word Count: 883\n",
      "Masculine Score: 1.23%\n",
      "Feminine Score: 1.12%\n",
      "Neutral Score: 97.65%\n",
      "Gendered Words: M:ambitious; M:strong; M:ambitious; M:individual; F:support; M:objective; F:help; M:achieve; M:responsibility; F:team; F:share; F:team; F:team; F:support; F:understand; F:share; M:excel; M:strong; F:team; M:excel; M:control\n",
      "Manual Review Flag: False\n",
      "\n",
      "Data saved to: C:\\Users\\HP\\OneDrive - University of Southampton\\Documents\\Dissertation Project - Marwa Ashfaq\\Codes\\or_society_jobs.xlsx\n",
      "Total jobs in file: 8\n",
      "\n",
      "✅ Job data saved successfully!\n",
      "\n",
      "----------------------------------------\n"
     ]
    },
    {
     "name": "stdin",
     "output_type": "stream",
     "text": [
      "Do you want to add another job? (y/n/exit):  y\n"
     ]
    },
    {
     "name": "stdout",
     "output_type": "stream",
     "text": [
      "\n",
      "========================================\n",
      "NEW JOB ENTRY\n",
      "========================================\n"
     ]
    },
    {
     "name": "stdin",
     "output_type": "stream",
     "text": [
      "Enter job URL:  https://theorsociety.careerwebsite.com/jobs/view/computing-teacher/f14adde5-5280169288/?keywords=research&pos_flt=0&location=&location_completion=&location_type=&location_text=&location_autocomplete=true&location_latlong=&radius=320&sort=position\n"
     ]
    },
    {
     "name": "stdout",
     "output_type": "stream",
     "text": [
      "\n",
      "============================================================\n",
      "JOB DATA ENTRY\n",
      "============================================================\n",
      "URL: https://theorsociety.careerwebsite.com/jobs/view/computing-teacher/f14adde5-5280169288/?keywords=research&pos_flt=0&location=&location_completion=&location_type=&location_text=&location_autocomplete=true&location_latlong=&radius=320&sort=position\n",
      "------------------------------------------------------------\n"
     ]
    },
    {
     "name": "stdin",
     "output_type": "stream",
     "text": [
      "Job Title:  Computing Teacher\n",
      "Company Name:  Wayman Education\n",
      "Location:  London, United Kingdom\n",
      "Posting Date (optional):  \n",
      "Salary Info (optional):  \n"
     ]
    },
    {
     "name": "stdout",
     "output_type": "stream",
     "text": [
      "\n",
      "Job Description:\n",
      "(Paste the job description below. Press Enter twice when finished)\n",
      "----------------------------------------\n"
     ]
    },
    {
     "name": "stdin",
     "output_type": "stream",
     "text": [
      " Teacher of Computing  Location: Kensington & Chelsea Start Date: September 2025 Salary: Inner London Main/Upper Pay Scale  The Opportunity: Coding the Future, Inspiring Innovation Are you a visionary Computer Science educator ready to empower the next wave of digital pioneers? Our dynamic state school in Kensington & Chelsea is searching for an innovative Teacher of Computing to equip students with the computational thinking and programming skills needed to thrive in our rapidly evolving digital world.  The Role: From Algorithms to Impact You will design and deliver captivating Computing lessons across Key Stages 3, 4, and 5, exploring everything from programming fundamentals to cybersecurity, data science, and artificial intelligence. Your teaching will be practical, engaging, and challenging, fostering logical thinking and problem-solving skills. You'll lead exciting coding clubs, mentor students on creative projects, and stay at the forefront of technological advancements to keep our curriculum cutting-edge.  About Our School: A Digital Learning Hub Our state school in Kensington & Chelsea is deeply committed to preparing students for the digital future. We boast modern computing suites, access to a wide range of software, and a forward-thinking approach to integrating technology across the curriculum. We foster an environment where innovation is celebrated, and students are encouraged to be creators, not just consumers, of technology.  The Ideal Candidate: Your Tech-Savvy Talent We are looking for a qualified Computing Teacher with QTS, a strong grasp of programming languages, and a proven ability to make complex computational concepts accessible and exciting. You will be enthusiastic about fostering digital literacy and inspiring genuine curiosity in young minds. Experience with robotics or competitive programming is a bonus!  What We Offer: Code Your Career Success  * A competitive salary on the Inner London pay scale, acknowledging your expertise.  * A supportive and innovative department that embraces new technologies and pedagogical approaches.  * Exceptional professional development opportunities in emerging technologies and educational best practices.  * The chance to shape the future of computing education in a well-connected West London borough\n",
      " \n",
      " \n"
     ]
    },
    {
     "name": "stdout",
     "output_type": "stream",
     "text": [
      "\n",
      "============================================================\n",
      "PROCESSING RESULTS\n",
      "============================================================\n",
      "Job Title: Computing Teacher\n",
      "Company: Wayman Education\n",
      "Location: London, United Kingdom\n",
      "Remote Option: On-site\n",
      "Job Level: Senior\n",
      "Salary Info: Not specified\n",
      "Word Count: 325\n",
      "Masculine Score: 1.23%\n",
      "Feminine Score: 0.61%\n",
      "Neutral Score: 98.16%\n",
      "Gendered Words: M:lead; F:committed; M:strong; M:competitive; M:competitive; F:supportive\n",
      "Manual Review Flag: False\n",
      "\n",
      "Data saved to: C:\\Users\\HP\\OneDrive - University of Southampton\\Documents\\Dissertation Project - Marwa Ashfaq\\Codes\\or_society_jobs.xlsx\n",
      "Total jobs in file: 9\n",
      "\n",
      "✅ Job data saved successfully!\n",
      "\n",
      "----------------------------------------\n"
     ]
    },
    {
     "name": "stdin",
     "output_type": "stream",
     "text": [
      "Do you want to add another job? (y/n/exit):  y\n"
     ]
    },
    {
     "name": "stdout",
     "output_type": "stream",
     "text": [
      "\n",
      "========================================\n",
      "NEW JOB ENTRY\n",
      "========================================\n"
     ]
    },
    {
     "name": "stdin",
     "output_type": "stream",
     "text": [
      "Enter job URL:  https://theorsociety.careerwebsite.com/jobs/view/data-analyst-senior-credit-risk/f14adde5-5262826784/?keywords=research&pos_flt=0&location=&location_completion=&location_type=&location_text=&location_autocomplete=true&location_latlong=&radius=320&sort=position\n"
     ]
    },
    {
     "name": "stdout",
     "output_type": "stream",
     "text": [
      "\n",
      "============================================================\n",
      "JOB DATA ENTRY\n",
      "============================================================\n",
      "URL: https://theorsociety.careerwebsite.com/jobs/view/data-analyst-senior-credit-risk/f14adde5-5262826784/?keywords=research&pos_flt=0&location=&location_completion=&location_type=&location_text=&location_autocomplete=true&location_latlong=&radius=320&sort=position\n",
      "------------------------------------------------------------\n"
     ]
    },
    {
     "name": "stdin",
     "output_type": "stream",
     "text": [
      "Job Title:  Data Analyst (Senior) - Credit Risk\n",
      "Company Name:  Octopus Energy Group\n",
      "Location:  London, United Kingdom\n",
      "Posting Date (optional):  \n",
      "Salary Info (optional):  \n"
     ]
    },
    {
     "name": "stdout",
     "output_type": "stream",
     "text": [
      "\n",
      "Job Description:\n",
      "(Paste the job description below. Press Enter twice when finished)\n",
      "----------------------------------------\n"
     ]
    },
    {
     "name": "stdin",
     "output_type": "stream",
     "text": [
      " This could not be a better time to join Octopus Energy. We are already recognised as a global leader in the fight to decarbonise the planet by revolutionising what’s possible in energy - including investments in renewable energy supply, renewable energy generation, smart energy networks, EVs, heat pumps, etc. The government's new green initiatives and the recent investment by Al Gore’s Generation Fund will propel us further and faster. There has never been a more important moment to join our credit risk team. The energy sector is going through a period of once-in-a-generation volatility. Businesses and households are facing higher energy prices than they ever have before. For these reasons we are looking to add to our credit risk team with this new role. This team sits at the heart of everything we do to support customers that are struggling with their bills. We’re unique because we are genuinely a hybrid of a few different skills and mindsets: 1. Data analytics is our core skillset. Everyone in the team is very strong in this area2. We have a firm understanding of the needs of our customers and the business3. We work closely with the tech team, because we’re a tech company, so this how we solve customer problems, efficiently at scale4. We work closely with our operations teams who are the people that speak directly to customersWhat you'll do Take ownership of our management of customers who are struggling with their payments Deep dive investigations into data in order to surface insight for decision making Develop our reporting suite through the latest BI tools & technology stack Develop our empathic approaches towards vulnerable customers Create strategies to identify and prevent first party and third party fraud Develop our machine learning models & policies that drive sophisticated decisions Proactively identify new areas of opportunity Challenge the status quo in terms of KPIs, objectives & strategy Communicate complex data concepts effectively and confidently Build great relationships with Data Science, Technology, Finance, Collections, Ops and other stakeholders What you'll need Excellent SQL skills A drive to solve problems using data Python data science stack (pandas, NumPy, Jupyter notebooks, Plotly/matplotlib, etc)  What would be a bonus:Familiarity with Git Data visualization tool (Tableau, Looker, PowerBI or equivalent)DBT2-5 years experience of consumer credit risk or collections in the financial services, utilities or telecommunications industriesWhy else you'll love it here Wondering what the salary for this role is? Just ask us! On a call with one of our recruiters it's something we always cover as we genuinely want to match your experience with the correct salary. The reason why we don't advertise is because we honestly have a degree of flexibility and would never want salary to be a reason why someone doesn't apply to Octopus - what's more important to us is finding the right octofit! Octopus Energy is a unique culture. An organisation where people learn, decide, and build quicker. Where people work with autonomy, alongside a wide range of amazing co-owners, on projects that break new ground. We want your hard work to be rewarded with perks you actually care about! We won best company to work for in 2022, on Glassdoor we were voted 50 best places to work in 2022 and our Group CEO, Greg has recorded a podcast about our culture and how we empower our people. We’ve also been placed in the top 10 companies for senior leadership Visit our UK perks hub - Octopus Employee Benefits £0 - £0 a year\n",
      " \n",
      " \n"
     ]
    },
    {
     "name": "stdout",
     "output_type": "stream",
     "text": [
      "\n",
      "============================================================\n",
      "PROCESSING RESULTS\n",
      "============================================================\n",
      "Job Title: Data Analyst (Senior) - Credit Risk\n",
      "Company: Octopus Energy Group\n",
      "Location: London, United Kingdom\n",
      "Remote Option: Hybrid\n",
      "Job Level: Senior\n",
      "Salary Info: Not specified\n",
      "Word Count: 593\n",
      "Masculine Score: 1.03%\n",
      "Feminine Score: 1.37%\n",
      "Neutral Score: 97.6%\n",
      "Gendered Words: M:leader; F:team; F:team; F:team; F:support; F:team; M:strong; F:team; M:decision; M:drive; M:challenge; F:communicate; M:drive; F:care\n",
      "Manual Review Flag: False\n",
      "\n",
      "Data saved to: C:\\Users\\HP\\OneDrive - University of Southampton\\Documents\\Dissertation Project - Marwa Ashfaq\\Codes\\or_society_jobs.xlsx\n",
      "Total jobs in file: 10\n",
      "\n",
      "✅ Job data saved successfully!\n",
      "\n",
      "----------------------------------------\n"
     ]
    },
    {
     "name": "stdin",
     "output_type": "stream",
     "text": [
      "Do you want to add another job? (y/n/exit):  \n"
     ]
    },
    {
     "name": "stdout",
     "output_type": "stream",
     "text": [
      "\n",
      "========================================\n",
      "NEW JOB ENTRY\n",
      "========================================\n"
     ]
    },
    {
     "name": "stdin",
     "output_type": "stream",
     "text": [
      "Enter job URL:  https://theorsociety.careerwebsite.com/jobs/view/ai-and-data-lead/f14adde5-5279257813/?keywords=research&pos_flt=0&location=&location_completion=&location_type=&location_text=&location_autocomplete=true&location_latlong=&radius=320&sort=position\n"
     ]
    },
    {
     "name": "stdout",
     "output_type": "stream",
     "text": [
      "\n",
      "============================================================\n",
      "JOB DATA ENTRY\n",
      "============================================================\n",
      "URL: https://theorsociety.careerwebsite.com/jobs/view/ai-and-data-lead/f14adde5-5279257813/?keywords=research&pos_flt=0&location=&location_completion=&location_type=&location_text=&location_autocomplete=true&location_latlong=&radius=320&sort=position\n",
      "------------------------------------------------------------\n"
     ]
    },
    {
     "name": "stdin",
     "output_type": "stream",
     "text": [
      "Job Title:  AI and Data Lead\n",
      "Company Name:  Great British Energy - Nuclear\n",
      "Location:  Warrington, Cheshire, United Kingdom\n",
      "Posting Date (optional):  \n",
      "Salary Info (optional):  \n"
     ]
    },
    {
     "name": "stdout",
     "output_type": "stream",
     "text": [
      "\n",
      "Job Description:\n",
      "(Paste the job description below. Press Enter twice when finished)\n",
      "----------------------------------------\n"
     ]
    },
    {
     "name": "stdin",
     "output_type": "stream",
     "text": [
      " Overview  Originally named, Great British Nuclear, Great British Energy – Nuclear is an arm’s length body of the Department for Energy Security and Net Zero, dedicated to supporting the development and deployment of new nuclear technologies in Great Britain. We play a crucial role in advancing nuclear new build, ensuring the UK’s energy security and achieving net-zero carbon emissions. Great British Energy – Nuclear focuses on fostering innovation, facilitating investment, and coordinating efforts across the nuclear industry to build a resilient and sustainable energy future.  Great British Energy – Nuclear’s first step was to start the technology selection process for Small Modular Reactors (SMRs) in 2023. SMRs can potentially be quicker to deploy and less expensive to build than traditional nuclear power plants because they are smaller, have factory-based modular manufacturing and more flexible deployment options. In June 2025, Great British Energy – Nuclear announced that Rolls-Royce SMR had been selected as the preferred bidder to build the UK’s first SMRs, following a technology selection process that began in 2023.  Great British Energy – Nuclear is aiming to deliver fast, based on a supportive and collaborative culture which values equality and diversity and creates an inclusive workplace. We draw on deep nuclear expertise – our Executive Committee has over 100 years of nuclear experience at home and abroad. GBN-E will unlock billions of pounds of private and public investment from design to operation, helping to get sites ready for development, and working to grow manufacturing capacity and skills capability.  Our activities will be driven by our values, which are:  Trust – We prioritise safety, we act responsibly and with integrity.  Collaboration – We work as a team; we value diversity and expertise.  Challenge – We are curious and courageous in the way we think and act.  Care – We are thoughtful, inclusive and respectful of others.  Drive – We get things done and we make a difference.  If you have a disability and would prefer to apply in a different format or would like us to make reasonable adjustments to enable you to apply or attend an interview, please contact us at recruitment@greatbritishnuclear.uk and we will talk to you about how we can assist.    Job Profile  To support the Information Management Lead in shaping and delivering the organisation’s data and Artificial Intelligence (AI) strategy. The Data and AI Lead will be responsible for establishing a robust data governance framework, enabling data-driven decision-making, and identifying opportunities to leverage AI and advanced analytics across the organisation. This role will play a critical part in ensuring data integrity, accessibility, and innovation, while aligning with regulatory and ethical standards.  The role holder will lead a small team of data professionals and collaborate closely with digital, engineering, and programme delivery teams to embed data science and AI capabilities into core business processes. They will also act as a subject matter expert on data exploitation, advising senior stakeholders and contributing to both the GBE-N and our project partners digital transformation agenda.  GBE-N will maximise the use of AI and novel technologies to enhance our project delivery, aiming to reduce costs and improve efficiency in line with the Government AI playbook.  Experience in managing and exploiting asset and engineering data to support project decision making is beneficial but we will consider strong data skills from other complex problem spaces    Responsibilities  Supporting the development and implementation of the enterprise data and AI strategy under the direction of the Information Management Lead Leading the design and implementation of data governance, quality, and lifecycle management practices Identifying and delivering AI and machine learning use cases that drive operational efficiency, safety, and innovation Collaborating with technical and business teams to ensure data is accessible, secure, and fit for purpose Establishing data architecture standards and ensuring alignment with enterprise IT and digital strategies Overseeing the development of data pipelines, models, and human interfaces to support real-time and predictive analytics Ensuring compliance with data protection regulations and ethical AI principles Building internal capability through training, tools, and best practice guidance on data and AI Representing the organisation in cross-government and industry data and AI forums Monitoring emerging technologies and trends to inform strategic planning and innovation Knowledge, Skills and Experience Required  A degree or equivalent qualification in data science, computer science, engineering, or a related field Demonstrable experience in leading data science and AI initiatives within complex, regulated environments Strong understanding of data governance frameworks, data architecture, and AI/ML lifecycle management Experience with cloud platforms (e.g. Azure, AWS), data engineering tools (e.g. Databricks, Snowflake, Foundry), and analytics platforms (e.g. Power BI, Tableau) Knowledge of relevant legislation and standards, including GDPR, ISO 27001, and ethical AI guidelines Proven ability to translate business needs into data and AI solutions with measurable impact Strong communication, stakeholder engagement, and influencing skills Experience in managing multidisciplinary teams and delivering through matrix structures Ability to work in a fast-paced, mission-driven environment with a focus on outcomes and continuous improvement   Qualifications  Bachelor’s degree in Data Science, Computer Science, Engineering, or a related discipline Professional certification in data management, AI/ML, or cloud architecture (e.g. CDMP, Azure AI Engineer, AWS Certified Data Analytics) is highly desirable Membership of a relevant professional body (e.g. BCS, IEEE, DAMA, IET) is preferred\n",
      " \n",
      " \n"
     ]
    },
    {
     "name": "stdout",
     "output_type": "stream",
     "text": [
      "\n",
      "============================================================\n",
      "PROCESSING RESULTS\n",
      "============================================================\n",
      "Job Title: AI and Data Lead\n",
      "Company: Great British Energy - Nuclear\n",
      "Location: Warrington, Cheshire, United Kingdom\n",
      "Remote Option: Hybrid\n",
      "Job Level: Senior\n",
      "Salary Info: Not specified\n",
      "Word Count: 865\n",
      "Masculine Score: 1.37%\n",
      "Feminine Score: 1.71%\n",
      "Neutral Score: 96.92%\n",
      "Gendered Words: F:dedicated; F:supportive; F:collaborative; F:inclusive; F:trust; F:team; M:challenge; F:care; F:inclusive; M:drive; F:assist; F:support; M:lead; M:lead; F:responsible; M:decision; M:lead; F:team; F:collaborate; F:support; M:decision; M:strong; M:lead; M:drive; F:support; M:strong; M:strong\n",
      "Manual Review Flag: False\n",
      "\n",
      "Data saved to: C:\\Users\\HP\\OneDrive - University of Southampton\\Documents\\Dissertation Project - Marwa Ashfaq\\Codes\\or_society_jobs.xlsx\n",
      "Total jobs in file: 11\n",
      "\n",
      "✅ Job data saved successfully!\n",
      "\n",
      "----------------------------------------\n"
     ]
    },
    {
     "name": "stdin",
     "output_type": "stream",
     "text": [
      "Do you want to add another job? (y/n/exit):  \n"
     ]
    },
    {
     "name": "stdout",
     "output_type": "stream",
     "text": [
      "\n",
      "========================================\n",
      "NEW JOB ENTRY\n",
      "========================================\n"
     ]
    },
    {
     "name": "stdin",
     "output_type": "stream",
     "text": [
      "Enter job URL:  https://theorsociety.careerwebsite.com/jobs/view/analyst-ai-trainer/f14adde5-5285602247/?keywords=research&pos_flt=0&location=&location_completion=&location_type=&location_text=&location_autocomplete=true&location_latlong=&radius=320&sort=position\n"
     ]
    },
    {
     "name": "stdout",
     "output_type": "stream",
     "text": [
      "\n",
      "============================================================\n",
      "JOB DATA ENTRY\n",
      "============================================================\n",
      "URL: https://theorsociety.careerwebsite.com/jobs/view/analyst-ai-trainer/f14adde5-5285602247/?keywords=research&pos_flt=0&location=&location_completion=&location_type=&location_text=&location_autocomplete=true&location_latlong=&radius=320&sort=position\n",
      "------------------------------------------------------------\n"
     ]
    },
    {
     "name": "stdin",
     "output_type": "stream",
     "text": [
      "Job Title:  Analyst - AI Trainer\n",
      "Company Name:  DataAnnotation\n",
      "Location:  Oldham, Greater Manchester, United Kingdom\n",
      "Posting Date (optional):  \n",
      "Salary Info (optional):  \n"
     ]
    },
    {
     "name": "stdout",
     "output_type": "stream",
     "text": [
      "\n",
      "Job Description:\n",
      "(Paste the job description below. Press Enter twice when finished)\n",
      "----------------------------------------\n"
     ]
    },
    {
     "name": "stdin",
     "output_type": "stream",
     "text": [
      " Description  We are looking for an analyst to join our team to train AI models. You will measure the progress of these AI chatbots, evaluate their logic, and solve problems to improve the quality of each model.  In this role you will need to hold an expert level of mathematical reasoning- a completed or in progress Masters/PhD is preferred but not required. Other related fields include, but are not limited to: Data Science, Applied Math and/or Computer Science.  Benefits:  * This is a full-time or part-time REMOTE position * You’ll be able to choose which projects you want to work on * You can work on your own schedule * Projects are paid hourly starting at $40+ USD per hour, with bonuses on high-quality and high-volume work  Responsibilities:  * Give AI chatbots diverse and complex mathematics problems and evaluate their outputs * Evaluate the quality produced by AI models for correctness and performance  Qualifications:  * Fluency in English (native or bilingual level) * Detail-oriented * Proficient in data science, arithmetic, algebra, geometry, calculus, probability, statistics, and inductive/ deductive reasoning * A current, in progress, or completed Masters and/or PhD is preferred but not required  Note: Payment is made via PayPal. We will never ask for any money from you. PayPal will handle any currency conversions from USD.  #INDUKMA  Job Types: Full-time, Part-time  Pay: From £29.06 per hour  Expected hours: 1 – 40 per week  Work Location: Remote\n",
      " \n",
      " \n"
     ]
    },
    {
     "name": "stdout",
     "output_type": "stream",
     "text": [
      "\n",
      "============================================================\n",
      "PROCESSING RESULTS\n",
      "============================================================\n",
      "Job Title: Analyst - AI Trainer\n",
      "Company: DataAnnotation\n",
      "Location: Oldham, Greater Manchester, United Kingdom\n",
      "Remote Option: Remote\n",
      "Job Level: Mid-level\n",
      "Salary Info: Not specified\n",
      "Word Count: 230\n",
      "Masculine Score: 0.0%\n",
      "Feminine Score: 0.43%\n",
      "Neutral Score: 99.57%\n",
      "Gendered Words: F:team\n",
      "Manual Review Flag: False\n",
      "\n",
      "Data saved to: C:\\Users\\HP\\OneDrive - University of Southampton\\Documents\\Dissertation Project - Marwa Ashfaq\\Codes\\or_society_jobs.xlsx\n",
      "Total jobs in file: 12\n",
      "\n",
      "✅ Job data saved successfully!\n",
      "\n",
      "----------------------------------------\n"
     ]
    },
    {
     "name": "stdin",
     "output_type": "stream",
     "text": [
      "Do you want to add another job? (y/n/exit):  https://theorsociety.careerwebsite.com/jobs/view/associate-director-ai-enablement-operations-lead/f14adde5-5263019386/?keywords=research&pos_flt=0&location=&location_completion=&location_type=&location_text=&location_autocomplete=true&location_latlong=&radius=320&sort=position\n"
     ]
    },
    {
     "name": "stdout",
     "output_type": "stream",
     "text": [
      "\n",
      "========================================\n",
      "NEW JOB ENTRY\n",
      "========================================\n"
     ]
    },
    {
     "name": "stdin",
     "output_type": "stream",
     "text": [
      "Enter job URL:  https://theorsociety.careerwebsite.com/jobs/view/associate-director-ai-enablement-operations-lead/f14adde5-5263019386/?keywords=research&pos_flt=0&location=&location_completion=&location_type=&location_text=&location_autocomplete=true&location_latlong=&radius=320&sort=position\n"
     ]
    },
    {
     "name": "stdout",
     "output_type": "stream",
     "text": [
      "\n",
      "============================================================\n",
      "JOB DATA ENTRY\n",
      "============================================================\n",
      "URL: https://theorsociety.careerwebsite.com/jobs/view/associate-director-ai-enablement-operations-lead/f14adde5-5263019386/?keywords=research&pos_flt=0&location=&location_completion=&location_type=&location_text=&location_autocomplete=true&location_latlong=&radius=320&sort=position\n",
      "------------------------------------------------------------\n"
     ]
    },
    {
     "name": "stdin",
     "output_type": "stream",
     "text": [
      "Job Title:  Associate Director, AI Enablement & Operations Lead\n",
      "Company Name:  S&P Global\n",
      "Location:  London,UK\n",
      "Posting Date (optional):  \n",
      "Salary Info (optional):  \n"
     ]
    },
    {
     "name": "stdout",
     "output_type": "stream",
     "text": [
      "\n",
      "Job Description:\n",
      "(Paste the job description below. Press Enter twice when finished)\n",
      "----------------------------------------\n"
     ]
    },
    {
     "name": "stdin",
     "output_type": "stream",
     "text": [
      " The Team: This role is part of the Demand Generation function within Enterprise Marketing, reporting into the Director responsible for In-bound lead management and account-based marketing (ABM). As marketing at S&P Global embraces AI across the funnel, the AI Enablement & Operations Lead will drive the successful implementation, adoption, and continuous improvement of AI-powered marketing tools and capabilities. This individual will work across all marketing teams to scale enablement and maximize the business impact of AI-driven lead generation, personalization, and productivity. The Impact This role will accelerate marketing transformation by championing intelligent automation and responsible AI usage across the enterprise. The AI Enablement & Operations Lead will ensure that tools like Drift, Conversica, and any other new AI-powered martech tool-as well as S&P Global's in-house AI tool SparkAssist-are configured optimally, understood widely, and applied effectively to drive qualified pipeline, enhance customer experience, and improve operational efficiency. They will serve as both a technical enabler and a change agent-building trust in AI adoption while delivering tangible business outcomes. Responsibilities AI Tool Deployment & Optimization - Own day-to-day operations, performance monitoring, and roadmap alignment for AI-powered tools including Drift, Conversica, and future AI applications. - Collaborate with Martech and vendor teams to configure tools, build workflows, and optimize integrations with Salesforce, Marketo, and Adobe Experience Cloud. - Lead the design and refinement of prompt frameworks for generative AI tools - including S&P Global's in-house SparkAssist - to ensure outputs are brand-aligned, operationally effective, and tailored for internal marketing use cases. - Establish usage standards, best practices, and automation governance policies to ensure scalable, secure, and compliant deployment. - Assist in developing and communicating the strategic vision for AI integration in marketing, aligning initiatives with the overall marketing strategy. - Engage with cross-functional stakeholders and collaborate with cross-functional teams to ensure seamless integration of AI tools into the existing tech stack and address technical challenges. Enablement, Training & Change Management - Develop and execute internal training programs to drive adoption and responsible use of AI tools across the global marketing organization. - Create toolkits, playbooks, and use-case documentation tailored to different user groups (e.g., SDRs, campaign managers, content teams). - Train marketers and content creators in prompt engineering best practices to improve generative AI output quality and usability. - Facilitate feedback loops between users, product teams, and analytics to refine use cases and identify new value creation opportunities. - Implement and analyze feedback mechanisms from users to drive continuous improvement in AI tool usage and effectiveness. Measurement, Testing & Innovation - Design and execute robust experimentation frameworks (e.g., A/B tests, multivariate tests) specifically for AI-driven initiatives, analyzing results to derive actionable insights and optimize model performance. - Lead the continuous monitoring and analysis of AI tool performance against defined success metrics, providing actionable recommendations for optimization and strategic pivots. What We're Looking For: Basic Required Qualifications: - Bachelor's degree in marketing, Business, Data Science, or a related field; advanced degree or AI-specific certifications preferred - 5-7+ years of experience in marketing operations, marketing technology, or digital enablement roles, with at least 2 years working with AI tools - Hands-on experience with AI-driven platforms like Drift, Conversica, 6sense, and/or LLM/NLP enhancement tools. Crucially, the ability to understand how these tools integrate (data flow, API concepts) is essential, even if they're not building the integrations from scratch. - Familiarity with Martech stack integrations (e.g., Marketo, Salesforce, CDPs, Adobe Experience Cloud) - Strong understanding of B2B marketing processes and lead flow across sales and marketing systems - Strong understanding of data management practices, including data quality assurance, privacy, and compliance. - Proven ability to deliver training programs and influence adoption across cross-functional teams - Cultural sensitivity and the ability to tailor AI strategies to diverse markets and customer segments, where/if applicable. - Proven ability to drive the development and communication of the marketing AI roadmap, identifying opportunities for AI in marketing, translating business needs into AI use cases, and articulating the strategic value. - This role requires a proactive problem solver who can troubleshoot operational issues with AI tools and actively seek out new martech AI solutions that solve marketing problems. - Understanding the implications of AI ethics for customer experience, brand reputation, data privacy, and compliance is essential. Additional Preferred Qualifications: - Experience leading AI implementation projects in a marketing or go-to-market environment - Background in change management, enablement, or internal communications - Knowledge of AI ethics, compliance frameworks, or responsible AI guidelines - Experience designing and optimizing prompts for large language models or generative AI platforms (e.g., OpenAI, Google Gemini, Adobe Firefly), ideally including proprietary in-house models. - Familiarity with change management frameworks to effectively manage transitions and drive adoption, a plus. What's In It for You? - Innovation Leadership: Be at the forefront of integrating AI into global marketing practices and lead enterprise-wide adoption. - Cross-Functional Impact: Collaborate with marketing, sales, enablement, and technology teams to design intelligent workflows and lead handling. - Scalable Enablement: Build playbooks, training, and certification programs that upskill marketing teams on AI capabilities and responsible use. - Measurable Influence: Shape the performance of marketing automation and conversational AI programs through continuous improvement and analytics. - Enterprise Visibility: Champion AI value cases to leadership and guide decision-making on future-state AI integrations. S&P Global company culture and values At S&P Global, we believe that our diversity drives innovation and success. We are committed to fostering an inclusive environment where every employee feels valued and empowered to contribute their unique perspectives. Our mission is to provide essential intelligence that drives decision-making and shapes the future of global markets. We encourage collaboration and embrace a culture of integrity, accountability, and respect, which allows our teams to thrive and deliver exceptional results for our clients. We are dedicated to attracting and retaining a diverse workforce that reflects the global markets we serve. Our initiatives focus on creating equal opportunities for all employees, promoting a culture of belonging, and supporting professional development for underrepresented groups. Join us in our commitment to making a positive impact in the industry and the communities we serve. Return to Work: Have you taken time out for caring responsibilities and are now looking to return to work? As part of our Return to Work initiative, Restart, we are encouraging enthusiastic and talented returners to apply, and will actively support your return to the workplace. What's In It For You? Our Purpose: Progress is not a self-starter. It requires a catalyst to be set in motion. Information, imagination, people, technology-the right combination can unlock possibility and change the world. Our world is in transition and getting more complex by the day. We push past expected observations and seek out new levels of understanding so that we can help companies, governments and individuals make an impact on tomorrow. At S&P Global we transform data into Essential Intelligence®, pinpointing risks and opening possibilities. We Accelerate Progress. Our People: We're more than 35,000 strong worldwide-so we're able to understand nuances while having a broad perspective. Our team is driven by curiosity and a shared belief that Essential Intelligence can help build a more prosperous future for us all. From finding new ways to measure sustainability to analyzing energy transition across the supply chain to building workflow solutions that make it easy to tap into insight and apply it. We are changing the way people see things and empowering them to make an impact on the world we live in. We're committed to a more equitable future and to helping our customers find new, sustainable ways of doing business. We're constantly seeking new solutions that have progress in mind. Join us and help create the critical insights that truly make a difference. Our Values: Integrity, Discovery, Partnership At S&P Global, we focus on Powering Global Markets. Throughout our history, the world's leading organizations have relied on us for the Essential Intelligence they need to make confident decisions about the road ahead. We start with a foundation of integrity in all we do, bring a spirit of discovery to our work, and collaborate in close partnership with each other and our customers to achieve shared goals. Benefits: We take care of you, so you can take care of business. We care about our people. That's why we provide everything you-and your career-need to thrive at S&P Global. Our benefits include: - Health & Wellness: Health care coverage designed for the mind and body. - Flexible Downtime: Generous time off helps keep you energized for your time on. - Continuous Learning: Access a wealth of resources to grow your career and learn valuable new skills. - Invest in Your Future: Secure your financial future through competitive pay, retirement planning, a continuing education program with a company-matched student loan contribution, and financial wellness programs. - Family Friendly Perks: It's not just about you. S&P Global has perks for your partners and little ones, too, with some best-in class benefits for families. - Beyond the Basics: From retail discounts to referral incentive awards-small perks can make a big difference. For more information on benefits by country visit: https://spgbenefits.com/benefit-summaries Global Hiring and Opportunity at S&P Global: At S&P Global, we are committed to fostering a connected and engaged workplace where all individuals have access to opportunities based on their skills, experience, and contributions. Our hiring practices emphasize fairness, transparency, and merit, ensuring that we attract and retain top talent. By valuing different perspectives and promoting a culture of respect and collaboration, we drive innovation and power global markets. Recruitment Fraud Alert: If you receive an email from a spglobalind.com domain or any other regionally based domains, it is a scam and should be reported to reportfraud@spglobal.com . S&P Global never requires any candidate to pay money for job applications, interviews, offer letters, \"pre-employment training\" or for equipment/delivery of equipment. Stay informed and protect yourself from recruitment fraud by reviewing our guidelines, fraudulent domains, and how to report suspicious activity here (https://www.spglobal.com/content/dam/spglobal/corporate/en/documents/careers/Corp_0525-Recruitment-Fraud-Alert.pdf) .  Equal Opportunity Employer S&P Global is an equal opportunity employer and all qualified candidates will receive consideration for employment without regard to race/ethnicity, color, religion, sex, sexual orientation, gender identity, national origin, age, disability, marital status, military veteran status, unemployment status, or any other status protected by law. Only electronic job submissions will be considered for employment. If you need an accommodation during the application process due to a disability, please send an email to:? EEO.Compliance@spglobal.com ?and your request will be forwarded to the appropriate person.? US Candidates Only: The EEO is the Law Poster http://www.dol.gov/ofccp/regs/compliance/posters/pdf/eeopost.pdf ? describes discrimination protections under federal law. Pay Transparency Nondiscrimination Provision - https://www.dol.gov/sites/dolgov/files/ofccp/pdf/pay-transp\\%20English\\formattedESQA508c.pdf  20 - Professional (EEO-2 Job Categories-United States of America), MRKTNG202.2 - Middle Professional Tier II (EEO Job Group) Job ID: 316810 Posted On: 2025-06-22\n",
      " \n",
      " \n"
     ]
    },
    {
     "name": "stdout",
     "output_type": "stream",
     "text": [
      "\n",
      "============================================================\n",
      "PROCESSING RESULTS\n",
      "============================================================\n",
      "Job Title: Associate Director, AI Enablement & Operations Lead\n",
      "Company: S&P Global\n",
      "Location: London,UK\n",
      "Remote Option: Hybrid\n",
      "Job Level: Senior\n",
      "Salary Info: Not specified\n",
      "Word Count: 1843\n",
      "Masculine Score: 1.41%\n",
      "Feminine Score: 1.52%\n",
      "Neutral Score: 97.07%\n",
      "Gendered Words: F:team; F:responsible; M:lead; M:lead; M:drive; M:individual; M:lead; F:responsible; M:lead; M:drive; F:trust; F:collaborate; M:lead; F:assist; F:collaborate; M:drive; F:responsible; M:drive; M:lead; F:understand; M:strong; M:lead; M:strong; M:drive; F:responsible; M:manage; M:drive; M:lead; F:collaborate; M:lead; F:responsible; M:decision; F:committed; F:inclusive; M:decision; F:dedicated; F:support; F:help; M:strong; F:understand; F:team; F:help; F:committed; F:help; M:confident; F:collaborate; M:achieve; F:care; F:care; F:care; F:care; M:competitive; F:committed; M:drive\n",
      "Manual Review Flag: False\n",
      "\n",
      "Data saved to: C:\\Users\\HP\\OneDrive - University of Southampton\\Documents\\Dissertation Project - Marwa Ashfaq\\Codes\\or_society_jobs.xlsx\n",
      "Total jobs in file: 13\n",
      "\n",
      "✅ Job data saved successfully!\n",
      "\n",
      "----------------------------------------\n"
     ]
    },
    {
     "name": "stdin",
     "output_type": "stream",
     "text": [
      "Do you want to add another job? (y/n/exit):  Y\n"
     ]
    },
    {
     "name": "stdout",
     "output_type": "stream",
     "text": [
      "\n",
      "========================================\n",
      "NEW JOB ENTRY\n",
      "========================================\n"
     ]
    },
    {
     "name": "stdin",
     "output_type": "stream",
     "text": [
      "Enter job URL:  https://theorsociety.careerwebsite.com/jobs/view/business-analyst-fmcg/f14adde5-5279059293/?keywords=research&pos_flt=0&location=&location_completion=&location_type=&location_text=&location_autocomplete=true&location_latlong=&radius=320&sort=position\n"
     ]
    },
    {
     "name": "stdout",
     "output_type": "stream",
     "text": [
      "\n",
      "============================================================\n",
      "JOB DATA ENTRY\n",
      "============================================================\n",
      "URL: https://theorsociety.careerwebsite.com/jobs/view/business-analyst-fmcg/f14adde5-5279059293/?keywords=research&pos_flt=0&location=&location_completion=&location_type=&location_text=&location_autocomplete=true&location_latlong=&radius=320&sort=position\n",
      "------------------------------------------------------------\n"
     ]
    },
    {
     "name": "stdin",
     "output_type": "stream",
     "text": [
      "Job Title:  Business Analyst - FMCG\n",
      "Company Name:  Bucks & Berks Recruitment PLC\n",
      "Location:  Bourne End, Buckinghamshire, United Kingdom\n",
      "Posting Date (optional):  \n",
      "Salary Info (optional):  \n"
     ]
    },
    {
     "name": "stdout",
     "output_type": "stream",
     "text": [
      "\n",
      "Job Description:\n",
      "(Paste the job description below. Press Enter twice when finished)\n",
      "----------------------------------------\n"
     ]
    },
    {
     "name": "stdin",
     "output_type": "stream",
     "text": [
      " We are looking for a bright individual with strong knowledge of data analytics apps, ideally you will have experience using at least one of the following: Jet reports, Power BI, Qlikview.  The ideal candidate will have 3 years + experience as a Business Analyst, FMCG industry experience highly beneficial.  The purpose of this role is to provide data extraction and analytics services to a wide range of clients both internal and external. The role is positioned within Operations and is also expected to provide planning and business improvement services to customer service, warehouse and purchasing.  Salary is up to £35,000 depending on experience. Plus, a range of excellent benefits including generous pension and annual leave entitlement.  Key Responsibilities  Maintain the monthly order file (including maintenance of safety stock levels for key lines) as the basis for calculating replenishment requirements for stock items Expedite and report on outstanding Purchase Order lines on weekly basis Ensure that all Operations activities are tracked and measured to report on resource utilisation Publish and update the main Operations and wider business dashboards Maintain and publish an up to date price file for all goods which are regularly ordered Deal with all incoming customs clearance documentation and processes Identify and map processes for improvement or automation, design new reports  Key Requirements  Degree level education with emphasis on analytics/operational research 3yrs experience in an analytical role ideally in an FMCG product based organisation Understand business process, evaluate it and suggest improvements with metrics Exposure to AI as a means of providing improvements across an organisation Be a strong team player Clear and concise communicator Please note that we will only contact those candidates that we assess as suitable for the positions we have currently available based on their experience, training, and skills. If we do not have anything suitable, we will not keep your CV for more than 30 days.   As an equal opportunity employer, Bucks and Berks Recruitment is committed to the equal treatment of all current and prospective employees and does not condone discrimination on the basis of age, disability, sex, sexual orientation, pregnancy and maternity, race or ethnicity, religion or belief, gender identity, or marriage and civil partnership. We aspire to have a diverse and inclusive workplace and strongly encourage suitably qualified applicants from a wide range of backgrounds to apply.\n",
      " \n",
      " \n"
     ]
    },
    {
     "name": "stdout",
     "output_type": "stream",
     "text": [
      "\n",
      "============================================================\n",
      "PROCESSING RESULTS\n",
      "============================================================\n",
      "Job Title: Business Analyst - FMCG\n",
      "Company: Bucks & Berks Recruitment PLC\n",
      "Location: Bourne End, Buckinghamshire, United Kingdom\n",
      "Remote Option: On-site\n",
      "Job Level: Junior\n",
      "Salary Info: Not specified\n",
      "Word Count: 387\n",
      "Masculine Score: 1.04%\n",
      "Feminine Score: 1.04%\n",
      "Neutral Score: 97.92%\n",
      "Gendered Words: M:individual; M:strong; M:analytical; F:understand; M:strong; F:team; F:committed; F:inclusive\n",
      "Manual Review Flag: False\n",
      "\n",
      "Data saved to: C:\\Users\\HP\\OneDrive - University of Southampton\\Documents\\Dissertation Project - Marwa Ashfaq\\Codes\\or_society_jobs.xlsx\n",
      "Total jobs in file: 14\n",
      "\n",
      "✅ Job data saved successfully!\n",
      "\n",
      "----------------------------------------\n"
     ]
    },
    {
     "name": "stdin",
     "output_type": "stream",
     "text": [
      "Do you want to add another job? (y/n/exit):  \n"
     ]
    },
    {
     "name": "stdout",
     "output_type": "stream",
     "text": [
      "\n",
      "========================================\n",
      "NEW JOB ENTRY\n",
      "========================================\n"
     ]
    },
    {
     "name": "stdin",
     "output_type": "stream",
     "text": [
      "Enter job URL:  https://theorsociety.careerwebsite.com/jobs/view/data-engineer-operations-lead/f14adde5-5283658694/?keywords=research&pos_flt=0&location=&location_completion=&location_type=&location_text=&location_autocomplete=true&location_latlong=&radius=320&sort=position\n"
     ]
    },
    {
     "name": "stdout",
     "output_type": "stream",
     "text": [
      "\n",
      "============================================================\n",
      "JOB DATA ENTRY\n",
      "============================================================\n",
      "URL: https://theorsociety.careerwebsite.com/jobs/view/data-engineer-operations-lead/f14adde5-5283658694/?keywords=research&pos_flt=0&location=&location_completion=&location_type=&location_text=&location_autocomplete=true&location_latlong=&radius=320&sort=position\n",
      "------------------------------------------------------------\n"
     ]
    },
    {
     "name": "stdin",
     "output_type": "stream",
     "text": [
      "Job Title:  Data Engineer & Operations Lead\n",
      "Company Name:  First Bus\n",
      "Location:  UK, United Kingdom\n",
      "Posting Date (optional):  \n",
      "Salary Info (optional):  \n"
     ]
    },
    {
     "name": "stdout",
     "output_type": "stream",
     "text": [
      "\n",
      "Job Description:\n",
      "(Paste the job description below. Press Enter twice when finished)\n",
      "----------------------------------------\n"
     ]
    },
    {
     "name": "stdin",
     "output_type": "stream",
     "text": [
      " About Us  At First Bus, we're on a journey to transform travel – making it more sustainable, more efficient, and more accessible for the communities we serve. As one of the UK's leading public transport providers, we operate a fleet of thousands of buses across major towns and cities, helping millions of passengers get to where they need to be every year.    We're proud to be driving innovation in the industry – from introducing low and zero-emission vehicles to investing in digital ticketing and real-time passenger information. Our people are at the heart of our business, and we're committed to creating an inclusive, forward-thinking workplace where talent thrives and careers grow.    Join us as we shape the future of public transport and make a real difference to everyday journeys.    About the role  We are looking for a Data Engineering & Operations Lead to join our growing Data team at First Bus.    This is a critical leadership role at the heart of our data transformation journey. You'll be responsible for designing, developing, and maintaining the core data infrastructure that underpins decision-making across the business. As we continue to scale our use of data, your leadership will ensure our Azure-based platform is robust, scalable, and fully aligned with the needs of the business.    You'll play a key role in evolving our Azure environment into a modern, business-ready data platform – shaping its technical architecture, setting engineering standards, and delivering high-impact data solutions. You'll also lead and mentor a team of data engineers, providing direction on priorities, driving best practices, and ensuring the delivery of high-quality, reliable data pipelines and services.    This is an exciting opportunity for someone who enjoys combining deep technical expertise with leadership and strategy to make a real difference in how data is used across an organisation.    Key Responsibilities  Own and optimise the Azure-based data platform to support current and future analytics needs. Lead and develop the Data Engineering team, including line management and technical oversight. Work with the Head of Data & Analytics to prioritise and coordinate workload for the engineering function. Drive the transformation of our Azure environment from a traditional data warehouse to a modern, business-aligned data marketplace. Ensure strong data governance and maintain data lineage across datasets. Research and evaluate alternative tools and technologies for continuous improvement. Identify new sources of data to enhance analytical capabilities. Collaborate with stakeholders to meet evolving data needs through well-prioritised, high-impact data solutions. Ensure solutions meet security, privacy, and compliance requirements. Support the professional development of the wider D&A team through sharing best practices and technical coaching.   Skills and Experience  Expert in Azure administration and optimisation, including efficient scaling and resource class management. Expert in data architecture, modelling, and ETL performance tuning. Excellent SQL & PowerShell skills. Programming experience in R or similar statistical languages is beneficial. Experience with structuring project work using tools like JIRA. Strong experience working with large, complex datasets and performance analysis. Experience with visualisation tools such as Power BI or Tableau. Excellent presentation and communication skills – able to articulate complex technical concepts to senior stakeholders. Comfortable working across functions including Data Science, BI, IT, and business units. Proven ability to build scalable, well-documented solutions that can be reused and extended by others. Commercial and financial awareness. Degree educated in a numeric, scientific or engineering discipline or equivalent experience. Leadership experience with a collaborative, supportive management style.   Rewards & Benefits  Your health is important to us which is why we offer Simply Health & Smart Health for you and your dependents at no cost to you! This offering includes cash back benefits across optical & dental as well as virtual GP appointments, mental health support and nutrition and fitness advise. Our EAP provision offers 24hr, 365 days a year mental health support We are also committed to your financial wellbeing, and we offer a platform with many discounts on high street brands and supermarkets etc Working at First you also receive discounted train travel for you and your family after 6 months service as well as a free bus pass Cycle to work scheme 25 days' holiday + bank holidays Pension scheme and chance to buy discounted First Group shares Flexible working   We put a big focus on physical and mental wellbeing at First Bus. We recognise that anyone can be affected by the stresses and strain of work, or life outside it. You'll find a range of health-promotion initiatives, and you will have 24/7 access to our confidential Employee Assistance Programme.  Please apply now. We look forward to receiving your application.    Public transport serves everyone, whatever their differences. At First Bus, we want to be an employer open to you, no matter what your differences are. We aspire to be an inclusive organisation because diverse backgrounds, thinking and experiences bring so many benefits to our customers, communities and people. We welcome applications from all.    Applicants are advised that background checks will be conducted as a standard part of our recruitment process.\n",
      " \n",
      " \n"
     ]
    },
    {
     "name": "stdout",
     "output_type": "stream",
     "text": [
      "\n",
      "============================================================\n",
      "PROCESSING RESULTS\n",
      "============================================================\n",
      "Job Title: Data Engineer & Operations Lead\n",
      "Company: First Bus\n",
      "Location: UK, United Kingdom\n",
      "Remote Option: Remote\n",
      "Job Level: Senior\n",
      "Salary Info: Not specified\n",
      "Word Count: 827\n",
      "Masculine Score: 0.96%\n",
      "Feminine Score: 1.92%\n",
      "Neutral Score: 97.12%\n",
      "Gendered Words: F:committed; F:inclusive; M:lead; F:team; F:responsible; M:decision; M:lead; F:team; F:support; M:lead; F:team; M:drive; M:strong; M:analytical; F:collaborate; F:support; F:team; M:strong; F:collaborative; F:supportive; F:support; F:support; F:committed; F:inclusive\n",
      "Manual Review Flag: False\n",
      "\n",
      "Data saved to: C:\\Users\\HP\\OneDrive - University of Southampton\\Documents\\Dissertation Project - Marwa Ashfaq\\Codes\\or_society_jobs.xlsx\n",
      "Total jobs in file: 15\n",
      "\n",
      "✅ Job data saved successfully!\n",
      "\n",
      "----------------------------------------\n"
     ]
    },
    {
     "name": "stdin",
     "output_type": "stream",
     "text": [
      "Do you want to add another job? (y/n/exit):  \n"
     ]
    },
    {
     "name": "stdout",
     "output_type": "stream",
     "text": [
      "\n",
      "========================================\n",
      "NEW JOB ENTRY\n",
      "========================================\n"
     ]
    },
    {
     "name": "stdin",
     "output_type": "stream",
     "text": [
      "Enter job URL:  https://theorsociety.careerwebsite.com/jobs/view/data-scientist/f14adde5-5280344163/?keywords=research&pos_flt=0&location=&location_completion=&location_type=&location_text=&location_autocomplete=true&location_latlong=&radius=320&sort=position\n"
     ]
    },
    {
     "name": "stdout",
     "output_type": "stream",
     "text": [
      "\n",
      "============================================================\n",
      "JOB DATA ENTRY\n",
      "============================================================\n",
      "URL: https://theorsociety.careerwebsite.com/jobs/view/data-scientist/f14adde5-5280344163/?keywords=research&pos_flt=0&location=&location_completion=&location_type=&location_text=&location_autocomplete=true&location_latlong=&radius=320&sort=position\n",
      "------------------------------------------------------------\n"
     ]
    },
    {
     "name": "stdin",
     "output_type": "stream",
     "text": [
      "Job Title:  Data Scientist\n",
      "Company Name:  Infosys Consulting - Europe\n",
      "Location:  UK, United Kingdom\n",
      "Posting Date (optional):  \n",
      "Salary Info (optional):  \n"
     ]
    },
    {
     "name": "stdout",
     "output_type": "stream",
     "text": [
      "\n",
      "Job Description:\n",
      "(Paste the job description below. Press Enter twice when finished)\n",
      "----------------------------------------\n"
     ]
    },
    {
     "name": "stdin",
     "output_type": "stream",
     "text": [
      " Do you want to boost your career and collaborate with expert, talented colleagues to solve and deliver against our clients' most important challenges? We are growing and are looking for people to join our team. You'll be part of an entrepreneurial, high-growth environment of 300.000 employees. Our dynamic organization allows you to work across functional business pillars, contributing your ideas, experiences, diverse thinking, and a strong mindset. Are you ready?  Job Overview:  We are looking for a highly skilled Data Scientist to join our team. As a Data Scientist, you will be responsible for analysing large amounts of raw data to extract valuable insights, building machine learning models, and contributing to data-driven decision-making processes across the organisation. You will work closely with cross-functional teams, including data engineers, analysts, and business stakeholders, to turn data into actionable strategies that drive business outcomes.  The ideal candidate should have a strong background in statistical analysis, machine learning, and data mining techniques, and should be capable of translating complex datasets into understandable insights that impact business growth.  Key Responsibilities:  Data Analysis and Exploration:  Analyse large, complex datasets to identify trends, patterns, and insights that inform business decisions. Use statistical methods to explore and interpret data, providing actionable recommendations to stakeholders. Identify and address data quality issues, ensuring accurate and consistent analyses. Machine Learning and Predictive Modelling:  Build, test, and deploy predictive models and machine learning algorithms to solve business problems (e.g., customer segmentation, demand forecasting, recommendation systems). Continuously improve models by retraining and optimising based on performance metrics and feedback. Collaborate with data engineers to integrate models into production systems for real-time decision-making. Business Problem-Solving:  Work with business teams to define key problems and translate business objectives into data science projects. Develop hypotheses and design experiments to test various business scenarios using data-driven approaches. Present data-driven insights and recommendations to both technical and non-technical stakeholders. Data Visualisation and Reporting:  Create clear and compelling data visualisations to communicate findings (using tools like Tableau, Power BI, or matplotlib/Seaborn). Design and generate dashboards and reports to help business teams track key metrics and KPIs. Explain complex analytical results in a clear, concise, and actionable manner to stakeholders at all levels. Data Wrangling and Preparation:  Extract, clean, and prepare data from various internal and external sources for analysis and modelling. Perform data transformations, feature engineering, and scaling to optimise model performance. Collaborate with data engineers to design data pipelines that ensure the availability of clean, structured, and high-quality data. Statistical and Mathematical Modelling:  Apply advanced statistical techniques, such as hypothesis testing, regression analysis, classification, and clustering, to derive insights and build models. Perform A/B testing, multivariate testing, and other forms of experimental design to measure the effectiveness of business interventions. Collaboration and Stakeholder Management:  Work closely with business leaders, product teams, and other stakeholders to understand their data needs and provide them with insights that drive strategy. Collaborate with data engineers, analysts, and software developers to implement data solutions that align with business goals. Support continuous learning and knowledge sharing by presenting findings and methodologies to colleagues. Requirements  Skills and Qualifications:  Essential Skills:  Bachelor’s or Master’s degree in Data Science, Statistics, Mathematics, Computer Science, Engineering, or a related field. A Ph.D. is a plus. Proven experience (3+ years) as a Data Scientist, Machine Learning Engineer, or similar role. Strong proficiency in programming languages such as Python or R for data analysis, with experience in libraries like pandas, NumPy, scikit-learn, and TensorFlow/PyTorch. Solid understanding of statistical analysis and experience in applying techniques like regression, hypothesis testing, and multivariate analysis. Hands-on experience with machine learning algorithms (classification, clustering, regression, deep learning). Proficiency with SQL for querying large datasets and relational databases. Familiarity with data visualisation tools such as Tableau, Power BI, or visualisation libraries in Python (matplotlib, Seaborn). Experience with big data technologies such as Hadoop, Spark, or distributed computing frameworks. Strong understanding of data preprocessing, feature engineering, and data pipeline development. Preferred Skills:  Experience with cloud platforms like AWS, Google Cloud, or Azure for building data science models in the cloud. Knowledge of NLP (Natural Language Processing), computer vision, or time series analysis. Familiarity with NoSQL databases (e.g., MongoDB, Cassandra). Experience with CI/CD pipelines for model deployment and monitoring. Hands-on experience with A/B testing, randomised experiments, and designing controlled experiments. Familiarity with tools like Docker and Kubernetes for containerising models and applications.  Personal Attributes:  Strong analytical and problem-solving skills with a passion for data-driven decision-making. Ability to work independently, prioritise tasks, and manage multiple projects at once. Excellent communication skills, capable of explaining complex concepts to both technical and non-technical audiences. A collaborative mindset, with a willingness to work with cross-functional teams to achieve business objectives. Curious and continuously eager to learn new techniques, tools, and technologies in the data science space. Given that this is just a short snapshot of the role we encourage you to apply even if you don't meet all the requirements listed above. We are looking for individuals who strive to make an impact and are eager to learn. If this sounds like you and you feel you have the skills and experience required, then please apply now.  Benefits  About your team  Join our growing Data & Analytics practice and make a difference.  In this practice you will be utilizing the most innovative technological solutions in modern data ecosystem. In this role you’ll be able to see your own ideas transform into breakthrough results in the areas of Data & Analytics strategy, Management & Governance, Data Integration & engineering, Analytics & Data science.  About Infosys Consulting  Be part of a globally renowned management consulting firm on the front-line of industry disruption and at the cutting edge of technology. We work with market leading brands across sectors. Our culture is inclusive and entrepreneurial. Being a mid-size consultancy within the scale of Infosys gives us the global reach to partner with our clients throughout their transformation journey.  Our core values, IC-LIFE, form a common code that helps us move forward. IC-LIFE stands for Inclusion, Equity and Diversity, Client, Leadership, Integrity, Fairness, and Excellence. To learn more about Infosys Consulting and our values, please visit our careers page.  Within Europe, we are recognized as one of the UK’s top firms by the Financial Times and Forbes due to our client innovations, our cultural diversity and dedicated training and career paths. Infosys is on the Germany’s top employers list for 2023. Management Consulting Magazine named us on their list of Best Firms to Work for. Furthermore, Infosys has been recognized by the Top Employers Institute, a global certification company, for its exceptional standards in employee conditions across Europe for five years in a row.  We offer industry-leading compensation and benefits, along with top training and development opportunities so that you can grow your career and achieve your personal ambitions. Curious to learn more? We’d love to hear from you.... Apply today!\n",
      " \n",
      " \n"
     ]
    },
    {
     "name": "stdout",
     "output_type": "stream",
     "text": [
      "\n",
      "============================================================\n",
      "PROCESSING RESULTS\n",
      "============================================================\n",
      "Job Title: Data Scientist\n",
      "Company: Infosys Consulting - Europe\n",
      "Location: UK, United Kingdom\n",
      "Remote Option: Remote\n",
      "Job Level: Senior\n",
      "Salary Info: Not specified\n",
      "Word Count: 1151\n",
      "Masculine Score: 1.28%\n",
      "Feminine Score: 1.28%\n",
      "Neutral Score: 97.44%\n",
      "Gendered Words: F:collaborate; F:team; M:strong; F:team; F:responsible; M:decision; M:drive; M:strong; F:collaborate; M:decision; F:communicate; F:help; M:analytical; F:collaborate; F:understand; M:drive; F:collaborate; F:support; M:strong; M:strong; M:strong; M:analytical; M:decision; M:manage; F:collaborative; M:achieve; F:team; F:inclusive; F:dedicated; M:achieve\n",
      "Manual Review Flag: False\n",
      "\n",
      "Data saved to: C:\\Users\\HP\\OneDrive - University of Southampton\\Documents\\Dissertation Project - Marwa Ashfaq\\Codes\\or_society_jobs.xlsx\n",
      "Total jobs in file: 16\n",
      "\n",
      "✅ Job data saved successfully!\n",
      "\n",
      "----------------------------------------\n"
     ]
    },
    {
     "name": "stdin",
     "output_type": "stream",
     "text": [
      "Do you want to add another job? (y/n/exit):  \n"
     ]
    },
    {
     "name": "stdout",
     "output_type": "stream",
     "text": [
      "\n",
      "========================================\n",
      "NEW JOB ENTRY\n",
      "========================================\n"
     ]
    },
    {
     "name": "stdin",
     "output_type": "stream",
     "text": [
      "Enter job URL:  https://theorsociety.careerwebsite.com/jobs/view/experience-research-vice-president/f14adde5-5278085956/?keywords=research&pos_flt=0&location=&location_completion=&location_type=&location_text=&location_autocomplete=true&location_latlong=&radius=320&sort=position\n"
     ]
    },
    {
     "name": "stdout",
     "output_type": "stream",
     "text": [
      "\n",
      "============================================================\n",
      "JOB DATA ENTRY\n",
      "============================================================\n",
      "URL: https://theorsociety.careerwebsite.com/jobs/view/experience-research-vice-president/f14adde5-5278085956/?keywords=research&pos_flt=0&location=&location_completion=&location_type=&location_text=&location_autocomplete=true&location_latlong=&radius=320&sort=position\n",
      "------------------------------------------------------------\n"
     ]
    },
    {
     "name": "stdin",
     "output_type": "stream",
     "text": [
      "Job Title:  Experience Research Vice President\n",
      "Company Name:  JPMorganChase\n",
      "Location:  London, United Kingdom\n",
      "Posting Date (optional):  \n",
      "Salary Info (optional):  \n"
     ]
    },
    {
     "name": "stdout",
     "output_type": "stream",
     "text": [
      "\n",
      "Job Description:\n",
      "(Paste the job description below. Press Enter twice when finished)\n",
      "----------------------------------------\n"
     ]
    },
    {
     "name": "stdin",
     "output_type": "stream",
     "text": [
      " Join us and apply your research skills to understanding digital product users and driving decisions which make those products better for our users.   As a Vice President of Experience Research in the Behavioral Insights Team, you will play a pivotal role in shaping the user experience across our products and services. Leveraging your deep expertise in research methods and digital product delivery, you will design and execute research to uncover valuable insights into the wants, needs, and abilities of our users. Apply your advanced knowledge of quantitative methods to critically analyze the effectiveness of our existing and future designs as you collaborate with cross-disciplinary teams — your work will drive effective product decisions across the firm. You will join a research team with a culture of continuous learning, which will benefit from your thought leadership and expertise.  Job responsibilities  Partner closely with colleagues across product, design and technology to design and execute research projects which inform strategy and decision-making Analyze and interpret data using advanced quantitative methods and translate insights into actionable recommendations to enhance user experience Define relevant metrics and facilitate their implementation to provide meaningful insights about product performance and user experience Advise colleagues on what to measure about user experience, both by tracking user behavior and by running user surveys Monitor industry trends in user experience research methods and incorporate innovative techniques to maintain a competitive edge in the market Collaborate with others as part of a culture of continuous learning and knowledge sharing within the user experience team  Required qualifications, capabilities, and skills  Formal experience or equivalent expertise in generative and evaluative user experience research, with a strong focus on quantitative research methods Proven ability to conduct various research techniques, such as surveys, A/B tests and statistical modelling, to derive actionable insights to inform product decisions Experience in collaborating with cross-functional teams, including product managers, UX designers and developers, to propel user-centric decision-making and inform product prioritization Experience in designing high-quality research studies with an iterative mindset, with an ability to adapt study parameters to accommodate changing product design needs Experience analyzing and visualizing data using Python or R, focused on developing reproducible analytical pipelines Experience synthesizing large datasets from different sources to derive meaningful insights Experience distilling complex research findings into actionable insights and to communicate insights effectively to audiences with different levels of seniority and familiarity with research Preferred qualifications, capabilities, and skills  Advanced degree (e.g. MSc, PhD) in data science, behavioral science, social psychology, statistics, or another related field Experience with advanced statistical methods (e.g., longitudinal analysis, multi-level modeling, AI/ML techniques) Experience using experimental and quasi-experimental designs Familiarity with Tableau and/ or Adobe Analytics\n",
      " \n",
      " \n"
     ]
    },
    {
     "name": "stdout",
     "output_type": "stream",
     "text": [
      "\n",
      "============================================================\n",
      "PROCESSING RESULTS\n",
      "============================================================\n",
      "Job Title: Experience Research Vice President\n",
      "Company: JPMorganChase\n",
      "Location: London, United Kingdom\n",
      "Remote Option: On-site\n",
      "Job Level: Senior\n",
      "Salary Info: Not specified\n",
      "Word Count: 442\n",
      "Masculine Score: 1.33%\n",
      "Feminine Score: 1.33%\n",
      "Neutral Score: 97.34%\n",
      "Gendered Words: F:team; F:collaborate; M:drive; F:team; M:decision; M:competitive; F:collaborate; F:team; M:strong; M:decision; M:analytical; F:communicate\n",
      "Manual Review Flag: False\n",
      "\n",
      "Data saved to: C:\\Users\\HP\\OneDrive - University of Southampton\\Documents\\Dissertation Project - Marwa Ashfaq\\Codes\\or_society_jobs.xlsx\n",
      "Total jobs in file: 17\n",
      "\n",
      "✅ Job data saved successfully!\n",
      "\n",
      "----------------------------------------\n"
     ]
    },
    {
     "name": "stdin",
     "output_type": "stream",
     "text": [
      "Do you want to add another job? (y/n/exit):  \n"
     ]
    },
    {
     "name": "stdout",
     "output_type": "stream",
     "text": [
      "\n",
      "========================================\n",
      "NEW JOB ENTRY\n",
      "========================================\n"
     ]
    },
    {
     "name": "stdin",
     "output_type": "stream",
     "text": [
      "Enter job URL:  https://theorsociety.careerwebsite.com/job/graduate-data-scientist/f14adde5-5284174135/\n"
     ]
    },
    {
     "name": "stdout",
     "output_type": "stream",
     "text": [
      "\n",
      "============================================================\n",
      "JOB DATA ENTRY\n",
      "============================================================\n",
      "URL: https://theorsociety.careerwebsite.com/job/graduate-data-scientist/f14adde5-5284174135/\n",
      "------------------------------------------------------------\n"
     ]
    },
    {
     "name": "stdin",
     "output_type": "stream",
     "text": [
      "Job Title:  Graduate Data Scientist\n",
      "Company Name:  Constant Recruitment Ltd\n",
      "Location:  Kings Hill, West Malling, United Kingdom\n",
      "Posting Date (optional):  \n",
      "Salary Info (optional):  \n"
     ]
    },
    {
     "name": "stdout",
     "output_type": "stream",
     "text": [
      "\n",
      "Job Description:\n",
      "(Paste the job description below. Press Enter twice when finished)\n",
      "----------------------------------------\n"
     ]
    },
    {
     "name": "stdin",
     "output_type": "stream",
     "text": [
      " Are you a recent Computer Science, Data Science or AI graduate with a 2:1 or above? Do you enjoy solving real-world problems using data, machine learning, and a bit of creative thinking? Ready to build models that actually get used, not just sit on a shelf?  Location: West Malling, Kent (Office-based) Salary: £25,000 - £30,000  This is a fantastic opportunity for a graduate who is passionate about data and wants to be hands-on from day one. You will be joining a growing analytics team at a well-established and respected financial services firm with over 25 years of industry expertise.  The role is ideal for someone who is proactive, curious, and ready to take ownership of how data science is applied within the business. You’ll be encouraged to bring your ideas to the table, use your initiative to explore problems, and have the freedom to decide how best to model and solve them.  What you will be doing:  Building clean, robust data pipelines to feed into wider analytics and machine learning models Developing and testing machine learning algorithms to support real business decisions Working closely with analysts and other team members on ad-hoc requests and data investigations Exploring how AI can improve business efficiency and turning ideas into working solutions Presenting your findings in a clear, structured way for both technical and non-technical audiences What we are looking for:  A degree (2:1 or above) in Computer Science, Data Science, AI or similar Solid grounding in statistics – understanding of Bayesian and frequentist approaches, distributions, etc. Knowledge of core ML techniques like linear/logistic regression, random forests, time series models, etc. Familiarity with SQL and Python Bonus points if you have explored prompt engineering or large language models A self-starter with strong attention to detail, excellent communication skills, and a team mindset Why this role?  You will not be boxed in or micromanaged – if you like learning, problem-solving, and making data useful, this will be a great environment to grow. The business is supportive, collaborative, and values people who are keen to make a difference through data.  If that sounds like you, I’d love to hear from you.\n",
      " \n",
      " \n"
     ]
    },
    {
     "name": "stdout",
     "output_type": "stream",
     "text": [
      "\n",
      "============================================================\n",
      "PROCESSING RESULTS\n",
      "============================================================\n",
      "Job Title: Graduate Data Scientist\n",
      "Company: Constant Recruitment Ltd\n",
      "Location: Kings Hill, West Malling, United Kingdom\n",
      "Remote Option: On-site\n",
      "Job Level: Junior\n",
      "Salary Info: Not specified\n",
      "Word Count: 357\n",
      "Masculine Score: 0.28%\n",
      "Feminine Score: 1.67%\n",
      "Neutral Score: 98.05%\n",
      "Gendered Words: F:team; F:support; F:team; M:strong; F:team; F:supportive; F:collaborative\n",
      "Manual Review Flag: False\n",
      "\n",
      "Data saved to: C:\\Users\\HP\\OneDrive - University of Southampton\\Documents\\Dissertation Project - Marwa Ashfaq\\Codes\\or_society_jobs.xlsx\n",
      "Total jobs in file: 18\n",
      "\n",
      "✅ Job data saved successfully!\n",
      "\n",
      "----------------------------------------\n"
     ]
    },
    {
     "name": "stdin",
     "output_type": "stream",
     "text": [
      "Do you want to add another job? (y/n/exit):  \n"
     ]
    },
    {
     "name": "stdout",
     "output_type": "stream",
     "text": [
      "\n",
      "========================================\n",
      "NEW JOB ENTRY\n",
      "========================================\n"
     ]
    },
    {
     "name": "stdin",
     "output_type": "stream",
     "text": [
      "Enter job URL:  https://theorsociety.careerwebsite.com/jobs/view/campaign-manager-12-month-maternity-cover/f14adde5-5283940562/?keywords=operation&pos_flt=0&location=&location_completion=&location_type=&location_text=&location_autocomplete=true&location_latlong=&radius=320&sort=position\n"
     ]
    },
    {
     "name": "stdout",
     "output_type": "stream",
     "text": [
      "\n",
      "============================================================\n",
      "JOB DATA ENTRY\n",
      "============================================================\n",
      "URL: https://theorsociety.careerwebsite.com/jobs/view/campaign-manager-12-month-maternity-cover/f14adde5-5283940562/?keywords=operation&pos_flt=0&location=&location_completion=&location_type=&location_text=&location_autocomplete=true&location_latlong=&radius=320&sort=position\n",
      "------------------------------------------------------------\n"
     ]
    },
    {
     "name": "stdin",
     "output_type": "stream",
     "text": [
      "Job Title:  Campaign Manager (12-month maternity cover)\n",
      "Company Name:  dunnhumby\n",
      "Location:  London, United Kingdom\n",
      "Posting Date (optional):  \n",
      "Salary Info (optional):  \n"
     ]
    },
    {
     "name": "stdout",
     "output_type": "stream",
     "text": [
      "\n",
      "Job Description:\n",
      "(Paste the job description below. Press Enter twice when finished)\n",
      "----------------------------------------\n"
     ]
    },
    {
     "name": "stdin",
     "output_type": "stream",
     "text": [
      " dunnhumby is the global leader in Customer Data Science, empowering businesses everywhere to compete and thrive in the modern data-driven economy. We always put the Customer First.   Our mission: to enable businesses to grow and reimagine themselves by becoming advocates and champions for their Customers. With deep heritage and expertise in retail – one of the world’s most competitive markets, with a deluge of multi-dimensional data – dunnhumby today enables businesses all over the world, across industries, to be Customer First.   dunnhumby employs nearly 2,500 experts in offices throughout Europe, Asia, Africa, and the Americas working for transformative, iconic brands such as Tesco, Coca-Cola, Meijer, Procter & Gamble and Metro.  We’re looking for a Campaign Manager (12-month maternity cover) who expects more from their career. It’s a chance to extend and improve dunnhumby’s engagement with a leading UK retailer. It’s an opportunity to work with a market-leading business to explore new opportunities for us and influence global retailers.  Joining our Campaign Management team, you’ll work with world class and passionate people to lead the creation, delivery & measurement of campaigns  What we expect from you  You will have a passion for advertising, creating brilliant campaigns for customers which can be measured to deliver value You’ll be positive, reliable and take ownership in this space. Guiding the retailer on best in class campaign management and setting the example. You’ll be a creative thinker with a test and learn mindset. Fostering a team culture which is constantly looking to challenge and improve the way things are done Experience in campaign management, from set up through to measurement Comfortable in a fast paced environment & being able to adapt. You are comfortable leading from the front, bringing others on the journey with you Experience in working with a broad group of stakeholders What you can expect from us  We won’t just meet your expectations. We’ll defy them. So you’ll enjoy the comprehensive rewards package you’d expect from a leading technology company. But also, a degree of personal flexibility you might not expect. Plus, thoughtful perks, like flexible working hours and your birthday off.  You’ll also benefit from an investment in cutting-edge technology that reflects our global ambition. But with a nimble, small-business feel that gives you the freedom to play, experiment and learn.  And we don’t just talk about diversity and inclusion. We live it every day – with thriving networks including dh Gender Equality Network, dh Proud, dh Family, dh One, dh Enabled and dh Thrive as the living proof. We want everyone to have the opportunity to shine and perform at your best throughout our recruitment process. Please let us know how we can make this process work best for you.  Our approach to Flexible Working  At dunnhumby, we value and respect difference and are committed to building an inclusive culture by creating an environment where you can balance a successful career with your commitments and interests outside of work.  We believe that you will do your best at work if you have a work / life balance. Some roles lend themselves to flexible options more than others, so if this is important to you please raise this with your recruiter, as we are open to discussing agile working opportunities during the hiring process.  For further information about how we collect and use your personal information please see our Privacy Notice which can be found (here)\n",
      " \n",
      " \n"
     ]
    },
    {
     "name": "stdout",
     "output_type": "stream",
     "text": [
      "\n",
      "============================================================\n",
      "PROCESSING RESULTS\n",
      "============================================================\n",
      "Job Title: Campaign Manager (12-month maternity cover)\n",
      "Company: dunnhumby\n",
      "Location: London, United Kingdom\n",
      "Remote Option: Hybrid\n",
      "Job Level: Senior\n",
      "Salary Info: Not specified\n",
      "Word Count: 572\n",
      "Masculine Score: 0.87%\n",
      "Feminine Score: 0.69%\n",
      "Neutral Score: 98.44%\n",
      "Gendered Words: M:leader; M:compete; M:competitive; F:team; M:lead; F:team; M:challenge; F:committed; F:inclusive\n",
      "Manual Review Flag: False\n",
      "\n",
      "Data saved to: C:\\Users\\HP\\OneDrive - University of Southampton\\Documents\\Dissertation Project - Marwa Ashfaq\\Codes\\or_society_jobs.xlsx\n",
      "Total jobs in file: 19\n",
      "\n",
      "✅ Job data saved successfully!\n",
      "\n",
      "----------------------------------------\n"
     ]
    },
    {
     "name": "stdin",
     "output_type": "stream",
     "text": [
      "Do you want to add another job? (y/n/exit):  \n"
     ]
    },
    {
     "name": "stdout",
     "output_type": "stream",
     "text": [
      "\n",
      "========================================\n",
      "NEW JOB ENTRY\n",
      "========================================\n"
     ]
    },
    {
     "name": "stdin",
     "output_type": "stream",
     "text": [
      "Enter job URL:  https://theorsociety.careerwebsite.com/jobs/view/commercial-operations-analyst/f14adde5-5269349305/?keywords=operation&pos_flt=0&location=&location_completion=&location_type=&location_text=&location_autocomplete=true&location_latlong=&radius=320&sort=position\n"
     ]
    },
    {
     "name": "stdout",
     "output_type": "stream",
     "text": [
      "\n",
      "============================================================\n",
      "JOB DATA ENTRY\n",
      "============================================================\n",
      "URL: https://theorsociety.careerwebsite.com/jobs/view/commercial-operations-analyst/f14adde5-5269349305/?keywords=operation&pos_flt=0&location=&location_completion=&location_type=&location_text=&location_autocomplete=true&location_latlong=&radius=320&sort=position\n",
      "------------------------------------------------------------\n"
     ]
    },
    {
     "name": "stdin",
     "output_type": "stream",
     "text": [
      "Job Title:  Commercial Operations Analyst\n",
      "Company Name:  Dealstack Ltd\n",
      "Location:  Putney, South West London, United Kingdom\n",
      "Posting Date (optional):  \n",
      "Salary Info (optional):  \n"
     ]
    },
    {
     "name": "stdout",
     "output_type": "stream",
     "text": [
      "\n",
      "Job Description:\n",
      "(Paste the job description below. Press Enter twice when finished)\n",
      "----------------------------------------\n"
     ]
    },
    {
     "name": "stdin",
     "output_type": "stream",
     "text": [
      " The Opportunity Dealstack is a SaaS platform that powers private equity. Private equity deal making remains manual, chaotic and backward. Our goal is to end these outdated practices and to become the new collaboration standard in the industry. Dealstack is built by PE, for PE. Founded by experienced professionals from within the industry, our solution sits at the intersection of SaaS, fintech and legaltech.Dealstack has an ambitious, multi-product roadmap. The first product went live in 2023. It allows private equity professionals to easily onboard and maintain investment programmes. Sincethen, we have launched several new products and features creating a multi-use case operating system for private equity.Following strong commercial traction from leading industry players, we are looking for an ambitious individual, with proven quantitative skills and attention to detail and who thrives with data-based tasks, to support our commercial operations. The objective of the role is simple: to deliver our clients an outstanding experience when onboarding onto our platform and throughout the lifecycle, anticipating their requirements and challenges and proactively helping them to use our software effectively.The role presents an exciting opportunity to join a high-growth tech company delivering new innovation to a fast-moving industry. You will help clients to onboard their complex PE structures onto our platform and achieve their goals with our software. You will have the opportunity to contribute to shaping how we do things and build the best processes and experience for onboarding and serving clients, so that they get the best out of our products and trusted relationships are established. Being at the frontline, you will engage with and serve PE lawyers, investment professionals, central functions and senior management at portfolio companies.    Who you are • Self starter with the ability to work on own initiative and take the responsibility for completing tasks within set deadlines; • High adaptability to existing and evolving technologies and proactive thinking about how to streamline and improve processes, particularly through digitalisation and software; • Inquisitive mind, critical thinking and constant urge to solve problems, show interest and some degree of knowledge about private equity; • A team player with desire and ability to thrive in a fast-moving environment and feel comfortable working in a young company environment.     What job involves Responsibilities: Supporting the onboarding process of the structures of existing private equity clients’ portfolio companies on the Dealstack platform as well as the implementation process for live deals and the ongoing customer success initiatives. This includes a number of steps that must be followed with the highest level of diligence: • Familiarising oneself with the nature of the deal and the deal structure; • Making sense of various data sets (share registers, transaction records, cap tables, waterfalls etc.) and being able to make high level inferences; • Cleaning and manipulating data in order to bring it to the required format for uploading on the platform; • Reviewing various legal documentation; • Identifying patterns and inconsistencies in the provided data records as well as missing pieces in the underlying supporting documentation and addressing those directly with clients; • Keeping the team up to date with progress and flagging any issues as they arise; • Thinking of ways to improve the onboarding and implementation processes and communicating those to the team; • Delivering ongoing support to ensure maximum customer satisfaction and retention and building trusted relationships with clients • Proactively engaging with clients to understand their needs and share best practice on how Dealstack’s products and workflows can address them in the best way possible. • Acting as a liaison between clients and internal teams to address any challenges or concerns.    Desirable skills Skills & competencies • Ability to work and thrive handling large, complex data sets. Processing data, spotting patterns and inconsistencies is a must; • Proficient Excel user, particularly using functions such as: vlookup, index, match, sumif. • Meticulous attention to detail (particularly essential!) with clear documentation and communication; • Strong written and verbal communication skills and ability to build relationships with the team and our clients;  Qualifications & Experience • Required: Degree in a quantitative field (finance, accounting, data science, or related). • Preferred: Prior internship/work experience in finance or quantitative roles. • Bonus: Familiarity with private equity deal structures and administration.  About us Dealstack is on a mission to power private equityDealstack was founded by experienced private equity practitioners with the goal of ending the outdated deal administration practices that have plagued the industry since its inception. Manual and repetitive, these practices remain very time-consuming, costly, and error prone. We know how frustrating they can be. Yet, while we cannot remove the need for these tasks to be completed, we can equip professionals with better tools.  The design of Dealstack is fully focused on helping our old selves work faster, smoother and feel better. By engineering away the burden of deal administration, we can give way to what matters most, creating value. We want Dealstack to become a central part of the dealmaking toolkit – just as obvious as Word, Excel or PowerPoint might feel today – only 100x better!  We recognise that changing old habits can be difficult. Our aim is not to change what works and take away that precious feeling of control. We want to enhance, not replace. Evolve, not revolutionise. We know that peace of mind is central to our users. To that end, we have built Dealstack with best-in-class security, service, and user experience as our core guiding principles.  Join us!\n",
      " \n",
      " \n"
     ]
    },
    {
     "name": "stdout",
     "output_type": "stream",
     "text": [
      "\n",
      "============================================================\n",
      "PROCESSING RESULTS\n",
      "============================================================\n",
      "Job Title: Commercial Operations Analyst\n",
      "Company: Dealstack Ltd\n",
      "Location: Putney, South West London, United Kingdom\n",
      "Remote Option: On-site\n",
      "Job Level: Senior\n",
      "Salary Info: Not specified\n",
      "Word Count: 885\n",
      "Masculine Score: 1.23%\n",
      "Feminine Score: 1.12%\n",
      "Neutral Score: 97.65%\n",
      "Gendered Words: M:ambitious; M:strong; M:ambitious; M:individual; F:support; M:objective; F:help; M:achieve; M:responsibility; F:team; F:share; F:team; F:team; F:support; F:understand; F:share; M:excel; M:strong; F:team; M:excel; M:control\n",
      "Manual Review Flag: False\n",
      "\n",
      "Data saved to: C:\\Users\\HP\\OneDrive - University of Southampton\\Documents\\Dissertation Project - Marwa Ashfaq\\Codes\\or_society_jobs.xlsx\n",
      "Total jobs in file: 20\n",
      "\n",
      "✅ Job data saved successfully!\n",
      "\n",
      "----------------------------------------\n"
     ]
    }
   ],
   "source": []
  },
  {
   "cell_type": "code",
   "execution_count": null,
   "id": "632eb70b-4cbb-447c-aa7e-eb89383ea976",
   "metadata": {},
   "outputs": [],
   "source": []
  }
 ],
 "metadata": {
  "kernelspec": {
   "display_name": "Python 3 (ipykernel)",
   "language": "python",
   "name": "python3"
  },
  "language_info": {
   "codemirror_mode": {
    "name": "ipython",
    "version": 3
   },
   "file_extension": ".py",
   "mimetype": "text/x-python",
   "name": "python",
   "nbconvert_exporter": "python",
   "pygments_lexer": "ipython3",
   "version": "3.12.7"
  }
 },
 "nbformat": 4,
 "nbformat_minor": 5
}
