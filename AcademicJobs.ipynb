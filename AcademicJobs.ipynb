{
 "cells": [
  {
   "cell_type": "code",
   "execution_count": null,
   "id": "d504c291-c48a-429d-b870-e5fe9cfcadab",
   "metadata": {},
   "outputs": [
    {
     "name": "stdout",
     "output_type": "stream",
     "text": [
      "======================================================================\n",
      "JOBS.AC.UK JOB DATA PROCESSOR - MANUAL ENTRY\n",
      "======================================================================\n",
      "This tool helps you manually enter job data from Jobs.ac.uk and performs analysis.\n",
      "You can process multiple jobs - the data will be appended to the Excel file.\n",
      "======================================================================\n",
      "\n",
      "========================================\n",
      "NEW JOB ENTRY\n",
      "========================================\n"
     ]
    },
    {
     "name": "stdin",
     "output_type": "stream",
     "text": [
      "Enter job URL:  https://www.jobs.ac.uk/job/DNV668/operations-officer-research\n"
     ]
    },
    {
     "name": "stdout",
     "output_type": "stream",
     "text": [
      "\n",
      "============================================================\n",
      "JOB DATA ENTRY - JOBS.AC.UK\n",
      "============================================================\n",
      "URL: https://www.jobs.ac.uk/job/DNV668/operations-officer-research\n",
      "------------------------------------------------------------\n"
     ]
    },
    {
     "name": "stdin",
     "output_type": "stream",
     "text": [
      "Job Title:  Operations Officer (Research)\n",
      "Employer/University Name:  University of Sheffield - Social Sciences Research Institute\n",
      "Location:  \tSheffield, Hybrid\n",
      "Posting Date (optional):  \n",
      "Closing Date (optional):  \n",
      "Salary Info (optional):  \n",
      "Contract Type (e.g., Permanent, Fixed-term) (optional):  \n"
     ]
    },
    {
     "name": "stdout",
     "output_type": "stream",
     "text": [
      "\n",
      "Job Description:\n",
      "(Paste the job description below. Press Enter twice when finished)\n",
      "----------------------------------------\n"
     ]
    },
    {
     "name": "stdin",
     "output_type": "stream",
     "text": [
      " Are you a highly organised and proactive administrative professional with a passion for supporting innovative research? The Faculty of Social Sciences at the University of Sheffield is seeking an Operations Officer to provide essential administrative support to our academic staff, facilitating the successful delivery of a diverse portfolio of funded research projects. This is an exciting opportunity to play a pivotal role in the research lifecycle, from the start of the project to completion and dissemination. You'll work closely with Principal Investigators and Professional Services teams, ensuring projects are run optimally and promoted widely.  What you'll be doing You'll provide high-quality administrative service to academic staff, guiding them through the complexities of externally funded research in line with University and funder guidelines. This involves acting as a key interface between PIs and Professional Services teams, including Research, Partnerships and Innovation (RPI), Faculty Research Hubs, Faculty Marketing & Communications, and Faculty Finance. You'll also be responsible for planning and coordinating recruitment and contract amendments, as well as supporting procurement processes. Maintaining meticulous records, assisting with the preparation of progress reports and audit documentation, and ensuring adherence to information management policies are also key parts of the role. You'll organise and support research meetings and events, and coordinate with Marketing and Communications to promote research outputs. You'll offer advice, implement innovative processes to the grant management, and proactively identify potential risks or issues that may impact project delivery.  Who we're looking for We're looking for a highly motivated individual with outstanding organisational and communication skills. Your strength lies in effectively managing multiple projects and ensuring attention to detail. Ideal candidates will possess a degree or equivalent education and have worked in a professional administrative capacity, preferably in a Higher Education or similar setting. Excellent written and verbal communication skills are crucial, with the ability to explain complex information clearly to staff at all levels. A good understanding of key funder guidelines (e.g., UKRI, EU) is also required, along with a creative and flexible approach to problem-solving. We're looking for someone with experience in high-quality administrative and business support who can provide evidence of implementing service improvements.\n",
      " \n",
      " \n"
     ]
    },
    {
     "name": "stdout",
     "output_type": "stream",
     "text": [
      "\n",
      "============================================================\n",
      "PROCESSING RESULTS\n",
      "============================================================\n",
      "Job Title: Operations Officer (Research)\n",
      "Employer: University of Sheffield - Social Sciences Research Institute\n",
      "Location: Sheffield, Hybrid\n",
      "Remote Option: Hybrid\n",
      "Job Level: Senior\n",
      "Industry/Sector: Higher Education\n",
      "Contract Type: Not specified\n",
      "Salary Info: Not specified\n",
      "Posting Date: Not specified\n",
      "Closing Date: Not specified\n",
      "Word Count: 362\n",
      "Masculine Score: 0.27%\n",
      "Feminine Score: 1.09%\n",
      "Neutral Score: 98.64%\n",
      "Gendered Words: F:support; F:responsible; F:support; M:individual; F:support\n",
      "Manual Review Flag: False\n",
      "Error saving to Excel: [Errno 13] Permission denied: 'C:\\\\Users\\\\HP\\\\OneDrive - University of Southampton\\\\Documents\\\\Dissertation Project - Marwa Ashfaq\\\\Codes\\\\jobs_ac_uk_data.xlsx'\n",
      "\n",
      "❌ Failed to save job data.\n",
      "\n",
      "----------------------------------------\n"
     ]
    },
    {
     "name": "stdin",
     "output_type": "stream",
     "text": [
      "Do you want to add another job? (y/n):  y\n"
     ]
    },
    {
     "name": "stdout",
     "output_type": "stream",
     "text": [
      "\n",
      "========================================\n",
      "NEW JOB ENTRY\n",
      "========================================\n"
     ]
    },
    {
     "name": "stdin",
     "output_type": "stream",
     "text": [
      "Enter job URL:  https://www.jobs.ac.uk/job/DNV668/operations-officer-research\n"
     ]
    },
    {
     "name": "stdout",
     "output_type": "stream",
     "text": [
      "\n",
      "============================================================\n",
      "JOB DATA ENTRY - JOBS.AC.UK\n",
      "============================================================\n",
      "URL: https://www.jobs.ac.uk/job/DNV668/operations-officer-research\n",
      "------------------------------------------------------------\n"
     ]
    },
    {
     "name": "stdin",
     "output_type": "stream",
     "text": [
      "Job Title:  Operations Officer (Research)\n",
      "Employer/University Name:  University of Sheffield - Social Sciences Research Institute\n",
      "Location:  \tSheffield, Hybrid\n",
      "Posting Date (optional):  \n",
      "Closing Date (optional):  \n",
      "Salary Info (optional):  \n",
      "Contract Type (e.g., Permanent, Fixed-term) (optional):  \n"
     ]
    },
    {
     "name": "stdout",
     "output_type": "stream",
     "text": [
      "\n",
      "Job Description:\n",
      "(Paste the job description below. Press Enter twice when finished)\n",
      "----------------------------------------\n"
     ]
    },
    {
     "name": "stdin",
     "output_type": "stream",
     "text": [
      " Are you a highly organised and proactive administrative professional with a passion for supporting innovative research? The Faculty of Social Sciences at the University of Sheffield is seeking an Operations Officer to provide essential administrative support to our academic staff, facilitating the successful delivery of a diverse portfolio of funded research projects. This is an exciting opportunity to play a pivotal role in the research lifecycle, from the start of the project to completion and dissemination. You'll work closely with Principal Investigators and Professional Services teams, ensuring projects are run optimally and promoted widely.  What you'll be doing You'll provide high-quality administrative service to academic staff, guiding them through the complexities of externally funded research in line with University and funder guidelines. This involves acting as a key interface between PIs and Professional Services teams, including Research, Partnerships and Innovation (RPI), Faculty Research Hubs, Faculty Marketing & Communications, and Faculty Finance. You'll also be responsible for planning and coordinating recruitment and contract amendments, as well as supporting procurement processes. Maintaining meticulous records, assisting with the preparation of progress reports and audit documentation, and ensuring adherence to information management policies are also key parts of the role. You'll organise and support research meetings and events, and coordinate with Marketing and Communications to promote research outputs. You'll offer advice, implement innovative processes to the grant management, and proactively identify potential risks or issues that may impact project delivery.  Who we're looking for We're looking for a highly motivated individual with outstanding organisational and communication skills. Your strength lies in effectively managing multiple projects and ensuring attention to detail. Ideal candidates will possess a degree or equivalent education and have worked in a professional administrative capacity, preferably in a Higher Education or similar setting. Excellent written and verbal communication skills are crucial, with the ability to explain complex information clearly to staff at all levels. A good understanding of key funder guidelines (e.g., UKRI, EU) is also required, along with a creative and flexible approach to problem-solving. We're looking for someone with experience in high-quality administrative and business support who can provide evidence of implementing service improvements.\n",
      " \n",
      " \n"
     ]
    },
    {
     "name": "stdout",
     "output_type": "stream",
     "text": [
      "\n",
      "============================================================\n",
      "PROCESSING RESULTS\n",
      "============================================================\n",
      "Job Title: Operations Officer (Research)\n",
      "Employer: University of Sheffield - Social Sciences Research Institute\n",
      "Location: Sheffield, Hybrid\n",
      "Remote Option: Hybrid\n",
      "Job Level: Senior\n",
      "Industry/Sector: Higher Education\n",
      "Contract Type: Not specified\n",
      "Salary Info: Not specified\n",
      "Posting Date: Not specified\n",
      "Closing Date: Not specified\n",
      "Word Count: 362\n",
      "Masculine Score: 0.27%\n",
      "Feminine Score: 1.09%\n",
      "Neutral Score: 98.64%\n",
      "Gendered Words: F:support; F:responsible; F:support; M:individual; F:support\n",
      "Manual Review Flag: False\n",
      "\n",
      "Data saved to: C:\\Users\\HP\\OneDrive - University of Southampton\\Documents\\Dissertation Project - Marwa Ashfaq\\Codes\\jobs_ac_uk_data.xlsx\n",
      "Total jobs in file: 26\n",
      "\n",
      "✅ Job data saved successfully!\n",
      "\n",
      "----------------------------------------\n"
     ]
    },
    {
     "name": "stdin",
     "output_type": "stream",
     "text": [
      "Do you want to add another job? (y/n):  y\n"
     ]
    },
    {
     "name": "stdout",
     "output_type": "stream",
     "text": [
      "\n",
      "========================================\n",
      "NEW JOB ENTRY\n",
      "========================================\n"
     ]
    },
    {
     "name": "stdin",
     "output_type": "stream",
     "text": [
      "Enter job URL:  https://www.jobs.ac.uk/job/DNT577/senior-research-operations-manager\n"
     ]
    },
    {
     "name": "stdout",
     "output_type": "stream",
     "text": [
      "\n",
      "============================================================\n",
      "JOB DATA ENTRY - JOBS.AC.UK\n",
      "============================================================\n",
      "URL: https://www.jobs.ac.uk/job/DNT577/senior-research-operations-manager\n",
      "------------------------------------------------------------\n"
     ]
    },
    {
     "name": "stdin",
     "output_type": "stream",
     "text": [
      "Job Title:  Senior Research Operations Manager\n",
      "Employer/University Name:  King's College London - Faculty Management Services\n",
      "Location:  London\n",
      "Posting Date (optional):  \n",
      "Closing Date (optional):  \n",
      "Salary Info (optional):  \n",
      "Contract Type (e.g., Permanent, Fixed-term) (optional):  \n"
     ]
    },
    {
     "name": "stdout",
     "output_type": "stream",
     "text": [
      "\n",
      "Job Description:\n",
      "(Paste the job description below. Press Enter twice when finished)\n",
      "----------------------------------------\n"
     ]
    },
    {
     "name": "stdin",
     "output_type": "stream",
     "text": [
      " We are seeking a highly motivated and experienced Senior Research Operations Manager to join our Faculty Management Services team. This pivotal role will provide strategic and operational leadership in support of the faculty’s research agenda, with a particular focus on research impact and preparation for the Research Excellence Framework (REF) 2029.   The post holder will work closely with the Head of Research Operations, the Vice Dean (Research & Impact), and other senior stakeholders to coordinate and optimise the faculty’s REF submission. This includes advising on research impact, managing complex data, and ensuring compliance with institutional and sector-wide policies. The role holder will also play a key role in developing and promoting a portfolio of impactful research case studies that highlight the faculty’s contributions to society.  The successful candidate will have substantial experience in research operations within the UK Higher Education sector, excellent analytical and communication skills, and a strong understanding of research impact and assessment. The successful applicant will be confident working with data systems, leading projects, and representing the faculty at university-wide committees and external networks.   This is an exciting opportunity to contribute to the strategic direction of one of the UK’s leading research faculties and to support the delivery of high-quality, impactful research that makes a real difference.   This is a full time role (35 hours per week) and you will be offered an indefinite contract.  About you  To be successful in this role, we are looking for candidates to have the following skills and experience:  Essential criteria  Extensive experience and qualifications relevant to the post, with clear progression of seniority and expertise  Excellent oral and written communication skills, including the ability to produce concise written material and reports for a range of audiences  Substantial knowledge and experience of the UK Higher Education Research landscape, especially of Research Excellence framework and research impact Significant demonstrable experience of operating at a strategic level; able to contribute meaningfully to discussion and planning Excellent analytical and numerical skills; a high level of accuracy and attention to detail Demonstrable evidence of working on own initiative to clear criteria, ensuring compliance using negotiating skills and effective but diverse communication methods Experience of organising, supporting and playing a key part in committees, working groups and professional networks Excellent organisational and time management skills to meet multiple deadlines and manage a constant and varied portfolio of responsibilities Understanding of methodologies for developing and maximising research impact Desirable criteria  Experience of leading a service Familiarity with HR processes and policy around equality Editorial experience with a keen eye for detail, including experience of writing, copy editing and formatting documents, newsletters, reports or other written material for internal and external audiences.\n",
      " \n",
      " \n"
     ]
    },
    {
     "name": "stdout",
     "output_type": "stream",
     "text": [
      "\n",
      "============================================================\n",
      "PROCESSING RESULTS\n",
      "============================================================\n",
      "Job Title: Senior Research Operations Manager\n",
      "Employer: King's College London - Faculty Management Services\n",
      "Location: London\n",
      "Remote Option: On-site\n",
      "Job Level: Senior\n",
      "Industry/Sector: Higher Education\n",
      "Contract Type: Not specified\n",
      "Salary Info: Not specified\n",
      "Posting Date: Not specified\n",
      "Closing Date: Not specified\n",
      "Word Count: 447\n",
      "Masculine Score: 1.12%\n",
      "Feminine Score: 0.67%\n",
      "Neutral Score: 98.21%\n",
      "Gendered Words: F:team; F:support; M:analytical; M:strong; M:confident; F:support; M:analytical; M:manage\n",
      "Manual Review Flag: False\n",
      "\n",
      "Data saved to: C:\\Users\\HP\\OneDrive - University of Southampton\\Documents\\Dissertation Project - Marwa Ashfaq\\Codes\\jobs_ac_uk_data.xlsx\n",
      "Total jobs in file: 27\n",
      "\n",
      "✅ Job data saved successfully!\n",
      "\n",
      "----------------------------------------\n"
     ]
    },
    {
     "name": "stdin",
     "output_type": "stream",
     "text": [
      "Do you want to add another job? (y/n):  y\n"
     ]
    },
    {
     "name": "stdout",
     "output_type": "stream",
     "text": [
      "\n",
      "========================================\n",
      "NEW JOB ENTRY\n",
      "========================================\n"
     ]
    },
    {
     "name": "stdin",
     "output_type": "stream",
     "text": [
      "Enter job URL:  https://www.jobs.ac.uk/job/DNO733/business-operations-manager\n"
     ]
    },
    {
     "name": "stdout",
     "output_type": "stream",
     "text": [
      "\n",
      "============================================================\n",
      "JOB DATA ENTRY - JOBS.AC.UK\n",
      "============================================================\n",
      "URL: https://www.jobs.ac.uk/job/DNO733/business-operations-manager\n",
      "------------------------------------------------------------\n"
     ]
    },
    {
     "name": "stdin",
     "output_type": "stream",
     "text": [
      "Job Title:  Business Operations Manager\n",
      "Employer/University Name:  University of Salford - Library, Careers & Enterprise\n",
      "Location:  London\n",
      "Posting Date (optional):  \n",
      "Closing Date (optional):  \n",
      "Salary Info (optional):  \n",
      "Contract Type (e.g., Permanent, Fixed-term) (optional):  \n"
     ]
    },
    {
     "name": "stdout",
     "output_type": "stream",
     "text": [
      "\n",
      "Job Description:\n",
      "(Paste the job description below. Press Enter twice when finished)\n",
      "----------------------------------------\n"
     ]
    },
    {
     "name": "stdin",
     "output_type": "stream",
     "text": [
      " The Library, Careers & Enterprise at the University of Salford’s is seeking to recruit an Operations Manager who will coordinate across the department and help us to be as effective and efficient as we can so that we can deliver an exceptional service that makes a real difference for our students, graduates, colleagues, and external communities.   Do you have strong numeracy and data skills, with proven experience of accurately analysing data and monitoring budgets? Are you also great at communicating and working with people, able to get the best out of a team and to engage and influence diverse stakeholders? Are you highly motivated, effective, and always looking to solve problems and improve how things are done? Then this role could be for you.   If you have any queries about this role please contact the hiring manager, Emma Smith, on e.e.smith@salford.ac.uk and she will be happy to help, either by email or by arranging a short phone or video call to discuss.  Key Responsibilities   The Operations Manager works closely with the Director and the leadership team and is responsible for coordinating a range of essential operational and strategic activities, including budget monitoring, priority planning, service evaluation and reporting, business continuity and risk management, and communications planning. They manage a small team which works with colleagues across the department and acts as a key point of contact for other teams, supporting the successful delivery of a variety of cross-departmental and institutional processes, initiatives and projects and contributing to a highly effective, efficient, and collegial service.   As Operations Manager you will have a track record in setting and monitoring budgets and in managing, analysing and presenting data. You will also have excellent interpersonal skills which equip you to positively engage and influence people at all levels of the organisation and to get the best out of your team by motivating, supporting, challenging and developing them. You’ll be highly self-motivated and collegial in your approach and committed to working together to improve processes and solve problems.  A bit about the Library, Careers & Enterprise   This role is based in the Library, Careers & Enterprise – a place to learn and share ideas, a virtual hub for research and discovery, a team of friendly faces delivering excellent customer service, and an innovative community of experts working together to enable learning, teaching, research and enterprise at Salford. We are innovative, open, collaborative, and people centred. Our focus is to help our students get the very most out of their Salford journey, in support of the University’s mission: “Innovating to enrich lives”.  What's in it for you?   At Salford you will become a part of a passionate and dedicated team who are committed to making education and knowledge more accessible. Our people work hard to ensure our students’ and other customers’ experiences are the best they can be, and as such we want to reward our people with fantastic benefits.   Competitive salary - and excellent pension scheme An impressive 32 days leave - plus bank holidays, additional time off at Christmas and the opportunity to buy even more! Flexible working - we support a culture of flexible and agile working to help you find the right balance Professional development - we offer a comprehensive package of training and development opportunities to help you achieve your full potential Job Description  Apply Before: 20/07/2025, 23:55\n",
      " \n",
      " \n"
     ]
    },
    {
     "name": "stdout",
     "output_type": "stream",
     "text": [
      "\n",
      "============================================================\n",
      "PROCESSING RESULTS\n",
      "============================================================\n",
      "Job Title: Business Operations Manager\n",
      "Employer: University of Salford - Library, Careers & Enterprise\n",
      "Location: London\n",
      "Remote Option: Remote\n",
      "Job Level: Senior\n",
      "Industry/Sector: Higher Education\n",
      "Contract Type: Not specified\n",
      "Salary Info: Not specified\n",
      "Posting Date: Not specified\n",
      "Closing Date: Not specified\n",
      "Word Count: 561\n",
      "Masculine Score: 0.72%\n",
      "Feminine Score: 4.13%\n",
      "Neutral Score: 95.15%\n",
      "Gendered Words: F:help; M:strong; F:team; F:help; F:team; F:responsible; M:manage; F:team; F:interpersonal; F:team; F:committed; F:together; F:share; F:team; F:community; F:together; F:collaborative; F:help; F:support; F:dedicated; F:team; F:committed; M:competitive; F:support; F:help; F:help; M:achieve\n",
      "Manual Review Flag: False\n",
      "\n",
      "Data saved to: C:\\Users\\HP\\OneDrive - University of Southampton\\Documents\\Dissertation Project - Marwa Ashfaq\\Codes\\jobs_ac_uk_data.xlsx\n",
      "Total jobs in file: 28\n",
      "\n",
      "✅ Job data saved successfully!\n",
      "\n",
      "----------------------------------------\n"
     ]
    },
    {
     "name": "stdin",
     "output_type": "stream",
     "text": [
      "Do you want to add another job? (y/n):  y\n"
     ]
    },
    {
     "name": "stdout",
     "output_type": "stream",
     "text": [
      "\n",
      "========================================\n",
      "NEW JOB ENTRY\n",
      "========================================\n"
     ]
    },
    {
     "name": "stdin",
     "output_type": "stream",
     "text": [
      "Enter job URL:  https://www.jobs.ac.uk/job/DNU991/finance-and-operations-officer\n"
     ]
    },
    {
     "name": "stdout",
     "output_type": "stream",
     "text": [
      "\n",
      "============================================================\n",
      "JOB DATA ENTRY - JOBS.AC.UK\n",
      "============================================================\n",
      "URL: https://www.jobs.ac.uk/job/DNU991/finance-and-operations-officer\n",
      "------------------------------------------------------------\n"
     ]
    },
    {
     "name": "stdin",
     "output_type": "stream",
     "text": [
      "Job Title:  Finance and Operations Officer\n",
      "Employer/University Name:  London School of Economics and Political Science - Department of Statistics\n",
      "Location:  London\n",
      "Posting Date (optional):  \n",
      "Closing Date (optional):  \n",
      "Salary Info (optional):  \n",
      "Contract Type (e.g., Permanent, Fixed-term) (optional):  \n"
     ]
    },
    {
     "name": "stdout",
     "output_type": "stream",
     "text": [
      "\n",
      "Job Description:\n",
      "(Paste the job description below. Press Enter twice when finished)\n",
      "----------------------------------------\n"
     ]
    },
    {
     "name": "stdin",
     "output_type": "stream",
     "text": [
      " LSE is committed to building a diverse, equitable and truly inclusive university  Salary from £36,008 to £40,991 per annum inclusive with potential to progress to £43,854 pa inclusive of London allowance  The Department of Statistics at LSE offers a friendly and supportive community that is home to internationally-respected experts in statistics and data science.  We are seeking a highly-skilled administrator to join our expanding Professional Services team. The post-holder will collaborate closely with the Department Manager and Research & Finance Manager to support and maintain the department’s financial and operational activities.  In order to succeed in this role, you must possess excellent attention to detail, strong prioritisation and organisational skills, excellent communication skills, and a proactive approach to your work.  You will also have a track record in financial administration and servicing committees, and possess strong IT skills.  The ability to work independently, manage multiple responsibilities simultaneously and work well in a diverse team are also important.  We offer an occupational pension scheme, generous annual leave, hybrid working, and excellent training and development opportunities.  For further information about the post, please see the how to apply document, job description and the person specification.  To apply for this post, please click the 'Apply' button, above.  If you have any technical queries with applying on the online system, please use the “contact us” links at the bottom of the LSE Jobs page.  Should you have any queries about the role, please email p.montague@lse.ac.uk  The closing date for receipt of applications is 20 July 2025 (23.59 UK time).  Regrettably, we are unable to accept any late applications.  Interviews will take place during the week commencing 28 July 2025.   \n",
      " \n",
      " \n"
     ]
    },
    {
     "name": "stdout",
     "output_type": "stream",
     "text": [
      "\n",
      "============================================================\n",
      "PROCESSING RESULTS\n",
      "============================================================\n",
      "Job Title: Finance and Operations Officer\n",
      "Employer: London School of Economics and Political Science - Department of Statistics\n",
      "Location: London\n",
      "Remote Option: Hybrid\n",
      "Job Level: Senior\n",
      "Industry/Sector: Higher Education\n",
      "Contract Type: Not specified\n",
      "Salary Info: 43,854\n",
      "Posting Date: Not specified\n",
      "Closing Date: Not specified\n",
      "Word Count: 276\n",
      "Masculine Score: 1.09%\n",
      "Feminine Score: 3.65%\n",
      "Neutral Score: 95.26%\n",
      "Gendered Words: F:committed; F:inclusive; F:inclusive; F:inclusive; F:supportive; F:community; F:team; F:collaborate; F:support; M:strong; M:strong; M:manage; F:team\n",
      "Manual Review Flag: False\n",
      "\n",
      "Data saved to: C:\\Users\\HP\\OneDrive - University of Southampton\\Documents\\Dissertation Project - Marwa Ashfaq\\Codes\\jobs_ac_uk_data.xlsx\n",
      "Total jobs in file: 29\n",
      "\n",
      "✅ Job data saved successfully!\n",
      "\n",
      "----------------------------------------\n"
     ]
    },
    {
     "name": "stdin",
     "output_type": "stream",
     "text": [
      "Do you want to add another job? (y/n):  y\n"
     ]
    },
    {
     "name": "stdout",
     "output_type": "stream",
     "text": [
      "\n",
      "========================================\n",
      "NEW JOB ENTRY\n",
      "========================================\n"
     ]
    },
    {
     "name": "stdin",
     "output_type": "stream",
     "text": [
      "Enter job URL:  https://www.jobs.ac.uk/job/DNW699/system-administrator-operations\n"
     ]
    },
    {
     "name": "stdout",
     "output_type": "stream",
     "text": [
      "\n",
      "============================================================\n",
      "JOB DATA ENTRY - JOBS.AC.UK\n",
      "============================================================\n",
      "URL: https://www.jobs.ac.uk/job/DNW699/system-administrator-operations\n",
      "------------------------------------------------------------\n"
     ]
    },
    {
     "name": "stdin",
     "output_type": "stream",
     "text": [
      "Job Title:  System Administrator (Operations)\n",
      "Employer/University Name:  The University of Manchester - Directorate of IT Services\n",
      "Location:  Manchester\n",
      "Posting Date (optional):  \n",
      "Closing Date (optional):  \n",
      "Salary Info (optional):  \n",
      "Contract Type (e.g., Permanent, Fixed-term) (optional):  \n"
     ]
    },
    {
     "name": "stdout",
     "output_type": "stream",
     "text": [
      "\n",
      "Job Description:\n",
      "(Paste the job description below. Press Enter twice when finished)\n",
      "----------------------------------------\n"
     ]
    },
    {
     "name": "stdin",
     "output_type": "stream",
     "text": [
      " Job reference: PSX-029152 Salary: £46,735 to £57,422 per annum, dependent on relevant experience Faculty/Organisational Unit: Professional Services Location: Oxford Road Employment type: Fixed Term Division/Team: IT Services Research IT Hours Per Week: Full Time (1 FTE) Closing date (DD/MM/YYYY): 25/07/2025 Contract Duration: 12 months School/Directorate: Directorate of IT Services  Overall purpose of the job  Researchers at the University carry out world-leading research in many areas — beacons include advanced materials, industrial biotechnology and cancer treatments. Research IT (RIT) is a fast-growing, can-do group within IT Services which closely supports the research community, delivering specialist, e-research capabilities critical to the success of their research.  This role will support the Edge Compute and Satellite Storage Service, within the Research Platforms Team, within RIT. It is primary focusing on supporting the National X-Ray Computed Tomography (NXCT) facilities, which includes systems administration of the Digital Imaging Laboratory (DIL), staff workstations and PC attached to instruments.  The NXCT (https://nxct.ac.uk/) is a National Research Facility that provides a paid-for customer service to academic and industrial researchers from across the UK. NXCT runs over 500 projects, provides over 60000 hours of computing access and trains over 100 researchers each year.  Key responsibilities, accountabilities and duties  You will be expected to demonstrate a commitment to the IT Services Practice Charter and the University’s values. The University of Manchester values a diverse workforce and welcomes applications from all sections of the community. Managing Digital Imaging Laboratory (DIL), which includes (but not limited to): Installation of new hardware, workstations, etc. Installation and maintenance of general and specific software Comply with IT Security regulations, regular updates and patching Manage, both internal and external, access to DIL workstations Manage licenses and usage monitoring. Managing workstations and PC attached to lab instruments, including security measures to ensure the accessibility and functioning of those systems. Managing NXCT Server room servers including installation of new servers, upgrading, patching and installation of necessary software. Manages the storage and backup systems to provide agreed service levels. You may from time to time be required to undertake other duties of a similar nature as reasonably required by your line manager. Person specification  Essential  Previous relevant work experience.  An in-depth knowledge of the Linux operating system or MS Windows — preferably both — including administration and support. A good working knowledge of: data storage protocols (e.g., NFS, SMB); networking (TCP/IP, firewalls, routing); VMs and containers (e.g., VMware, Docker, Singularity) and NAS devices. Experience with access rights and ACLs (both in Windows and Linux). Experience in problem solving, general fault finding and resolution. The ability to work as an effective part of a team and to establish productive relationships with people from a variety of backgrounds and with a variety of skills. Enthusiasm, initiative and flexibility: the capacity to anticipate both problems and opportunities and take appropriate action; a desire to learn and a can-do approach to work as it arises. Desirable  Experience working within an academic research environment (or a higher, preferably research, degree). Experience with Active Directory and/or LDAP. Experience with parallel file systems, particularly GPFS is an advantage. Experience of using at least one high-level programming language such as BASH, Perl or Python. Enquiries about the vacancy, shortlisting and interviews:  Name: Simon Hood  Email: Simon.Hood@manchester.ac.uk\n",
      " \n",
      " \n"
     ]
    },
    {
     "name": "stdout",
     "output_type": "stream",
     "text": [
      "\n",
      "============================================================\n",
      "PROCESSING RESULTS\n",
      "============================================================\n",
      "Job Title: System Administrator (Operations)\n",
      "Employer: The University of Manchester - Directorate of IT Services\n",
      "Location: Manchester\n",
      "Remote Option: On-site\n",
      "Job Level: Senior\n",
      "Industry/Sector: Higher Education\n",
      "Contract Type: Not specified\n",
      "Salary Info: Not specified\n",
      "Posting Date: Not specified\n",
      "Closing Date: Not specified\n",
      "Word Count: 548\n",
      "Masculine Score: 0.36%\n",
      "Feminine Score: 1.27%\n",
      "Neutral Score: 98.37%\n",
      "Gendered Words: F:team; F:community; F:support; F:team; F:community; M:manage; M:manage; F:support; F:team\n",
      "Manual Review Flag: False\n",
      "\n",
      "Data saved to: C:\\Users\\HP\\OneDrive - University of Southampton\\Documents\\Dissertation Project - Marwa Ashfaq\\Codes\\jobs_ac_uk_data.xlsx\n",
      "Total jobs in file: 30\n",
      "\n",
      "✅ Job data saved successfully!\n",
      "\n",
      "----------------------------------------\n"
     ]
    },
    {
     "name": "stdin",
     "output_type": "stream",
     "text": [
      "Do you want to add another job? (y/n):  y\n"
     ]
    },
    {
     "name": "stdout",
     "output_type": "stream",
     "text": [
      "\n",
      "========================================\n",
      "NEW JOB ENTRY\n",
      "========================================\n"
     ]
    },
    {
     "name": "stdin",
     "output_type": "stream",
     "text": [
      "Enter job URL:  https://www.jobs.ac.uk/job/DNX965/business-operations-officer\n"
     ]
    },
    {
     "name": "stdout",
     "output_type": "stream",
     "text": [
      "\n",
      "============================================================\n",
      "JOB DATA ENTRY - JOBS.AC.UK\n",
      "============================================================\n",
      "URL: https://www.jobs.ac.uk/job/DNX965/business-operations-officer\n",
      "------------------------------------------------------------\n"
     ]
    },
    {
     "name": "stdin",
     "output_type": "stream",
     "text": [
      "Job Title:  Business Operations Officer\n",
      "Employer/University Name:  King's College London - Engineering\n",
      "Location:  London\n",
      "Posting Date (optional):  \n",
      "Closing Date (optional):  \n",
      "Salary Info (optional):  \n",
      "Contract Type (e.g., Permanent, Fixed-term) (optional):  \n"
     ]
    },
    {
     "name": "stdout",
     "output_type": "stream",
     "text": [
      "\n",
      "Job Description:\n",
      "(Paste the job description below. Press Enter twice when finished)\n",
      "----------------------------------------\n"
     ]
    },
    {
     "name": "stdin",
     "output_type": "stream",
     "text": [
      " The Faculty of Natural, Mathematical & Engineering Sciences (NMES) comprises the Departments of Chemistry, Informatics, Mathematics, Physics and Engineering and is looking to recruit a full time Business Operations Officer in our Engineering department.  Recently re-founded, the Department of Engineering is rapidly expanding into a world-class research and teaching department. Research currently focuses on robotics, telecommunications and biomedical engineering, but we are looking to establish new research themes.  The Department is supported by an experienced and passionate professional services team, working in partnership with academic colleagues, as well as faculty and central directorates (e.g. admissions, students and education, human resources, research, management accounting services, estates and facilities), to provide a high-quality administrative support service and student and staff experience.  About the role  The Business Operations Officer is a key point of contact for enquiries to the Business Operations Team and works as part of a team to ensure consistent management and delivery of departmental operations by providing high quality and effective administrative support, in accordance with university and Faculty priorities, timelines and policies.  The role holder will provide administrative support in selected sub-areas of the business function, which includes finance, expenses, procurement, auditing, HR, events management, web editing, space management, health and safety, business continuity, information and data management and general projects.  You will actively contribute to the delivery of the faculty’s business function and role model a culture of professionalism with a focus on providing responsive and timely customer service. The role holder will also share best practice with colleagues and help promote new ideas for better and more effective and efficient delivery of services.  The role will be based at the Strand campus, in the heart of Central London. Professional services staff are currently working on a hybrid basis, meaning the role holder will spend part of their working week on campus and the remainder working remotely.  Information on the Department of Engineering and the Faculty of Natural, Mathematical and Engineering Sciences can be found at the following links:  https://www.kcl.ac.uk/engineering   https://ww.kcl.ac.uk/nmes  This is a full-time post (35 Hours per week), and you will be offered an indefinite contract.  About you  To be successful in this role, we are looking for candidates to have the following skills & experience:  Essential criteria  Educated to A-level or equivalent Excellent IT skills, including MS Office, SharePoint, databases Excellent written communications skills, with a high standard of English Excellent customer services skills Excellent organisational and time management skills Excellent attention to detail and high degree of accuracy Experience of office administration Experience of dealing with budgetary and financial processes Desirable criteria  Experience of working in a Higher Education Institution Experience of committee administration Experience of current Health & Safety legislation for an office environment Downloading a copy of our Job Description  Full details of the role and the skills, knowledge and experience required can be found in the Job Description document, provided at the bottom of the page. This document will provide information of what criteria will be assessed at each stage of the recruitment process.  Further Information  We pride ourselves on being inclusive and welcoming. We embrace diversity and want everyone to feel that they belong and are connected to others in our community.  We are committed to working with our staff & unions on these and other issues, to continue to support our people.\n",
      " \n",
      " \n"
     ]
    },
    {
     "name": "stdout",
     "output_type": "stream",
     "text": [
      "\n",
      "============================================================\n",
      "PROCESSING RESULTS\n",
      "============================================================\n",
      "Job Title: Business Operations Officer\n",
      "Employer: King's College London - Engineering\n",
      "Location: London\n",
      "Remote Option: Remote\n",
      "Job Level: Senior\n",
      "Industry/Sector: Higher Education\n",
      "Contract Type: Not specified\n",
      "Salary Info: Not specified\n",
      "Posting Date: Not specified\n",
      "Closing Date: Not specified\n",
      "Word Count: 554\n",
      "Masculine Score: 0.0%\n",
      "Feminine Score: 2.12%\n",
      "Neutral Score: 97.88%\n",
      "Gendered Words: F:team; F:support; F:team; F:team; F:support; F:support; F:share; F:help; F:inclusive; F:community; F:committed; F:support\n",
      "Manual Review Flag: False\n",
      "\n",
      "Data saved to: C:\\Users\\HP\\OneDrive - University of Southampton\\Documents\\Dissertation Project - Marwa Ashfaq\\Codes\\jobs_ac_uk_data.xlsx\n",
      "Total jobs in file: 31\n",
      "\n",
      "✅ Job data saved successfully!\n",
      "\n",
      "----------------------------------------\n"
     ]
    },
    {
     "name": "stdin",
     "output_type": "stream",
     "text": [
      "Do you want to add another job? (y/n):  y\n"
     ]
    },
    {
     "name": "stdout",
     "output_type": "stream",
     "text": [
      "\n",
      "========================================\n",
      "NEW JOB ENTRY\n",
      "========================================\n"
     ]
    },
    {
     "name": "stdin",
     "output_type": "stream",
     "text": [
      "Enter job URL:  https://www.jobs.ac.uk/job/DNX845/director-of-technology-and-operations\n"
     ]
    },
    {
     "name": "stdout",
     "output_type": "stream",
     "text": [
      "\n",
      "============================================================\n",
      "JOB DATA ENTRY - JOBS.AC.UK\n",
      "============================================================\n",
      "URL: https://www.jobs.ac.uk/job/DNX845/director-of-technology-and-operations\n",
      "------------------------------------------------------------\n"
     ]
    },
    {
     "name": "stdin",
     "output_type": "stream",
     "text": [
      "Job Title:  Director of Technology and Operations\n",
      "Employer/University Name:  University of Surrey - Digital Technology and Operations\n",
      "Location:  \tGuildford\n",
      "Posting Date (optional):  \n",
      "Closing Date (optional):  \n",
      "Salary Info (optional):  \n",
      "Contract Type (e.g., Permanent, Fixed-term) (optional):  \n"
     ]
    },
    {
     "name": "stdout",
     "output_type": "stream",
     "text": [
      "\n",
      "Job Description:\n",
      "(Paste the job description below. Press Enter twice when finished)\n",
      "----------------------------------------\n"
     ]
    },
    {
     "name": "stdin",
     "output_type": "stream",
     "text": [
      " The University of Surrey is seeking a Director of Digital Technology and Operations, responsible for the delivery of the Digital and IT Services and Development across the University and for developing and delivering the technology strategy in support of the Digital plan.  We value, empower and support every member of staff to get the best out of your unique talents, so you’ll be rewarded with a generous salary, 32 days holiday PLUS Bank Holidays, excellent pension contribution and a unique and vibrant working environment.    Role & Responsibilities:   Reporting to the Chief Information Officer, you’ll be expected to lead and manage a multi-disciplinary IT service delivery and development function which continues to evolve to meet the University’s technology needs, and, working with the team and key strategic technology providers, to transform our foundational technologies to support the University’s strategic Digital and Data plan.  The role will operate as a senior and visible leader and owner of IT support and resourcing, build strong relationships with senior service consumers, and will manage the University’s live services operations environment, promoting and developing operational excellence and service ownership and technology leadership in every aspect of the service.  Key responsibilities include:  Create the context for a high performing service and development operation, able to fully support the move to new digital services and products whilst providing a customer first ethos. Champion and improve the maturity of service operation disciplines within IT Services, implementing new tools and technology where they will deliver demonstrable value and return on investment e.g. self-service, orchestration, automation.  Implement the technology solutions to support the University’s Cyber Security principles and standards, ensuring the environment is secure and the service can respond to, and recover from, a cyber-attack with the minimal of impact to service and the University.   Work collaboratively with peers and technology specialists across the organisation to build enhanced capability and capacity within the Service Delivery function – ensuring it is ‘future proof’ and agile. Instil accredited, structured processes and practices within the function to ensure a consistent, measurable level of service delivery aligned to business expectations.  What’s in it for you?        We think Surrey is an amazing place to work, and we are carefully crafting a dynamic, flexible, and fun place to work and thrive.    Our campus is a beautiful, leafy environment with carefully designed gardens, vibrant green playing fields, and a picturesque lake. With the buzz of student life and superb working facilities, the University is a global community of ideas and people, dedicated to life-changing education and research in an inspiring, innovative and diverse environment.   Alongside our gorgeous campus setting, collegiate on-site atmosphere and plentiful development opportunities, we also offer:   Competitive Salary     Market leading Pension 25 Days annual leave + 7 University Days + Bank Holidays  Travel & Family benefits including subsidised rail fare, cycle to work scheme and on-site childcare  Access to world-class leisure facilities at discounted rate. For more information or to be considered for the role, please apply via the University of Surrey Website.    The University is committed to providing an inclusive environment that offers equal opportunities for all. We place great value on diversity and are seeking to increase the diversity within our community. Therefore, we particularly encourage applications from under-represented groups, such as people from Black, Asian and minority ethnic groups and people with disabilities. \n",
      " \n",
      " \n"
     ]
    },
    {
     "name": "stdout",
     "output_type": "stream",
     "text": [
      "\n",
      "============================================================\n",
      "PROCESSING RESULTS\n",
      "============================================================\n",
      "Job Title: Director of Technology and Operations\n",
      "Employer: University of Surrey - Digital Technology and Operations\n",
      "Location: Guildford\n",
      "Remote Option: Hybrid\n",
      "Job Level: Senior\n",
      "Industry/Sector: Higher Education\n",
      "Contract Type: Not specified\n",
      "Salary Info: Not specified\n",
      "Posting Date: Not specified\n",
      "Closing Date: Not specified\n",
      "Word Count: 553\n",
      "Masculine Score: 1.07%\n",
      "Feminine Score: 2.33%\n",
      "Neutral Score: 96.6%\n",
      "Gendered Words: F:responsible; F:support; F:support; M:lead; M:manage; F:team; F:support; M:leader; F:support; M:strong; M:manage; F:support; F:support; F:community; F:dedicated; M:competitive; F:committed; F:inclusive; F:community\n",
      "Manual Review Flag: False\n",
      "\n",
      "Data saved to: C:\\Users\\HP\\OneDrive - University of Southampton\\Documents\\Dissertation Project - Marwa Ashfaq\\Codes\\jobs_ac_uk_data.xlsx\n",
      "Total jobs in file: 32\n",
      "\n",
      "✅ Job data saved successfully!\n",
      "\n",
      "----------------------------------------\n"
     ]
    },
    {
     "name": "stdin",
     "output_type": "stream",
     "text": [
      "Do you want to add another job? (y/n):  y\n"
     ]
    },
    {
     "name": "stdout",
     "output_type": "stream",
     "text": [
      "\n",
      "========================================\n",
      "NEW JOB ENTRY\n",
      "========================================\n"
     ]
    },
    {
     "name": "stdin",
     "output_type": "stream",
     "text": [
      "Enter job URL:  https://www.jobs.ac.uk/job/DNP675/campus-manager-weekend-programmes-51852\n"
     ]
    },
    {
     "name": "stdout",
     "output_type": "stream",
     "text": [
      "\n",
      "============================================================\n",
      "JOB DATA ENTRY - JOBS.AC.UK\n",
      "============================================================\n",
      "URL: https://www.jobs.ac.uk/job/DNP675/campus-manager-weekend-programmes-51852\n",
      "------------------------------------------------------------\n"
     ]
    },
    {
     "name": "stdin",
     "output_type": "stream",
     "text": [
      "Job Title:  Campus Manager (Weekend Programmes) 51852\n",
      "Employer/University Name:  London College of Contemporary Arts – Operations\n",
      "Location:  London\n",
      "Posting Date (optional):  \n",
      "Closing Date (optional):  \n",
      "Salary Info (optional):  \n",
      "Contract Type (e.g., Permanent, Fixed-term) (optional):  \n"
     ]
    },
    {
     "name": "stdout",
     "output_type": "stream",
     "text": [
      "\n",
      "Job Description:\n",
      "(Paste the job description below. Press Enter twice when finished)\n",
      "----------------------------------------\n"
     ]
    },
    {
     "name": "stdin",
     "output_type": "stream",
     "text": [
      " The postholder will be fundamental to the delivery of the Colleges Education and Student Experience over the weekend – this is a managerial position, and has direct responsibility for smooth running of the campus.  Under the direction of an assigned supervisor, the postholder will perform a variety of complex tasks related to the implementation, administration, and monitoring of campus programs and services; and provide support to faculty, staff, and students in programs offered at the campus.  UK education is changing very rapidly. You will be expected to ensure the student experience is at the centre of operational matters, over the weekend and ensure the resources allocated are maximised to the benefit of the College, thereby providing an excellent, responsive and pro-active professional service for students and staff across the College.  Position  Key Accountabilities/Primary Responsibilities  Recommend and assist in the implementation of campus goals and objectives. Oversee the safe running of the campus for all, staff and students Maintaining and ensuring the college policies on health and safety, prevent and safeguarding are adhered to.  Responsible for coordinating the first aider rota over the weekend Evaluate campus operations and activities; recommend improvements and modifications; prepare various reports on operations and activities; recommend improvements in workflow, procedures, and the use of campus facilities, equipment, and other resources. Participate in planning activities; assist in developing, implementing, and assessing new programs and services; research, compile, analyse, and summarize data for special projects, programs, services, and various comprehensive reports. Oversee, coordinate, and assist in providing campus student services programs, including admissions and records, counselling/advising, financial aid, and student activities. Provide information regarding college policies, procedures and processes to faculty, staff, and students Assist in budget preparation and administration; prepare cost estimates for budget recommendations; submit justifications for budget items; monitor and control expenditures. Oversee complex clerical and technical assistance for the campus programs. Supervise, plan, prioritize, and evaluate the work of campus staff; coordinate workflow and activities among departments or offices; schedule coverage of activities; oversee campus activities toassure proper service levels. Supervise the development and implementation of internal and external communications. Participate in the selection, orientation, training, and evaluation of employees. Where required facilitate, meetings, and various events, including with external partners Coordinate activities with other departments, offices, students, the public, and outside agencies. Participate in activities that enhance the College's presence and brand reputation / brand awareness Perform other duties as assigned that support the overall objective of the position. Work with senior stakeholders to ensure operational compliance for the college / site, over the weekend. Oversee effective communications with all stakeholders. Participate and contribute to Senior Management Team (SMT) meetings, as required by the Deputy Managing Director General Responsibilities  To undertake other duties appropriate to the grade and character of work as may be reasonably required, including specific duties of a similar or lesser grade. To adhere to the College’s Equality, Diversity, and Inclusion Policy in all activities, and to actively promote equality of opportunity wherever possible. To be responsible for your own health and safety and that of your colleagues, in accordance with the Health and Safety at Work Act. To work in accordance with the Data Protection Act 2018 and UK GDPR. Requirements  Qualifications (essential):  Bachelor’s degree from an accredited institution or equivalent. Knowledge and Experience (essential):  Specialized professional knowledge of higher education regulations, services, and programs. Strong working knowledge of service area. Demonstrate, progressively responsible leadership and supervisory roles in an educational or customer service setting. Demonstrate, sensitivity to and understanding of the diverse academic, socioeconomic, cultural, ethnic, and disability backgrounds of college students and employees. Computer office skills, including word processing, spreadsheet, presentation, database, email/calendar, website management, and publication software products. Office processes and procedures; strong organizational skills. Strong oral, written, and presentation skills. Basic bookkeeping practices and procedures. Research and data analysis skills. Ability to:  Learn and apply the most up-to-date regulations, policies, and guidelines relating to admissions, registration, graduation, financial aid, special services, and other programs and services. Respond to stressful and/or urgent situations in a calm manner, following established protocols for action. Work independently and collaboratively, prioritize workload, analyse problems, and determine solutions. Maintain productive work relationships with students, staff members, and the general public Work at more than one physical location and with rotating work schedules. Demonstrate leadership abilities. Use initiative and resourcefulness in problem-solving. To apply please click on the ‘Apply’ button above.\n",
      " \n",
      " \n"
     ]
    },
    {
     "name": "stdout",
     "output_type": "stream",
     "text": [
      "\n",
      "============================================================\n",
      "PROCESSING RESULTS\n",
      "============================================================\n",
      "Job Title: Campus Manager (Weekend Programmes) 51852\n",
      "Employer: London College of Contemporary Arts – Operations\n",
      "Location: London\n",
      "Remote Option: On-site\n",
      "Job Level: Senior\n",
      "Industry/Sector: Higher Education\n",
      "Contract Type: Not specified\n",
      "Salary Info: and\n",
      "Posting Date: Not specified\n",
      "Closing Date: Not specified\n",
      "Word Count: 733\n",
      "Masculine Score: 0.95%\n",
      "Feminine Score: 1.36%\n",
      "Neutral Score: 97.69%\n",
      "Gendered Words: M:direct; M:responsibility; F:support; F:assist; F:responsible; F:assist; F:assist; F:assist; M:control; F:support; M:objective; F:team; F:responsible; M:strong; F:responsible; M:strong; M:strong\n",
      "Manual Review Flag: False\n",
      "\n",
      "Data saved to: C:\\Users\\HP\\OneDrive - University of Southampton\\Documents\\Dissertation Project - Marwa Ashfaq\\Codes\\jobs_ac_uk_data.xlsx\n",
      "Total jobs in file: 33\n",
      "\n",
      "✅ Job data saved successfully!\n",
      "\n",
      "----------------------------------------\n"
     ]
    },
    {
     "name": "stdin",
     "output_type": "stream",
     "text": [
      "Do you want to add another job? (y/n):  y\n"
     ]
    },
    {
     "name": "stdout",
     "output_type": "stream",
     "text": [
      "\n",
      "========================================\n",
      "NEW JOB ENTRY\n",
      "========================================\n"
     ]
    },
    {
     "name": "stdin",
     "output_type": "stream",
     "text": [
      "Enter job URL:  https://www.jobs.ac.uk/job/DNX387/research-data-steward\n"
     ]
    },
    {
     "name": "stdout",
     "output_type": "stream",
     "text": [
      "\n",
      "============================================================\n",
      "JOB DATA ENTRY - JOBS.AC.UK\n",
      "============================================================\n",
      "URL: https://www.jobs.ac.uk/job/DNX387/research-data-steward\n",
      "------------------------------------------------------------\n"
     ]
    },
    {
     "name": "stdin",
     "output_type": "stream",
     "text": [
      "Job Title:  Research Data Steward\n",
      "Employer/University Name:  University of Sheffield - The University Library\n",
      "Location:  \tSheffield, Hybrid\n",
      "Posting Date (optional):  \n",
      "Closing Date (optional):  \n",
      "Salary Info (optional):  \n",
      "Contract Type (e.g., Permanent, Fixed-term) (optional):  \n"
     ]
    },
    {
     "name": "stdout",
     "output_type": "stream",
     "text": [
      "\n",
      "Job Description:\n",
      "(Paste the job description below. Press Enter twice when finished)\n",
      "----------------------------------------\n"
     ]
    },
    {
     "name": "stdin",
     "output_type": "stream",
     "text": [
      " Working Pattern: Full-time, fixed-term until 31/03/2026  Are you passionate about the FAIR Principles and empowering researchers to handle their data effectively? We have an exciting opportunity for a Research Data Steward to join our Scholarly Communications Team within the Library at the University of Sheffield.  We are looking for someone with a solid understanding of the research data lifecycle and a knack for providing in-depth, bespoke research data management (RDM) support across diverse disciplines. You will be instrumental in guiding researchers on creating data management plans, handling sensitive and qualitative data, and effectively publishing and sharing research data and software.  You will also play a key role in the University's new Office for Open Research and Scholarship, contributing to activities to improve the institutional management of research data and professionalise research-enabling staff. As a central figure in our new Data Stewards Network, you will help increase the visibility and recognition of data stewards and foster a community of practice for RDM.  You are a collaborative individual, bringing your experience of delivering research data management or data stewardship support in a research environment, and are comfortable working across teams and establishing relationships with academic, technical, and professional services colleagues. This role offers the chance to work with collaborators across the University, including Research Partnerships and Innovation, Research & Innovation IT, Records Management, and Data Protection.  What We Offer  The University of Sheffield is a remarkable place to work. Our people are at the heart of everything we do. Their diverse backgrounds, abilities, and beliefs make Sheffield a world-class university.  We offer a fantastic range of benefits including a highly competitive annual leave entitlement (a minimum of 41 days including bank holidays and closure days, with the ability to purchase more), a generous pension scheme, flexible working opportunities (including hybrid working), a commitment to your development and wellbeing, a wide range of retail discounts, and much more. Find out more at www.sheffield.ac.uk/jobs/benefits and join us to become part of something special. We are committed to exploring flexible working opportunities which benefit the individual and University.  We build teams of people from different heritages and lifestyles from across the world, whose talent and contributions complement each other to greatest effect. We believe diversity in all its forms delivers greater impact through research, teaching, and student experience.\n",
      " \n",
      " \n"
     ]
    },
    {
     "name": "stdout",
     "output_type": "stream",
     "text": [
      "\n",
      "============================================================\n",
      "PROCESSING RESULTS\n",
      "============================================================\n",
      "Job Title: Research Data Steward\n",
      "Employer: University of Sheffield - The University Library\n",
      "Location: Sheffield, Hybrid\n",
      "Remote Option: Hybrid\n",
      "Job Level: Not specified\n",
      "Industry/Sector: Higher Education\n",
      "Contract Type: Not specified\n",
      "Salary Info: Not specified\n",
      "Posting Date: Not specified\n",
      "Closing Date: Not specified\n",
      "Word Count: 387\n",
      "Masculine Score: 0.77%\n",
      "Feminine Score: 1.79%\n",
      "Neutral Score: 97.44%\n",
      "Gendered Words: F:team; F:support; F:help; F:community; F:collaborative; M:individual; F:support; M:competitive; F:committed; M:individual\n",
      "Manual Review Flag: False\n",
      "\n",
      "Data saved to: C:\\Users\\HP\\OneDrive - University of Southampton\\Documents\\Dissertation Project - Marwa Ashfaq\\Codes\\jobs_ac_uk_data.xlsx\n",
      "Total jobs in file: 34\n",
      "\n",
      "✅ Job data saved successfully!\n",
      "\n",
      "----------------------------------------\n"
     ]
    },
    {
     "name": "stdin",
     "output_type": "stream",
     "text": [
      "Do you want to add another job? (y/n):  y\n"
     ]
    },
    {
     "name": "stdout",
     "output_type": "stream",
     "text": [
      "\n",
      "========================================\n",
      "NEW JOB ENTRY\n",
      "========================================\n"
     ]
    },
    {
     "name": "stdin",
     "output_type": "stream",
     "text": [
      "Enter job URL:  https://www.jobs.ac.uk/job/DNQ897/research-data-manager-mvls\n"
     ]
    },
    {
     "name": "stdout",
     "output_type": "stream",
     "text": [
      "\n",
      "============================================================\n",
      "JOB DATA ENTRY - JOBS.AC.UK\n",
      "============================================================\n",
      "URL: https://www.jobs.ac.uk/job/DNQ897/research-data-manager-mvls\n",
      "------------------------------------------------------------\n"
     ]
    },
    {
     "name": "stdin",
     "output_type": "stream",
     "text": [
      "Job Title:  Research Data Manager - MVLS\n",
      "Employer/University Name:  University of Glasgow - University Services - Information Services\n",
      "Location:  Glasgow\n",
      "Posting Date (optional):  \n",
      "Closing Date (optional):  \n",
      "Salary Info (optional):  \n",
      "Contract Type (e.g., Permanent, Fixed-term) (optional):  \n"
     ]
    },
    {
     "name": "stdout",
     "output_type": "stream",
     "text": [
      "\n",
      "Job Description:\n",
      "(Paste the job description below. Press Enter twice when finished)\n",
      "----------------------------------------\n"
     ]
    },
    {
     "name": "stdin",
     "output_type": "stream",
     "text": [
      " The University of Glasgow has been changing the world for more than 574 years, and today we are one of the world's top 100 universities. We are delighted to have been awarded Scottish University of the Year by the Times & Sunday Times Good University Guide 2024, demonstrating that we are not only one of the best universities in the United Kingdom, but one of the best universities for the world. Our people have always been at the forefront of innovation, and our past achievements inspire our current world changers.  This is a fantastic opportunity for an experienced Research Data Manager to join the University Services research computing team, delivering a range of enabling, facilitation and support services to researchers within the University’s College of Medical, Veterinary and Life Sciences.  As part of the Research Computing as a Service (RCaaS) team, the Research Data Manager will provide leadership and support related to creation, management and curation of research data within the College of Medical, Veterinary and Life Sciences (MVLS).  You will translate this understanding into clearly defined service requirements, building cases for investment in critical data services and overseeing their implementation and facilitating their adoption. You will partner closely with Information Services colleagues to enhance services and mitigate risk. You will provide practical, disciplinary-specialist support for researchers facing issues of data scale, complexity and sensitivity – enhancing the ways that data are created and managed to make them more discoverable, accessible and usable.  This post is full time and fixed term for 24 months from start date  Apply online at: Research Data Manager - MVLS · University of Glasgow  Closing Date: 23:45 23rd July 2025  The University of Glasgow has a responsibility to ensure that all employees are eligible to live and work in the UK.  If you require a Skilled Worker visa to work in the UK, you will be required to meet the eligibility requirements of the visa route to be assigned a Certificate of Sponsorship.  Please note that this post may be eligible to be sponsored under the Skilled Worker visa route if tradeable points can be used under the Skilled Worker visa rules. For more information please visit: https://www.gov.uk/skilled-worker-visa  As part of Team UofG you will be a member of a world changing, inclusive community, which values ambition, excellence, integrity and curiosity.  As a valued member of our team, you can expect:  1. A warm welcoming and engaging organisational culture, where your talents are developed and nurtured, and success is celebrated and shared.  2. An excellent employment package with generous terms and conditions including 41 days of leave for full time staff, pension - pensions handbook https://www.gla.ac.uk/myglasgow/payandpensions/pensions/, benefits and discount packages.  3. A flexible approach to working.  4. A commitment to support your health and wellbeing, including a free 6-month UofG Sport membership for all new staff joining the University  https://www.gla.ac.uk/myglasgow/staff/healthwellbeing/.  We believe that we can only reach our full potential through the talents of all. Equality, diversity and inclusion are at the heart of our values. Applications are particularly welcome from across our communities and in particular people from the Black, Asian and Minority Ethnic (BAME) community, and other protected characteristics who are under-represented within the University. Read more on how the University promotes and embeds all aspects of equality and diversity within our community https://www.gla.ac.uk/myglasgow/humanresources/equalitydiversity/\n",
      " \n",
      " \n"
     ]
    },
    {
     "name": "stdout",
     "output_type": "stream",
     "text": [
      "\n",
      "============================================================\n",
      "PROCESSING RESULTS\n",
      "============================================================\n",
      "Job Title: Research Data Manager - MVLS\n",
      "Employer: University of Glasgow - University Services - Information Services\n",
      "Location: Glasgow\n",
      "Remote Option: Hybrid\n",
      "Job Level: Senior\n",
      "Industry/Sector: Higher Education\n",
      "Contract Type: Not specified\n",
      "Salary Info: Not specified\n",
      "Posting Date: Not specified\n",
      "Closing Date: Not specified\n",
      "Word Count: 566\n",
      "Masculine Score: 0.18%\n",
      "Feminine Score: 2.3%\n",
      "Neutral Score: 97.52%\n",
      "Gendered Words: F:team; F:support; F:team; F:support; F:support; M:responsibility; F:team; F:inclusive; F:community; F:team; F:warm; F:support; F:community; F:community\n",
      "Manual Review Flag: False\n",
      "\n",
      "Data saved to: C:\\Users\\HP\\OneDrive - University of Southampton\\Documents\\Dissertation Project - Marwa Ashfaq\\Codes\\jobs_ac_uk_data.xlsx\n",
      "Total jobs in file: 35\n",
      "\n",
      "✅ Job data saved successfully!\n",
      "\n",
      "----------------------------------------\n"
     ]
    },
    {
     "name": "stdin",
     "output_type": "stream",
     "text": [
      "Do you want to add another job? (y/n):  y\n"
     ]
    },
    {
     "name": "stdout",
     "output_type": "stream",
     "text": [
      "\n",
      "========================================\n",
      "NEW JOB ENTRY\n",
      "========================================\n"
     ]
    },
    {
     "name": "stdin",
     "output_type": "stream",
     "text": [
      "Enter job URL:  https://www.jobs.ac.uk/job/DNQ918/research-data-technical-specialist\n"
     ]
    },
    {
     "name": "stdout",
     "output_type": "stream",
     "text": [
      "\n",
      "============================================================\n",
      "JOB DATA ENTRY - JOBS.AC.UK\n",
      "============================================================\n",
      "URL: https://www.jobs.ac.uk/job/DNQ918/research-data-technical-specialist\n",
      "------------------------------------------------------------\n"
     ]
    },
    {
     "name": "stdin",
     "output_type": "stream",
     "text": [
      "Job Title:  Research Data Technical Specialist\n",
      "Employer/University Name:  University of Glasgow - University Services - Information Services\n",
      "Location:  Glasgow\n",
      "Posting Date (optional):  \n",
      "Closing Date (optional):  \n",
      "Salary Info (optional):  \n",
      "Contract Type (e.g., Permanent, Fixed-term) (optional):  \n"
     ]
    },
    {
     "name": "stdout",
     "output_type": "stream",
     "text": [
      "\n",
      "Job Description:\n",
      "(Paste the job description below. Press Enter twice when finished)\n",
      "----------------------------------------\n"
     ]
    },
    {
     "name": "stdin",
     "output_type": "stream",
     "text": [
      " The University of Glasgow has been changing the world for more than 574 years, and today we are one of the world's top 100 universities. We are delighted to have been awarded Scottish University of the Year by the Times & Sunday Times Good University Guide 2024, demonstrating that we are not only one of the best universities in the United Kingdom, but one of the best universities for the world. Our people have always been at the forefront of innovation, and our past achievements inspire our current world changers.  This is a fantastic opportunity for an experienced research data professional to join the University’s Information Services research computing team.  As part of the Research Computing as a Service team within Information Services, the Research Data Technical Specialist will support University of Glasgow researchers using data-driven methods and undertaking data-intensive research.  Your focus will be on a range of contributions that may include curation support to facilitate the creation, management and use of research ready data and safeguard the integrity and value of data outputs; scoping for and specifying data-specific service requirements (e.g. associated with the use of controlled data within a trusted research environment); and developing and delivering practical support services for researchers facing challenges associated with data scale, complexity and sensitivity.  This post is full time and open ended (permanent)  Apply online at: Research Data Technical Specialist · University of Glasgow  Closing Date: 23:45 23rd July 2025  The University of Glasgow has a responsibility to ensure that all employees are eligible to live and work in the UK.  If you require a Skilled Worker visa to work in the UK, you will be required to meet the eligibility requirements of the visa route to be assigned a Certificate of Sponsorship.  Please note that this post may be eligible to be sponsored under the Skilled Worker visa route if tradeable points can be used under the Skilled Worker visa rules. For more information please visit: https://www.gov.uk/skilled-worker-visa  As part of Team UofG you will be a member of a world changing, inclusive community, which values ambition, excellence, integrity and curiosity.  As a valued member of our team, you can expect:  1. A warm welcoming and engaging organisational culture, where your talents are developed and nurtured, and success is celebrated and shared.  2. An excellent employment package with generous terms and conditions including 41 days of leave for full time staff, pension - pensions handbook https://www.gla.ac.uk/myglasgow/payandpensions/pensions/, benefits and discount packages.  3. A flexible approach to working.  4. A commitment to support your health and wellbeing, including a free 6-month UofG Sport membership for all new staff joining the University  https://www.gla.ac.uk/myglasgow/staff/healthwellbeing/.  We believe that we can only reach our full potential through the talents of all. Equality, diversity and inclusion are at the heart of our values. Applications are particularly welcome from across our communities and in particular people from the Black, Asian and Minority Ethnic (BAME) community, and other protected characteristics who are under-represented within the University. Read more on how the University promotes and embeds all aspects of equality and diversity within our community https://www.gla.ac.uk/myglasgow/humanresources/equalitydiversity/  We endorse the principles of Athena Swan https://www.gla.ac.uk/myglasgow/humanresources/equalitydiversity/athenaswan/ and hold bronze, silver and gold awards across the University.  We are investing in our organisation, and we will invest in you too. Please visit our website https://www.gla.ac.uk/explore/jobs/ for more information.\n",
      " \n",
      " \n"
     ]
    },
    {
     "name": "stdout",
     "output_type": "stream",
     "text": [
      "\n",
      "============================================================\n",
      "PROCESSING RESULTS\n",
      "============================================================\n",
      "Job Title: Research Data Technical Specialist\n",
      "Employer: University of Glasgow - University Services - Information Services\n",
      "Location: Glasgow\n",
      "Remote Option: Hybrid\n",
      "Job Level: Junior\n",
      "Industry/Sector: Higher Education\n",
      "Contract Type: Not specified\n",
      "Salary Info: Not specified\n",
      "Posting Date: Not specified\n",
      "Closing Date: Not specified\n",
      "Word Count: 578\n",
      "Masculine Score: 0.17%\n",
      "Feminine Score: 2.21%\n",
      "Neutral Score: 97.62%\n",
      "Gendered Words: F:team; F:team; F:support; F:support; F:support; M:responsibility; F:team; F:inclusive; F:community; F:team; F:warm; F:support; F:community; F:community\n",
      "Manual Review Flag: False\n",
      "\n",
      "Data saved to: C:\\Users\\HP\\OneDrive - University of Southampton\\Documents\\Dissertation Project - Marwa Ashfaq\\Codes\\jobs_ac_uk_data.xlsx\n",
      "Total jobs in file: 36\n",
      "\n",
      "✅ Job data saved successfully!\n",
      "\n",
      "----------------------------------------\n"
     ]
    },
    {
     "name": "stdin",
     "output_type": "stream",
     "text": [
      "Do you want to add another job? (y/n):  y\n"
     ]
    },
    {
     "name": "stdout",
     "output_type": "stream",
     "text": [
      "\n",
      "========================================\n",
      "NEW JOB ENTRY\n",
      "========================================\n"
     ]
    },
    {
     "name": "stdin",
     "output_type": "stream",
     "text": [
      "Enter job URL:  https://www.jobs.ac.uk/job/DNR234/data-analyst\n"
     ]
    },
    {
     "name": "stdout",
     "output_type": "stream",
     "text": [
      "\n",
      "============================================================\n",
      "JOB DATA ENTRY - JOBS.AC.UK\n",
      "============================================================\n",
      "URL: https://www.jobs.ac.uk/job/DNR234/data-analyst\n",
      "------------------------------------------------------------\n"
     ]
    },
    {
     "name": "stdin",
     "output_type": "stream",
     "text": [
      "Job Title:  Data Analyst\n",
      "Employer/University Name:  The University of Edinburgh - Centre for Medical Informatics\n",
      "Location:  Edinburgh\n",
      "Posting Date (optional):  \n",
      "Closing Date (optional):  \n",
      "Salary Info (optional):  \n",
      "Contract Type (e.g., Permanent, Fixed-term) (optional):  \n"
     ]
    },
    {
     "name": "stdout",
     "output_type": "stream",
     "text": [
      "\n",
      "Job Description:\n",
      "(Paste the job description below. Press Enter twice when finished)\n",
      "----------------------------------------\n"
     ]
    },
    {
     "name": "stdin",
     "output_type": "stream",
     "text": [
      " Contract type: Full time (35 hours per week) Fixed Term available from 1st September 2025 until 31st August 2028 Location: Usher Institute, Usher Building, 5-7 Little France Road, Edinburgh BioQuarter - Gate 3, Edinburgh, EH16 4UX   This post is advertised as full-time (35 hours per week), however, we will consider part-time or flexible working patterns (minimum of 20 hours/ week).  We will also consider requests for hybrid working (on a non-contractual basis) that combines a mix of remote and regular (weekly) on-campus working. The Usher Institute expects a minimum of 40% on campus working.  The Centre for Medical Informatics at the Usher Institute within The University of Edinburgh is looking for a Data Analyst.  The Opportunity:  This post offers the opportunity to work on an exciting new initiative using data driven research approaches to improve child health through housing interventions as part of a new 5 year Wellcome funded study, Homes, Heat and Healthy Kids.  This study capitalises on the new ability to link healthcare and individual property-level data across Scotland for the first time, to create a rich retrospective birth cohort linking electronic health records with data on home energy efficiency and energy use, smart meters, high street banking, air pollution and climate.  You will work in a fast-paced, agile and cross-sectoral research environment. Public and political consciousness of the link between health and housing is rising. The study already has over 50 organisations as stakeholders, including policy makers, public sector, third sector and industry partners. You will be collaborating with our stakeholders to develop novel methodology to:  Provide policy makers with estimates of how many preschool respiratory infections could be avoided if every home was adequately heated. Explore how different ways of making homes warmer affect the risk of respiratory infection risk, in particular the balance between warmth and reduced indoor air quality. This body of work has the potential to influence housing, health, energy and Net Zero policies. There will be significant opportunities to develop both public engagement and policy translation skills for the successful applicant.  Informal enquiries may be directed to Dr Olivia Swann, Senior Clinical Research Fellow and Honorary Consultant in Paediatric Infectious Disease (Olivia.Swann@ed.ac.uk).  Your skills and attributes for success:  A PhD in a scientific or numerate subject, or able to demonstrate relevant and equivalent experience. Experience in writing complex queries to interrogate databases. Experience in using statistical programming for data analysis and machine learning/deep learning, using python or R. Ability to work well within a interdisciplinary team. Commitment to contribute to positive research culture. Apply Before: 16/07/2025, 23:59\n",
      " \n",
      " \n"
     ]
    },
    {
     "name": "stdout",
     "output_type": "stream",
     "text": [
      "\n",
      "============================================================\n",
      "PROCESSING RESULTS\n",
      "============================================================\n",
      "Job Title: Data Analyst\n",
      "Employer: The University of Edinburgh - Centre for Medical Informatics\n",
      "Location: Edinburgh\n",
      "Remote Option: Remote\n",
      "Job Level: Senior\n",
      "Industry/Sector: Higher Education\n",
      "Contract Type: Not specified\n",
      "Salary Info: Not specified\n",
      "Posting Date: Not specified\n",
      "Closing Date: Not specified\n",
      "Word Count: 429\n",
      "Masculine Score: 0.24%\n",
      "Feminine Score: 0.24%\n",
      "Neutral Score: 99.52%\n",
      "Gendered Words: M:individual; F:team\n",
      "Manual Review Flag: False\n",
      "\n",
      "Data saved to: C:\\Users\\HP\\OneDrive - University of Southampton\\Documents\\Dissertation Project - Marwa Ashfaq\\Codes\\jobs_ac_uk_data.xlsx\n",
      "Total jobs in file: 37\n",
      "\n",
      "✅ Job data saved successfully!\n",
      "\n",
      "----------------------------------------\n"
     ]
    },
    {
     "name": "stdin",
     "output_type": "stream",
     "text": [
      "Do you want to add another job? (y/n):  y\n"
     ]
    },
    {
     "name": "stdout",
     "output_type": "stream",
     "text": [
      "\n",
      "========================================\n",
      "NEW JOB ENTRY\n",
      "========================================\n"
     ]
    },
    {
     "name": "stdin",
     "output_type": "stream",
     "text": [
      "Enter job URL:  https://www.jobs.ac.uk/job/DNX189/research-management-data-and-systems-assistant\n"
     ]
    },
    {
     "name": "stdout",
     "output_type": "stream",
     "text": [
      "\n",
      "============================================================\n",
      "JOB DATA ENTRY - JOBS.AC.UK\n",
      "============================================================\n",
      "URL: https://www.jobs.ac.uk/job/DNX189/research-management-data-and-systems-assistant\n",
      "------------------------------------------------------------\n"
     ]
    },
    {
     "name": "stdin",
     "output_type": "stream",
     "text": [
      "Job Title:  Research Management Data and Systems Assistant\n",
      "Employer/University Name:  The University of Edinburgh - CMVM / The Planning Unit of Library and University Collections\n",
      "Location:  Edinburgh\n",
      "Posting Date (optional):  \n",
      "Closing Date (optional):  \n",
      "Salary Info (optional):  \n",
      "Contract Type (e.g., Permanent, Fixed-term) (optional):  \n"
     ]
    },
    {
     "name": "stdout",
     "output_type": "stream",
     "text": [
      "\n",
      "Job Description:\n",
      "(Paste the job description below. Press Enter twice when finished)\n",
      "----------------------------------------\n"
     ]
    },
    {
     "name": "stdin",
     "output_type": "stream",
     "text": [
      " Open-ended (permanent)  We are looking for an individual to join the Research Information Systems Team to primarily contribute to service delivery and continuous system improvement of the core suite of the University’s research information systems. You'll support research management data reporting services and assist with the development, maintenance, and running of our research reporting environment.  We would be happy to consider any flexible working requests. The role itself will be hybrid, working partly from the office and partly remotely. The Team is currently located in Argyle House, 3 Lady Lawson Street, Edinburgh EH3 9DR.  What the job involves:  Support and contribute to service delivery and continuous system improvement of research information systems Assist in the development and maintenance of the SQL Server reporting environment for research management data Monitor key system integrations and resolve any issues Working with colleagues across the University’s research community to support research data reporting requirements in line with policies and strategies Undertake regular system maintenance tasks and assist with system upgrades Your skills and attributes for success:  Degree or equivalent relevant qualification Experience with MSSQL and Microsoft SQL Server administration Strong analytical and problem-solving skills Experience in IT system support and upgrades Experience of using web services to interact with, and exchange date between systems Well-developed communication skills to enable the identification, understanding and interpretation of research reporting requirements. We welcome informal enquiries about the role – to find out more please email Sam Bishop, Research Management Data and Systems Officer at Sam.Bishop@ed.ac.uk \n",
      " \n",
      " \n"
     ]
    },
    {
     "name": "stdout",
     "output_type": "stream",
     "text": [
      "\n",
      "============================================================\n",
      "PROCESSING RESULTS\n",
      "============================================================\n",
      "Job Title: Research Management Data and Systems Assistant\n",
      "Employer: The University of Edinburgh - CMVM / The Planning Unit of Library and University Collections\n",
      "Location: Edinburgh\n",
      "Remote Option: Remote\n",
      "Job Level: Junior\n",
      "Industry/Sector: Higher Education\n",
      "Contract Type: Not specified\n",
      "Salary Info: Not specified\n",
      "Posting Date: Not specified\n",
      "Closing Date: Not specified\n",
      "Word Count: 251\n",
      "Masculine Score: 1.18%\n",
      "Feminine Score: 3.94%\n",
      "Neutral Score: 94.88%\n",
      "Gendered Words: M:individual; F:team; F:support; F:assist; F:team; F:support; F:assist; F:community; F:support; F:assist; M:strong; M:analytical; F:support\n",
      "Manual Review Flag: False\n",
      "\n",
      "Data saved to: C:\\Users\\HP\\OneDrive - University of Southampton\\Documents\\Dissertation Project - Marwa Ashfaq\\Codes\\jobs_ac_uk_data.xlsx\n",
      "Total jobs in file: 38\n",
      "\n",
      "✅ Job data saved successfully!\n",
      "\n",
      "----------------------------------------\n"
     ]
    },
    {
     "name": "stdin",
     "output_type": "stream",
     "text": [
      "Do you want to add another job? (y/n):  y\n"
     ]
    },
    {
     "name": "stdout",
     "output_type": "stream",
     "text": [
      "\n",
      "========================================\n",
      "NEW JOB ENTRY\n",
      "========================================\n"
     ]
    },
    {
     "name": "stdin",
     "output_type": "stream",
     "text": [
      "Enter job URL:  https://www.jobs.ac.uk/job/DNU181/research-fellow-in-language-data-science\n"
     ]
    },
    {
     "name": "stdout",
     "output_type": "stream",
     "text": [
      "\n",
      "============================================================\n",
      "JOB DATA ENTRY - JOBS.AC.UK\n",
      "============================================================\n",
      "URL: https://www.jobs.ac.uk/job/DNU181/research-fellow-in-language-data-science\n",
      "------------------------------------------------------------\n"
     ]
    },
    {
     "name": "stdin",
     "output_type": "stream",
     "text": [
      "Job Title:  Research Fellow in Language Data Science\n",
      "Employer/University Name:  Research Fellow in Language Data Science\n",
      "Location:  Guildford\n",
      "Posting Date (optional):  \n",
      "Closing Date (optional):  \n",
      "Salary Info (optional):  \n",
      "Contract Type (e.g., Permanent, Fixed-term) (optional):  \n"
     ]
    },
    {
     "name": "stdout",
     "output_type": "stream",
     "text": [
      "\n",
      "Job Description:\n",
      "(Paste the job description below. Press Enter twice when finished)\n",
      "----------------------------------------\n"
     ]
    },
    {
     "name": "stdin",
     "output_type": "stream",
     "text": [
      " The University of Surrey is a global community of ideas and people, dedicated to life-changing education and research.   We are ambitious and have a bold vision of what we want to achieve - shaping ourselves into one of the best universities in the world, which we are achieving through the talents and endeavour of every employee.    Our culture empowers people to achieve this aim and to collectively, and individually, make a real difference.    The role  We are seeking qualified applicants for a position as Language Data Scientist on the ERC Synergy grant ‘NILOMORPH: The evolution of suprasegmental morphology in West Nilotic’, led by Matthew Baerman. The successful candidate will perform a key role in managing, processing and analyzing language data generated across the multiple teams that make up the project. The position is based at the Surrey Morphology Group at the University of Surrey, in Guildford, UK, and provides the opportunity to work in the vibrant and highly collegial research environment for which the SMG is renowned.  Background  The NILOMORPH project aims to reconstruct the morphological evolution of the West Nilotic languages, spoken primarily in South Sudan and neighboring countries. These languages have developed some of the most remarkable morphological systems on the planet, where simultaneous manipulation of multiple phonological features (vowel length, vowel height, tone, phonation type) results in enormous paradigms marked solely by the modulation of vowel properties.   The NILOMORPH combines fieldwork, experimental methods, and historical linguistics to account for the phonological, morphological and psycholinguistic pathways that led to this unique outcome. The project is spread across multiple teams, based in the UK, France, Germany and the USA, and will make use of a diverse range of language data taken from multiple sources: ongoing fieldwork, previous studies, text corpora and newly-generated reconstructions, as well as well as the results of computational simulations and artificial language learning experiments.  Responsiblities  The successful candidate will develop and execute a set of data management and analysis tools will enable the diverse international team of researchers to create, access and manipulate the language data that is central to the NILOMORPH project.   As a core member of the Surrey-based team, the successful candidate will provide expert guidance on methods and tools for data analysis, including data design, data management protocols and statistical analysis. They will collaborate closely in the writing and dissemination of papers and presentations, and be expected to take initiative in the formulation of the research agenda.   They will also participate in the broader activities both of the NILOMORPH group and of the Surrey Morphology Group (SMG). The candidate will have opportunities at SMG to develop their research leadership profile while interacting with world-class researchers.   About you  Suitable candidates with a background in linguistics (or linguistics-adjacent fields) are strongly encouraged to apply. Please refer to the full job description, under ‘Addendum’ for essential and desirable criteria.   How to apply  The following documents will be required:  CV Contact details for 2 academic/industry referees. Three relevant works of research (DOI/URL links if possible). Research statement of one page, describing research interests and experience, and how you think this makes you suitable for the advertised post. A completed application form  Interviews are planned for 02 September 2025 and will be held online. Please contact Matthew Baerman m.baerman@surrey.ac.uk with any questions.\n",
      " \n",
      " \n"
     ]
    },
    {
     "name": "stdout",
     "output_type": "stream",
     "text": [
      "\n",
      "============================================================\n",
      "PROCESSING RESULTS\n",
      "============================================================\n",
      "Job Title: Research Fellow in Language Data Science\n",
      "Employer: Research Fellow in Language Data Science\n",
      "Location: Guildford\n",
      "Remote Option: On-site\n",
      "Job Level: Senior\n",
      "Industry/Sector: Higher Education\n",
      "Contract Type: Not specified\n",
      "Salary Info: Not specified\n",
      "Posting Date: Not specified\n",
      "Closing Date: Not specified\n",
      "Word Count: 549\n",
      "Masculine Score: 0.54%\n",
      "Feminine Score: 0.91%\n",
      "Neutral Score: 98.55%\n",
      "Gendered Words: F:community; F:dedicated; M:ambitious; M:achieve; M:achieve; F:team; F:team; F:collaborate\n",
      "Manual Review Flag: False\n",
      "\n",
      "Data saved to: C:\\Users\\HP\\OneDrive - University of Southampton\\Documents\\Dissertation Project - Marwa Ashfaq\\Codes\\jobs_ac_uk_data.xlsx\n",
      "Total jobs in file: 39\n",
      "\n",
      "✅ Job data saved successfully!\n",
      "\n",
      "----------------------------------------\n"
     ]
    },
    {
     "name": "stdin",
     "output_type": "stream",
     "text": [
      "Do you want to add another job? (y/n):  y\n"
     ]
    },
    {
     "name": "stdout",
     "output_type": "stream",
     "text": [
      "\n",
      "========================================\n",
      "NEW JOB ENTRY\n",
      "========================================\n"
     ]
    },
    {
     "name": "stdin",
     "output_type": "stream",
     "text": [
      "Enter job URL:  https://www.jobs.ac.uk/job/DNR936/image-data-analyst\n"
     ]
    },
    {
     "name": "stdout",
     "output_type": "stream",
     "text": [
      "\n",
      "============================================================\n",
      "JOB DATA ENTRY - JOBS.AC.UK\n",
      "============================================================\n",
      "URL: https://www.jobs.ac.uk/job/DNR936/image-data-analyst\n",
      "------------------------------------------------------------\n"
     ]
    },
    {
     "name": "stdin",
     "output_type": "stream",
     "text": [
      "Job Title:  Image Data Analyst\n",
      "Employer/University Name:  University of Oxford - RDM Division of Cardiovascular Medicine, John Radcliffe Hospital\n",
      "Location:  Oxford\n",
      "Posting Date (optional):  \n",
      "Closing Date (optional):  \n",
      "Salary Info (optional):  \n",
      "Contract Type (e.g., Permanent, Fixed-term) (optional):  \n"
     ]
    },
    {
     "name": "stdout",
     "output_type": "stream",
     "text": [
      "\n",
      "Job Description:\n",
      "(Paste the job description below. Press Enter twice when finished)\n",
      "----------------------------------------\n"
     ]
    },
    {
     "name": "stdin",
     "output_type": "stream",
     "text": [
      " The University of Oxford is looking for a highly motivated and skilled Postdoctoral Research Assistant to join our dynamic and interdisciplinary imaging team. This position is part of an exciting programme focused on integrating and analysing large-scale, multidimensional imaging datasets: MRI of heart, liver, kidney  and brain to support early disease detection, improve mechanistic understanding, and influence clinical practice.  We welcome applications from candidates with following backgrounds:  Candidates with strong experience in medical image analysis, machine learning (especially deep learning) and those with expertise in cardiac MRI acquisition. While experience in machine learning is not essential for this pathway, a strong technical understanding of imaging and post-processing is helpful.  You must hold a Masters or PhD in a relevant field such as cardiac imaging, biomedical engineering, computer science, Physics, or a related discipline. Prior experience in MRI research, including working with large datasets, and demonstrated ability to work independently and collaboratively, are an advantage.  Oxford offers an outstanding environment for research with access to state-of-the-art facilities and a vibrant academic community. We are committed to fostering an inclusive culture and welcome candidates from diverse backgrounds.  Interested candidates are encouraged to approach Prof. Betty Raman (betty.raman@cardiov.ox.ac.uk) for further clarification of the job role.  Application Process  If you would like further information about the role, please contact Betty Raman betty.raman@cardiov.ox.ac.uk. Interviews are expected to take place on July 30th or 31st .  Only applications received before midday on July 26th can be considered.  You will be required to upload a covering letter with a supporting statement, CV and the details of two referees as part of your online application. In your supporting statement, please explain why you would like to do this role and how you meet the selection criteria in the job description.\n",
      " \n",
      " \n"
     ]
    },
    {
     "name": "stdout",
     "output_type": "stream",
     "text": [
      "\n",
      "============================================================\n",
      "PROCESSING RESULTS\n",
      "============================================================\n",
      "Job Title: Image Data Analyst\n",
      "Employer: University of Oxford - RDM Division of Cardiovascular Medicine, John Radcliffe Hospital\n",
      "Location: Oxford\n",
      "Remote Option: On-site\n",
      "Job Level: Junior\n",
      "Industry/Sector: Higher Education\n",
      "Contract Type: Not specified\n",
      "Salary Info: Not specified\n",
      "Posting Date: Not specified\n",
      "Closing Date: Not specified\n",
      "Word Count: 294\n",
      "Masculine Score: 0.66%\n",
      "Feminine Score: 1.65%\n",
      "Neutral Score: 97.69%\n",
      "Gendered Words: F:team; F:support; M:strong; M:strong; F:community; F:committed; F:inclusive\n",
      "Manual Review Flag: False\n",
      "\n",
      "Data saved to: C:\\Users\\HP\\OneDrive - University of Southampton\\Documents\\Dissertation Project - Marwa Ashfaq\\Codes\\jobs_ac_uk_data.xlsx\n",
      "Total jobs in file: 40\n",
      "\n",
      "✅ Job data saved successfully!\n",
      "\n",
      "----------------------------------------\n"
     ]
    },
    {
     "name": "stdin",
     "output_type": "stream",
     "text": [
      "Do you want to add another job? (y/n):  y\n"
     ]
    },
    {
     "name": "stdout",
     "output_type": "stream",
     "text": [
      "\n",
      "========================================\n",
      "NEW JOB ENTRY\n",
      "========================================\n"
     ]
    },
    {
     "name": "stdin",
     "output_type": "stream",
     "text": [
      "Enter job URL:  https://www.jobs.ac.uk/job/DNO255/research-associate-data-science-fixed-term\n"
     ]
    },
    {
     "name": "stdout",
     "output_type": "stream",
     "text": [
      "\n",
      "============================================================\n",
      "JOB DATA ENTRY - JOBS.AC.UK\n",
      "============================================================\n",
      "URL: https://www.jobs.ac.uk/job/DNO255/research-associate-data-science-fixed-term\n",
      "------------------------------------------------------------\n"
     ]
    },
    {
     "name": "stdin",
     "output_type": "stream",
     "text": [
      "Job Title:  Research Associate (Data Science) (Fixed Term)\n",
      "Employer/University Name:  University of Cambridge - Department of Obstetrics and Gynaecology\n",
      "Location:  Cambridge\n",
      "Posting Date (optional):  \n",
      "Closing Date (optional):  \n",
      "Salary Info (optional):  \n",
      "Contract Type (e.g., Permanent, Fixed-term) (optional):  \n"
     ]
    },
    {
     "name": "stdout",
     "output_type": "stream",
     "text": [
      "\n",
      "Job Description:\n",
      "(Paste the job description below. Press Enter twice when finished)\n",
      "----------------------------------------\n"
     ]
    },
    {
     "name": "stdin",
     "output_type": "stream",
     "text": [
      " The Department of Obstetrics & Gynaecology at the University of Cambridge is seeking a Research Associate in Data Science to develop, maintain and analyse databases related to pregnancy studies.  About Obstetrics & Gynaecology:  The department carries out research and education at the highest international standards of excellence. A substantial proportion of the work in the department aims to develop novel methods to identify women at high risk of pregnancy complications. This programme of work has driven two prospective cohort studies: POPS (4,512 women) and POPS2 (aims to recruit 5,500 women, currently at ~85% of target). Both studies include large scale collection of data and biological samples, the latter >500,000 aliquots across the two cohorts.  Key responsibilities:  The successful role holder will develop and maintain the databases related to the Pregnancy Outcome Prediction (POP) Studies, and provide support for teams using the data and biological samples. The role will involve good data management practice, especially in terms of data robustness and security (https://www.data.cam.ac.uk/). For interested candidates, there will also be the opportunity to participate in primary research.  Why join us?  You will be contributing to clinically important research as part of a multidisciplinary team. Obstetrics and Gynaecology is a small department providing a friendly working environment that prioritises professional development, equality and diversity and wellbeing of employees. You will also have an opportunity to join the vibrant community of Data Champions at the University, which will help you to learn and enhance current practices in data management within the POP studies.  Application process:  To view more details about the role and person specification, please click on the Further Information link below.  Additional information:  Fixed term: This post is funded until 30 November 2027.  Click the 'Apply' button above to register an account with our recruitment system and apply online.  Informal enquiries are welcomed and should be directed to:  Ulla Sovio at us253@medschl.cam.ac.uk or Gordon Smith at gcss2@cam.ac.uk.  If you have any queries regarding the application process, please contact: clusterHR@medschl.cam.ac.uk  The closing date for applications is: 28 July 2025  The interviews for the role are anticipated to take place on the week beginning: TBC  This appointment requires a Research Passport application.  To apply online for this vacancy and to view further information about the role, please click 'Apply' above.  Applicants must have (or be close to obtaining) a PhD.  Appointment at Research Associate level is dependent on having a PhD. Those who have submitted but not yet received their PhD will initially be appointed as a Research Assistant (Grade 5, Point 38 £34,132) moving to Research Associate (Grade 7) upon confirmation of your PhD award.  Please ensure that you upload a covering letter and CV in the Upload section of the online application. The covering letter should outline how you match the criteria for the post and why you are applying for this role. If you upload any additional documents which have not been requested, we will not be able to consider these as part of your application.  Please include details of your referees, including email address and phone number, one of which must be your most recent line manager.  The University actively supports equality, diversity and inclusion and encourages applications from all sections of society.  The University has a responsibility to ensure that all employees are eligible to live and work in the UK.\n",
      " \n",
      " \n"
     ]
    },
    {
     "name": "stdout",
     "output_type": "stream",
     "text": [
      "\n",
      "============================================================\n",
      "PROCESSING RESULTS\n",
      "============================================================\n",
      "Job Title: Research Associate (Data Science) (Fixed Term)\n",
      "Employer: University of Cambridge - Department of Obstetrics and Gynaecology\n",
      "Location: Cambridge\n",
      "Remote Option: On-site\n",
      "Job Level: Senior\n",
      "Industry/Sector: Higher Education\n",
      "Contract Type: Not specified\n",
      "Salary Info: 5\n",
      "Posting Date: Not specified\n",
      "Closing Date: Not specified\n",
      "Word Count: 556\n",
      "Masculine Score: 0.18%\n",
      "Feminine Score: 0.72%\n",
      "Neutral Score: 99.1%\n",
      "Gendered Words: F:support; F:team; F:community; F:help; M:responsibility\n",
      "Manual Review Flag: False\n",
      "\n",
      "Data saved to: C:\\Users\\HP\\OneDrive - University of Southampton\\Documents\\Dissertation Project - Marwa Ashfaq\\Codes\\jobs_ac_uk_data.xlsx\n",
      "Total jobs in file: 41\n",
      "\n",
      "✅ Job data saved successfully!\n",
      "\n",
      "----------------------------------------\n"
     ]
    },
    {
     "name": "stdin",
     "output_type": "stream",
     "text": [
      "Do you want to add another job? (y/n):  y\n"
     ]
    },
    {
     "name": "stdout",
     "output_type": "stream",
     "text": [
      "\n",
      "========================================\n",
      "NEW JOB ENTRY\n",
      "========================================\n"
     ]
    },
    {
     "name": "stdin",
     "output_type": "stream",
     "text": [
      "Enter job URL:  https://www.jobs.ac.uk/job/DNR433/data-and-evaluation-lead\n"
     ]
    },
    {
     "name": "stdout",
     "output_type": "stream",
     "text": [
      "\n",
      "============================================================\n",
      "JOB DATA ENTRY - JOBS.AC.UK\n",
      "============================================================\n",
      "URL: https://www.jobs.ac.uk/job/DNR433/data-and-evaluation-lead\n",
      "------------------------------------------------------------\n"
     ]
    },
    {
     "name": "stdin",
     "output_type": "stream",
     "text": [
      "Job Title:  Data and Evaluation Lead\n",
      "Employer/University Name:  Buckinghamshire New University - Business Intelligence\n",
      "Location:  High Wycombe\n",
      "Posting Date (optional):  \n",
      "Closing Date (optional):  \n",
      "Salary Info (optional):  \n",
      "Contract Type (e.g., Permanent, Fixed-term) (optional):  \n"
     ]
    },
    {
     "name": "stdout",
     "output_type": "stream",
     "text": [
      "\n",
      "Job Description:\n",
      "(Paste the job description below. Press Enter twice when finished)\n",
      "----------------------------------------\n"
     ]
    },
    {
     "name": "stdin",
     "output_type": "stream",
     "text": [
      " Buckinghamshire New University is an ambitious, modern university that is always open to fresh ideas and thinking. We believe in the transformative power of education, and in doing the right thing by our students, people and local community. That’s why our BNU community is a special place to work and study, and where people who want to make a difference can contribute and succeed.  Our University’s DRIVE values and are at the heart of all that we do. We are united in being dynamic, responsible, inclusive, visionary and empowering to ensure that we provide the best experience to our learners and offer excellent service to our partners and to each other as colleagues. Our commitment to these values is unwavering and they are central to our mission. We encourage applications from all backgrounds, communities and industries and we are happy to discuss any reasonable adjustments that you require.  This is an exciting time to join BNU. The Data and Evaluation Lead will provide evaluation and data insights to support improvements in student experience and outcomes. They will lead on evaluation for the Access and Participation Plan, Teaching Excellence Framework and other enhancement activities. They will work with teams around the university to coordinate and monitor intervention strategies, design an evaluation framework, and monitor impact.  It is a great time to join the Business Intelligence team which is central to delivering reliable and timely data for decision making and improvement. The University is keen to invest in talent and the Business Intelligence programme strongly advocates innovation and growth, welcoming new ideas to improve outcomes and make best use of all resources whilst responding to the needs of stakeholders.  We are looking for a pro-active problem solver who will take a data-driven approach to collaborating with key stakeholders. They will be a strong communicator with a passion for data, able to explain complex analysis to non-experts. The post holder will ideally have a background in evaluation and research and will be familiar with Access and Participation plans, evaluation methodology and frameworks.  What we offer:  a generous holiday entitlement (30 days per annum, plus bank holidays & closure days) Hybrid working (dependant on business needs) training & development support opportunities contributory pension scheme discounted gym membership for our on-site gym a range of staff discounts with major retailers. BNU is proud to have a diverse community and a strong track record of diversity, equity and inclusion. Our aim is to continue to build an environment where everyone thrives and can be themselves. We therefore ensure that our interview/shortlisting Chairs complete the relevant e-learning and/or inclusive recruitment training.  We therefore particularly encourage applications from candidates who are likely to be underrepresented in BNU’S workforce. These include people from global majority backgrounds, disabled people, and LGBTQI+ people, particularly in more senior roles.  Closing Date: 20th July 2025  Interview Date: w/c 4th August 2025\n",
      " \n",
      " \n"
     ]
    },
    {
     "name": "stdout",
     "output_type": "stream",
     "text": [
      "\n",
      "============================================================\n",
      "PROCESSING RESULTS\n",
      "============================================================\n",
      "Job Title: Data and Evaluation Lead\n",
      "Employer: Buckinghamshire New University - Business Intelligence\n",
      "Location: High Wycombe\n",
      "Remote Option: Hybrid\n",
      "Job Level: Senior\n",
      "Industry/Sector: Higher Education\n",
      "Contract Type: Not specified\n",
      "Salary Info: Not specified\n",
      "Posting Date: Not specified\n",
      "Closing Date: Not specified\n",
      "Word Count: 482\n",
      "Masculine Score: 1.45%\n",
      "Feminine Score: 1.87%\n",
      "Neutral Score: 96.68%\n",
      "Gendered Words: M:ambitious; F:community; F:community; M:drive; F:responsible; F:inclusive; M:lead; F:support; M:lead; F:team; M:decision; M:strong; F:support; F:community; M:strong; F:inclusive\n",
      "Manual Review Flag: False\n",
      "\n",
      "Data saved to: C:\\Users\\HP\\OneDrive - University of Southampton\\Documents\\Dissertation Project - Marwa Ashfaq\\Codes\\jobs_ac_uk_data.xlsx\n",
      "Total jobs in file: 42\n",
      "\n",
      "✅ Job data saved successfully!\n",
      "\n",
      "----------------------------------------\n"
     ]
    },
    {
     "name": "stdin",
     "output_type": "stream",
     "text": [
      "Do you want to add another job? (y/n):  y\n"
     ]
    },
    {
     "name": "stdout",
     "output_type": "stream",
     "text": [
      "\n",
      "========================================\n",
      "NEW JOB ENTRY\n",
      "========================================\n"
     ]
    },
    {
     "name": "stdin",
     "output_type": "stream",
     "text": [
      "Enter job URL:  https://www.jobs.ac.uk/job/DNM833/lecturer-in-data-science-and-analytics\n"
     ]
    },
    {
     "name": "stdout",
     "output_type": "stream",
     "text": [
      "\n",
      "============================================================\n",
      "JOB DATA ENTRY - JOBS.AC.UK\n",
      "============================================================\n",
      "URL: https://www.jobs.ac.uk/job/DNM833/lecturer-in-data-science-and-analytics\n",
      "------------------------------------------------------------\n"
     ]
    },
    {
     "name": "stdin",
     "output_type": "stream",
     "text": [
      "Job Title:  Lecturer in Data Science and Analytics\n",
      "Employer/University Name:  Robert Gordon University\n",
      "Location:  Aberdeen\n",
      "Posting Date (optional):  \n",
      "Closing Date (optional):  \n",
      "Salary Info (optional):  \n",
      "Contract Type (e.g., Permanent, Fixed-term) (optional):  \n"
     ]
    },
    {
     "name": "stdout",
     "output_type": "stream",
     "text": [
      "\n",
      "Job Description:\n",
      "(Paste the job description below. Press Enter twice when finished)\n",
      "----------------------------------------\n"
     ]
    },
    {
     "name": "stdin",
     "output_type": "stream",
     "text": [
      " Innovative, inclusive and professionally-focused, Robert Gordon University (RGU) has developed its strategy and principles to focus on the significant strengths, often unique in the UK, that underpin our demand-led, transformational teaching, learning and research. The School is a vibrant and inclusive community, renowned for its research, innovation, and teaching excellence in computing science. Internationally recognized for our expertise in Energy Transition, Computational Intelligence, Case-Based Reasoning, and Machine Learning, we are also building strengths in Materials, Cybersecurity, Digital and Immersive Technologies, and Robotics. Supported by national and international funding, we foster a thriving research environment that brings together early-career and established researchers to tackle real-world challenges through cutting-edge applied computer science research.  Building on these strengths, the School offers a diverse range of undergraduate and postgraduate programs, Graduate Apprenticeships, and short courses. These programs span disciplines such as Computer Science, Artificial Intelligence, Mechanical Engineering, Renewable Energy, Cybersecurity, Data Science, Business Analytics, and Robotics.  We are looking to recruit an enthusiastic, innovative and highly motivated lecturer to join our academic community and contribute to our data science and analytics offerings.  This role presents a unique opportunity to inspire and equip students with the skills to scope, manage, and deliver data-driven projects using advanced analytics tools, methodologies, and data management technologies. We are looking for an exceptional communicator with extensive expertise in business and data analytics, demonstrated through teaching, research, or professional experience. You will foster collaborative partnerships with academic institutions, businesses, charities, and public sector organizations.  You will contribute to advancing research and teaching in this dynamic field, with opportunities to publish high-impact research, secure funding, and engage with interdisciplinary collaborations. Applications are particularly welcome from candidates with expertise in data analytics, data mining, business intelligence, business analytics, data visualization, or related specializations, especially those with experience in applying these skills to health analytics.  Our research directly informs our teaching, and you will actively engage with students at all levels, contributing to their academic and professional development. You will also participate in recruitment, promotional, and outreach activities to inspire the next generation of computer scientists. A PhD in a relevant area, a record of impactful publications, and a strong interest in interdisciplinary research are essential for this role.  RGU's ultra-modern campus, located on the outskirts of the vibrant and prosperous city of Aberdeen, offers a superb place to live, work and develop your career. A relocation package is available to assist with your transition to RGU, where you’ll enjoy working in one of the most impressive university settings in the UK, with first-class educational infrastructure and outstanding sporting and leisure facilities, all set against a stunning rural backdrop on the banks of the river Dee. More information can be found on our relocation pages  Grade 7 Salary Scale: £39,355 - £45,163 / Grade 8 Salary Scale: £46,485 – £55,755. Salary on appointment will be dependent upon experience.  Candidates with limited or no prior experience as an academic will be placed on the first point of the Grade 7 scale. Consideration will be given to offering an Academic Attraction Payment (adjusted annually) for those candidates who have specific industry knowledge, skills or, expertise which are required for the position.  Please see the job attachments for further information regarding the Grade 7 and Grade 8 criteria. Further guidance on Academic Attraction Payments can be found here.  This post is subject to the individual being required to join the PVG scheme. For more information, visit: www.mygov.scot/pvg-scheme  As per the UKVI immigration rules, this role may be eligible for sponsorship under the Skilled Worker route.  Sponsorship under this route is dependent on factors specific to the applicant and if tradeable points can be used under the rules.\n",
      " \n",
      " \n"
     ]
    },
    {
     "name": "stdout",
     "output_type": "stream",
     "text": [
      "\n",
      "============================================================\n",
      "PROCESSING RESULTS\n",
      "============================================================\n",
      "Job Title: Lecturer in Data Science and Analytics\n",
      "Employer: Robert Gordon University\n",
      "Location: Aberdeen\n",
      "Remote Option: On-site\n",
      "Job Level: Junior\n",
      "Industry/Sector: Higher Education\n",
      "Contract Type: Not specified\n",
      "Salary Info: 7\n",
      "Posting Date: Not specified\n",
      "Closing Date: Not specified\n",
      "Word Count: 612\n",
      "Masculine Score: 0.49%\n",
      "Feminine Score: 1.14%\n",
      "Neutral Score: 98.37%\n",
      "Gendered Words: F:inclusive; F:inclusive; F:community; F:together; F:community; M:manage; F:collaborative; M:strong; F:assist; M:individual\n",
      "Manual Review Flag: False\n",
      "\n",
      "Data saved to: C:\\Users\\HP\\OneDrive - University of Southampton\\Documents\\Dissertation Project - Marwa Ashfaq\\Codes\\jobs_ac_uk_data.xlsx\n",
      "Total jobs in file: 43\n",
      "\n",
      "✅ Job data saved successfully!\n",
      "\n",
      "----------------------------------------\n"
     ]
    },
    {
     "name": "stdin",
     "output_type": "stream",
     "text": [
      "Do you want to add another job? (y/n):  y\n"
     ]
    },
    {
     "name": "stdout",
     "output_type": "stream",
     "text": [
      "\n",
      "========================================\n",
      "NEW JOB ENTRY\n",
      "========================================\n"
     ]
    },
    {
     "name": "stdin",
     "output_type": "stream",
     "text": [
      "Enter job URL:  https://www.jobs.ac.uk/job/DNV065/research-assistant\n"
     ]
    },
    {
     "name": "stdout",
     "output_type": "stream",
     "text": [
      "\n",
      "============================================================\n",
      "JOB DATA ENTRY - JOBS.AC.UK\n",
      "============================================================\n",
      "URL: https://www.jobs.ac.uk/job/DNV065/research-assistant\n",
      "------------------------------------------------------------\n"
     ]
    },
    {
     "name": "stdin",
     "output_type": "stream",
     "text": [
      "Job Title:  Research Assistant\n",
      "Employer/University Name:  Durham University - Psychology\n",
      "Location:  Durham\n",
      "Posting Date (optional):  \n",
      "Closing Date (optional):  \n",
      "Salary Info (optional):  \n",
      "Contract Type (e.g., Permanent, Fixed-term) (optional):  \n"
     ]
    },
    {
     "name": "stdout",
     "output_type": "stream",
     "text": [
      "\n",
      "Job Description:\n",
      "(Paste the job description below. Press Enter twice when finished)\n",
      "----------------------------------------\n"
     ]
    },
    {
     "name": "stdin",
     "output_type": "stream",
     "text": [
      " Applications are invited for a fixed-term position in the Department of Psychology at Durham University. The successful candidate will join the research project 'Let's drink on it? The overlooked neuromotivational impact of positive affect on alcohol use and addiction' led by Dr Niklas Ihssen and Professor Milica Vasiljevic, which is funded by the Hetzler Foundation. The project aims to gather quantitative data about how momentary emotional states influence the decision to drink alcohol. The project will involve a large-scale experimental study conducted in the Department’s ‘ Bar Lab’ in which participants will be presented with a series of game-like tasks and offered the opportunity to consume alcohol. The successful candidate will work on all phases of the study, including study set-up and design, recruitment, data collection, data analysis and writing up the results for publication. The RA will also contribute to a potential pilot study testing a small sample of participants with an adapted version of the paradigm in an MRI scanner.  This post is fixed term for 28 hours (0.8 FTE) for 12 months. The funding is available from 01/10/25 for this fixed period only.  The post-holder is employed to work on a research project which will be led by Dr. Ihssen and Professor Vasiljevic. Whilst this means that the post-holder will not be carrying out independent research in their own right, the expectation is that they will contribute to the advancement of the project, through the development of their own research ideas/adaptation and development of research protocols.  Successful applicants will, ideally, be in post by 1st October 2025.  Contact Information  Department contact for academic-related enquiries  Dr. Niklas Ihssen (Associate Professor)  University contact for general queries about the recruitment process  If you have any general queries about the recruitment process, please contact the recruitment team on e.recruitment@durham.ac.uk.  When appointing to this role the University must ensure that it meets any applicable immigration requirements, including salary thresholds which are applicable to some visas.  Person Specification  Essential Criteria:  A good first degree in Psychology or Psychology related subjects. Experience in conducting basic laboratory research with human participants or providing assistance in such research, including the use of standard research methods and quantitative data analyses.. Demonstrable ability to produce concise and well-written reports for a range of stakeholders. Demonstrable ability to work cooperatively as part of a team, including participating in research meetings. Ability to manage time effectively and work to strict deadlines. Excellent interpersonal and communication skills. Desirable Criteria:  A Masters (or be close to completion) in Psychology or Psychology related subjects. Experience of conducting high quality academic research. Experience of preparing academic papers. Confidence in using statistical software (e.g. R, JASP, MAtlab) for advanced data analyses. Experience in programming. Experience in using MRI or brain imaging methods.\n",
      " \n",
      " \n"
     ]
    },
    {
     "name": "stdout",
     "output_type": "stream",
     "text": [
      "\n",
      "============================================================\n",
      "PROCESSING RESULTS\n",
      "============================================================\n",
      "Job Title: Research Assistant\n",
      "Employer: Durham University - Psychology\n",
      "Location: Durham\n",
      "Remote Option: On-site\n",
      "Job Level: Senior\n",
      "Industry/Sector: Higher Education\n",
      "Contract Type: Not specified\n",
      "Salary Info: Not specified\n",
      "Posting Date: Not specified\n",
      "Closing Date: Not specified\n",
      "Word Count: 462\n",
      "Masculine Score: 0.64%\n",
      "Feminine Score: 0.64%\n",
      "Neutral Score: 98.72%\n",
      "Gendered Words: M:decision; M:independent; F:team; F:team; M:manage; F:interpersonal\n",
      "Manual Review Flag: False\n",
      "\n",
      "Data saved to: C:\\Users\\HP\\OneDrive - University of Southampton\\Documents\\Dissertation Project - Marwa Ashfaq\\Codes\\jobs_ac_uk_data.xlsx\n",
      "Total jobs in file: 44\n",
      "\n",
      "✅ Job data saved successfully!\n",
      "\n",
      "----------------------------------------\n"
     ]
    },
    {
     "name": "stdin",
     "output_type": "stream",
     "text": [
      "Do you want to add another job? (y/n):  y\n"
     ]
    },
    {
     "name": "stdout",
     "output_type": "stream",
     "text": [
      "\n",
      "========================================\n",
      "NEW JOB ENTRY\n",
      "========================================\n"
     ]
    },
    {
     "name": "stdin",
     "output_type": "stream",
     "text": [
      "Enter job URL:  https://www.jobs.ac.uk/job/DNT767/research-fellow\n"
     ]
    },
    {
     "name": "stdout",
     "output_type": "stream",
     "text": [
      "\n",
      "============================================================\n",
      "JOB DATA ENTRY - JOBS.AC.UK\n",
      "============================================================\n",
      "URL: https://www.jobs.ac.uk/job/DNT767/research-fellow\n",
      "------------------------------------------------------------\n"
     ]
    },
    {
     "name": "stdin",
     "output_type": "stream",
     "text": [
      "Job Title:  Research Fellow\n",
      "Employer/University Name:  University of Southampton - Social Statistics & Demography\n",
      "Location:  Southampton\n",
      "Posting Date (optional):  \n",
      "Closing Date (optional):  \n",
      "Salary Info (optional):  \n",
      "Contract Type (e.g., Permanent, Fixed-term) (optional):  \n"
     ]
    },
    {
     "name": "stdout",
     "output_type": "stream",
     "text": [
      "\n",
      "Job Description:\n",
      "(Paste the job description below. Press Enter twice when finished)\n",
      "----------------------------------------\n"
     ]
    },
    {
     "name": "stdin",
     "output_type": "stream",
     "text": [
      " The Department of Social Statistics and Demography at the University of Southampton is looking to recruit a talented and ambitious quantitative Research Fellow/Senior Research Assistant to contribute to a world-leading project on Survey Data Collection Methodology Survey Futures https://surveyfutures.net/.   Survey Futures is a collaboration between nine universities and three survey organisations, in partnership with the National Centre for Research Methods (NCRM) and the Office for National Statistics (ONS). Its objective is to deliver a step-change in survey research to ensure that it will remain possible in the UK to carry out high-quality social surveys of the kinds required by the public and academic sectors. The Director of the collaboration is Professor Peter Lynn (ISER, University of Essex) and the Deputy Director is Dr Olga Maslovskaya (University of Southampton).  Survey Futures aims to assess the quality implications of the most important survey design choices relevant to future UK social surveys, to provide good practice guidance and practical training materials, and to identify promising ways to improve the capacity and skillset of both interviewers and research professionals.  The researcher will support the activities of a phase 2 research project, which is part of the research strand 1 “Enhanced sampling frames and procedures”: “Under-represented population sub-groups in social surveys: Methods for respondent-driven sampling with probability-based seeds” led by Dr Maslovskaya (University of Southampton).  Working under the direction of Dr Maslovskaya, you will be part of a large multi-institution team of survey data collection methods experts in the UK. You will analyse probability-based NatCen online panel data collected using the respondent-driven sampling (RDS) method.  You will have a postgraduate degree in a Quantitative Social Science or equivalent professional qualifications and experience and a good knowledge and understanding of Survey Methodology. You will also have excellent knowledge of advanced statistical methods and experience in analysing large-scale datasets, as well as solid practical experience in the use of STATA, R or a similar software package, and good written and oral communication skills.   The deadline for applications is the 20th July 2025. The position is tenable from the 1st of September 2025 or as soon as possible thereafter.  Informal inquiries are welcome and may be made to Dr Olga Maslovskaya via email: om206@soton.ac.uk.  Applications will be considered from candidates who are working towards or nearing completion of a relevant PhD qualification. The title of Research Fellow will be applied upon completion of PhD. Prior to the qualification being awarded the title of Senior Research Assistant will be given.  Closing Date: Sunday 20 July 2025 Interview Date: Monday 28 July 2025\n",
      " \n",
      " \n"
     ]
    },
    {
     "name": "stdout",
     "output_type": "stream",
     "text": [
      "\n",
      "============================================================\n",
      "PROCESSING RESULTS\n",
      "============================================================\n",
      "Job Title: Research Fellow\n",
      "Employer: University of Southampton - Social Statistics & Demography\n",
      "Location: Southampton\n",
      "Remote Option: On-site\n",
      "Job Level: Senior\n",
      "Industry/Sector: Higher Education\n",
      "Contract Type: Not specified\n",
      "Salary Info: Not specified\n",
      "Posting Date: Not specified\n",
      "Closing Date: Not specified\n",
      "Word Count: 428\n",
      "Masculine Score: 0.47%\n",
      "Feminine Score: 0.47%\n",
      "Neutral Score: 99.06%\n",
      "Gendered Words: M:ambitious; M:objective; F:support; F:team\n",
      "Manual Review Flag: False\n",
      "\n",
      "Data saved to: C:\\Users\\HP\\OneDrive - University of Southampton\\Documents\\Dissertation Project - Marwa Ashfaq\\Codes\\jobs_ac_uk_data.xlsx\n",
      "Total jobs in file: 45\n",
      "\n",
      "✅ Job data saved successfully!\n",
      "\n",
      "----------------------------------------\n"
     ]
    },
    {
     "name": "stdin",
     "output_type": "stream",
     "text": [
      "Do you want to add another job? (y/n):  y\n"
     ]
    },
    {
     "name": "stdout",
     "output_type": "stream",
     "text": [
      "\n",
      "========================================\n",
      "NEW JOB ENTRY\n",
      "========================================\n"
     ]
    },
    {
     "name": "stdin",
     "output_type": "stream",
     "text": [
      "Enter job URL:  https://www.jobs.ac.uk/job/DNW326/senior-research-fellow-research-fellow-in-statistics\n"
     ]
    },
    {
     "name": "stdout",
     "output_type": "stream",
     "text": [
      "\n",
      "============================================================\n",
      "JOB DATA ENTRY - JOBS.AC.UK\n",
      "============================================================\n",
      "URL: https://www.jobs.ac.uk/job/DNW326/senior-research-fellow-research-fellow-in-statistics\n",
      "------------------------------------------------------------\n"
     ]
    },
    {
     "name": "stdin",
     "output_type": "stream",
     "text": [
      "Job Title:  Senior Research Fellow/Research Fellow in Statistics\n",
      "Employer/University Name:  University of Leeds - Leeds Institute of Health Sciences\n",
      "Location:  Leeds\n",
      "Posting Date (optional):  \n",
      "Closing Date (optional):  \n",
      "Salary Info (optional):  \n",
      "Contract Type (e.g., Permanent, Fixed-term) (optional):  \n"
     ]
    },
    {
     "name": "stdout",
     "output_type": "stream",
     "text": [
      "\n",
      "Job Description:\n",
      "(Paste the job description below. Press Enter twice when finished)\n",
      "----------------------------------------\n"
     ]
    },
    {
     "name": "stdin",
     "output_type": "stream",
     "text": [
      " This role will be based at the Academic Unit for Ageing & Stroke Research (ASR) on the Bradford Teaching Hospitals site, with co-location at the Leeds Institute of Clinical Trials Research (LICTR) on the main University of Leeds campus, with scope for it to be undertaken in a hybrid manner. We are also open to discussing flexible working arrangements.  Are you an ambitious and talented statistician with expertise in individual participant data meta-analysis (IPDMA) of clinical trials and related methodological projects? Do you want to join a leading research centre to implement high quality health and social care research?  We are seeking to appoint a statistician to join our centres of excellence in the Academic Unit for Ageing & Stroke Research (ASR), part of Leeds Institute of Health Sciences, and in the Complex Interventions Division at Leeds Institute of Clinical Trials Research (LICTR).  This role is an exciting opportunity to take a role in the development, management and analysis of a new repository of Individual Participant Data (IPD) from ageing research trials. The work is an international partnership, funded through a prestigious National Institute for Health and Care Research (NIHR) Research Professorship award, overseen by the global Ageing Research Trialists (ART) collaborative, alongside a new UK Multiple Long-Term Conditions Collaborative (UK MTC) funded by NIHR.  What we offer in return  26 days holiday plus approx.16 Bank Holidays/days that the University is closed by custom (including Christmas) – That’s 42 days a year! Generous pension scheme plus life assurance– the University contributes 14.5% of salary Health and Wellbeing: Discounted staff membership options at The Edge, our state-of-the-art Campus gym, with a pool, sauna, climbing wall, cycle circuit, and sports halls. Personal Development: Access to courses run by our Organisational Development & Professional Learning team, and self-development courses including languages, Creative Writing, Wellbeing Therapies and much more. Access to on-site childcare, shopping discounts and travel schemes are also available. And much more!  Please note that this post may be suitable for sponsorship under the Skilled Worker visa route but first-time applicants might need to qualify for salary concessions. For more information, please visit the Government’s Skilled Worker visa page.  For research and academic posts, we will consider eligibility under the Global Talent visa. For more information, please visit the Government’s page, Apply for the Global Talent visa.  To explore the post further or for any queries you may have, please contact:  Andrew Clegg, Professor of Geriatric Medicine and Head of the Academic Unit for Ageing & Stroke Research.  Email: a.p.clegg@leeds.ac.uk  Or  Amanda Farrin, Professor of Clinical Trials and Evaluation of Complex Interventions and Director of the Complex Interventions Division, Leeds Institute of Clinical Trials Research  Email: a.j.farrin@leeds.ac.uk\n",
      " \n",
      " \n"
     ]
    },
    {
     "name": "stdout",
     "output_type": "stream",
     "text": [
      "\n",
      "============================================================\n",
      "PROCESSING RESULTS\n",
      "============================================================\n",
      "Job Title: Senior Research Fellow/Research Fellow in Statistics\n",
      "Employer: University of Leeds - Leeds Institute of Health Sciences\n",
      "Location: Leeds\n",
      "Remote Option: Hybrid\n",
      "Job Level: Senior\n",
      "Industry/Sector: Higher Education\n",
      "Contract Type: Not specified\n",
      "Salary Info: Not specified\n",
      "Posting Date: Not specified\n",
      "Closing Date: Not specified\n",
      "Word Count: 446\n",
      "Masculine Score: 0.65%\n",
      "Feminine Score: 1.09%\n",
      "Neutral Score: 98.26%\n",
      "Gendered Words: M:ambitious; M:individual; F:care; M:individual; F:care; F:collaborative; F:collaborative; F:team\n",
      "Manual Review Flag: False\n",
      "\n",
      "Data saved to: C:\\Users\\HP\\OneDrive - University of Southampton\\Documents\\Dissertation Project - Marwa Ashfaq\\Codes\\jobs_ac_uk_data.xlsx\n",
      "Total jobs in file: 46\n",
      "\n",
      "✅ Job data saved successfully!\n",
      "\n",
      "----------------------------------------\n"
     ]
    },
    {
     "name": "stdin",
     "output_type": "stream",
     "text": [
      "Do you want to add another job? (y/n):  y\n"
     ]
    },
    {
     "name": "stdout",
     "output_type": "stream",
     "text": [
      "\n",
      "========================================\n",
      "NEW JOB ENTRY\n",
      "========================================\n"
     ]
    },
    {
     "name": "stdin",
     "output_type": "stream",
     "text": [
      "Enter job URL:  https://www.jobs.ac.uk/job/DNP592/professor-in-statistics-chair-ac2503ls\n"
     ]
    },
    {
     "name": "stdout",
     "output_type": "stream",
     "text": [
      "\n",
      "============================================================\n",
      "JOB DATA ENTRY - JOBS.AC.UK\n",
      "============================================================\n",
      "URL: https://www.jobs.ac.uk/job/DNP592/professor-in-statistics-chair-ac2503ls\n",
      "------------------------------------------------------------\n"
     ]
    },
    {
     "name": "stdin",
     "output_type": "stream",
     "text": [
      "Job Title:  Professor in Statistics (Chair) - AC2503LS\n",
      "Employer/University Name:  University of St Andrews - School of Mathematics & Statistics\n",
      "Location:  St Andrews\n",
      "Posting Date (optional):  \n",
      "Closing Date (optional):  \n",
      "Salary Info (optional):  \n",
      "Contract Type (e.g., Permanent, Fixed-term) (optional):  \n"
     ]
    },
    {
     "name": "stdout",
     "output_type": "stream",
     "text": [
      "\n",
      "Job Description:\n",
      "(Paste the job description below. Press Enter twice when finished)\n",
      "----------------------------------------\n"
     ]
    },
    {
     "name": "stdin",
     "output_type": "stream",
     "text": [
      " The University of St Andrews is seeking to enhance its research strength in Statistics by appointing a new Chair in Statistical Ecology, in advance of the retiral of a current Chair. We would welcome applications from candidates whose research includes statistical ecology or statistical methods applied in ecology or environmental sciences. With machine learning set to be central to the future of statistical ecology, we also welcome applications from candidates whose research is focused on machine learning / AI in statistical ecology.  Our primary strength in statistics has been in statistical ecology, centred on the world-leading Centre for Research into Ecological and Environmental Modelling (CREEM). Most CREEM staff are statisticians in the School of Mathematics and Statistics, but there are also strong links with the Schools of Biology and Computer Science. The statistics group also has links with the School of Medicine, the School of Earth and Environmental Sciences, and the School of Geography and Sustainable Development. There are also opportunities for collaboration with Research Groups within pure and applied mathematics, including our Research Group in Mathematical Biology.  We have strong and growing Masters programmes in Statistics, with MSc programmes in Statistical Ecology, Statistics, Applied Statistics and Data Mining and Data-Intensive Analysis which is run jointly with the School of Computer Science. Mathematics run MScs in Mathematics and Mathematical Biology.  Employees of the University have access to a wide range of staff benefits including:  Annual leave of 34 days, plus 5 public holidays. Financial contribution to relocation. Membership of the USS Pension Scheme with generous employer contributions. A hybrid working environment, including partial homeworking where appropriate and a range of family friendly policies. Staff discount scheme for local and national goods and services. Free staff parking, employee Carshare and Cycle to Work Schemes and subsidised local bus travel. Subsidised sports membership, reduced tuition fees on degree programmes for staff, access to training and development opportunities including LinkedIn Learning, access to library facilities, salary sacrifice scheme. A range of wellbeing initiatives including membership of Peppy, a health application that connects staff to expert practitioners and personalized support on health matters. An appointment at Reader level will also be considered for an outstanding early-career candidate who could rapidly develop and grow their research portfolio and reputation in post, with the job description to be amended accordingly.  For informal enquiries, we encourage those considering applying to contact the Head of School, Dr Antonia Wilmot-Smith (mathshos@st-andrews.ac.uk), or the Co-Heads of Statistics, Professor Len Thomas (len.thomas@st-andrews.ac.uk) and Dr Chris Sutherland (css6@st-andrews.ac.uk).  Equality, diversity and inclusion are at the heart of the St Andrews experience and form a central pillar of the University Strategy. We strive to create a fair and inclusive culture demonstrated through our commitment to diversity awards (Athena Swan, Carer Positive, Race Charters). We celebrate diversity by promoting profiles of BAME, LGBTIQ+ Disabled and Neurodiverse staff and supporting networks including the Staff BAME Network; Staff with Disabilities or Neurodiversity Network; Staff LGBTIQ+ Network; and the Staff Parents & Carers Network. Full details available online: https://www.st-andrews.ac.uk/hr/edi/.  Closing Date: 21 July 2025   Interview Date: 27 August 2025  Please quote ref: AC2503LS  Further Particulars: AC2503FPs.pdf\n",
      " \n",
      " \n"
     ]
    },
    {
     "name": "stdout",
     "output_type": "stream",
     "text": [
      "\n",
      "============================================================\n",
      "PROCESSING RESULTS\n",
      "============================================================\n",
      "Job Title: Professor in Statistics (Chair) - AC2503LS\n",
      "Employer: University of St Andrews - School of Mathematics & Statistics\n",
      "Location: St Andrews\n",
      "Remote Option: Hybrid\n",
      "Job Level: Senior\n",
      "Industry/Sector: Higher Education\n",
      "Contract Type: Not specified\n",
      "Salary Info: Not specified\n",
      "Posting Date: Not specified\n",
      "Closing Date: Not specified\n",
      "Word Count: 524\n",
      "Masculine Score: 0.37%\n",
      "Feminine Score: 0.37%\n",
      "Neutral Score: 99.26%\n",
      "Gendered Words: M:strong; M:strong; F:support; F:inclusive\n",
      "Manual Review Flag: False\n",
      "\n",
      "Data saved to: C:\\Users\\HP\\OneDrive - University of Southampton\\Documents\\Dissertation Project - Marwa Ashfaq\\Codes\\jobs_ac_uk_data.xlsx\n",
      "Total jobs in file: 47\n",
      "\n",
      "✅ Job data saved successfully!\n",
      "\n",
      "----------------------------------------\n"
     ]
    },
    {
     "name": "stdin",
     "output_type": "stream",
     "text": [
      "Do you want to add another job? (y/n):  y\n"
     ]
    },
    {
     "name": "stdout",
     "output_type": "stream",
     "text": [
      "\n",
      "========================================\n",
      "NEW JOB ENTRY\n",
      "========================================\n"
     ]
    },
    {
     "name": "stdin",
     "output_type": "stream",
     "text": [
      "Enter job URL:  https://www.jobs.ac.uk/job/DNW867/phd-departmental-studentships-x3\n"
     ]
    },
    {
     "name": "stdout",
     "output_type": "stream",
     "text": [
      "\n",
      "============================================================\n",
      "JOB DATA ENTRY - JOBS.AC.UK\n",
      "============================================================\n",
      "URL: https://www.jobs.ac.uk/job/DNW867/phd-departmental-studentships-x3\n",
      "------------------------------------------------------------\n"
     ]
    },
    {
     "name": "stdin",
     "output_type": "stream",
     "text": [
      "Job Title:  Phd Departmental Studentships (x3)\n",
      "Employer/University Name:  UCL - Statistical Science Department\n",
      "Location:  London\n",
      "Posting Date (optional):  \n",
      "Closing Date (optional):  \n",
      "Salary Info (optional):  \n",
      "Contract Type (e.g., Permanent, Fixed-term) (optional):  \n"
     ]
    },
    {
     "name": "stdout",
     "output_type": "stream",
     "text": [
      "\n",
      "Job Description:\n",
      "(Paste the job description below. Press Enter twice when finished)\n",
      "----------------------------------------\n"
     ]
    },
    {
     "name": "stdin",
     "output_type": "stream",
     "text": [
      " Applications are invited for three (3) PhD Studentships, based at the Department of Statistical Science, UCL. The positions can involve any topic within the Statistical Science remit. The positions are open to both Home and Overseas applicants. Successful applicants are expected to start their PhD studies in October 2025, however we will also consider applications where the PhD studies can begin in February 2026 which is the second possible starting date for a PhD through the year according to UCL rules.  The Department is among the three largest Statistics groups in the UK with more than 30 academic members of staff. Research in the Department is organised into six themes: Causality; Computational Statistics and Machine Learning; Economics, Finance and Business; Environmental Statistics; Probability; Statistics in Biomedicine and Health Economics. Research often cuts across these areas. Much of the research is interdisciplinary and involves collaborations within and outside UCL.  Each of the Departmental Studentships will be 3.5 years in duration (or 6 years for part-time students) and will cover the full tuition fees, an annual maintenance stipend (this was £22,237 for 2024/25, with some rise expected to be applied for 2025/26 and for each of the subsequent years during the PhD) and an allowance for research training.  Full-time students will spend 6 months of their time for teaching (spread across the 3.5 years) and devote the remainder of their time to undertaking their research.  Person Specification  The requirement for admission to the MPhil/PhD in Statistical Science is a 1st class or high upper 2nd class Bachelor’s degree, or a Master’s degree with merit or distinction, in Mathematics, Statistics, Computer Science, or a related quantitative discipline. International qualifications of an equivalent standard are also acceptable. Further details can be found on the Departmental website.  The requirements for applying for the studentships are detailed in the Departmental Studentship person specification.  How to Apply  Candidates will need to identify and be in contact with a prospective supervisor in the department in advance of submitting an application.  Step 1: All candidates should first apply for admission to a MPhil/PhD in Statistical Science by visiting the relevant UCL website.  Step 2: The following two documents should then be sent to stats.pgr-admissions@ucl.ac.uk, after changed into a PDF format:  Funding application form (link to Word document to be completed by the candidate. Supervisor reference form (link to Word document to be completed and sent by the prospective supervisor) Step 3: For an application to be completed, candidates should also fill in the following online form:  Diversity data form (link to Microsoft Form to be completed by the candidate)  Applications must be submitted by the deadline of 31st July 2025.\n",
      " \n",
      " \n"
     ]
    },
    {
     "name": "stdout",
     "output_type": "stream",
     "text": [
      "\n",
      "============================================================\n",
      "PROCESSING RESULTS\n",
      "============================================================\n",
      "Job Title: Phd Departmental Studentships (x3)\n",
      "Employer: UCL - Statistical Science Department\n",
      "Location: London\n",
      "Remote Option: On-site\n",
      "Job Level: Junior\n",
      "Industry/Sector: Higher Education\n",
      "Contract Type: Not specified\n",
      "Salary Info: Not specified\n",
      "Posting Date: Not specified\n",
      "Closing Date: Not specified\n",
      "Word Count: 448\n",
      "Masculine Score: 0.0%\n",
      "Feminine Score: 0.0%\n",
      "Neutral Score: 100.0%\n",
      "Manual Review Flag: False\n",
      "\n",
      "Data saved to: C:\\Users\\HP\\OneDrive - University of Southampton\\Documents\\Dissertation Project - Marwa Ashfaq\\Codes\\jobs_ac_uk_data.xlsx\n",
      "Total jobs in file: 48\n",
      "\n",
      "✅ Job data saved successfully!\n",
      "\n",
      "----------------------------------------\n"
     ]
    },
    {
     "name": "stdin",
     "output_type": "stream",
     "text": [
      "Do you want to add another job? (y/n):  y\n"
     ]
    },
    {
     "name": "stdout",
     "output_type": "stream",
     "text": [
      "\n",
      "========================================\n",
      "NEW JOB ENTRY\n",
      "========================================\n"
     ]
    },
    {
     "name": "stdin",
     "output_type": "stream",
     "text": [
      "Enter job URL:  https://www.jobs.ac.uk/job/DNV413/research-analyst-uod1953\n"
     ]
    },
    {
     "name": "stdout",
     "output_type": "stream",
     "text": [
      "\n",
      "============================================================\n",
      "JOB DATA ENTRY - JOBS.AC.UK\n",
      "============================================================\n",
      "URL: https://www.jobs.ac.uk/job/DNV413/research-analyst-uod1953\n",
      "------------------------------------------------------------\n"
     ]
    },
    {
     "name": "stdin",
     "output_type": "stream",
     "text": [
      "Job Title:  Research Analyst - UOD1953\n",
      "Employer/University Name:  University of Dundee – Undergraduate Medicine\n",
      "Location:  Dundee\n",
      "Posting Date (optional):  \n",
      "Closing Date (optional):  \n",
      "Salary Info (optional):  \n",
      "Contract Type (e.g., Permanent, Fixed-term) (optional):  \n"
     ]
    },
    {
     "name": "stdout",
     "output_type": "stream",
     "text": [
      "\n",
      "Job Description:\n",
      "(Paste the job description below. Press Enter twice when finished)\n",
      "----------------------------------------\n"
     ]
    },
    {
     "name": "stdin",
     "output_type": "stream",
     "text": [
      " We are recruiting for an exceptional individual to join us as a Research Analyst within the School of Medicine, to support a Scottish Medical Education Research Consortium (SMERC) funded research project that aims to understand the origins of the Scottish GP workforce, especially in hard to recruit areas.  The research will use a quantitative approach and the UK Medical Education Database (UKMED). a repository which collates data about UK doctors' education pathways. As such, it is an exciting opportunity to work on research designed to fill a knowledge gap in the evidence-base currently underpinning Scottish educational and workforce policy.  This post is a valuable opportunity for a postdoctoral researcher to take a lead role working with longitudinal datasets in a safe-haven environment, and in preparing findings for publication. It will give you the opportunity to expand your skills and exercise your independent working, with the support and supervision of other researchers experienced with this type of analysis and data.  The research is a collaboration between researchers at the University of Dundee and the University of Glasgow. You will be joining a team with substantial expertise in the field, who meet regularly, and who prioritise a supportive work environment.  The University of Dundee enjoys an international reputation for excellence that attracts top-class students and academics from across the world - with over 140 countries represented in the University community. You will be based at Ninewells Hospital and Medical School, one of Europe's largest teaching hospitals where the School of Medicine provides outstanding opportunities in medical education and training supported by world class research facilities.  We are advertising this position at full-time working for approximately 3 months duration, however other arrangements for part time working will be considered. This post is for a fixed term as it is dependent on external funding. As such, the need for the post will cease to exist when funding runs out.  We utilise a flexible working policy and the post holder will be eligible for homeworking on a regular basis by mutual agreement.  Your priorities will include:  Preparing the datasets and undertaking the statistical analysis of the data. This will include interpreting data sets and, where appropriate, coding and formatting this material. Reporting the research findings in project reports, summary documents and project outputs, including academic journal publications. Leading the day-to-day running of the project, including the organisation of research team meetings. Clearly communicating with research team members and our partners at UKMED. Maintaining and expanding your knowledge and skills via scholarly activity, CPD and mandatory training. Who we're looking for:  A PhD (or comparable level of experience) in a subject that required statistical analysis. Recent experience of quantitative research methodologies and of research in a relevant subject area. Evidence of the management of research project(s), including the management of quantitative data Requisite skills to effectively undertake the statistical analysis, including proficient use of the statistical package SPSS The calibre of research at Dundee is high, with 95 per cent of staff working in areas of national or international excellence. Dundee benefits from a developed network of inter-disciplinary researchers collaborating across various Schools across our community.  For further information about this position please contact Dr Ben Kumwenda at b.kumwenda@dundee.ac.uk.  To find out more about the School of Medicine please visit www.dundee.ac.uk/medicine  The diversity of our staff and students helps to make the University of Dundee a UK university of choice for undergraduate, postgraduate and distance learning. Family friendly policies, staff support networks for BME and LGBT staff, membership of Athena Swan and Stonewall as well a full range of disability services, create an enjoyable and inclusive place to work.\n",
      " \n",
      " \n"
     ]
    },
    {
     "name": "stdout",
     "output_type": "stream",
     "text": [
      "\n",
      "============================================================\n",
      "PROCESSING RESULTS\n",
      "============================================================\n",
      "Job Title: Research Analyst - UOD1953\n",
      "Employer: University of Dundee – Undergraduate Medicine\n",
      "Location: Dundee\n",
      "Remote Option: Hybrid\n",
      "Job Level: Senior\n",
      "Industry/Sector: Higher Education\n",
      "Contract Type: Not specified\n",
      "Salary Info: Not specified\n",
      "Posting Date: Not specified\n",
      "Closing Date: Not specified\n",
      "Word Count: 607\n",
      "Masculine Score: 0.49%\n",
      "Feminine Score: 1.78%\n",
      "Neutral Score: 97.73%\n",
      "Gendered Words: M:individual; F:support; F:understand; M:lead; M:independent; F:support; F:team; F:supportive; F:community; F:team; F:team; F:community; F:support; F:inclusive\n",
      "Manual Review Flag: False\n",
      "\n",
      "Data saved to: C:\\Users\\HP\\OneDrive - University of Southampton\\Documents\\Dissertation Project - Marwa Ashfaq\\Codes\\jobs_ac_uk_data.xlsx\n",
      "Total jobs in file: 49\n",
      "\n",
      "✅ Job data saved successfully!\n",
      "\n",
      "----------------------------------------\n"
     ]
    },
    {
     "name": "stdin",
     "output_type": "stream",
     "text": [
      "Do you want to add another job? (y/n):  y\n"
     ]
    },
    {
     "name": "stdout",
     "output_type": "stream",
     "text": [
      "\n",
      "========================================\n",
      "NEW JOB ENTRY\n",
      "========================================\n"
     ]
    },
    {
     "name": "stdin",
     "output_type": "stream",
     "text": [
      "Enter job URL:  https://www.jobs.ac.uk/job/DNN363/lecturer-in-mathematics\n"
     ]
    },
    {
     "name": "stdout",
     "output_type": "stream",
     "text": [
      "\n",
      "============================================================\n",
      "JOB DATA ENTRY - JOBS.AC.UK\n",
      "============================================================\n",
      "URL: https://www.jobs.ac.uk/job/DNN363/lecturer-in-mathematics\n",
      "------------------------------------------------------------\n"
     ]
    },
    {
     "name": "stdin",
     "output_type": "stream",
     "text": [
      "Job Title:  Lecturer in Mathematics\n",
      "Employer/University Name:  Queen's University Belfast - School of Mathematics and Physics\n",
      "Location:  Belfast\n",
      "Posting Date (optional):  \n",
      "Closing Date (optional):  \n",
      "Salary Info (optional):  \n",
      "Contract Type (e.g., Permanent, Fixed-term) (optional):  \n"
     ]
    },
    {
     "name": "stdout",
     "output_type": "stream",
     "text": [
      "\n",
      "Job Description:\n",
      "(Paste the job description below. Press Enter twice when finished)\n",
      "----------------------------------------\n"
     ]
    },
    {
     "name": "stdin",
     "output_type": "stream",
     "text": [
      " The School of Mathematics and Physics, at Queen’s University Belfast, seeks to employ a new lecturer to augment teaching in mathematics, with specific initial educational responsibilities involving machine learning and artificial intelligence.  The successful candidate will support teaching on a new postgraduate MSc in Data Science with Machine Learning and AI, as well as more general teaching activities in mathematics within the School.  In addition the Lecturer will be expected to develop an ambitious, high-quality internationally competitive research profile and to undertake a reasonable level of administration and outreach activity. The area of research endeavour is not prescribed but it should align with, or complement, ongoing activities in the School and should be such that teaching in machine learning and artificial intelligence is genuinely research-informed.  About the person:  The successful applicant must demonstrate the following:  Hold or be about to obtain a PhD in Mathematics, Physics, Statistics, Data Science or a closely related discipline. Have a strong record of publications in high quality peer reviewed journals, REF returnable, commensurate with carer stage. Demonstrable evidence of independent contributions in research projects and in the generation of outputs, commensurate with career stage. Demonstrable evidence of significant expertise in machine learning / AI within research portfolio. Evidence of the potential to establish independent sustainable research programmes. Have evidence of delivering high quality lecturing, project supervision or assessment activities at undergraduate or postgraduate level, commensurate with career stage in one or more of the following curriculum areas: Mathematics Data Science Machine Learning Statistics Ability to communicate complex information effectively to a variety of audiences. Ability to communicate effectively in English, both orally and in writing. A commitment to creating an inclusive and supportive academic environment, enhancing equality, diversity and supporting early career academics. To be successful at shortlisting stage, please ensure you clearly evidence in your application how you meet the essential and, where applicable, desirable criteria listed in the Candidate Information on our website.  What we offer:  Beyond a competitive salary, the University offers an attractive benefits package including a holiday entitlement of up to 8.4 weeks a year, pension schemes and development opportunities. We support staff wellbeing with flexible working options, work-life balance initiatives and support for physical and mental health. You can find more detail on all of this and more on our website.  Queen's University is committed to promoting equality of opportunity to all. We subscribe to Equality Charter Marks such as the Diversity Charter Mark NI and Athena Swan and have established staff networks such as iRise (Black, Asian, Minority Ethnic and International Staff Network) and PRISM (LGBTQ+) which help us progress equality.  For further information on our commitment to Equality, Diversity and Inclusion, please visit our website.  If you are an international applicant and don't already hold a visa that permits you to take up the role you are applying for, please use the information provided on our website to self-assess whether the University is likely to be able to support a visa application.\n",
      " \n",
      " \n"
     ]
    },
    {
     "name": "stdout",
     "output_type": "stream",
     "text": [
      "\n",
      "============================================================\n",
      "PROCESSING RESULTS\n",
      "============================================================\n",
      "Job Title: Lecturer in Mathematics\n",
      "Employer: Queen's University Belfast - School of Mathematics and Physics\n",
      "Location: Belfast\n",
      "Remote Option: Hybrid\n",
      "Job Level: Junior\n",
      "Industry/Sector: Higher Education\n",
      "Contract Type: Not specified\n",
      "Salary Info: Not specified\n",
      "Posting Date: Not specified\n",
      "Closing Date: Not specified\n",
      "Word Count: 499\n",
      "Masculine Score: 1.2%\n",
      "Feminine Score: 2.0%\n",
      "Neutral Score: 96.8%\n",
      "Gendered Words: F:support; M:ambitious; M:competitive; M:strong; M:independent; M:independent; F:communicate; F:communicate; F:inclusive; F:supportive; M:competitive; F:support; F:support; F:committed; F:help; F:support\n",
      "Manual Review Flag: False\n",
      "\n",
      "Data saved to: C:\\Users\\HP\\OneDrive - University of Southampton\\Documents\\Dissertation Project - Marwa Ashfaq\\Codes\\jobs_ac_uk_data.xlsx\n",
      "Total jobs in file: 50\n",
      "\n",
      "✅ Job data saved successfully!\n",
      "\n",
      "----------------------------------------\n"
     ]
    },
    {
     "name": "stdin",
     "output_type": "stream",
     "text": [
      "Do you want to add another job? (y/n):  y\n"
     ]
    },
    {
     "name": "stdout",
     "output_type": "stream",
     "text": [
      "\n",
      "========================================\n",
      "NEW JOB ENTRY\n",
      "========================================\n"
     ]
    },
    {
     "name": "stdin",
     "output_type": "stream",
     "text": [
      "Enter job URL:  https://www.jobs.ac.uk/job/DNY321/stipendiary-lecturership-in-mathematics\n"
     ]
    },
    {
     "name": "stdout",
     "output_type": "stream",
     "text": [
      "\n",
      "============================================================\n",
      "JOB DATA ENTRY - JOBS.AC.UK\n",
      "============================================================\n",
      "URL: https://www.jobs.ac.uk/job/DNY321/stipendiary-lecturership-in-mathematics\n",
      "------------------------------------------------------------\n"
     ]
    },
    {
     "name": "stdin",
     "output_type": "stream",
     "text": [
      "Job Title:  Stipendiary Lecturership in Mathematics\n",
      "Employer/University Name:  University of Oxford - Exeter College\n",
      "Location:  Oxford\n",
      "Posting Date (optional):  \n",
      "Closing Date (optional):  \n",
      "Salary Info (optional):  \n",
      "Contract Type (e.g., Permanent, Fixed-term) (optional):  \n"
     ]
    },
    {
     "name": "stdout",
     "output_type": "stream",
     "text": [
      "\n",
      "Job Description:\n",
      "(Paste the job description below. Press Enter twice when finished)\n",
      "----------------------------------------\n"
     ]
    },
    {
     "name": "stdin",
     "output_type": "stream",
     "text": [
      " Fixed-term contract   Exeter College is seeking to appoint a Stipendiary Lecturer in Mathematics. This is a fixed-term role, tenable from 1 October 2025 until 30 September 2026.  The Lecturer will be required to undertake 72 ‘weighted’ hours per annum of tutorial or class teaching of undergraduates of the College (or, by exchange, undergraduates of other Colleges). In addition, they will be required to set and mark College examinations, to participate as required in the undergraduate Admissions process and Access/ Outreach activities, and to participate fully in the running of Mathematics within the College.  The postholder will give tutorials and revision classes on the following topics:  Prelims Probability and Introductory Calculus from paper M3 Prelims Fourier Series and PDEs from paper M5 and one of the following Part A courses, A8 Probability, A9 Statistics, and A10 Fluids and Waves. The choice of Part A topic depends on student enrolment and will be determined by the senior mathematics tutor. Revision of the above courses and either Part A Sort Option Math Modelling Bio or Graph Theory. The choice of Part A topic depends on student enrolment and will be determined by the senior mathematics tutor. The salary for this appointment will be within a range £8,284 - £9,154 per annum. In addition, a range of other generous benefits are available, as set out in the Further Particulars.  Further Particulars for the role may be obtained from the Exeter College website, please click the 'Apply' button above.   How to Apply  Candidates are encouraged to submit all application materials by email to the HR Manager, at vacancies@exeter.ox.ac.uk. If possible, applications should be submitted as a single PDF file.  The closing date for applications is 12pm noon (BST) on Monday 1 September 2025.  Interviews will take place in Oxford on the morning of Thursday 18 September 2025.  Exeter College is an equal opportunities employer and values diversity.\n",
      " \n",
      " \n"
     ]
    },
    {
     "name": "stdout",
     "output_type": "stream",
     "text": [
      "\n",
      "============================================================\n",
      "PROCESSING RESULTS\n",
      "============================================================\n",
      "Job Title: Stipendiary Lecturership in Mathematics\n",
      "Employer: University of Oxford - Exeter College\n",
      "Location: Oxford\n",
      "Remote Option: On-site\n",
      "Job Level: Senior\n",
      "Industry/Sector: Higher Education\n",
      "Contract Type: Not specified\n",
      "Salary Info: Not specified\n",
      "Posting Date: Not specified\n",
      "Closing Date: Not specified\n",
      "Word Count: 313\n",
      "Masculine Score: 0.67%\n",
      "Feminine Score: 0.0%\n",
      "Neutral Score: 99.33%\n",
      "Gendered Words: M:determined; M:determined\n",
      "Manual Review Flag: False\n",
      "\n",
      "Data saved to: C:\\Users\\HP\\OneDrive - University of Southampton\\Documents\\Dissertation Project - Marwa Ashfaq\\Codes\\jobs_ac_uk_data.xlsx\n",
      "Total jobs in file: 51\n",
      "\n",
      "✅ Job data saved successfully!\n",
      "\n",
      "----------------------------------------\n"
     ]
    },
    {
     "name": "stdin",
     "output_type": "stream",
     "text": [
      "Do you want to add another job? (y/n):  y\n"
     ]
    },
    {
     "name": "stdout",
     "output_type": "stream",
     "text": [
      "\n",
      "========================================\n",
      "NEW JOB ENTRY\n",
      "========================================\n"
     ]
    },
    {
     "name": "stdin",
     "output_type": "stream",
     "text": [
      "Enter job URL:  https://www.jobs.ac.uk/job/DNS485/research-scientist-generative-ai-ktp-associate\n"
     ]
    },
    {
     "name": "stdout",
     "output_type": "stream",
     "text": [
      "\n",
      "============================================================\n",
      "JOB DATA ENTRY - JOBS.AC.UK\n",
      "============================================================\n",
      "URL: https://www.jobs.ac.uk/job/DNS485/research-scientist-generative-ai-ktp-associate\n",
      "------------------------------------------------------------\n"
     ]
    },
    {
     "name": "stdin",
     "output_type": "stream",
     "text": [
      "Job Title:  Research Scientist (Generative AI) - KTP Associate\n",
      "Employer/University Name:  University of the West of Scotland – University of the West of Scotland in Partnership with Lochlie Construction Group\n",
      "Location:  Glasgow\n",
      "Posting Date (optional):  \n",
      "Closing Date (optional):  \n",
      "Salary Info (optional):  \n",
      "Contract Type (e.g., Permanent, Fixed-term) (optional):  \n"
     ]
    },
    {
     "name": "stdout",
     "output_type": "stream",
     "text": [
      "\n",
      "Job Description:\n",
      "(Paste the job description below. Press Enter twice when finished)\n",
      "----------------------------------------\n"
     ]
    },
    {
     "name": "stdin",
     "output_type": "stream",
     "text": [
      " University of the West of Scotland (UWS) and Lochlie Construction Group are offering an exciting opportunity to a postgraduate in Computer Science/Software Engineering/Information Technology or with a relevant degree involving a significant amount of software development to support Lochlie Construction Group. You will assist in the transforming of Lochlie Construction Group’s operations through advanced digital technologies. The project will leverage native machine learning, natural language processing, cloud-native applications, and deep learning to develop and deploy a scalable, cost-effective large language model (LLM). This AI-driven solution aims to enhance business productivity, improve competitiveness, and support long-term sustainable growth. By integrating Agentic AI technologies for workflow automation, the initiative will drive innovation, increase operational efficiency, and position Lochlie as a frontrunner in digitally enabled construction solutions.  You should possess excellent communication and interpersonal skills, as well as the ability to work independently and as part of a high-performance team, collaborating with colleagues and sharing expertise. You will be able to demonstrate a proven interest in machine learning and NLP along with a sound knowledge of the C/C++/Python programming language.  The successful candidate will be offered the opportunity to register free of charge for a Higher Degree (Masters or Ph.D.), receive training in Chartered Management Institute (level 5), work with senior company management to realise benefits to the business and apply their degree and lead their own project in a business environment.  Lochlie Construction Group was founded in 2014 and delivers a fully integrated construction and project management service. From groundworks to electrics, Lochlie offers a complete solution - building homes from the ground up while also advising on and installing renewable technologies such as solar PV, air source heat pumps, and EV charging points. Offering construction and refurbishment services for both private domestic and commercial clients, as well as ongoing maintenance across the public and private sectors. Their in-house team also develops tailored, data-driven renewable energy solutions for commercial projects.  In addition, Lochlie offers steel building solutions to the commercial market, working in partnership with the UK’s leading suppliers of steel and cladding systems. Find out more by visiting: www.lochlie.co.uk  Given the strategic important of the project, Lochlie Construction Group’s management have indicated their intention to retain the associate post-KTP subject to performance.  About KTP:  This position forms part of the Knowledge Transfer Partnership (KTP) funded by Innovate UK. It’s essential you understand how KTP works with business and the University, and the vital role you will play if you successfully secure a KTP Associate position. Please visit: www.uws.ac.uk/business/knowledge-expertise/knowledge-transfer-partnerships or contact Stuart McKay (stuart.mckay@uws.ac.uk)  If you have questions about this vacancy contact:  T: Prof Naeem Ramzan, 0141 848 3648 or Douglas Aitken  E: naeem.ramzan@uws.ac.uk or Douglas.Aitken@lochlie.co.uk  Interviews: Week commencing 28th July 2025  Please note that the appointment will be made on the first point of the salary scale (unless by exception, where evidence would need to be provided)  The University reserves the right to shorten/extend the closing date of any position where a high/low volume of suitable applications are received. Therefore, if you are interested in this role, an early application would be encouraged.  You can find out more about how the University uses your personal data as part of the recruitment process by looking at the UWS HR Applicant Privacy Notice at www.uws.ac.uk  UWS are committed signatories to the Armed Forces Covenant.  UWS is committed to equality and diversity and welcomes applications from underrepresented groups.  UWS is a “Disability Confident” employer.  University of the West of Scotland is a registered Scottish charity, no. SC002520.\n",
      " \n",
      " \n"
     ]
    },
    {
     "name": "stdout",
     "output_type": "stream",
     "text": [
      "\n",
      "============================================================\n",
      "PROCESSING RESULTS\n",
      "============================================================\n",
      "Job Title: Research Scientist (Generative AI) - KTP Associate\n",
      "Employer: University of the West of Scotland – University of the West of Scotland in Partnership with Lochlie Construction Group\n",
      "Location: Glasgow\n",
      "Remote Option: On-site\n",
      "Job Level: Senior\n",
      "Industry/Sector: Higher Education\n",
      "Contract Type: Not specified\n",
      "Salary Info: Not specified\n",
      "Posting Date: Not specified\n",
      "Closing Date: Not specified\n",
      "Word Count: 599\n",
      "Masculine Score: 0.48%\n",
      "Feminine Score: 1.45%\n",
      "Neutral Score: 98.07%\n",
      "Gendered Words: F:support; F:assist; F:support; M:drive; F:interpersonal; F:team; M:lead; F:team; F:understand; F:committed; F:committed; M:confident\n",
      "Manual Review Flag: False\n",
      "\n",
      "Data saved to: C:\\Users\\HP\\OneDrive - University of Southampton\\Documents\\Dissertation Project - Marwa Ashfaq\\Codes\\jobs_ac_uk_data.xlsx\n",
      "Total jobs in file: 52\n",
      "\n",
      "✅ Job data saved successfully!\n",
      "\n",
      "----------------------------------------\n"
     ]
    },
    {
     "name": "stdin",
     "output_type": "stream",
     "text": [
      "Do you want to add another job? (y/n):  y\n"
     ]
    },
    {
     "name": "stdout",
     "output_type": "stream",
     "text": [
      "\n",
      "========================================\n",
      "NEW JOB ENTRY\n",
      "========================================\n"
     ]
    },
    {
     "name": "stdin",
     "output_type": "stream",
     "text": [
      "Enter job URL:  https://www.jobs.ac.uk/job/DNY219/medical-statistician\n"
     ]
    },
    {
     "name": "stdout",
     "output_type": "stream",
     "text": [
      "\n",
      "============================================================\n",
      "JOB DATA ENTRY - JOBS.AC.UK\n",
      "============================================================\n",
      "URL: https://www.jobs.ac.uk/job/DNY219/medical-statistician\n",
      "------------------------------------------------------------\n"
     ]
    },
    {
     "name": "stdin",
     "output_type": "stream",
     "text": [
      "Job Title:  Medical Statistician\n",
      "Employer/University Name:  University of Leicester - Clinical Trials Unit\n",
      "Location:  Leicester, Hybrid/On-site\n",
      "Posting Date (optional):  \n",
      "Closing Date (optional):  \n",
      "Salary Info (optional):  \n",
      "Contract Type (e.g., Permanent, Fixed-term) (optional):  \n"
     ]
    },
    {
     "name": "stdout",
     "output_type": "stream",
     "text": [
      "\n",
      "Job Description:\n",
      "(Paste the job description below. Press Enter twice when finished)\n",
      "----------------------------------------\n"
     ]
    },
    {
     "name": "stdin",
     "output_type": "stream",
     "text": [
      " We have an exciting opportunity for an enthusiastic and motivated medical statistician to join our experienced team at the Leicester Clinical trial Unit on a 12 month contract. We are a well stablished unit with a broad portfolio of clinical trials.  About the role  This is an exciting opportunity to work with the Leicester Clinical Trials Unit (LCTU).  Established in 2009 and fully registered as a UKCRC unit, LCTU has a portfolio of clinical trials in a wide range of clinical areas, including cardiovascular, respiratory, cancer and mental health.  The LCTU is a busy, effective, multidisciplinary team that includes clinicians, statisticians, trial managers, quality officers, database developers, programmers and administrators. The LCTU has a dedicated office space located on main campus and operates an agile working environment; team members have flexibility to split their time between campus and remote working, according to business need. Medical Statisticians play a key role in the delivery of all aspects of conduct, analysis, reporting and interpretation of clinical research within the LCTU portfolio. You will work closely with Chief Investigators, colleagues within the LCTU team and other external collaborators to provide expert statistical input to the development of high quality clinical trials and delivery of high impact clinical trial output.   Leicester is a leading University committed to international excellence, world-changing research and high quality, inspirational teaching. We are strongly committed to inclusivity, promoting equality and celebrating diversity among our staff and students. Our strength is built on the talent of our scholars, drawn to us by a mutual passion for discovery.  About you  You will be about to qualify with or be working as a medical statistician having recently achieved a postgraduate qualification in medical statistics. You will be able to demonstrate you are an expert in a range of quantitative research methods and statistical analysis software packages having applied your knowledge to real world clinical questions.  You require outstanding written and verbal communication and problem solving skills in order to communicate complex issues to non-specialists. Candidates will need to have attention to detail, good time management skills and an ability to work across multiple simultaneous projects.\n",
      " \n",
      " \n"
     ]
    },
    {
     "name": "stdout",
     "output_type": "stream",
     "text": [
      "\n",
      "============================================================\n",
      "PROCESSING RESULTS\n",
      "============================================================\n",
      "Job Title: Medical Statistician\n",
      "Employer: University of Leicester - Clinical Trials Unit\n",
      "Location: Leicester, Hybrid/On-site\n",
      "Remote Option: Remote\n",
      "Job Level: Senior\n",
      "Industry/Sector: Higher Education\n",
      "Contract Type: Not specified\n",
      "Salary Info: Not specified\n",
      "Posting Date: Not specified\n",
      "Closing Date: Not specified\n",
      "Word Count: 353\n",
      "Masculine Score: 0.0%\n",
      "Feminine Score: 2.27%\n",
      "Neutral Score: 97.73%\n",
      "Gendered Words: F:team; F:team; F:dedicated; F:team; F:team; F:committed; F:committed; F:communicate\n",
      "Manual Review Flag: False\n",
      "\n",
      "Data saved to: C:\\Users\\HP\\OneDrive - University of Southampton\\Documents\\Dissertation Project - Marwa Ashfaq\\Codes\\jobs_ac_uk_data.xlsx\n",
      "Total jobs in file: 53\n",
      "\n",
      "✅ Job data saved successfully!\n",
      "\n",
      "----------------------------------------\n"
     ]
    },
    {
     "name": "stdin",
     "output_type": "stream",
     "text": [
      "Do you want to add another job? (y/n):  y\n"
     ]
    },
    {
     "name": "stdout",
     "output_type": "stream",
     "text": [
      "\n",
      "========================================\n",
      "NEW JOB ENTRY\n",
      "========================================\n"
     ]
    },
    {
     "name": "stdin",
     "output_type": "stream",
     "text": [
      "Enter job URL:  https://www.jobs.ac.uk/job/DNV285/postdoctoral-research-scientist\n"
     ]
    },
    {
     "name": "stdout",
     "output_type": "stream",
     "text": [
      "\n",
      "============================================================\n",
      "JOB DATA ENTRY - JOBS.AC.UK\n",
      "============================================================\n",
      "URL: https://www.jobs.ac.uk/job/DNV285/postdoctoral-research-scientist\n",
      "------------------------------------------------------------\n"
     ]
    },
    {
     "name": "stdin",
     "output_type": "stream",
     "text": [
      "Job Title:  Postdoctoral Research Scientist\n",
      "Employer/University Name:  University of Oxford - Pandemic Sciences Institute\n",
      "Location:  Oxford\n",
      "Posting Date (optional):  \n",
      "Closing Date (optional):  \n",
      "Salary Info (optional):  \n",
      "Contract Type (e.g., Permanent, Fixed-term) (optional):  \n"
     ]
    },
    {
     "name": "stdout",
     "output_type": "stream",
     "text": [
      "\n",
      "Job Description:\n",
      "(Paste the job description below. Press Enter twice when finished)\n",
      "----------------------------------------\n"
     ]
    },
    {
     "name": "stdin",
     "output_type": "stream",
     "text": [
      " We have a new and exciting opportunity for a Postdoctoral Research Scientist to join the Pandemic Science Institute’s (PSI) growing efforts in computational vaccinology and vaccine trial design. You will analyse immunological data from the ChAdOx1 NipahB vaccine trial, aiming to help identify a set of immune markers which might serve as early correlates of protection against Nipah virus disease. This position is in the team led by Dr James Hay, based at Old Road Campus in Headington.  You will be responsible for conducting detailed analysis of a large immunological dataset, including data from ELISA, PNA, ELISPOT, flow cytometry, B and T cell receptor sequencing, and transcriptomics. You will develop a reproducible informatics and machine learning pipeline to process large volumes of sensitive trial data in collaboration with the study team, and develop new statistical frameworks for evaluating multiple correlates of protection in vaccine trials and real-world evidence studies. Other duties include contributing to the production of scientific publications and submit presentations to international conferences, contributing ideas and expertise for project directions, new projects, and grants and acting as a source of information and advice on best-practice methodologies in machine learning/deep learning.  It is essential that you hold a PhD/DPhil (or close to completion) in a relevant quantitative field (e.g. biostatistics, infectious disease epidemiology, systems immunology, computational biology etc) and have experience using statistical methods and machine learning tools, and in developing reproducible informatics pipelines, and experience analysing large volumes of immunological data from multiple assays is also essential. You will be proficient with the programming language R, or a related programming language such as Python or Julia and you will have experience using version control (GitHub) and high-performance computing clusters.  Applications for this vacancy should be made online via the ‘Apply’ button above and you will need to upload a supporting statement and CV. Your supporting statement must explain how you meet each of the selection criteria for the post using examples of your skills and experience. Please restrict your documentation to your CV and supporting statement only. Any other documents will be requested at a later date.  This position is offered full time on a fixed term contract until 31 March 2028 and is funded by the Wellcome Trust.  Interviews will be held at the end of August or early September.  Only applications received before 12 midday on 4 August 2025 will be considered. Please quote 180446 on all correspondence.\n",
      " \n",
      " \n"
     ]
    },
    {
     "name": "stdout",
     "output_type": "stream",
     "text": [
      "\n",
      "============================================================\n",
      "PROCESSING RESULTS\n",
      "============================================================\n",
      "Job Title: Postdoctoral Research Scientist\n",
      "Employer: University of Oxford - Pandemic Sciences Institute\n",
      "Location: Oxford\n",
      "Remote Option: On-site\n",
      "Job Level: Senior\n",
      "Industry/Sector: Higher Education\n",
      "Contract Type: Not specified\n",
      "Salary Info: Not specified\n",
      "Posting Date: Not specified\n",
      "Closing Date: Not specified\n",
      "Word Count: 405\n",
      "Masculine Score: 0.25%\n",
      "Feminine Score: 1.24%\n",
      "Neutral Score: 98.51%\n",
      "Gendered Words: F:help; F:team; F:responsible; F:team; M:control; F:trust\n",
      "Manual Review Flag: False\n",
      "\n",
      "Data saved to: C:\\Users\\HP\\OneDrive - University of Southampton\\Documents\\Dissertation Project - Marwa Ashfaq\\Codes\\jobs_ac_uk_data.xlsx\n",
      "Total jobs in file: 54\n",
      "\n",
      "✅ Job data saved successfully!\n",
      "\n",
      "----------------------------------------\n"
     ]
    },
    {
     "name": "stdin",
     "output_type": "stream",
     "text": [
      "Do you want to add another job? (y/n):  y\n"
     ]
    },
    {
     "name": "stdout",
     "output_type": "stream",
     "text": [
      "\n",
      "========================================\n",
      "NEW JOB ENTRY\n",
      "========================================\n"
     ]
    },
    {
     "name": "stdin",
     "output_type": "stream",
     "text": [
      "Enter job URL:  https://www.jobs.ac.uk/job/DNV734/data-analyst-evaluation-and-widening-participation\n"
     ]
    },
    {
     "name": "stdout",
     "output_type": "stream",
     "text": [
      "\n",
      "============================================================\n",
      "JOB DATA ENTRY - JOBS.AC.UK\n",
      "============================================================\n",
      "URL: https://www.jobs.ac.uk/job/DNV734/data-analyst-evaluation-and-widening-participation\n",
      "------------------------------------------------------------\n"
     ]
    },
    {
     "name": "stdin",
     "output_type": "stream",
     "text": [
      "Job Title:  Data Analyst - Evaluation and Widening Participation\n",
      "Employer/University Name:  Queen Mary University of London - Marketing and Communications Directorate\n",
      "Location:  London\n",
      "Posting Date (optional):  \n",
      "Closing Date (optional):  \n",
      "Salary Info (optional):  \n",
      "Contract Type (e.g., Permanent, Fixed-term) (optional):  \n"
     ]
    },
    {
     "name": "stdout",
     "output_type": "stream",
     "text": [
      "\n",
      "Job Description:\n",
      "(Paste the job description below. Press Enter twice when finished)\n",
      "----------------------------------------\n"
     ]
    },
    {
     "name": "stdin",
     "output_type": "stream",
     "text": [
      " \n",
      " This exciting and varied role sits within the Marketing and Communications directorate of one of the UK’s leading universities. The team is responsible for marketing the profile of Queen Mary University of London, ranked 17th in the UK and a part of the highly regarded Russell Group. The postholder will play a key role in the attraction, recruitment, and nurture of students from under-represented and diverse backgrounds in the UK, as well as students from the EU and Overseas.  About You You must have strong experience in providing research and data insights, ideally in the context of evaluation and monitoring educational equality. You will be highly skilled in utilising statistical analysis and data visualisation tools to distil complex information into clear and compelling narratives.  Degree educated in a subject of a highly quantitative nature, or relevant experience. Able to manipulate and analyse complex data, present trends and communicate findings in user-friendly reports and presentations. Experience of evaluating and monitoring widening participation activities within a higher education environment, ideally including use of the Higher Education Access Tracker or other similar tracking databases. Able to manage research projects using internal and external resources / agencies. Experience of designing surveys for target audiences and conducting focus groups. Confident and able to network and influence effectively with a wide range of stakeholders, including suppliers and academic and Professional Services colleagues at all levels. About the Department The Directorate comprises communications, marketing, UK and overseas student recruitment, admissions, widening participation, other aspects of international activity including partnerships and student mobility, and alumni relations and development. We are responsible for managing the University’s reputation, ensuring effective student recruitment and managing effective communication with a wide range of audiences, including alumni.  About Queen Mary At Queen Mary University of London, we believe that a diversity of ideas helps us achieve the previously unthinkable.  Throughout our history, we’ve fostered social justice and improved lives through academic excellence. And we continue to live and breathe this spirit today, not because it’s simply ‘the right thing to do’ but for what it helps us achieve and the intellectual brilliance it delivers.  We continue to embrace diversity of thought and opinion in everything we do, in the belief that when views collide, disciplines interact, and perspectives intersect, truly original thought takes form.  Benefits We offer competitive salaries, access to a generous pension scheme, 30 days’ leave per annum (pro-rata for part-time/fixed-term), a season ticket loan scheme and access to a comprehensive range of personal and professional development opportunities. In addition, we offer a range of work life balance and family friendly, inclusive employment policies, campus facilities and flexible working arrangements.  Queen Mary’s commitment to our diverse and inclusive community is embedded in our appointments processes. Reasonable adjustments will be made at each stage of the recruitment process for any candidate with a disability. We are open to considering applications from candidates wishing to work flexibly.\n",
      " \n",
      " \n"
     ]
    },
    {
     "name": "stdout",
     "output_type": "stream",
     "text": [
      "\n",
      "============================================================\n",
      "PROCESSING RESULTS\n",
      "============================================================\n",
      "Job Title: Data Analyst - Evaluation and Widening Participation\n",
      "Employer: Queen Mary University of London - Marketing and Communications Directorate\n",
      "Location: London\n",
      "Remote Option: Hybrid\n",
      "Job Level: Senior\n",
      "Industry/Sector: Higher Education\n",
      "Contract Type: Not specified\n",
      "Salary Info: Not specified\n",
      "Posting Date: Not specified\n",
      "Closing Date: Not specified\n",
      "Word Count: 489\n",
      "Masculine Score: 1.22%\n",
      "Feminine Score: 1.42%\n",
      "Neutral Score: 97.36%\n",
      "Gendered Words: F:team; F:responsible; M:strong; F:communicate; M:manage; M:confident; F:responsible; M:achieve; M:achieve; M:competitive; F:inclusive; F:inclusive; F:community\n",
      "Manual Review Flag: False\n",
      "\n",
      "Data saved to: C:\\Users\\HP\\OneDrive - University of Southampton\\Documents\\Dissertation Project - Marwa Ashfaq\\Codes\\jobs_ac_uk_data.xlsx\n",
      "Total jobs in file: 55\n",
      "\n",
      "✅ Job data saved successfully!\n",
      "\n",
      "----------------------------------------\n"
     ]
    },
    {
     "name": "stdin",
     "output_type": "stream",
     "text": [
      "Do you want to add another job? (y/n):  y\n"
     ]
    },
    {
     "name": "stdout",
     "output_type": "stream",
     "text": [
      "\n",
      "========================================\n",
      "NEW JOB ENTRY\n",
      "========================================\n"
     ]
    },
    {
     "name": "stdin",
     "output_type": "stream",
     "text": [
      "Enter job URL:  https://www.jobs.ac.uk/job/DNW390/qualitative-research-associate-assistant\n"
     ]
    },
    {
     "name": "stdout",
     "output_type": "stream",
     "text": [
      "\n",
      "============================================================\n",
      "JOB DATA ENTRY - JOBS.AC.UK\n",
      "============================================================\n",
      "URL: https://www.jobs.ac.uk/job/DNW390/qualitative-research-associate-assistant\n",
      "------------------------------------------------------------\n"
     ]
    },
    {
     "name": "stdin",
     "output_type": "stream",
     "text": [
      "Job Title:  Qualitative Research Associate/Assistant\n",
      "Employer/University Name:  King's College London - Health Services & Population Research\n",
      "Location:  London\n",
      "Posting Date (optional):  \n",
      "Closing Date (optional):  \n",
      "Salary Info (optional):  \n",
      "Contract Type (e.g., Permanent, Fixed-term) (optional):  \n"
     ]
    },
    {
     "name": "stdout",
     "output_type": "stream",
     "text": [
      "\n",
      "Job Description:\n",
      "(Paste the job description below. Press Enter twice when finished)\n",
      "----------------------------------------\n"
     ]
    },
    {
     "name": "stdin",
     "output_type": "stream",
     "text": [
      " The post provides an exciting opportunity for a Qualitative Research Associate/Assistant to be part of a thriving centre for qualitative research that uses rigorous and innovative methods to understand and improve the experiences of people with mental health problems.  The successful candidate will join the Qualitative Research Group in the Health Services & Population Research Department, Institute of Psychiatry, Psychology & Neuroscience, and be affiliated with the QUAHRC and the Section of Eating Disorders, Department of Psychological Medicine, led by Professor Ulrike Schmidt. The postholder will work closely with Dr Vanessa Lawrence, Professor of Qualitative Health Research and Director of the Qualitative Applied Health Research Centre (QUAHRC) at Kings and Dr Hubertus Himmerich, Reader in Eating Disorder (Principal Investigator of EDEN).  About the role:  We would like to invite applications for a Qualitative Research Associate/Assistant to work on a single-centre Medical Research Council funded feasibility study (the “EDEN” trial) to examine the feasibility, safety and tolerability, and acceptability of a randomised controlled trial of ketamine vs placebo for people with anorexia nervosa and treatment-resistant depression. If this feasibility study is successful, we will apply for a larger RCT to test the clinical efficacy of ketamine in this patient group. As part of the EDEN study, the postholder will be responsible for conducting qualitative interviews with people with anorexia and severe depression, and carers, around treatment experiences, expectations and reasons for drop-out.  The post provides an exciting opportunity for a Research Associate/Assistant to be part of a thriving centre for qualitative research that uses rigorous and innovative methods to understand and improve the experiences of people with mental health problems.  The successful candidate will join the Qualitative Applied Health Research Centre (QUAHRC) in the  Health Services & Population Research Department, Institute of Psychiatry, Psychology & Neuroscience, and be affiliated with the Centre for Research in Eating and Weight Disorders (CREW), Department of Psychological Medicine, led by Professor Ulrike Schmidt. The postholder will work closely with Professor Vanessa Lawrence, Professor in Qualitative Health Research and Director of the QUAHRC at Kings and Dr Hubertus Himmerich, Reader in Eating Disorder (Principal Investigator of EDEN).  This is a part time post (21 hours per week/60% FTE), and you will be offered a 12-month fixed term contract with the possibility of renewal for another 12 months.  About you:  Essential criteria  PhD in a relevant discipline (or MSc in a relevant field for Grade 5/Assistant level) Enthusiasm for using qualitative methods that prioritise the lived experience of people with mental health problems and those that support them Experience of recruiting participants to research studies Experience of conducting qualitative interviews Knowledge and skills in analysing qualitative data Experience of writing up qualitative data Ability to use initiative and autonomy in the management of day to day tasks and ongoing workloads, to ensure they are prioritised and completed within agreed timeframes Ability to write high quality peer review publications Desirable criteria  Experience of working with people with eating disorders Experience of conducting qualitative interviews with people with mental health problems Experience of using the Framework Approach Skills in using qualitative software (e.g. NVivo) Understanding of ethical and research governance requirements for mental health research\n",
      " \n",
      " \n"
     ]
    },
    {
     "name": "stdout",
     "output_type": "stream",
     "text": [
      "\n",
      "============================================================\n",
      "PROCESSING RESULTS\n",
      "============================================================\n",
      "Job Title: Qualitative Research Associate/Assistant\n",
      "Employer: King's College London - Health Services & Population Research\n",
      "Location: London\n",
      "Remote Option: On-site\n",
      "Job Level: Senior\n",
      "Industry/Sector: Higher Education\n",
      "Contract Type: Not specified\n",
      "Salary Info: 5\n",
      "Posting Date: Not specified\n",
      "Closing Date: Not specified\n",
      "Word Count: 527\n",
      "Masculine Score: 0.0%\n",
      "Feminine Score: 0.76%\n",
      "Neutral Score: 99.24%\n",
      "Gendered Words: F:understand; F:responsible; F:understand; F:support\n",
      "Manual Review Flag: False\n",
      "\n",
      "Data saved to: C:\\Users\\HP\\OneDrive - University of Southampton\\Documents\\Dissertation Project - Marwa Ashfaq\\Codes\\jobs_ac_uk_data.xlsx\n",
      "Total jobs in file: 56\n",
      "\n",
      "✅ Job data saved successfully!\n",
      "\n",
      "----------------------------------------\n"
     ]
    },
    {
     "name": "stdin",
     "output_type": "stream",
     "text": [
      "Do you want to add another job? (y/n):  y\n"
     ]
    },
    {
     "name": "stdout",
     "output_type": "stream",
     "text": [
      "\n",
      "========================================\n",
      "NEW JOB ENTRY\n",
      "========================================\n"
     ]
    },
    {
     "name": "stdin",
     "output_type": "stream",
     "text": [
      "Enter job URL:  https://www.jobs.ac.uk/job/DNV118/senior-scientist-ktp-associate\n"
     ]
    },
    {
     "name": "stdout",
     "output_type": "stream",
     "text": [
      "\n",
      "============================================================\n",
      "JOB DATA ENTRY - JOBS.AC.UK\n",
      "============================================================\n",
      "URL: https://www.jobs.ac.uk/job/DNV118/senior-scientist-ktp-associate\n",
      "------------------------------------------------------------\n"
     ]
    },
    {
     "name": "stdin",
     "output_type": "stream",
     "text": [
      "Job Title:  Senior Scientist - KTP Associate\n",
      "Employer/University Name:  Anglia Ruskin University - LinkGevity Limited - Babraham Campus Cambridge\n",
      "Location:  Cambridge\n",
      "Posting Date (optional):  \n",
      "Closing Date (optional):  \n",
      "Salary Info (optional):  \n",
      "Contract Type (e.g., Permanent, Fixed-term) (optional):  \n"
     ]
    },
    {
     "name": "stdout",
     "output_type": "stream",
     "text": [
      "\n",
      "Job Description:\n",
      "(Paste the job description below. Press Enter twice when finished)\n",
      "----------------------------------------\n"
     ]
    },
    {
     "name": "stdin",
     "output_type": "stream",
     "text": [
      " We are seeking a highly motivated Research Associate to lead a two-year collaborative project between Anglia Ruskin University and LinkGevity Limited under the UK Government-sponsored Knowledge Transfer Partnership (KTP). This role offers an exciting opportunity to formulate and embed a first in class anti-necrotic for use in cryopreservation, augmenting our existing platform technology and supporting the development and growth of the cryopreservation sector, whilst improving hospital diagnostics, reducing invasive biopsy requirements and ensuring high-quality samples for accurate and efficient diagnostic.  The successful candidate will be responsible for undertaking research in cell culture, 3D Cell culture, cell stains and microscopy, whilst having the ability to critically analyse data using qualitative techniques.  Requirements PhD in Biological Science or related field  Undertaken research or have experience in cell culture, 3D Cell culture, cell stains and microscopy. Ability to critically analyse data using qualitative techniques. Experience in working with model organisms. Knowledge of scaling up technologies in cell culture. Project management skills. Self-motivated individual with strong team-working and communication skills. For further information: Knowledge Transfer Partnerships (ktp-uk.org)  Although you’ll be employed by ARU, you’ll be based at LinkGevity’s Babraham Campus in Cambridge.  About ARU: ARU is a global university transforming lives through innovative, inclusive and entrepreneurial education and research. ARU holds a gold award for the quality of its education, awarded through the Teaching Excellence Framework (TEF). ARU’s research institutes and four faculties bridge scientific, technical and creative fields. We deliver impactful research which tackles pressing issues and makes a real difference to our communities. Our academic excellence has been recognised by the UK’s Higher Education funding bodies, with 16 of our research areas assessed as world leading. We are the largest provider of Nursing, Midwifery, Health and Social Care students in the East of England, and we are also among the UK’s leading universities for degree apprenticeship provision, working with hundreds of employers across the UK.  For further information or enquiries about this role please email Justin.Stebbing@aru.ac.uk or ben.hooson@aru.ac.uk.  Please note that interviews are expected to take place late July 2025.  We are committed to safeguarding and promoting welfare of our staff and students and expect all staff to share this commitment. Applicants should be aware that ARU will carry out online searches as part of the due diligence on short listed candidates.  We value diversity at ARU and welcome applications from all sections of the community.  We have a responsibility to ensure that all employees are eligible to live and work in the UK.  Committed to being inclusive and open to discuss flexible working.  Guidance Notes: For a list of key requirements, please click the 'Apply' button to download the Job Description and Person Specification. To apply for this role please demonstrate how your skills and experience match the criteria in the person specification.  We reserve the right to close this vacancy once we have received sufficient applications.\n",
      " \n",
      " \n"
     ]
    },
    {
     "name": "stdout",
     "output_type": "stream",
     "text": [
      "\n",
      "============================================================\n",
      "PROCESSING RESULTS\n",
      "============================================================\n",
      "Job Title: Senior Scientist - KTP Associate\n",
      "Employer: Anglia Ruskin University - LinkGevity Limited - Babraham Campus Cambridge\n",
      "Location: Cambridge\n",
      "Remote Option: Hybrid\n",
      "Job Level: Senior\n",
      "Industry/Sector: Higher Education\n",
      "Contract Type: Not specified\n",
      "Salary Info: Not specified\n",
      "Posting Date: Not specified\n",
      "Closing Date: Not specified\n",
      "Word Count: 484\n",
      "Masculine Score: 0.81%\n",
      "Feminine Score: 2.02%\n",
      "Neutral Score: 97.17%\n",
      "Gendered Words: M:lead; F:collaborative; F:responsible; M:individual; M:strong; F:team; F:inclusive; F:care; F:committed; F:share; F:community; M:responsibility; F:committed; F:inclusive\n",
      "Manual Review Flag: False\n",
      "\n",
      "Data saved to: C:\\Users\\HP\\OneDrive - University of Southampton\\Documents\\Dissertation Project - Marwa Ashfaq\\Codes\\jobs_ac_uk_data.xlsx\n",
      "Total jobs in file: 56\n",
      "\n",
      "✅ Job data saved successfully!\n",
      "\n",
      "----------------------------------------\n"
     ]
    },
    {
     "name": "stdin",
     "output_type": "stream",
     "text": [
      "Do you want to add another job? (y/n):  y\n"
     ]
    },
    {
     "name": "stdout",
     "output_type": "stream",
     "text": [
      "\n",
      "========================================\n",
      "NEW JOB ENTRY\n",
      "========================================\n"
     ]
    },
    {
     "name": "stdin",
     "output_type": "stream",
     "text": [
      "Enter job URL:  https://www.jobs.ac.uk/job/DNV528/prospect-research-officer\n"
     ]
    },
    {
     "name": "stdout",
     "output_type": "stream",
     "text": [
      "\n",
      "============================================================\n",
      "JOB DATA ENTRY - JOBS.AC.UK\n",
      "============================================================\n",
      "URL: https://www.jobs.ac.uk/job/DNV528/prospect-research-officer\n",
      "------------------------------------------------------------\n"
     ]
    },
    {
     "name": "stdin",
     "output_type": "stream",
     "text": [
      "Job Title:  Prospect Research Officer\n",
      "Employer/University Name:  The Open University – Development Office\n",
      "Location:  Milton Keynes\n",
      "Posting Date (optional):  \n",
      "Closing Date (optional):  \n",
      "Salary Info (optional):  \n",
      "Contract Type (e.g., Permanent, Fixed-term) (optional):  \n"
     ]
    },
    {
     "name": "stdout",
     "output_type": "stream",
     "text": [
      "\n",
      "Job Description:\n",
      "(Paste the job description below. Press Enter twice when finished)\n",
      "----------------------------------------\n"
     ]
    },
    {
     "name": "stdin",
     "output_type": "stream",
     "text": [
      " We are looking for a highly motivated individual who will be able to support Prospect Research in The Open University’s Development Office. Through the identification of potential funding opportunities, this role presents the opportunity to make a real difference in the lives of students across the UK and internationally, as well as supporting opportunities to advance social and environmental impacts and research.   Based in the Development Office, the Prospect Research Team’s primary responsibility is to identify and provide research on new sources of philanthropic income for the University. Reporting to the Prospect Research Manager, the post holder will support the team in undertaking high quality, tailored prospect research on major donors, trusts and corporate partners.  You will conduct qualitative research, using diverse resources to compile high-quality reports to inform fundraising approaches, providing key data to support work across the department. Whilst working primarily with the five members of the Partnerships & Philanthropy Team, you will also support work across Mid-Value and Alumni Fundraising.   Key Responsibilities You will be responsible for undertaking high quality research on individuals, corporations and foundations in support of University-wide development activities, using a variety of resources, including charitable, biographical and financial databases, international news, the University library and other sources. This will also include undertaking research to match potential funders to projects, working independently to identify and qualify prospects. You will be responsible for collecting, analysing, interpreting and documenting research findings to produce written reports of excellent quality.  You will contribute to the understanding of the wider philanthropic funding environment and opportunities across the UK higher education sector.  Additionally, you will support the Prospect Research Manager in preparing for strategically important events, through the identification of invitees and compilation of biographies. You will undertake due diligence on donors in line with the Development Office’s gift acceptance policy. Throughout, you will ensure that database systems are maintained accurately by retrieving, correcting and updating information on individuals, corporations and foundations, in line with GDPR regulations. Skills and Experience   Essential:  Experience of conducting qualitative research using a variety of sources to produce high quality reports. The ability to summarise and analyse extensive/complex reports. Excellent written communication skills, with a high standard of written English and the ability to effectively present research to a lay audience.  A proactive approach and an enquiring mind with an instinct for investigative work. A working knowledge of IT, including familiarity with web search engines, plus Microsoft Word and Excel.  Superior attention to detail. Ability to work flexibly, manage a number of activities simultaneously and manage a busy and varied workload, responding promptly to changing priorities where needed. Desirable:  Experience of undertaking prospect research within the Higher Education or charity sector. Knowledge of quantitative research methods and financial analysis. Knowledge of GDPR and data protection. Essential Requirements  Flexible working: We are open to discussions about flexible working. Whether it’s a job share, part time, compressed hours or another working arrangement. Please reach out to us to discuss what works best for you.  Work location:It is anticipated that a hybrid working pattern can be adopted for this role, where you can work from home and the office. However, as this role is contractually aligned to our Milton Keynes office it is expected that some attendance in the office will be required when necessary and in response to business needs. We’d expect this to be approximately 2-3 times per month or more frequently, if preferred.  How to apply: To apply for this role, please submit the following as two separate documents:  CV Supporting statement, up to 1,000 words, you should set out in your statement why you’re interested in this role and provide examples of where your skills and experience meet the required competencies for this role as detailed in the job and person specification. Interviews: It is anticipated interviews will take place 18 August, however, there is some flexibility to accomodate alternative date requests.   We may close this job advert earlier than the published closing date where a satisfactory number of applications are received. We would therefore encourage early applications.   The Open University is committed to equality, diversity and inclusion which is reflected in our mission to be open to people, places, methods and ideas. We aim to foster a diverse and inclusive environment so that all in our OU community can reach their potential.  We recognise that different people bring different perspectives, ideas, knowledge, and culture, and that this difference brings great strength.  We strive to recruit, retain and develop the careers of a diverse pool of students and staff, and particularly encourage applications from all underrepresented groups. We also aspire to make The Open University a supportive workplace for all through our policies, services and staff networks.\n",
      " \n",
      " \n"
     ]
    },
    {
     "name": "stdout",
     "output_type": "stream",
     "text": [
      "\n",
      "============================================================\n",
      "PROCESSING RESULTS\n",
      "============================================================\n",
      "Job Title: Prospect Research Officer\n",
      "Employer: The Open University – Development Office\n",
      "Location: Milton Keynes\n",
      "Remote Option: Remote\n",
      "Job Level: Senior\n",
      "Industry/Sector: Higher Education\n",
      "Contract Type: Not specified\n",
      "Salary Info: Not specified\n",
      "Posting Date: Not specified\n",
      "Closing Date: Not specified\n",
      "Word Count: 789\n",
      "Masculine Score: 0.76%\n",
      "Feminine Score: 2.03%\n",
      "Neutral Score: 97.21%\n",
      "Gendered Words: M:individual; F:support; F:team; M:responsibility; F:support; F:team; F:support; F:team; F:support; F:responsible; F:support; F:responsible; F:support; M:excel; M:superior; M:manage; M:manage; F:share; F:committed; F:inclusive; F:community; F:supportive\n",
      "Manual Review Flag: False\n",
      "\n",
      "Data saved to: C:\\Users\\HP\\OneDrive - University of Southampton\\Documents\\Dissertation Project - Marwa Ashfaq\\Codes\\jobs_ac_uk_data.xlsx\n",
      "Total jobs in file: 57\n",
      "\n",
      "✅ Job data saved successfully!\n",
      "\n",
      "----------------------------------------\n"
     ]
    },
    {
     "name": "stdin",
     "output_type": "stream",
     "text": [
      "Do you want to add another job? (y/n):  y\n"
     ]
    },
    {
     "name": "stdout",
     "output_type": "stream",
     "text": [
      "\n",
      "========================================\n",
      "NEW JOB ENTRY\n",
      "========================================\n"
     ]
    },
    {
     "name": "stdin",
     "output_type": "stream",
     "text": [
      "Enter job URL:  https://www.jobs.ac.uk/job/DNU821/director-of-technology\n"
     ]
    },
    {
     "name": "stdout",
     "output_type": "stream",
     "text": [
      "\n",
      "============================================================\n",
      "JOB DATA ENTRY - JOBS.AC.UK\n",
      "============================================================\n",
      "URL: https://www.jobs.ac.uk/job/DNU821/director-of-technology\n",
      "------------------------------------------------------------\n"
     ]
    },
    {
     "name": "stdin",
     "output_type": "stream",
     "text": [
      "Job Title:  Director of Technology\n",
      "Employer/University Name:  The Alan Turing Institute – Science Executive Team (SET) and the Executive Leadership Team (ELT)\n",
      "Location:  London\n",
      "Posting Date (optional):  \n",
      "Closing Date (optional):  \n",
      "Salary Info (optional):  \n",
      "Contract Type (e.g., Permanent, Fixed-term) (optional):  \n"
     ]
    },
    {
     "name": "stdout",
     "output_type": "stream",
     "text": [
      "\n",
      "Job Description:\n",
      "(Paste the job description below. Press Enter twice when finished)\n",
      "----------------------------------------\n"
     ]
    },
    {
     "name": "stdin",
     "output_type": "stream",
     "text": [
      " We are seeking a highly skilled and experienced professional with a strong academic background, who holds a degree in technology, science, or engineering. The ideal candidate demonstrates ongoing commitment to professional development and stays current with technological and scientific advancements.  They will have experience leading complex technical operational teams and a strong ability to understand and resolve research challenges, including managing stakeholder interests to ensure impactful outcomes. The candidate should have a proven track record in developing and executing funding strategies across diverse organisations and demonstrated leadership as part of senior teams in complex environments. Experience driving strategic organisational change is essential.  Expertise in at least one of the following areas is required: computational or data infrastructure, data standards, research/software engineering, or programme and project management. Additionally, experience in implementing compliance and quality assurance processes is necessary.  DUTIES AND AREAS OF RESPONSIBILITY  Lead accountability for designing and maintaining an effective operational model to support delivery of S&I Missions and Strategic Projects. Contribute to the development and delivery of the organisation’s overall strategy and missions, working closely with Mission and GC Directors, the Chief Scientist, Chief Strategy Officer, CEO and other colleagues. Identify and execute on opportunities to strengthen the delivery infrastructure of the Institute, for example by setting technical standards and patterns, delivering reusable services and components, and otherwise smoothing the path to delivery of impact and scientific excellence Support delivery by building effective relationships with senior technical counterparts in partner organisations; stand ready to lean in to support and drive key Institute delivery priorities as needed, working out what’s needed for success in complex and sometimes ambiguous stakeholder relationships. Maintain a network of senior technical relationships across a wide range of external organisations and key Institute stakeholders to inform our strategic choices and be attuned to trends and developments. Work with the heads of teams to create an effective Technology Delivery leadership team and maintain the positive culture of technical excellence, curiosity, personal development and support within teams. Line-management of the heads of team and ensure the professional development of these individuals, including career development and succession planning. With the heads of teams, oversee strategic planning and financial analysis of these areas, identify risks and work across teams as required. Ensure the Institute has robust plans for access to sufficient compute and other technical resources, working with other senior colleagues to secure from government or commercial partners, and steward these resources effectively on behalf of the Institute. Contribute positively to our values-led, high-performance culture and play a proactive role in achieving our equality, diversity and inclusion objectives.   Terms and Conditions  This post is offered on a permanent basis, at an annual salary starting from £120,000 plus excellent benefits, including flexible working and family friendly policies, Employee-only benefits guide | The Alan Turing Institute  You must hold the right to work in the UK. If you require sponsorship to work in the UK, please contact recruitment@turing.ac.uk to discuss further. The Turing offers relocation and visa support in accordance with its policy.  The Institute is headquartered in Kings Cross, London and so while we operate a hybrid working model you will be expected to spend time there each week to connect to your peer group and to work with teams across the Institute.  Application procedure  Please see our jobs portal for full details on how to apply and the interview process via the 'Apply' buttton above.   Equality Diversity and Inclusion  We are committed to making sure our recruitment process is accessible and inclusive.   This includes making reasonable adjustments for candidates who have a disability or long-term condition. Please contact us at adjustments@turing.ac.uk  to find out how we can assist you. \n",
      " \n",
      " \n"
     ]
    },
    {
     "name": "stdout",
     "output_type": "stream",
     "text": [
      "\n",
      "============================================================\n",
      "PROCESSING RESULTS\n",
      "============================================================\n",
      "Job Title: Director of Technology\n",
      "Employer: The Alan Turing Institute – Science Executive Team (SET) and the Executive Leadership Team (ELT)\n",
      "Location: London\n",
      "Remote Option: Hybrid\n",
      "Job Level: Senior\n",
      "Industry/Sector: Higher Education\n",
      "Contract Type: Not specified\n",
      "Salary Info: Not specified\n",
      "Posting Date: Not specified\n",
      "Closing Date: Not specified\n",
      "Word Count: 614\n",
      "Masculine Score: 0.8%\n",
      "Feminine Score: 1.93%\n",
      "Neutral Score: 97.27%\n",
      "Gendered Words: M:strong; M:strong; F:understand; M:responsibility; M:lead; F:support; F:support; F:support; M:drive; F:team; F:support; F:team; F:support; F:connect; F:committed; F:inclusive; F:assist\n",
      "Manual Review Flag: False\n",
      "\n",
      "Data saved to: C:\\Users\\HP\\OneDrive - University of Southampton\\Documents\\Dissertation Project - Marwa Ashfaq\\Codes\\jobs_ac_uk_data.xlsx\n",
      "Total jobs in file: 58\n",
      "\n",
      "✅ Job data saved successfully!\n",
      "\n",
      "----------------------------------------\n"
     ]
    },
    {
     "name": "stdin",
     "output_type": "stream",
     "text": [
      "Do you want to add another job? (y/n):  y\n"
     ]
    },
    {
     "name": "stdout",
     "output_type": "stream",
     "text": [
      "\n",
      "========================================\n",
      "NEW JOB ENTRY\n",
      "========================================\n"
     ]
    },
    {
     "name": "stdin",
     "output_type": "stream",
     "text": [
      "Enter job URL:  https://www.jobs.ac.uk/job/DNQ149/phd-studentship-advancing-the-optimisation-of-simulation-and-machine-learning-pipelines-for-enhanced-performance-benchmarked-in-the-healthcare-domain\n"
     ]
    },
    {
     "name": "stdout",
     "output_type": "stream",
     "text": [
      "\n",
      "============================================================\n",
      "JOB DATA ENTRY - JOBS.AC.UK\n",
      "============================================================\n",
      "URL: https://www.jobs.ac.uk/job/DNQ149/phd-studentship-advancing-the-optimisation-of-simulation-and-machine-learning-pipelines-for-enhanced-performance-benchmarked-in-the-healthcare-domain\n",
      "------------------------------------------------------------\n"
     ]
    },
    {
     "name": "stdin",
     "output_type": "stream",
     "text": [
      "Job Title:  PhD Studentship: Advancing the Optimisation of Simulation and Machine Learning Pipelines for Enhanced Performance Benchmarked in the Healthcare Domain\n",
      "Employer/University Name:  University of Reading - School of Mathematical Physical & Computational Sciences - Computer Science\n",
      "Location:  Whiteknights Reading UK\n",
      "Posting Date (optional):  \n",
      "Closing Date (optional):  \n",
      "Salary Info (optional):  \n",
      "Contract Type (e.g., Permanent, Fixed-term) (optional):  \n"
     ]
    },
    {
     "name": "stdout",
     "output_type": "stream",
     "text": [
      "\n",
      "Job Description:\n",
      "(Paste the job description below. Press Enter twice when finished)\n",
      "----------------------------------------\n"
     ]
    },
    {
     "name": "stdin",
     "output_type": "stream",
     "text": [
      " Candidates will study for a four year, full time funded PhD (3 quarters of your time) whilst working and receiving a salary to gain valuable teaching experience (1 quarter of your time). Candidates will receive a salary and stipend package that exceeds the standard UKRI stipend for a full-time PhD.  Home/RoI Students will have their PhD fees waived, International students will receive a fee waiver equivalent to the Home/RoI fee and will be expected to fund the difference between the International fee and the Home/RoI fee. There will be a package of support to enable you to develop a research career in this exciting field.  The Royal Berkshire Hospital has 20 surgical theatres and only 3-4 beds for patients’ overnight full recovery from anaesthesia. Thus to avoid exceeding the bed capacity a daily limit is imposed on those surgeries that are deemed likely to require overnight stay for post anaesthesia recovery. The needed post-operative care is predicted manually based on a pre-operative assessment for surgeries case selection to be scheduled for each day. This decision process is poorly recorded and needs improvement.  Aims and Objectives  In collaboration with the Health Innovation Partnership, a modelling pipeline will be devised to cope with the challenges of data augmentation and model optimisation to deliver a reliable prediction of patient needs into recovery services after surgery, improving the deployment of available resources, ensuring patient quality-of-care and reducing waiting lists.  This will be achieved through the following objectives:  Acquire data and expert-based evidence and optimise data augmentation to ensure optimal hospital patient pathways through pre-operative assessment, surgery, anaesthetic normal recovery, extended recovery, and ICU services: bookings, utilisation, pre-operative and on-the-day cancellations, emergencies, and, non-attendances. Establish a clinical scoring system to predict patients’ post-operative anaesthetic recovery needs to three severity and associated care levels and respective predicted nurse-to-patient ratio required (complexity). Develop and optimise a modelling pipeline including a decision support dashboard for optimal patient selection for surgery to ensure daily surgery caseload optimisation, post-operative care manageability, patient safety, and reduce waiting lists.  You will need to demonstrate you:  Meet the academic requirements for a PhD offer from the University of Reading. Have a MSc degree in Computer Science or a related discipline Are able to effectively organise your time and prioritise tasks to balance PhD studies with GTA responsibilities Are able to demonstrate scholarship in developing a publication record in your area of specialist expertise and conduct high quality PhD research. Are able to communicate scientific concepts clearly and with enthusiasm and in a way that engages students Have good interpersonal skills and be able to work as part of a team See candidate pack at the bottom of the page for further details.  How do I apply?  You must upload a combined CV and Proposal in pdf format (max size 1 MB) and complete the supporting statement.  We look forward to hearing from you!  Contact details for advert  Contact Name Dr Ferran Espuny-Pujol  Contact Job Title Lecturer in Computer Science  Contact Email address f.espuny-pujol@reading.ac.uk\n",
      " \n",
      " \n"
     ]
    },
    {
     "name": "stdout",
     "output_type": "stream",
     "text": [
      "\n",
      "============================================================\n",
      "PROCESSING RESULTS\n",
      "============================================================\n",
      "Job Title: PhD Studentship: Advancing the Optimisation of Simulation and Machine Learning Pipelines for Enhanced Performance Benchmarked in the Healthcare Domain\n",
      "Employer: University of Reading - School of Mathematical Physical & Computational Sciences - Computer Science\n",
      "Location: Whiteknights Reading UK\n",
      "Remote Option: On-site\n",
      "Job Level: Junior\n",
      "Industry/Sector: Higher Education\n",
      "Contract Type: Not specified\n",
      "Salary Info: Not specified\n",
      "Posting Date: Not specified\n",
      "Closing Date: Not specified\n",
      "Word Count: 504\n",
      "Masculine Score: 0.39%\n",
      "Feminine Score: 1.73%\n",
      "Neutral Score: 97.88%\n",
      "Gendered Words: F:support; F:care; M:decision; F:care; F:care; M:decision; F:support; F:care; F:communicate; F:interpersonal; F:team\n",
      "Manual Review Flag: False\n",
      "\n",
      "Data saved to: C:\\Users\\HP\\OneDrive - University of Southampton\\Documents\\Dissertation Project - Marwa Ashfaq\\Codes\\jobs_ac_uk_data.xlsx\n",
      "Total jobs in file: 59\n",
      "\n",
      "✅ Job data saved successfully!\n",
      "\n",
      "----------------------------------------\n"
     ]
    },
    {
     "name": "stdin",
     "output_type": "stream",
     "text": [
      "Do you want to add another job? (y/n):  y\n"
     ]
    },
    {
     "name": "stdout",
     "output_type": "stream",
     "text": [
      "\n",
      "========================================\n",
      "NEW JOB ENTRY\n",
      "========================================\n"
     ]
    },
    {
     "name": "stdin",
     "output_type": "stream",
     "text": [
      "Enter job URL:  https://www.jobs.ac.uk/job/DNW407/estates-business-partner-x6\n"
     ]
    },
    {
     "name": "stdout",
     "output_type": "stream",
     "text": [
      "\n",
      "============================================================\n",
      "JOB DATA ENTRY - JOBS.AC.UK\n",
      "============================================================\n",
      "URL: https://www.jobs.ac.uk/job/DNW407/estates-business-partner-x6\n",
      "------------------------------------------------------------\n"
     ]
    },
    {
     "name": "stdin",
     "output_type": "stream",
     "text": [
      "Job Title:  Estates Business Partner x6\n",
      "Employer/University Name:  University of Cambridge - Estates Division - Business Services\n",
      "Location:  Cambridge\n",
      "Posting Date (optional):  \n",
      "Closing Date (optional):  \n",
      "Salary Info (optional):  \n",
      "Contract Type (e.g., Permanent, Fixed-term) (optional):  \n"
     ]
    },
    {
     "name": "stdout",
     "output_type": "stream",
     "text": [
      "\n",
      "Job Description:\n",
      "(Paste the job description below. Press Enter twice when finished)\n",
      "----------------------------------------\n"
     ]
    },
    {
     "name": "stdin",
     "output_type": "stream",
     "text": [
      " As an Estate Business Partner, you will play a key strategic role within the Estates Division, aligning estate planning and service delivery with the academic and operational priorities of a designated School or Non-School Institution (NSI), as well as the wider University strategy.  Operating with a high degree of autonomy, you will lead engagement with senior stakeholders, shape estate strategies, and ensure decisions are data-driven, future-focused, and institutionally aligned.  As an Estate Business Partner, your responsibilities span across six key areas:  Strategic Stakeholder Engagement & Advocacy  Act as the primary liaison between Schools and the Estates Division, influencing service development and ensuring institutional needs are reflected in planning and decision-making.  Requirements Capture and Strategic Definition  Lead the structured capture and prioritisation of estate needs - such as space planning, improvements, and relocations - ensuring alignment with institutional priorities and long-term estate strategic goals.  Service Performance and Operational Oversight  Development and implementation of performance frameworks, monitor KPIs, and provide transparent, data-informed reporting to drive continuous improvement across the estate portfolio.  Programme and Project Oversight  Provide strategic oversight and assurance across all Estates Division programmes and projects within the portfolio  Utilisation and Strategic Intelligence  Use data and technology to generate insights into space usage, supporting more effective estate management.  Data Governance and Compliance Leadership  Ensure all estate records are accurate and up to date, integrating third-party works into core systems and maintaining statutory compliance.  About You  You will bring a strong blend of technical expertise, strategic insight, and stakeholder engagement skills. Specifically, you will have:  Technical background in a relevant discipline such as Facilities Management, Surveying, Engineering, Technology, or a related field, with experience delivering complex services across varied portfolios.  Proven success in client - or user-facing roles, with the ability to understand and respond to diverse stakeholder needs.  Experience managing teams and/or external suppliers, ensuring high-quality service delivery and performance outcomes.  Strategic advisory capability, offering high-level guidance on estates and property matters.  Change management and project delivery experience, ideally within an estates or infrastructure context.  Excellent communication skills, both verbal and written, with the ability to present complex information clearly and persuasively to a wide range of audiences.  Strong influencing and negotiation skills, with a track record of driving service improvements through collaboration.  Exceptional organisational and project management skills, able to balance multiple priorities and deliver both short-term and long-term objectives.  Advanced data analysis skills, with the ability to interpret and present data to support evidence-based decision-making and strategic planning.  Benefits of working at the University of Cambridge include:  Competitive rates of pay with automatic service-related pay progression and annual cost of living increases; Generous annual leave allowance Flexible and hybrid working opportunities; Generous maternity, adoption and shared parental leave entitlement and other family friendly schemes (e.g. workplace nurseries) An auto-enrolment pension scheme, with a generous employer contribution; Travel benefits and retail discounts at over 2,000 local and national store: Schemes to support with relocation To apply online for this vacancy and to view further information about the role, please click the 'Apply' button above.   Please note we will be reviewing applications on a regular basis. We reserve the right to close the position early once the available position is filled.  The University actively supports equality, diversity and inclusion and encourages applications from all sections of society.\n",
      " \n",
      " \n"
     ]
    },
    {
     "name": "stdout",
     "output_type": "stream",
     "text": [
      "\n",
      "============================================================\n",
      "PROCESSING RESULTS\n",
      "============================================================\n",
      "Job Title: Estates Business Partner x6\n",
      "Employer: University of Cambridge - Estates Division - Business Services\n",
      "Location: Cambridge\n",
      "Remote Option: Hybrid\n",
      "Job Level: Senior\n",
      "Industry/Sector: Higher Education\n",
      "Contract Type: Not specified\n",
      "Salary Info: Not specified\n",
      "Posting Date: Not specified\n",
      "Closing Date: Not specified\n",
      "Word Count: 546\n",
      "Masculine Score: 1.43%\n",
      "Feminine Score: 0.54%\n",
      "Neutral Score: 98.03%\n",
      "Gendered Words: M:lead; M:decision; M:lead; M:drive; M:strong; F:understand; M:strong; F:support; M:decision; M:competitive; F:support\n",
      "Manual Review Flag: False\n",
      "\n",
      "Data saved to: C:\\Users\\HP\\OneDrive - University of Southampton\\Documents\\Dissertation Project - Marwa Ashfaq\\Codes\\jobs_ac_uk_data.xlsx\n",
      "Total jobs in file: 60\n",
      "\n",
      "✅ Job data saved successfully!\n",
      "\n",
      "----------------------------------------\n"
     ]
    },
    {
     "name": "stdin",
     "output_type": "stream",
     "text": [
      "Do you want to add another job? (y/n):  y\n"
     ]
    },
    {
     "name": "stdout",
     "output_type": "stream",
     "text": [
      "\n",
      "========================================\n",
      "NEW JOB ENTRY\n",
      "========================================\n"
     ]
    },
    {
     "name": "stdin",
     "output_type": "stream",
     "text": [
      "Enter job URL:  https://www.jobs.ac.uk/job/DNX219/data-scientist\n"
     ]
    },
    {
     "name": "stdout",
     "output_type": "stream",
     "text": [
      "\n",
      "============================================================\n",
      "JOB DATA ENTRY - JOBS.AC.UK\n",
      "============================================================\n",
      "URL: https://www.jobs.ac.uk/job/DNX219/data-scientist\n",
      "------------------------------------------------------------\n"
     ]
    },
    {
     "name": "stdin",
     "output_type": "stream",
     "text": [
      "Job Title:  Data Scientist\n",
      "Employer/University Name:  The Royal Veterinary College, University of London - Infrastructure Services Division\n",
      "Location:  London\n",
      "Posting Date (optional):  \n",
      "Closing Date (optional):  \n",
      "Salary Info (optional):  \n",
      "Contract Type (e.g., Permanent, Fixed-term) (optional):  \n"
     ]
    },
    {
     "name": "stdout",
     "output_type": "stream",
     "text": [
      "\n",
      "Job Description:\n",
      "(Paste the job description below. Press Enter twice when finished)\n",
      "----------------------------------------\n"
     ]
    },
    {
     "name": "stdin",
     "output_type": "stream",
     "text": [
      " We are looking for an experienced Data Scientist to play a key role in realising the benefits of data at the Royal Veterinary College. This is an exciting opportunity to join a supportive and collaborative team, working with diverse data sources ranging from HR systems to electronic healthcare records from our hospitals. You will help inform institutional decisions and foster innovation and excellence through data.  Key Responsibilities  Work with stakeholders to define and deliver data science projects aligned with the university’s strategic and operational goals Take ownership of data analysis workflows including data extraction, preparation, modelling, and reporting Promote data literacy and champion the value of evidence-based decision making Identify opportunities for new data science initiatives Communicate findings to both technical and non-technical audiences through reports, dashboards, and presentations About The RVC  We are currently the QS number 1 ranked veterinary school in the world and a great not-for-profit organisation to work for. The University's total reward package includes a competitive salary, a generous Pension Scheme and annual leave entitlement, and free sports/gym facilities, with campuses in Camden and leafy Hertfordshire. A Working from Home Policy is in operation providing hybrid working opportunities as appropriate.   We offer a generous reward package and benefits including:  Competitive and attractive pension package Generous 30 days annual leave (plus bank holidays and concessionary days at Christmas) A range of family friendly policies, including adoption, maternity and paternity pay and leave On site café and restaurant Free membership to gym facilities at Camden and the Fitness and Wellbeing Centre located on site at Hawkshead (gym, badminton, climbing wall, Zumba, yoga and Pilates classes included) Cycle to work scheme Prospective applicants are encouraged to contact Jenny Wilshaw, Head of Data & Applications at jwilshaw@rvc.ac.uk for further information.   We promote equality of opportunity and diversity within the workplace and welcome applications from all sections of the community.   We reserve the right to close this vacancy early if we receive sufficient applications for the role.\n",
      " \n",
      " \n"
     ]
    },
    {
     "name": "stdout",
     "output_type": "stream",
     "text": [
      "\n",
      "============================================================\n",
      "PROCESSING RESULTS\n",
      "============================================================\n",
      "Job Title: Data Scientist\n",
      "Employer: The Royal Veterinary College, University of London - Infrastructure Services Division\n",
      "Location: London\n",
      "Remote Option: Hybrid\n",
      "Job Level: Senior\n",
      "Industry/Sector: Higher Education\n",
      "Contract Type: Not specified\n",
      "Salary Info: Not specified\n",
      "Posting Date: Not specified\n",
      "Closing Date: Not specified\n",
      "Word Count: 330\n",
      "Masculine Score: 0.9%\n",
      "Feminine Score: 1.8%\n",
      "Neutral Score: 97.3%\n",
      "Gendered Words: F:supportive; F:collaborative; F:team; F:help; M:decision; F:communicate; M:competitive; M:competitive; F:community\n",
      "Manual Review Flag: False\n",
      "\n",
      "Data saved to: C:\\Users\\HP\\OneDrive - University of Southampton\\Documents\\Dissertation Project - Marwa Ashfaq\\Codes\\jobs_ac_uk_data.xlsx\n",
      "Total jobs in file: 60\n",
      "\n",
      "✅ Job data saved successfully!\n",
      "\n",
      "----------------------------------------\n"
     ]
    }
   ],
   "source": [
    "import pandas as pd\n",
    "from datetime import datetime\n",
    "import re\n",
    "import os\n",
    "\n",
    "class JobsAcUkJobProcessor:\n",
    "    def __init__(self):\n",
    "        # Gendered words lists for analysis\n",
    "        self.masculine_words = [\n",
    "            'leader', 'competitive', 'dominant', 'assertive', 'aggressive', 'ambitious',\n",
    "            'analytical', 'confident', 'decisive', 'determined', 'independent', 'objective',\n",
    "            'self-reliant', 'strong', 'superior', 'lead', 'manage', 'direct', 'control',\n",
    "            'drive', 'challenge', 'compete', 'win', 'achieve', 'dominate', 'excel',\n",
    "            'individual', 'autonomous', 'hierarchy', 'decision', 'responsibility'\n",
    "        ]\n",
    "        \n",
    "        self.feminine_words = [\n",
    "            'collaborative', 'cooperative', 'supportive', 'nurturing', 'empathetic',\n",
    "            'interpersonal', 'communicate', 'understand', 'responsible', 'connect',\n",
    "            'honest', 'loyal', 'dependable', 'committed', 'dedicated', 'support',\n",
    "            'help', 'assist', 'care', 'share', 'together', 'team', 'community',\n",
    "            'relationship', 'trust', 'warm', 'kind', 'inclusive', 'collaborate'\n",
    "        ]\n",
    "\n",
    "    def clean_text(self, text):\n",
    "        \"\"\"Clean and normalize text\"\"\"\n",
    "        if not text:\n",
    "            return \"\"\n",
    "        \n",
    "        # Remove extra whitespace and normalize\n",
    "        text = ' '.join(text.split())\n",
    "        # Remove special characters but keep basic punctuation\n",
    "        text = re.sub(r'[^\\w\\s\\.\\,\\!\\?\\;\\:\\-\\(\\)]', ' ', text)\n",
    "        # Remove multiple spaces\n",
    "        text = re.sub(r'\\s+', ' ', text)\n",
    "        return text.strip()\n",
    "\n",
    "    def extract_job_id(self, url):\n",
    "        \"\"\"Extract job ID from URL\"\"\"\n",
    "        try:\n",
    "            # Pattern for Jobs.ac.uk URLs: various formats possible\n",
    "            # Common patterns: /job/12345/ or /details/12345 or similar\n",
    "            match = re.search(r'/(?:job|details|view)/(\\d+)/?', url)\n",
    "            if match:\n",
    "                return match.group(1)\n",
    "            \n",
    "            # Alternative pattern for job reference numbers\n",
    "            match = re.search(r'ref[=:](\\w+)', url, re.IGNORECASE)\n",
    "            if match:\n",
    "                return match.group(1)\n",
    "            \n",
    "            # Fallback to last part of URL\n",
    "            return url.split('/')[-1] or url.split('/')[-2]\n",
    "        except:\n",
    "            return \"manual_entry\"\n",
    "\n",
    "    def detect_remote_option(self, text):\n",
    "        \"\"\"Detect remote work options from text\"\"\"\n",
    "        if not text:\n",
    "            return \"Not specified\"\n",
    "        \n",
    "        text_lower = text.lower()\n",
    "        remote_keywords = [\n",
    "            'remote', 'work from home', 'telecommute', 'virtual', 'distributed',\n",
    "            'home-based', 'location independent', 'anywhere', 'flexible location'\n",
    "        ]\n",
    "        hybrid_keywords = ['hybrid', 'flexible', 'part remote', 'some remote']\n",
    "        \n",
    "        for keyword in remote_keywords:\n",
    "            if keyword in text_lower:\n",
    "                return \"Remote\"\n",
    "        \n",
    "        for keyword in hybrid_keywords:\n",
    "            if keyword in text_lower:\n",
    "                return \"Hybrid\"\n",
    "        \n",
    "        return \"On-site\"\n",
    "\n",
    "    def extract_salary_info(self, text):\n",
    "        \"\"\"Extract salary information from text\"\"\"\n",
    "        if not text:\n",
    "            return \"Not specified\"\n",
    "        \n",
    "        # Look for salary patterns\n",
    "        salary_patterns = [\n",
    "            r'£\\s*(\\d{1,3}(?:,\\d{3})*(?:\\.\\d{2})?)\\s*(?:-|to)\\s*£?\\s*(\\d{1,3}(?:,\\d{3})*(?:\\.\\d{2})?)',\n",
    "            r'\\$\\s*(\\d{1,3}(?:,\\d{3})*(?:\\.\\d{2})?)\\s*(?:-|to)\\s*\\$?\\s*(\\d{1,3}(?:,\\d{3})*(?:\\.\\d{2})?)',\n",
    "            r'(\\d{1,3}(?:,\\d{3})*)\\s*(?:-|to)\\s*(\\d{1,3}(?:,\\d{3})*)\\s*(?:per year|annually|pa|p\\.a\\.)',\n",
    "            r'£(\\d{1,3}(?:,\\d{3})*)', r'\\$(\\d{1,3}(?:,\\d{3})*)', \n",
    "            r'(\\d{1,3}(?:,\\d{3})*)\\s*(?:per year|pa|p\\.a\\.)',\n",
    "            r'grade\\s+(\\w+)', r'spine\\s+point\\s+(\\d+)', r'band\\s+(\\w+)'\n",
    "        ]\n",
    "        \n",
    "        for pattern in salary_patterns:\n",
    "            match = re.search(pattern, text, re.IGNORECASE)\n",
    "            if match:\n",
    "                if len(match.groups()) >= 2:\n",
    "                    return f\"{match.group(1)} - {match.group(2)}\"\n",
    "                else:\n",
    "                    return match.group(1)\n",
    "        \n",
    "        return \"Not specified\"\n",
    "\n",
    "    def analyze_gendered_language(self, text):\n",
    "        \"\"\"Analyze gendered language in text\"\"\"\n",
    "        if not text:\n",
    "            return 0, 0, 0, []\n",
    "        \n",
    "        # Clean and tokenize text\n",
    "        text_lower = text.lower()\n",
    "        words = re.findall(r'\\b[a-z]+\\b', text_lower)\n",
    "        \n",
    "        masculine_count = sum(1 for word in words if word in self.masculine_words)\n",
    "        feminine_count = sum(1 for word in words if word in self.feminine_words)\n",
    "        \n",
    "        # Find gendered words present\n",
    "        gendered_words_found = []\n",
    "        for word in words:\n",
    "            if word in self.masculine_words:\n",
    "                gendered_words_found.append(f\"M:{word}\")\n",
    "            elif word in self.feminine_words:\n",
    "                gendered_words_found.append(f\"F:{word}\")\n",
    "        \n",
    "        total_words = len(words)\n",
    "        if total_words == 0:\n",
    "            return 0, 0, 0, gendered_words_found\n",
    "        \n",
    "        masculine_score = round((masculine_count / total_words) * 100, 2)\n",
    "        feminine_score = round((feminine_count / total_words) * 100, 2)\n",
    "        neutral_score = round(100 - masculine_score - feminine_score, 2)\n",
    "        \n",
    "        return masculine_score, feminine_score, neutral_score, gendered_words_found\n",
    "\n",
    "    def determine_job_level(self, title, description):\n",
    "        \"\"\"Determine job level from title and description\"\"\"\n",
    "        combined_text = f\"{title} {description}\".lower()\n",
    "        \n",
    "        senior_keywords = ['senior', 'lead', 'principal', 'head', 'director', 'manager', 'chief', 'vp', 'vice president', 'professor', 'chair']\n",
    "        junior_keywords = ['junior', 'entry', 'graduate', 'intern', 'trainee', 'assistant', 'associate', 'postdoc', 'research assistant']\n",
    "        mid_keywords = ['mid', 'intermediate', 'specialist', 'analyst', 'coordinator', 'lecturer', 'research fellow']\n",
    "        \n",
    "        for keyword in senior_keywords:\n",
    "            if keyword in combined_text:\n",
    "                return \"Senior\"\n",
    "        \n",
    "        for keyword in junior_keywords:\n",
    "            if keyword in combined_text:\n",
    "                return \"Junior\"\n",
    "        \n",
    "        for keyword in mid_keywords:\n",
    "            if keyword in combined_text:\n",
    "                return \"Mid-level\"\n",
    "        \n",
    "        return \"Not specified\"\n",
    "\n",
    "    def extract_industry_sector(self, title, description, employer):\n",
    "        \"\"\"Extract industry/sector information\"\"\"\n",
    "        combined_text = f\"{title} {description} {employer}\".lower()\n",
    "        \n",
    "        # Academic sectors\n",
    "        if any(word in combined_text for word in ['university', 'college', 'academic', 'research', 'faculty']):\n",
    "            return \"Higher Education\"\n",
    "        \n",
    "        # Government/Public sector\n",
    "        if any(word in combined_text for word in ['government', 'public sector', 'civil service', 'nhs', 'council']):\n",
    "            return \"Public Sector\"\n",
    "        \n",
    "        # Technology\n",
    "        if any(word in combined_text for word in ['technology', 'software', 'data science', 'it', 'computing']):\n",
    "            return \"Technology\"\n",
    "        \n",
    "        # Healthcare\n",
    "        if any(word in combined_text for word in ['healthcare', 'medical', 'clinical', 'hospital']):\n",
    "            return \"Healthcare\"\n",
    "        \n",
    "        return \"Not specified\"\n",
    "\n",
    "    def get_job_input(self, url):\n",
    "        \"\"\"Get job information through user input\"\"\"\n",
    "        print(\"\\n\" + \"=\"*60)\n",
    "        print(\"JOB DATA ENTRY - JOBS.AC.UK\")\n",
    "        print(\"=\"*60)\n",
    "        print(f\"URL: {url}\")\n",
    "        print(\"-\"*60)\n",
    "        \n",
    "        # Get basic information\n",
    "        job_title = input(\"Job Title: \").strip()\n",
    "        employer_name = input(\"Employer/University Name: \").strip()\n",
    "        location = input(\"Location: \").strip()\n",
    "        \n",
    "        # Get optional information\n",
    "        posting_date = input(\"Posting Date (optional): \").strip()\n",
    "        closing_date = input(\"Closing Date (optional): \").strip()\n",
    "        salary_info = input(\"Salary Info (optional): \").strip()\n",
    "        contract_type = input(\"Contract Type (e.g., Permanent, Fixed-term) (optional): \").strip()\n",
    "        \n",
    "        # Get job description\n",
    "        print(\"\\nJob Description:\")\n",
    "        print(\"(Paste the job description below. Press Enter twice when finished)\")\n",
    "        print(\"-\" * 40)\n",
    "        \n",
    "        description_lines = []\n",
    "        empty_line_count = 0\n",
    "        \n",
    "        while empty_line_count < 2:\n",
    "            try:\n",
    "                line = input()\n",
    "                if line.strip() == \"\":\n",
    "                    empty_line_count += 1\n",
    "                else:\n",
    "                    empty_line_count = 0\n",
    "                description_lines.append(line)\n",
    "            except EOFError:\n",
    "                break\n",
    "        \n",
    "        description = '\\n'.join(description_lines).strip()\n",
    "        \n",
    "        return {\n",
    "            'job_title': job_title,\n",
    "            'employer_name': employer_name,\n",
    "            'location': location,\n",
    "            'posting_date': posting_date,\n",
    "            'closing_date': closing_date,\n",
    "            'salary_info': salary_info,\n",
    "            'contract_type': contract_type,\n",
    "            'description': description\n",
    "        }\n",
    "\n",
    "    def process_job_data(self, input_data, url):\n",
    "        \"\"\"Process the manually entered job data\"\"\"\n",
    "        \n",
    "        # Clean the description\n",
    "        description_cleaned = self.clean_text(input_data['description'])\n",
    "        \n",
    "        # Create job data structure\n",
    "        job_data = {\n",
    "            'job_id': self.extract_job_id(url),\n",
    "            'platform': 'Jobs.ac.uk',\n",
    "            'job_url': url,\n",
    "            'scrape_date': datetime.now().strftime('%Y-%m-%d %H:%M:%S'),\n",
    "            'job_title': input_data['job_title'],\n",
    "            'employer_name': input_data['employer_name'],\n",
    "            'location': input_data['location'],\n",
    "            'remote_option': '',\n",
    "            'posting_date': input_data['posting_date'] or 'Not specified',\n",
    "            'closing_date': input_data['closing_date'] or 'Not specified',\n",
    "            'contract_type': input_data['contract_type'] or 'Not specified',\n",
    "            'job_description_raw': input_data['description'],\n",
    "            'job_description_cleaned': description_cleaned,\n",
    "            'salary_info': '',\n",
    "            'industry_sector': '',\n",
    "            'job_level': '',\n",
    "            'gendered_words_found': '',\n",
    "            'masculine_score': 0,\n",
    "            'feminine_score': 0,\n",
    "            'neutral_score': 0,\n",
    "            'seniority_flag': '',\n",
    "            'word_count': 0,\n",
    "            'manual_review_flag': False,\n",
    "            'ad_url': url\n",
    "        }\n",
    "        \n",
    "        # Process salary info\n",
    "        if input_data['salary_info']:\n",
    "            job_data['salary_info'] = input_data['salary_info']\n",
    "        else:\n",
    "            job_data['salary_info'] = self.extract_salary_info(description_cleaned)\n",
    "        \n",
    "        # Determine remote option\n",
    "        combined_text = f\"{job_data['job_title']} {job_data['location']} {description_cleaned}\"\n",
    "        job_data['remote_option'] = self.detect_remote_option(combined_text)\n",
    "        \n",
    "        # Determine job level\n",
    "        job_data['job_level'] = self.determine_job_level(job_data['job_title'], description_cleaned)\n",
    "        job_data['seniority_flag'] = \"Senior\" in job_data['job_level']\n",
    "        \n",
    "        # Determine industry/sector\n",
    "        job_data['industry_sector'] = self.extract_industry_sector(\n",
    "            job_data['job_title'], description_cleaned, job_data['employer_name']\n",
    "        )\n",
    "        \n",
    "        # Analyze gendered language\n",
    "        masculine_score, feminine_score, neutral_score, gendered_words = self.analyze_gendered_language(description_cleaned)\n",
    "        \n",
    "        job_data['masculine_score'] = masculine_score\n",
    "        job_data['feminine_score'] = feminine_score\n",
    "        job_data['neutral_score'] = neutral_score\n",
    "        job_data['gendered_words_found'] = '; '.join(gendered_words) if gendered_words else ''\n",
    "        \n",
    "        # Word count\n",
    "        if description_cleaned:\n",
    "            job_data['word_count'] = len(description_cleaned.split())\n",
    "        \n",
    "        # Manual review flag\n",
    "        if (job_data['word_count'] < 20 or \n",
    "            not job_data['job_title'] or \n",
    "            not job_data['employer_name']):\n",
    "            job_data['manual_review_flag'] = True\n",
    "        \n",
    "        return job_data\n",
    "\n",
    "    def save_to_excel(self, job_data, output_path, append_mode=False):\n",
    "        \"\"\"Save job data to Excel file\"\"\"\n",
    "        try:\n",
    "            # Ensure output directory exists\n",
    "            os.makedirs(os.path.dirname(output_path), exist_ok=True)\n",
    "            \n",
    "            # Create DataFrame\n",
    "            df_new = pd.DataFrame([job_data])\n",
    "            \n",
    "            if append_mode and os.path.exists(output_path):\n",
    "                # Read existing data and append\n",
    "                try:\n",
    "                    df_existing = pd.read_excel(output_path)\n",
    "                    df_combined = pd.concat([df_existing, df_new], ignore_index=True)\n",
    "                except:\n",
    "                    df_combined = df_new\n",
    "            else:\n",
    "                df_combined = df_new\n",
    "            \n",
    "            # Save to Excel\n",
    "            with pd.ExcelWriter(output_path, engine='openpyxl') as writer:\n",
    "                df_combined.to_excel(writer, sheet_name='Job_Data', index=False)\n",
    "            \n",
    "            print(f\"\\nData saved to: {output_path}\")\n",
    "            print(f\"Total jobs in file: {len(df_combined)}\")\n",
    "            return True\n",
    "            \n",
    "        except Exception as e:\n",
    "            print(f\"Error saving to Excel: {e}\")\n",
    "            return False\n",
    "\n",
    "def main():\n",
    "    \"\"\"Main function for manual job data entry\"\"\"\n",
    "    \n",
    "    # Configuration\n",
    "    OUTPUT_PATH = r\"C:\\Users\\HP\\OneDrive - University of Southampton\\Documents\\Dissertation Project - Marwa Ashfaq\\Codes\\jobs_ac_uk_data.xlsx\"\n",
    "    \n",
    "    print(\"=\"*70)\n",
    "    print(\"JOBS.AC.UK JOB DATA PROCESSOR - MANUAL ENTRY\")\n",
    "    print(\"=\"*70)\n",
    "    print(\"This tool helps you manually enter job data from Jobs.ac.uk and performs analysis.\")\n",
    "    print(\"You can process multiple jobs - the data will be appended to the Excel file.\")\n",
    "    print(\"=\"*70)\n",
    "    \n",
    "    processor = JobsAcUkJobProcessor()\n",
    "    \n",
    "    while True:\n",
    "        print(\"\\n\" + \"=\"*40)\n",
    "        print(\"NEW JOB ENTRY\")\n",
    "        print(\"=\"*40)\n",
    "        \n",
    "        # Get job URL\n",
    "        url = input(\"Enter job URL: \").strip()\n",
    "        if not url:\n",
    "            print(\"No URL provided. Exiting...\")\n",
    "            break\n",
    "        \n",
    "        # Get job data\n",
    "        input_data = processor.get_job_input(url)\n",
    "        \n",
    "        # Process the data\n",
    "        job_data = processor.process_job_data(input_data, url)\n",
    "        \n",
    "        # Display results\n",
    "        print(\"\\n\" + \"=\"*60)\n",
    "        print(\"PROCESSING RESULTS\")\n",
    "        print(\"=\"*60)\n",
    "        print(f\"Job Title: {job_data['job_title']}\")\n",
    "        print(f\"Employer: {job_data['employer_name']}\")\n",
    "        print(f\"Location: {job_data['location']}\")\n",
    "        print(f\"Remote Option: {job_data['remote_option']}\")\n",
    "        print(f\"Job Level: {job_data['job_level']}\")\n",
    "        print(f\"Industry/Sector: {job_data['industry_sector']}\")\n",
    "        print(f\"Contract Type: {job_data['contract_type']}\")\n",
    "        print(f\"Salary Info: {job_data['salary_info']}\")\n",
    "        print(f\"Posting Date: {job_data['posting_date']}\")\n",
    "        print(f\"Closing Date: {job_data['closing_date']}\")\n",
    "        print(f\"Word Count: {job_data['word_count']}\")\n",
    "        print(f\"Masculine Score: {job_data['masculine_score']}%\")\n",
    "        print(f\"Feminine Score: {job_data['feminine_score']}%\")\n",
    "        print(f\"Neutral Score: {job_data['neutral_score']}%\")\n",
    "        if job_data['gendered_words_found']:\n",
    "            print(f\"Gendered Words: {job_data['gendered_words_found']}\")\n",
    "        print(f\"Manual Review Flag: {job_data['manual_review_flag']}\")\n",
    "        \n",
    "        # Save to Excel\n",
    "        append_mode = os.path.exists(OUTPUT_PATH)\n",
    "        success = processor.save_to_excel(job_data, OUTPUT_PATH, append_mode)\n",
    "        \n",
    "        if success:\n",
    "            print(\"\\n✅ Job data saved successfully!\")\n",
    "        else:\n",
    "            print(\"\\n❌ Failed to save job data.\")\n",
    "        \n",
    "        # Ask if user wants to add another job\n",
    "        print(\"\\n\" + \"-\"*40)\n",
    "        continue_choice = input(\"Do you want to add another job? (y/n): \").strip().lower()\n",
    "        if continue_choice not in ['y', 'yes']:\n",
    "            break\n",
    "    \n",
    "    print(\"\\n\" + \"=\"*70)\n",
    "    print(\"SESSION COMPLETED\")\n",
    "    print(\"=\"*70)\n",
    "    print(f\"All job data has been saved to: {OUTPUT_PATH}\")\n",
    "    print(\"Thank you for using the Jobs.ac.uk Job Data Processor!\")\n",
    "\n",
    "if __name__ == \"__main__\":\n",
    "    main()"
   ]
  },
  {
   "cell_type": "code",
   "execution_count": null,
   "id": "821a4452-a2b9-4f9d-8e96-19209295c33f",
   "metadata": {},
   "outputs": [],
   "source": []
  }
 ],
 "metadata": {
  "kernelspec": {
   "display_name": "Python 3 (ipykernel)",
   "language": "python",
   "name": "python3"
  },
  "language_info": {
   "codemirror_mode": {
    "name": "ipython",
    "version": 3
   },
   "file_extension": ".py",
   "mimetype": "text/x-python",
   "name": "python",
   "nbconvert_exporter": "python",
   "pygments_lexer": "ipython3",
   "version": "3.12.7"
  }
 },
 "nbformat": 4,
 "nbformat_minor": 5
}
